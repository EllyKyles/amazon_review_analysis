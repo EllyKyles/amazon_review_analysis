{
 "cells": [
  {
   "cell_type": "code",
   "execution_count": 1,
   "metadata": {},
   "outputs": [],
   "source": [
    "import tensorflow as tf\n",
    "from tensorflow.keras.preprocessing.text import Tokenizer\n",
    "import pandas as pd\n",
    "import numpy as np\n",
    "import matplotlib.pyplot as plt\n",
    "from sklearn.feature_extraction.text import TfidfVectorizer\n",
    "from tensorflow.keras.models import Sequential\n",
    "from tensorflow.keras.layers import Dense, Dropout\n",
    "from tensorflow.keras.layers import Flatten\n",
    "from sklearn.utils import resample\n",
    "import warnings \n",
    "warnings.filterwarnings(action = 'ignore')\n",
    "\n",
    "from sklearn.model_selection import train_test_split"
   ]
  },
  {
   "cell_type": "code",
   "execution_count": 2,
   "metadata": {},
   "outputs": [],
   "source": [
    "from sklearn.ensemble import GradientBoostingClassifier, RandomForestClassifier, RandomForestRegressor\n",
    "from sklearn.metrics import confusion_matrix\n",
    "from sklearn.metrics import classification_report"
   ]
  },
  {
   "cell_type": "code",
   "execution_count": 8,
   "metadata": {},
   "outputs": [],
   "source": [
    "from datetime import datetime"
   ]
  },
  {
   "cell_type": "code",
   "execution_count": 3,
   "metadata": {},
   "outputs": [],
   "source": [
    "df = pd.read_csv('../data/doc_train.csv')\n",
    "df['clean_text'].fillna(\"No data\", inplace = True)\n",
    "df[\"new_token_words\"].fillna(\"No data\", inplace = True)"
   ]
  },
  {
   "cell_type": "code",
   "execution_count": 4,
   "metadata": {},
   "outputs": [],
   "source": [
    "def accuracy_score(matrix):\n",
    "    row = matrix.shape[0]\n",
    "    total = 0\n",
    "    for i in range(row):\n",
    "        total += matrix[i][i]\n",
    "    return total/matrix.sum()\n",
    "\n",
    "def near_score(matrix):\n",
    "    q=np.diag(matrix, k=1).sum()\n",
    "    w =np.diag(matrix, k=-1).sum()\n",
    "    total = 0\n",
    "    for i in range(matrix.shape[0]):\n",
    "        total += matrix[i][i]\n",
    "    return (total+q+w)/matrix.sum()\n"
   ]
  },
  {
   "cell_type": "markdown",
   "metadata": {},
   "source": [
    "# TFID with features"
   ]
  },
  {
   "cell_type": "code",
   "execution_count": 5,
   "metadata": {},
   "outputs": [
    {
     "name": "stdout",
     "output_type": "stream",
     "text": [
      "train_df.shape is : (202696, 32), test_df is : (50674, 32)\n"
     ]
    }
   ],
   "source": [
    "train_size = int(df.shape[0] * 0.8)\n",
    "train_index = np.arange(train_size)\n",
    "train_df = df[df.index.isin(train_index)]\n",
    "test_df = df[~df.index.isin(train_index)]\n",
    "print(f'train_df.shape is : {train_df.shape}, test_df is : {test_df.shape}')"
   ]
  },
  {
   "cell_type": "code",
   "execution_count": 6,
   "metadata": {},
   "outputs": [],
   "source": [
    "tf = TfidfVectorizer(max_features= 5000)\n",
    "labels = df['Score'].astype(str).tolist()\n",
    "label_tokenizer = Tokenizer()\n",
    "label_tokenizer.fit_on_texts(labels)\n",
    "training_label_seq = np.array(label_tokenizer.texts_to_sequences(train_df['Score'].astype(str).tolist()))\n",
    "validation_label_seq = np.array(label_tokenizer.texts_to_sequences(test_df['Score'].astype(str).tolist()))"
   ]
  },
  {
   "cell_type": "code",
   "execution_count": 7,
   "metadata": {},
   "outputs": [],
   "source": [
    "features = ['HelpfulnessNumerator', 'HelpfulnessDenominator','words_count', 'unique_words', 'polarity',\n",
    "       'subjectivity']\n",
    "#vectorize train words and then transform them & combine the matrix with the new features to create the train's final matrix\n",
    "x_words_train = tf.fit_transform(train_df[\"clean_text\"].values.ravel()).toarray()\n",
    "x_train_matrix = np.concatenate((x_words_train, train_df[features].values), axis =1)\n",
    "# transform test words from tfidf fitted by the train words & combine test matrix with test new features\n",
    "x_words_test = tf.transform(test_df[\"clean_text\"].values.ravel()).toarray()\n",
    "x_test_matrix = np.concatenate((x_words_test, test_df[features].values), axis =1)"
   ]
  },
  {
   "cell_type": "code",
   "execution_count": 22,
   "metadata": {},
   "outputs": [
    {
     "name": "stdout",
     "output_type": "stream",
     "text": [
      "[[ 3003     2     4     3  2041]\n",
      " [  274   955     9    14  1514]\n",
      " [  133     3  1442    31  2433]\n",
      " [   32     1     5  2586  4544]\n",
      " [   44     1     5    14 31581]]\n"
     ]
    }
   ],
   "source": [
    "start = datetime.now()\n",
    "rf=RandomForestClassifier(n_estimators = 250, random_state = 42, max_features ='auto')\n",
    "\n",
    "rf.fit(x_train_matrix, train_df['Score'].values)\n",
    "y_hat = rf.predict(x_test_matrix)\n",
    "test=pd.concat([test_df['Score'], pd.Series(y_hat, index = test_df.index)], axis = 1)\n",
    "cm_mulit_com= confusion_matrix(test_df['Score'], y_hat)\n",
    "print(cm_mulit_com)\n",
    "end = datetim"
   ]
  },
  {
   "cell_type": "code",
   "execution_count": 33,
   "metadata": {},
   "outputs": [
    {
     "name": "stdout",
     "output_type": "stream",
     "text": [
      "              precision    recall  f1-score   support\n",
      "\n",
      "           1       0.86      0.59      0.70      5053\n",
      "           2       0.99      0.35      0.51      2766\n",
      "           3       0.98      0.36      0.52      4042\n",
      "           4       0.98      0.36      0.53      7168\n",
      "           5       0.75      1.00      0.86     31645\n",
      "\n",
      "    accuracy                           0.78     50674\n",
      "   macro avg       0.91      0.53      0.62     50674\n",
      "weighted avg       0.83      0.78      0.75     50674\n",
      "\n"
     ]
    }
   ],
   "source": [
    "print(classification_report(test_df['Score'], y_hat, target_names = ['1','2','3','4','5']))"
   ]
  },
  {
   "cell_type": "code",
   "execution_count": 43,
   "metadata": {},
   "outputs": [
    {
     "data": {
      "image/png": "[encoded data removed]",
      "text/plain": [
       "<Figure size 432x288 with 1 Axes>"
      ]
     },
     "metadata": {
      "needs_background": "light"
     },
     "output_type": "display_data"
    }
   ],
   "source": [
    "fig, ax = plt.subplots()\n",
    "\n",
    "ax.hist(test_df['Score'], label = 'Actual', alpha = 0.5)\n",
    "ax.hist(y_hat, alpha = 0.5, label = 'Predict')\n",
    "x = np.arange(1,6)\n",
    "labels = ['1', '2','3','4','5']\n",
    "\n",
    "#ax.set_xticks(x)\n",
    "#ax.set_xticklabels(squad, minor=False, rotation=45)\n",
    "plt.xticks(x,labels)\n",
    "plt.xlabel('Score')\n",
    "plt.legend();\n",
    "plt.savefig('pre_act_best_model_randomforest.png')"
   ]
  },
  {
   "cell_type": "code",
   "execution_count": 34,
   "metadata": {},
   "outputs": [
    {
     "name": "stdout",
     "output_type": "stream",
     "text": [
      "accuracy score: 0.781, near prediction:0.877\n"
     ]
    }
   ],
   "source": [
    "print(f'accuracy score: {accuracy_score(cm_mulit_com):.3f}, near prediction:{near_score(cm_mulit_com):.3f}')"
   ]
  },
  {
   "cell_type": "code",
   "execution_count": 36,
   "metadata": {},
   "outputs": [],
   "source": [
    "# doc2vec_vector features are included in features\n",
    "features = ['HelpfulnessNumerator', 'HelpfulnessDenominator','words_count', 'unique_words', 'polarity',\n",
    "       'subjectivity', 'doc2vec_vector_0', 'doc2vec_vector_1',\n",
    "       'doc2vec_vector_2', 'doc2vec_vector_3', 'doc2vec_vector_4']\n",
    "#vectorize train words and then transform them & combine the matrix with the new features to create the train's final matrix\n",
    "x_words_train = tf.fit_transform(train_df[\"clean_text\"].values.ravel()).toarray()\n",
    "x_train_matrix = np.concatenate((x_words_train, train_df[features].values), axis =1)\n",
    "# transform test words from tfidf fitted by the train words & combine test matrix with test new features\n",
    "x_words_test = tf.transform(test_df[\"clean_text\"].values.ravel()).toarray()\n",
    "x_test_matrix = np.concatenate((x_words_test, test_df[features].values), axis =1)\n",
    "\n",
    "rf1=RandomForestClassifier(n_estimators = 250, random_state = 42, max_features ='auto')\n",
    "\n",
    "rf1.fit(x_train_matrix, train_df['Score'].values)\n",
    "y_hat1 = rf1.predict(x_test_matrix)\n",
    "test=pd.concat([test_df['Score'], pd.Series(y_hat1, index = test_df.index)], axis = 1)"
   ]
  },
  {
   "cell_type": "code",
   "execution_count": 38,
   "metadata": {},
   "outputs": [
    {
     "name": "stdout",
     "output_type": "stream",
     "text": [
      "[[ 2957     2     4     2  2088]\n",
      " [  263   952     8    15  1528]\n",
      " [  124     5  1433    43  2437]\n",
      " [   34     1     3  2598  4532]\n",
      " [   42     1     4    12 31586]]\n"
     ]
    }
   ],
   "source": [
    "cm_mulit_com1= confusion_matrix(test_df['Score'], y_hat1)\n",
    "print(cm_mulit_com1)"
   ]
  },
  {
   "cell_type": "code",
   "execution_count": 39,
   "metadata": {},
   "outputs": [
    {
     "name": "stdout",
     "output_type": "stream",
     "text": [
      "accuracy score: 0.780, near prediction:0.876\n"
     ]
    }
   ],
   "source": [
    "print(f'accuracy score: {accuracy_score(cm_mulit_com1):.3f}, near prediction:{near_score(cm_mulit_com1):.3f}')"
   ]
  },
  {
   "cell_type": "markdown",
   "metadata": {},
   "source": [
    "# ANN with 3 hidden layers"
   ]
  },
  {
   "cell_type": "code",
   "execution_count": 9,
   "metadata": {},
   "outputs": [
    {
     "name": "stdout",
     "output_type": "stream",
     "text": [
      "Train on 202696 samples, validate on 50674 samples\n",
      "Epoch 1/10\n",
      "202696/202696 - 27s - loss: 0.8070 - accuracy: 0.6981 - val_loss: 0.7350 - val_accuracy: 0.7223\n",
      "Epoch 2/10\n",
      "202696/202696 - 26s - loss: 0.7184 - accuracy: 0.7269 - val_loss: 0.7014 - val_accuracy: 0.7350\n",
      "Epoch 3/10\n",
      "202696/202696 - 26s - loss: 0.6829 - accuracy: 0.7418 - val_loss: 0.7125 - val_accuracy: 0.7341\n",
      "Epoch 4/10\n",
      "202696/202696 - 26s - loss: 0.6527 - accuracy: 0.7540 - val_loss: 0.6734 - val_accuracy: 0.7502\n",
      "Epoch 5/10\n",
      "202696/202696 - 26s - loss: 0.6222 - accuracy: 0.7660 - val_loss: 0.6802 - val_accuracy: 0.7481\n",
      "Epoch 6/10\n",
      "202696/202696 - 27s - loss: 0.5914 - accuracy: 0.7778 - val_loss: 0.6784 - val_accuracy: 0.7559\n",
      "Epoch 7/10\n",
      "202696/202696 - 26s - loss: 0.5631 - accuracy: 0.7899 - val_loss: 0.6903 - val_accuracy: 0.7522\n",
      "Epoch 8/10\n",
      "202696/202696 - 26s - loss: 0.5366 - accuracy: 0.7999 - val_loss: 0.6777 - val_accuracy: 0.7590\n",
      "Epoch 9/10\n",
      "202696/202696 - 26s - loss: 0.5131 - accuracy: 0.8086 - val_loss: 0.6911 - val_accuracy: 0.7611\n",
      "Epoch 10/10\n",
      "202696/202696 - 26s - loss: 0.4920 - accuracy: 0.8168 - val_loss: 0.7260 - val_accuracy: 0.7615\n"
     ]
    }
   ],
   "source": [
    "model = Sequential()\n",
    "model.add(Dense(128, activation = 'relu', input_dim = x_train_matrix.shape[1]))\n",
    "model.add(Dense(64, activation = 'relu'))\n",
    "model.add(Dense(24, activation='relu'))\n",
    "model.add(Dense(6, activation='softmax'))\n",
    "model.compile(loss='sparse_categorical_crossentropy',optimizer='adam',metrics=['accuracy'])\n",
    "num_epochs = 10\n",
    "history_rnn = model.fit(x_train_matrix, training_label_seq, epochs=num_epochs, validation_data=(x_test_matrix, validation_label_seq), verbose=2)"
   ]
  },
  {
   "cell_type": "code",
   "execution_count": 37,
   "metadata": {},
   "outputs": [
    {
     "name": "stdout",
     "output_type": "stream",
     "text": [
      "Train on 202696 samples, validate on 50674 samples\n",
      "Epoch 1/10\n",
      "202696/202696 - 76s - loss: 0.8230 - accuracy: 0.6960 - val_loss: 0.7439 - val_accuracy: 0.7272\n",
      "Epoch 2/10\n",
      "202696/202696 - 76s - loss: 0.7193 - accuracy: 0.7276 - val_loss: 0.7127 - val_accuracy: 0.7283\n",
      "Epoch 3/10\n",
      "202696/202696 - 75s - loss: 0.6812 - accuracy: 0.7418 - val_loss: 0.7943 - val_accuracy: 0.6995\n",
      "Epoch 4/10\n",
      "202696/202696 - 74s - loss: 0.6428 - accuracy: 0.7571 - val_loss: 0.7267 - val_accuracy: 0.7396\n",
      "Epoch 5/10\n",
      "202696/202696 - 75s - loss: 0.6095 - accuracy: 0.7708 - val_loss: 0.6623 - val_accuracy: 0.7554\n",
      "Epoch 6/10\n",
      "202696/202696 - 78s - loss: 0.5722 - accuracy: 0.7850 - val_loss: 0.6797 - val_accuracy: 0.7556\n",
      "Epoch 7/10\n",
      "202696/202696 - 76s - loss: 0.5404 - accuracy: 0.7979 - val_loss: 0.6868 - val_accuracy: 0.7513\n",
      "Epoch 8/10\n",
      "202696/202696 - 75s - loss: 0.5094 - accuracy: 0.8096 - val_loss: 0.6974 - val_accuracy: 0.7609\n",
      "Epoch 9/10\n",
      "202696/202696 - 75s - loss: 0.4814 - accuracy: 0.8205 - val_loss: 0.7049 - val_accuracy: 0.7535\n",
      "Epoch 10/10\n",
      "202696/202696 - 76s - loss: 0.4520 - accuracy: 0.8310 - val_loss: 0.7276 - val_accuracy: 0.7569\n"
     ]
    }
   ],
   "source": [
    "model1 = Sequential()\n",
    "model1.add(Dense(512, activation = 'relu', input_dim = x_train_matrix.shape[1]))\n",
    "model1.add(Dense(128, activation = 'relu'))\n",
    "model1.add(Dense(24, activation='relu'))\n",
    "model1.add(Dense(6, activation='softmax'))\n",
    "model1.compile(loss='sparse_categorical_crossentropy',optimizer='adam',metrics=['accuracy'])\n",
    "num_epochs = 10\n",
    "history_rnn_1 = model1.fit(x_train_matrix, training_label_seq, epochs=num_epochs, validation_data=(x_test_matrix, validation_label_seq), verbose=2)"
   ]
  },
  {
   "cell_type": "markdown",
   "metadata": {},
   "source": [
    "# ANN with 4 hidden layers"
   ]
  },
  {
   "cell_type": "code",
   "execution_count": 10,
   "metadata": {},
   "outputs": [
    {
     "name": "stdout",
     "output_type": "stream",
     "text": [
      "Train on 202696 samples, validate on 50674 samples\n",
      "Epoch 1/10\n",
      "202696/202696 - 48s - loss: 0.8183 - accuracy: 0.6953 - val_loss: 0.7226 - val_accuracy: 0.7252\n",
      "Epoch 2/10\n",
      "202696/202696 - 47s - loss: 0.7193 - accuracy: 0.7262 - val_loss: 0.7173 - val_accuracy: 0.7280\n",
      "Epoch 3/10\n",
      "202696/202696 - 48s - loss: 0.6830 - accuracy: 0.7406 - val_loss: 0.7726 - val_accuracy: 0.7295\n",
      "Epoch 4/10\n",
      "202696/202696 - 46s - loss: 0.6485 - accuracy: 0.7538 - val_loss: 0.6907 - val_accuracy: 0.7428\n",
      "Epoch 5/10\n",
      "202696/202696 - 46s - loss: 0.6148 - accuracy: 0.7676 - val_loss: 0.6871 - val_accuracy: 0.7452\n",
      "Epoch 6/10\n",
      "202696/202696 - 46s - loss: 0.5848 - accuracy: 0.7789 - val_loss: 0.6872 - val_accuracy: 0.7489\n",
      "Epoch 7/10\n",
      "202696/202696 - 45s - loss: 0.5578 - accuracy: 0.7890 - val_loss: 0.6982 - val_accuracy: 0.7476\n",
      "Epoch 8/10\n",
      "202696/202696 - 46s - loss: 0.5325 - accuracy: 0.7990 - val_loss: 0.7023 - val_accuracy: 0.7550\n",
      "Epoch 9/10\n",
      "202696/202696 - 47s - loss: 0.5063 - accuracy: 0.8089 - val_loss: 0.7197 - val_accuracy: 0.7543\n",
      "Epoch 10/10\n",
      "202696/202696 - 49s - loss: 0.4828 - accuracy: 0.8183 - val_loss: 0.7193 - val_accuracy: 0.7505\n"
     ]
    }
   ],
   "source": [
    "model2 = Sequential()\n",
    "model2.add(Dense(256, activation = 'relu', input_dim = x_train_matrix.shape[1]))\n",
    "model2.add(Dense(128, activation = 'relu'))\n",
    "model2.add(Dense(64, activation = 'relu'))\n",
    "model2.add(Dense(24, activation='relu'))\n",
    "model2.add(Dense(6, activation='softmax'))\n",
    "model2.compile(loss='sparse_categorical_crossentropy',optimizer='adam',metrics=['accuracy'])\n",
    "num_epochs = 10\n",
    "history_rnn_2 = model2.fit(x_train_matrix, training_label_seq, epochs=num_epochs, validation_data=(x_test_matrix, validation_label_seq), verbose=2)"
   ]
  },
  {
   "cell_type": "code",
   "execution_count": 24,
   "metadata": {},
   "outputs": [],
   "source": [
    "tdif_ann= {'1_acc': history_rnn.history['val_accuracy'],\n",
    "        '1_loss': history_rnn.history['val_loss'],\n",
    "          '2_acc': history_rnn_2.history['val_accuracy'],\n",
    "        '2_loss': history_rnn_2.history['val_loss']}\n",
    "tdif_ann_df = pd.DataFrame(tdif_ann)"
   ]
  },
  {
   "cell_type": "code",
   "execution_count": 25,
   "metadata": {},
   "outputs": [
    {
     "data": {
      "image/png": "[encoded data removed]",
      "text/plain": [
       "<Figure size 864x432 with 2 Axes>"
      ]
     },
     "metadata": {
      "needs_background": "light"
     },
     "output_type": "display_data"
    }
   ],
   "source": [
    "fig, axs = plt.subplots(nrows = 1, ncols = 2, figsize = (12, 6))\n",
    "tdif_ann_df[['1_acc','2_acc']].plot(ax = axs[0])\n",
    "\n",
    "axs[0].set_xlabel('epochs')\n",
    "axs[0].set_ylabel('val_accuracy')\n",
    "\n",
    "axs[0].set_title('Val_accuarcy ANN with TFID (5006)')\n",
    "tdif_ann_df[['1_loss','2_loss']].plot(ax = axs[1])\n",
    "\n",
    "axs[1].set_title('Val_loss ANN with TFID (5006)')\n",
    "axs[1].set_xlabel('epochs')\n",
    "axs[1].set_ylabel('val_loss');"
   ]
  },
  {
   "cell_type": "markdown",
   "metadata": {},
   "source": [
    "# Balanced Data"
   ]
  },
  {
   "cell_type": "code",
   "execution_count": 6,
   "metadata": {},
   "outputs": [],
   "source": [
    "df_5 = df[df['Score'] == 5]\n",
    "df_4 = df[df['Score'] == 4]\n",
    "df_3 = df[df['Score'] == 3]\n",
    "df_2 = df[df['Score'] == 2]\n",
    "df_1 = df[df['Score'] == 1]"
   ]
  },
  {
   "cell_type": "code",
   "execution_count": 9,
   "metadata": {},
   "outputs": [],
   "source": [
    "df_5_downsampled = resample(df_5, replace=False,    # sample without replacement\n",
    "                            n_samples=14168,     # to match minority class\n",
    "                            random_state=123)\n",
    "df_4_downsampled = resample(df_4, replace=False,    # sample without replacement\n",
    "                            n_samples=14168,     # to match minority class\n",
    "                            random_state=123)\n",
    "df_3_downsampled = resample(df_3, replace=False,    # sample without replacement\n",
    "                            n_samples=14168,     # to match minority class\n",
    "                            random_state=123)\n",
    "df_1_downsampled = resample(df_1, replace=False,    # sample without replacement\n",
    "                            n_samples=14168,     # to match minority class\n",
    "                            random_state=123)"
   ]
  },
  {
   "cell_type": "code",
   "execution_count": 10,
   "metadata": {},
   "outputs": [
    {
     "data": {
      "text/plain": [
       "5    14168\n",
       "4    14168\n",
       "3    14168\n",
       "2    14168\n",
       "1    14168\n",
       "Name: Score, dtype: int64"
      ]
     },
     "execution_count": 10,
     "metadata": {},
     "output_type": "execute_result"
    }
   ],
   "source": [
    "# Combine minority class with downsampled majority class\n",
    "df_downsampled_mulit = pd.concat([df_5_downsampled, df_4_downsampled, df_3_downsampled,df_1_downsampled,df_2])\n",
    "# Display new class counts\n",
    "df_downsampled_mulit['Score'].value_counts()"
   ]
  },
  {
   "cell_type": "code",
   "execution_count": 24,
   "metadata": {},
   "outputs": [
    {
     "data": {
      "text/plain": [
       "Index(['Unnamed: 0', 'Id', 'ProductId', 'UserId', 'ProfileName',\n",
       "       'HelpfulnessNumerator', 'HelpfulnessDenominator', 'Score', 'Time',\n",
       "       'Summary', 'Text', 'clean_text', 'token_words', 'join_token', 'Date',\n",
       "       'year', 'words_count', 'unique_words', 'new_token_words',\n",
       "       'data_lemmatized', 'polarity', 'subjectivity', 'doc2vec_vector_0',\n",
       "       'doc2vec_vector_1', 'doc2vec_vector_2', 'doc2vec_vector_3',\n",
       "       'doc2vec_vector_4', 'doc2vec_vector_5', 'doc2vec_vector_6',\n",
       "       'doc2vec_vector_7', 'doc2vec_vector_8', 'doc2vec_vector_9'],\n",
       "      dtype='object')"
      ]
     },
     "execution_count": 24,
     "metadata": {},
     "output_type": "execute_result"
    }
   ],
   "source": [
    "df_downsampled_mulit.columns"
   ]
  },
  {
   "cell_type": "raw",
   "metadata": {},
   "source": [
    "# this is the mistake to splie to data into train and test with using index since the dataset is concatnated \n",
    "train_size_b = int(df_downsampled_mulit.shape[0] * 0.8)\n",
    "train_df_b = df_downsampled_mulit.iloc[:train_size_b,:]\n",
    "test_df_b = df_downsampled_mulit.iloc[train_size_b:,:]\n",
    "print(f'train_df.shape is : {train_df_b.shape}, test_df is : {test_df_b.shape}')"
   ]
  },
  {
   "cell_type": "raw",
   "metadata": {},
   "source": [
    "#test_df_b['Score'].value_counts() -> \n",
    "only 2    14168\n",
    "Name: Score, dtype: int64"
   ]
  },
  {
   "cell_type": "code",
   "execution_count": 25,
   "metadata": {},
   "outputs": [],
   "source": [
    "interested_features = ['HelpfulnessNumerator', 'HelpfulnessDenominator','words_count', 'unique_words', 'polarity',\n",
    "       'subjectivity']\n",
    "\n",
    "X_train, X_test, y_train, y_test = train_test_split(df_downsampled_mulit[['new_token_words']],\n",
    "                                                    df_downsampled_mulit['Score'], \n",
    "                                                    test_size = 0.20, random_state = 42)\n",
    "\n",
    "tfidf_multi = TfidfVectorizer(max_features= 5000)"
   ]
  },
  {
   "cell_type": "code",
   "execution_count": 26,
   "metadata": {},
   "outputs": [
    {
     "data": {
      "text/html": [
       "<div>\n",
       "<style scoped>\n",
       "    .dataframe tbody tr th:only-of-type {\n",
       "        vertical-align: middle;\n",
       "    }\n",
       "\n",
       "    .dataframe tbody tr th {\n",
       "        vertical-align: top;\n",
       "    }\n",
       "\n",
       "    .dataframe thead th {\n",
       "        text-align: right;\n",
       "    }\n",
       "</style>\n",
       "<table border=\"1\" class=\"dataframe\">\n",
       "  <thead>\n",
       "    <tr style=\"text-align: right;\">\n",
       "      <th></th>\n",
       "      <th>new_token_words</th>\n",
       "    </tr>\n",
       "  </thead>\n",
       "  <tbody>\n",
       "    <tr>\n",
       "      <th>93628</th>\n",
       "      <td>nice watermelon flavor candi complaintand real...</td>\n",
       "    </tr>\n",
       "    <tr>\n",
       "      <th>135934</th>\n",
       "      <td>bought cooki cost plu world market run promot ...</td>\n",
       "    </tr>\n",
       "    <tr>\n",
       "      <th>188647</th>\n",
       "      <td>love item best honey mustard market today disa...</td>\n",
       "    </tr>\n",
       "  </tbody>\n",
       "</table>\n",
       "</div>"
      ],
      "text/plain": [
       "                                          new_token_words\n",
       "93628   nice watermelon flavor candi complaintand real...\n",
       "135934  bought cooki cost plu world market run promot ...\n",
       "188647  love item best honey mustard market today disa..."
      ]
     },
     "execution_count": 26,
     "metadata": {},
     "output_type": "execute_result"
    }
   ],
   "source": [
    "X_train.head(3)"
   ]
  },
  {
   "cell_type": "code",
   "execution_count": 27,
   "metadata": {},
   "outputs": [
    {
     "data": {
      "text/plain": [
       "56672.0"
      ]
     },
     "execution_count": 27,
     "metadata": {},
     "output_type": "execute_result"
    }
   ],
   "source": [
    "df_downsampled_mulit.shape[0] * 0.8"
   ]
  },
  {
   "cell_type": "code",
   "execution_count": 28,
   "metadata": {},
   "outputs": [
    {
     "data": {
      "text/plain": [
       "(56672, 1)"
      ]
     },
     "execution_count": 28,
     "metadata": {},
     "output_type": "execute_result"
    }
   ],
   "source": [
    "X_train.shape"
   ]
  },
  {
   "cell_type": "code",
   "execution_count": 31,
   "metadata": {},
   "outputs": [
    {
     "data": {
      "text/plain": [
       "4    0.200469\n",
       "2    0.200416\n",
       "5    0.200011\n",
       "1    0.199922\n",
       "3    0.199181\n",
       "Name: Score, dtype: float64"
      ]
     },
     "execution_count": 31,
     "metadata": {},
     "output_type": "execute_result"
    }
   ],
   "source": [
    "y_train.value_counts(normalize = True)"
   ]
  },
  {
   "cell_type": "code",
   "execution_count": 32,
   "metadata": {},
   "outputs": [
    {
     "data": {
      "text/plain": [
       "3    0.203275\n",
       "1    0.200311\n",
       "5    0.199958\n",
       "2    0.198334\n",
       "4    0.198123\n",
       "Name: Score, dtype: float64"
      ]
     },
     "execution_count": 32,
     "metadata": {},
     "output_type": "execute_result"
    }
   ],
   "source": [
    "y_test.value_counts(normalize = True)"
   ]
  },
  {
   "cell_type": "code",
   "execution_count": 29,
   "metadata": {},
   "outputs": [],
   "source": [
    "#vectorize train words and then transform them & combine the matrix with the new features to create the train's final matrix\n",
    "x_words_train_b = tfidf_multi.fit_transform(X_train.values.ravel()).toarray()\n",
    "\n",
    "\n",
    "# transform test words from tfidf fitted by the train words & combine test matrix with test new features\n",
    "x_words_test_b = tfidf_multi.transform(X_test.values.ravel()).toarray()\n"
   ]
  },
  {
   "cell_type": "code",
   "execution_count": 33,
   "metadata": {},
   "outputs": [],
   "source": [
    "labels = df_downsampled_mulit['Score'].astype(str).tolist()\n",
    "label_tokenizer = Tokenizer()\n",
    "label_tokenizer.fit_on_texts(labels)\n",
    "training_label_seq = np.array(label_tokenizer.texts_to_sequences(y_train.astype(str).tolist()))\n",
    "validation_label_seq = np.array(label_tokenizer.texts_to_sequences(y_test.astype(str).tolist()))"
   ]
  },
  {
   "cell_type": "code",
   "execution_count": 36,
   "metadata": {},
   "outputs": [
    {
     "name": "stdout",
     "output_type": "stream",
     "text": [
      "Train on 56672 samples, validate on 14168 samples\n",
      "Epoch 1/30\n",
      "56672/56672 - 21s - loss: 1.2066 - accuracy: 0.4832 - val_loss: 1.1129 - val_accuracy: 0.5374\n",
      "Epoch 2/30\n",
      "56672/56672 - 19s - loss: 0.9231 - accuracy: 0.6346 - val_loss: 1.0548 - val_accuracy: 0.5783\n",
      "Epoch 3/30\n",
      "56672/56672 - 19s - loss: 0.5778 - accuracy: 0.7814 - val_loss: 1.1476 - val_accuracy: 0.5951\n",
      "Epoch 4/30\n",
      "56672/56672 - 19s - loss: 0.3156 - accuracy: 0.8859 - val_loss: 1.4563 - val_accuracy: 0.5943\n",
      "Epoch 5/30\n",
      "56672/56672 - 19s - loss: 0.1780 - accuracy: 0.9398 - val_loss: 1.6611 - val_accuracy: 0.5937\n",
      "Epoch 6/30\n",
      "56672/56672 - 19s - loss: 0.1155 - accuracy: 0.9608 - val_loss: 1.8622 - val_accuracy: 0.5975\n",
      "Epoch 7/30\n",
      "56672/56672 - 19s - loss: 0.0869 - accuracy: 0.9705 - val_loss: 2.0184 - val_accuracy: 0.5937\n",
      "Epoch 8/30\n",
      "56672/56672 - 19s - loss: 0.0669 - accuracy: 0.9771 - val_loss: 2.2438 - val_accuracy: 0.5978\n",
      "Epoch 9/30\n",
      "56672/56672 - 19s - loss: 0.0591 - accuracy: 0.9812 - val_loss: 2.0945 - val_accuracy: 0.5990\n",
      "Epoch 10/30\n",
      "56672/56672 - 22s - loss: 0.0465 - accuracy: 0.9851 - val_loss: 2.2769 - val_accuracy: 0.5990\n",
      "Epoch 11/30\n",
      "56672/56672 - 20s - loss: 0.0433 - accuracy: 0.9856 - val_loss: 2.2501 - val_accuracy: 0.5992\n",
      "Epoch 12/30\n",
      "56672/56672 - 20s - loss: 0.0381 - accuracy: 0.9878 - val_loss: 2.3823 - val_accuracy: 0.5933\n",
      "Epoch 13/30\n",
      "56672/56672 - 20s - loss: 0.0315 - accuracy: 0.9892 - val_loss: 2.5354 - val_accuracy: 0.5992\n",
      "Epoch 14/30\n",
      "56672/56672 - 20s - loss: 0.0275 - accuracy: 0.9914 - val_loss: 2.5729 - val_accuracy: 0.5959\n",
      "Epoch 15/30\n",
      "56672/56672 - 20s - loss: 0.0268 - accuracy: 0.9919 - val_loss: 2.4792 - val_accuracy: 0.5915\n",
      "Epoch 16/30\n",
      "56672/56672 - 20s - loss: 0.0231 - accuracy: 0.9930 - val_loss: 2.6724 - val_accuracy: 0.5985\n",
      "Epoch 17/30\n",
      "56672/56672 - 20s - loss: 0.0236 - accuracy: 0.9926 - val_loss: 2.7255 - val_accuracy: 0.5991\n",
      "Epoch 18/30\n",
      "56672/56672 - 20s - loss: 0.0209 - accuracy: 0.9933 - val_loss: 2.6533 - val_accuracy: 0.5993\n",
      "Epoch 19/30\n",
      "56672/56672 - 20s - loss: 0.0168 - accuracy: 0.9944 - val_loss: 2.8989 - val_accuracy: 0.5946\n",
      "Epoch 20/30\n",
      "56672/56672 - 20s - loss: 0.0197 - accuracy: 0.9941 - val_loss: 2.5712 - val_accuracy: 0.5989\n",
      "Epoch 21/30\n",
      "56672/56672 - 20s - loss: 0.0163 - accuracy: 0.9948 - val_loss: 2.8032 - val_accuracy: 0.5970\n",
      "Epoch 22/30\n",
      "56672/56672 - 20s - loss: 0.0160 - accuracy: 0.9954 - val_loss: 2.6954 - val_accuracy: 0.5962\n",
      "Epoch 23/30\n",
      "56672/56672 - 20s - loss: 0.0146 - accuracy: 0.9954 - val_loss: 3.0215 - val_accuracy: 0.6008\n",
      "Epoch 24/30\n",
      "56672/56672 - 20s - loss: 0.0147 - accuracy: 0.9954 - val_loss: 2.8608 - val_accuracy: 0.5975\n",
      "Epoch 25/30\n",
      "56672/56672 - 20s - loss: 0.0141 - accuracy: 0.9957 - val_loss: 2.7421 - val_accuracy: 0.5917\n",
      "Epoch 26/30\n",
      "56672/56672 - 20s - loss: 0.0105 - accuracy: 0.9965 - val_loss: 3.3152 - val_accuracy: 0.5960\n",
      "Epoch 27/30\n",
      "56672/56672 - 20s - loss: 0.0116 - accuracy: 0.9965 - val_loss: 3.1039 - val_accuracy: 0.5976\n",
      "Epoch 28/30\n",
      "56672/56672 - 20s - loss: 0.0131 - accuracy: 0.9958 - val_loss: 3.2291 - val_accuracy: 0.5924\n",
      "Epoch 29/30\n",
      "56672/56672 - 20s - loss: 0.0117 - accuracy: 0.9964 - val_loss: 2.9196 - val_accuracy: 0.5971\n",
      "Epoch 30/30\n",
      "56672/56672 - 20s - loss: 0.0107 - accuracy: 0.9966 - val_loss: 2.9159 - val_accuracy: 0.5992\n"
     ]
    }
   ],
   "source": [
    "model1 = Sequential()\n",
    "model1.add(Dense(512, activation = 'relu', input_dim = x_words_train_b.shape[1]))\n",
    "model1.add(Dropout(0.25))\n",
    "model1.add(Dense(256, activation = 'relu'))\n",
    "model1.add(Dense(128, activation = 'relu'))\n",
    "model1.add(Dropout(0.25))\n",
    "model1.add(Dense(64, activation = 'relu'))\n",
    "model1.add(Dense(24, activation='relu'))\n",
    "model1.add(Dense(6, activation='softmax'))\n",
    "model1.compile(loss='sparse_categorical_crossentropy',optimizer='adam',metrics=['accuracy'])\n",
    "num_epochs = 30\n",
    "history_rnn1 = model1.fit(x_words_train_b, training_label_seq, \n",
    "                          epochs=num_epochs, \n",
    "                          validation_data=(x_words_test_b, validation_label_seq), verbose=2)"
   ]
  },
  {
   "cell_type": "markdown",
   "metadata": {},
   "source": [
    "Since the val_loss is way too high!!! it indicates that it is overfitting to training data. I need to adjust the model to be less complicated"
   ]
  },
  {
   "cell_type": "code",
   "execution_count": 38,
   "metadata": {},
   "outputs": [
    {
     "name": "stdout",
     "output_type": "stream",
     "text": [
      "Train on 56672 samples, validate on 14168 samples\n",
      "Epoch 1/10\n",
      "56672/56672 - 13s - loss: 1.1861 - accuracy: 0.4972 - val_loss: 1.1040 - val_accuracy: 0.5436\n",
      "Epoch 2/10\n",
      "56672/56672 - 11s - loss: 0.8930 - accuracy: 0.6493 - val_loss: 1.0671 - val_accuracy: 0.5754\n",
      "Epoch 3/10\n",
      "56672/56672 - 11s - loss: 0.5309 - accuracy: 0.8057 - val_loss: 1.2304 - val_accuracy: 0.5851\n",
      "Epoch 4/10\n",
      "56672/56672 - 11s - loss: 0.2201 - accuracy: 0.9265 - val_loss: 1.6829 - val_accuracy: 0.5820\n",
      "Epoch 5/10\n",
      "56672/56672 - 11s - loss: 0.0775 - accuracy: 0.9755 - val_loss: 2.3846 - val_accuracy: 0.5837\n",
      "Epoch 6/10\n",
      "56672/56672 - 11s - loss: 0.0383 - accuracy: 0.9887 - val_loss: 2.6006 - val_accuracy: 0.5834\n",
      "Epoch 7/10\n",
      "56672/56672 - 11s - loss: 0.0258 - accuracy: 0.9919 - val_loss: 3.0693 - val_accuracy: 0.5749\n",
      "Epoch 8/10\n",
      "56672/56672 - 12s - loss: 0.0301 - accuracy: 0.9900 - val_loss: 3.0906 - val_accuracy: 0.5845\n",
      "Epoch 9/10\n",
      "56672/56672 - 11s - loss: 0.0210 - accuracy: 0.9935 - val_loss: 3.0881 - val_accuracy: 0.5918\n",
      "Epoch 10/10\n",
      "56672/56672 - 11s - loss: 0.0159 - accuracy: 0.9953 - val_loss: 3.1954 - val_accuracy: 0.5876\n"
     ]
    }
   ],
   "source": [
    "model2 = Sequential()\n",
    "model2.add(Dense(256, activation = 'relu', input_dim = x_words_train_b.shape[1]))\n",
    "model2.add(Dense(128, activation = 'relu'))\n",
    "model2.add(Dense(64, activation = 'relu'))\n",
    "model2.add(Dense(24, activation='relu'))\n",
    "model2.add(Dense(6, activation='softmax'))\n",
    "model2.compile(loss='sparse_categorical_crossentropy',optimizer='adam',metrics=['accuracy'])\n",
    "num_epochs = 10\n",
    "history_ann_2 = model2.fit(x_words_train_b, training_label_seq, \n",
    "                           epochs=num_epochs, \n",
    "                           validation_data=(x_words_test_b, validation_label_seq), \n",
    "                           verbose=2)"
   ]
  },
  {
   "cell_type": "code",
   "execution_count": null,
   "metadata": {},
   "outputs": [],
   "source": []
  }
 ],
 "metadata": {
  "kernelspec": {
   "display_name": "Python 3",
   "language": "python",
   "name": "python3"
  },
  "language_info": {
   "codemirror_mode": {
    "name": "ipython",
    "version": 3
   },
   "file_extension": ".py",
   "mimetype": "text/x-python",
   "name": "python",
   "nbconvert_exporter": "python",
   "pygments_lexer": "ipython3",
   "version": "3.7.6"
  }
 },
 "nbformat": 4,
 "nbformat_minor": 2
}
