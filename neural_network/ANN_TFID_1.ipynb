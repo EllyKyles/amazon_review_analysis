{
 "cells": [
  {
   "cell_type": "code",
   "execution_count": 2,
   "metadata": {},
   "outputs": [],
   "source": [
    "import tensorflow as tf\n",
    "from tensorflow.keras.preprocessing.text import Tokenizer\n",
    "import pandas as pd\n",
    "import numpy as np\n",
    "import matplotlib.pyplot as plt\n",
    "from sklearn.feature_extraction.text import TfidfVectorizer\n",
    "from tensorflow.keras.models import Sequential\n",
    "from tensorflow.keras.layers import Dense, Dropout\n",
    "from tensorflow.keras.layers import Flatten\n",
    "from sklearn.utils import resample\n",
    "import warnings \n",
    "warnings.filterwarnings(action = 'ignore')"
   ]
  },
  {
   "cell_type": "code",
   "execution_count": 16,
   "metadata": {},
   "outputs": [],
   "source": [
    "from sklearn.ensemble import GradientBoostingClassifier, RandomForestClassifier, RandomForestRegressor\n",
    "from sklearn.metrics import confusion_matrix"
   ]
  },
  {
   "cell_type": "code",
   "execution_count": 3,
   "metadata": {},
   "outputs": [],
   "source": [
    "df = pd.read_csv('../data/doc_train.csv')\n",
    "df['clean_text'].fillna(\"No data\", inplace = True)\n",
    "df[\"new_token_words\"].fillna(\"No data\", inplace = True)"
   ]
  },
  {
   "cell_type": "markdown",
   "metadata": {},
   "source": [
    "# TFID with features"
   ]
  },
  {
   "cell_type": "code",
   "execution_count": 13,
   "metadata": {},
   "outputs": [
    {
     "name": "stdout",
     "output_type": "stream",
     "text": [
      "train_df.shape is : (202696, 26), test_df is : (50674, 26)\n"
     ]
    }
   ],
   "source": [
    "train_size = int(df.shape[0] * 0.8)\n",
    "train_index = np.arange(train_size)\n",
    "train_df = df[df.index.isin(train_index)]\n",
    "test_df = df[~df.index.isin(train_index)]\n",
    "print(f'train_df.shape is : {train_df.shape}, test_df is : {test_df.shape}')"
   ]
  },
  {
   "cell_type": "code",
   "execution_count": 14,
   "metadata": {},
   "outputs": [],
   "source": [
    "tf = TfidfVectorizer(max_features= 5000)\n",
    "labels = df['Score'].astype(str).tolist()\n",
    "label_tokenizer = Tokenizer()\n",
    "label_tokenizer.fit_on_texts(labels)\n",
    "training_label_seq = np.array(label_tokenizer.texts_to_sequences(train_df['Score'].astype(str).tolist()))\n",
    "validation_label_seq = np.array(label_tokenizer.texts_to_sequences(test_df['Score'].astype(str).tolist()))"
   ]
  },
  {
   "cell_type": "code",
   "execution_count": 15,
   "metadata": {},
   "outputs": [],
   "source": [
    "features = ['HelpfulnessNumerator', 'HelpfulnessDenominator','words_count', 'unique_words', 'polarity',\n",
    "       'subjectivity']\n",
    "#vectorize train words and then transform them & combine the matrix with the new features to create the train's final matrix\n",
    "x_words_train = tf.fit_transform(train_df[\"clean_text\"].values.ravel()).toarray()\n",
    "x_train_matrix = np.concatenate((x_words_train, train_df[features].values), axis =1)\n",
    "# transform test words from tfidf fitted by the train words & combine test matrix with test new features\n",
    "x_words_test = tf.transform(test_df[\"clean_text\"].values.ravel()).toarray()\n",
    "x_test_matrix = np.concatenate((x_words_test, test_df[features].values), axis =1)"
   ]
  },
  {
   "cell_type": "code",
   "execution_count": 22,
   "metadata": {},
   "outputs": [
    {
     "name": "stdout",
     "output_type": "stream",
     "text": [
      "[[ 3003     2     4     3  2041]\n",
      " [  274   955     9    14  1514]\n",
      " [  133     3  1442    31  2433]\n",
      " [   32     1     5  2586  4544]\n",
      " [   44     1     5    14 31581]]\n"
     ]
    }
   ],
   "source": [
    "rf=RandomForestClassifier(n_estimators = 250, random_state = 42, max_features ='auto')\n",
    "\n",
    "rf.fit(x_train_matrix, train_df['Score'].values)\n",
    "y_hat = rf.predict(x_test_matrix)\n",
    "test=pd.concat([test_df['Score'], pd.Series(y_hat, index = test_df.index)], axis = 1)\n",
    "cm_mulit_com= confusion_matrix(test_df['Score'], y_hat)\n",
    "print(cm_mulit_com)"
   ]
  },
  {
   "cell_type": "code",
   "execution_count": 20,
   "metadata": {},
   "outputs": [
    {
     "data": {
      "text/plain": [
       "array([[ 3003,     2,     4,     3,  2041],\n",
       "       [  274,   955,     9,    14,  1514],\n",
       "       [  133,     3,  1442,    31,  2433],\n",
       "       [   32,     1,     5,  2586,  4544],\n",
       "       [   44,     1,     5,    14, 31581]])"
      ]
     },
     "execution_count": 20,
     "metadata": {},
     "output_type": "execute_result"
    }
   ],
   "source": [
    "confusion_matrix(test_df['Score'],y_hat)"
   ]
  },
  {
   "cell_type": "markdown",
   "metadata": {},
   "source": [
    "# ANN with 3 hidden layers"
   ]
  },
  {
   "cell_type": "code",
   "execution_count": 9,
   "metadata": {},
   "outputs": [
    {
     "name": "stdout",
     "output_type": "stream",
     "text": [
      "Train on 202696 samples, validate on 50674 samples\n",
      "Epoch 1/10\n",
      "202696/202696 - 27s - loss: 0.8070 - accuracy: 0.6981 - val_loss: 0.7350 - val_accuracy: 0.7223\n",
      "Epoch 2/10\n",
      "202696/202696 - 26s - loss: 0.7184 - accuracy: 0.7269 - val_loss: 0.7014 - val_accuracy: 0.7350\n",
      "Epoch 3/10\n",
      "202696/202696 - 26s - loss: 0.6829 - accuracy: 0.7418 - val_loss: 0.7125 - val_accuracy: 0.7341\n",
      "Epoch 4/10\n",
      "202696/202696 - 26s - loss: 0.6527 - accuracy: 0.7540 - val_loss: 0.6734 - val_accuracy: 0.7502\n",
      "Epoch 5/10\n",
      "202696/202696 - 26s - loss: 0.6222 - accuracy: 0.7660 - val_loss: 0.6802 - val_accuracy: 0.7481\n",
      "Epoch 6/10\n",
      "202696/202696 - 27s - loss: 0.5914 - accuracy: 0.7778 - val_loss: 0.6784 - val_accuracy: 0.7559\n",
      "Epoch 7/10\n",
      "202696/202696 - 26s - loss: 0.5631 - accuracy: 0.7899 - val_loss: 0.6903 - val_accuracy: 0.7522\n",
      "Epoch 8/10\n",
      "202696/202696 - 26s - loss: 0.5366 - accuracy: 0.7999 - val_loss: 0.6777 - val_accuracy: 0.7590\n",
      "Epoch 9/10\n",
      "202696/202696 - 26s - loss: 0.5131 - accuracy: 0.8086 - val_loss: 0.6911 - val_accuracy: 0.7611\n",
      "Epoch 10/10\n",
      "202696/202696 - 26s - loss: 0.4920 - accuracy: 0.8168 - val_loss: 0.7260 - val_accuracy: 0.7615\n"
     ]
    }
   ],
   "source": [
    "model = Sequential()\n",
    "model.add(Dense(128, activation = 'relu', input_dim = x_train_matrix.shape[1]))\n",
    "model.add(Dense(64, activation = 'relu'))\n",
    "model.add(Dense(24, activation='relu'))\n",
    "model.add(Dense(6, activation='softmax'))\n",
    "model.compile(loss='sparse_categorical_crossentropy',optimizer='adam',metrics=['accuracy'])\n",
    "num_epochs = 10\n",
    "history_rnn = model.fit(x_train_matrix, training_label_seq, epochs=num_epochs, validation_data=(x_test_matrix, validation_label_seq), verbose=2)"
   ]
  },
  {
   "cell_type": "code",
   "execution_count": 37,
   "metadata": {},
   "outputs": [
    {
     "name": "stdout",
     "output_type": "stream",
     "text": [
      "Train on 202696 samples, validate on 50674 samples\n",
      "Epoch 1/10\n",
      "202696/202696 - 76s - loss: 0.8230 - accuracy: 0.6960 - val_loss: 0.7439 - val_accuracy: 0.7272\n",
      "Epoch 2/10\n",
      "202696/202696 - 76s - loss: 0.7193 - accuracy: 0.7276 - val_loss: 0.7127 - val_accuracy: 0.7283\n",
      "Epoch 3/10\n",
      "202696/202696 - 75s - loss: 0.6812 - accuracy: 0.7418 - val_loss: 0.7943 - val_accuracy: 0.6995\n",
      "Epoch 4/10\n",
      "202696/202696 - 74s - loss: 0.6428 - accuracy: 0.7571 - val_loss: 0.7267 - val_accuracy: 0.7396\n",
      "Epoch 5/10\n",
      "202696/202696 - 75s - loss: 0.6095 - accuracy: 0.7708 - val_loss: 0.6623 - val_accuracy: 0.7554\n",
      "Epoch 6/10\n",
      "202696/202696 - 78s - loss: 0.5722 - accuracy: 0.7850 - val_loss: 0.6797 - val_accuracy: 0.7556\n",
      "Epoch 7/10\n",
      "202696/202696 - 76s - loss: 0.5404 - accuracy: 0.7979 - val_loss: 0.6868 - val_accuracy: 0.7513\n",
      "Epoch 8/10\n",
      "202696/202696 - 75s - loss: 0.5094 - accuracy: 0.8096 - val_loss: 0.6974 - val_accuracy: 0.7609\n",
      "Epoch 9/10\n",
      "202696/202696 - 75s - loss: 0.4814 - accuracy: 0.8205 - val_loss: 0.7049 - val_accuracy: 0.7535\n",
      "Epoch 10/10\n",
      "202696/202696 - 76s - loss: 0.4520 - accuracy: 0.8310 - val_loss: 0.7276 - val_accuracy: 0.7569\n"
     ]
    }
   ],
   "source": [
    "model1 = Sequential()\n",
    "model1.add(Dense(512, activation = 'relu', input_dim = x_train_matrix.shape[1]))\n",
    "model1.add(Dense(128, activation = 'relu'))\n",
    "model1.add(Dense(24, activation='relu'))\n",
    "model1.add(Dense(6, activation='softmax'))\n",
    "model1.compile(loss='sparse_categorical_crossentropy',optimizer='adam',metrics=['accuracy'])\n",
    "num_epochs = 10\n",
    "history_rnn_1 = model1.fit(x_train_matrix, training_label_seq, epochs=num_epochs, validation_data=(x_test_matrix, validation_label_seq), verbose=2)"
   ]
  },
  {
   "cell_type": "markdown",
   "metadata": {},
   "source": [
    "# ANN with 4 hidden layers"
   ]
  },
  {
   "cell_type": "code",
   "execution_count": 10,
   "metadata": {},
   "outputs": [
    {
     "name": "stdout",
     "output_type": "stream",
     "text": [
      "Train on 202696 samples, validate on 50674 samples\n",
      "Epoch 1/10\n",
      "202696/202696 - 48s - loss: 0.8183 - accuracy: 0.6953 - val_loss: 0.7226 - val_accuracy: 0.7252\n",
      "Epoch 2/10\n",
      "202696/202696 - 47s - loss: 0.7193 - accuracy: 0.7262 - val_loss: 0.7173 - val_accuracy: 0.7280\n",
      "Epoch 3/10\n",
      "202696/202696 - 48s - loss: 0.6830 - accuracy: 0.7406 - val_loss: 0.7726 - val_accuracy: 0.7295\n",
      "Epoch 4/10\n",
      "202696/202696 - 46s - loss: 0.6485 - accuracy: 0.7538 - val_loss: 0.6907 - val_accuracy: 0.7428\n",
      "Epoch 5/10\n",
      "202696/202696 - 46s - loss: 0.6148 - accuracy: 0.7676 - val_loss: 0.6871 - val_accuracy: 0.7452\n",
      "Epoch 6/10\n",
      "202696/202696 - 46s - loss: 0.5848 - accuracy: 0.7789 - val_loss: 0.6872 - val_accuracy: 0.7489\n",
      "Epoch 7/10\n",
      "202696/202696 - 45s - loss: 0.5578 - accuracy: 0.7890 - val_loss: 0.6982 - val_accuracy: 0.7476\n",
      "Epoch 8/10\n",
      "202696/202696 - 46s - loss: 0.5325 - accuracy: 0.7990 - val_loss: 0.7023 - val_accuracy: 0.7550\n",
      "Epoch 9/10\n",
      "202696/202696 - 47s - loss: 0.5063 - accuracy: 0.8089 - val_loss: 0.7197 - val_accuracy: 0.7543\n",
      "Epoch 10/10\n",
      "202696/202696 - 49s - loss: 0.4828 - accuracy: 0.8183 - val_loss: 0.7193 - val_accuracy: 0.7505\n"
     ]
    }
   ],
   "source": [
    "model2 = Sequential()\n",
    "model2.add(Dense(256, activation = 'relu', input_dim = x_train_matrix.shape[1]))\n",
    "model2.add(Dense(128, activation = 'relu'))\n",
    "model2.add(Dense(64, activation = 'relu'))\n",
    "model2.add(Dense(24, activation='relu'))\n",
    "model2.add(Dense(6, activation='softmax'))\n",
    "model2.compile(loss='sparse_categorical_crossentropy',optimizer='adam',metrics=['accuracy'])\n",
    "num_epochs = 10\n",
    "history_rnn_2 = model2.fit(x_train_matrix, training_label_seq, epochs=num_epochs, validation_data=(x_test_matrix, validation_label_seq), verbose=2)"
   ]
  },
  {
   "cell_type": "code",
   "execution_count": 24,
   "metadata": {},
   "outputs": [],
   "source": [
    "tdif_ann= {'1_acc': history_rnn.history['val_accuracy'],\n",
    "        '1_loss': history_rnn.history['val_loss'],\n",
    "          '2_acc': history_rnn_2.history['val_accuracy'],\n",
    "        '2_loss': history_rnn_2.history['val_loss']}\n",
    "tdif_ann_df = pd.DataFrame(tdif_ann)"
   ]
  },
  {
   "cell_type": "code",
   "execution_count": 25,
   "metadata": {},
   "outputs": [
    {
     "data": {
      "image/png": "[encoded data removed]",
      "text/plain": [
       "<Figure size 864x432 with 2 Axes>"
      ]
     },
     "metadata": {
      "needs_background": "light"
     },
     "output_type": "display_data"
    }
   ],
   "source": [
    "fig, axs = plt.subplots(nrows = 1, ncols = 2, figsize = (12, 6))\n",
    "tdif_ann_df[['1_acc','2_acc']].plot(ax = axs[0])\n",
    "\n",
    "axs[0].set_xlabel('epochs')\n",
    "axs[0].set_ylabel('val_accuracy')\n",
    "\n",
    "axs[0].set_title('Val_accuarcy ANN with TFID (5006)')\n",
    "tdif_ann_df[['1_loss','2_loss']].plot(ax = axs[1])\n",
    "\n",
    "axs[1].set_title('Val_loss ANN with TFID (5006)')\n",
    "axs[1].set_xlabel('epochs')\n",
    "axs[1].set_ylabel('val_loss');"
   ]
  },
  {
   "cell_type": "markdown",
   "metadata": {},
   "source": [
    "# Balanced Data"
   ]
  },
  {
   "cell_type": "code",
   "execution_count": 4,
   "metadata": {},
   "outputs": [],
   "source": [
    "df_5 = df[df['Score'] == 5]\n",
    "df_4 = df[df['Score'] == 4]\n",
    "df_3 = df[df['Score'] == 3]\n",
    "df_2 = df[df['Score'] == 2]\n",
    "df_1 = df[df['Score'] == 1]"
   ]
  },
  {
   "cell_type": "code",
   "execution_count": 5,
   "metadata": {},
   "outputs": [],
   "source": [
    "df_5_downsampled = resample(df_5, replace=False,    # sample without replacement\n",
    "                            n_samples=14080,     # to match minority class\n",
    "                            random_state=123)\n",
    "df_4_downsampled = resample(df_4, replace=False,    # sample without replacement\n",
    "                            n_samples=14080,     # to match minority class\n",
    "                            random_state=123)\n",
    "df_3_downsampled = resample(df_3, replace=False,    # sample without replacement\n",
    "                            n_samples=14080,     # to match minority class\n",
    "                            random_state=123)\n",
    "df_1_downsampled = resample(df_1, replace=False,    # sample without replacement\n",
    "                            n_samples=14080,     # to match minority class\n",
    "                            random_state=123)"
   ]
  },
  {
   "cell_type": "code",
   "execution_count": 6,
   "metadata": {},
   "outputs": [
    {
     "data": {
      "text/plain": [
       "5    14080\n",
       "4    14080\n",
       "3    14080\n",
       "2    14080\n",
       "1    14080\n",
       "Name: Score, dtype: int64"
      ]
     },
     "execution_count": 6,
     "metadata": {},
     "output_type": "execute_result"
    }
   ],
   "source": [
    "# Combine minority class with downsampled majority class\n",
    "df_downsampled_mulit = pd.concat([df_5_downsampled, df_4_downsampled, df_3_downsampled,df_1_downsampled,df_2])\n",
    "# Display new class counts\n",
    "df_downsampled_mulit['Score'].value_counts()"
   ]
  },
  {
   "cell_type": "code",
   "execution_count": 7,
   "metadata": {},
   "outputs": [
    {
     "name": "stdout",
     "output_type": "stream",
     "text": [
      "train_df.shape is : (56320, 26), test_df is : (14080, 26)\n"
     ]
    }
   ],
   "source": [
    "train_size_b = int(df_downsampled_mulit.shape[0] * 0.8)\n",
    "train_df_b = df_downsampled_mulit.iloc[:train_size_b,:]\n",
    "test_df_b = df_downsampled_mulit.iloc[train_size_b:,:]\n",
    "print(f'train_df.shape is : {train_df_b.shape}, test_df is : {test_df_b.shape}')"
   ]
  },
  {
   "cell_type": "code",
   "execution_count": 8,
   "metadata": {},
   "outputs": [],
   "source": [
    "features = ['HelpfulnessNumerator', 'HelpfulnessDenominator','words_count', 'unique_words', 'polarity',\n",
    "       'subjectivity', 'doc2vec_vector_0', 'doc2vec_vector_1',\n",
    "       'doc2vec_vector_2', 'doc2vec_vector_3', 'doc2vec_vector_4']\n",
    "\n",
    "\n",
    "tfidf_multi = TfidfVectorizer(max_features= 5000)"
   ]
  },
  {
   "cell_type": "code",
   "execution_count": 9,
   "metadata": {},
   "outputs": [],
   "source": [
    "#vectorize train words and then transform them & combine the matrix with the new features to create the train's final matrix\n",
    "x_words_train_b = tfidf_multi.fit_transform(train_df_b[\"clean_text\"].values.ravel()).toarray()\n",
    "x_train_matrix_b = np.concatenate((x_words_train_b, train_df_b[features].values), axis =1)\n",
    "\n",
    "# transform test words from tfidf fitted by the train words & combine test matrix with test new features\n",
    "x_words_test_b = tfidf_multi.transform(test_df_b[\"clean_text\"].values.ravel()).toarray()\n",
    "x_test_matrix_b = np.concatenate((x_words_test_b, test_df_b[features].values), axis =1)"
   ]
  },
  {
   "cell_type": "code",
   "execution_count": 10,
   "metadata": {},
   "outputs": [],
   "source": [
    "labels = df_downsampled_mulit['Score'].astype(str).tolist()\n",
    "label_tokenizer = Tokenizer()\n",
    "label_tokenizer.fit_on_texts(labels)\n",
    "training_label_seq = np.array(label_tokenizer.texts_to_sequences(train_df_b['Score'].astype(str).tolist()))\n",
    "validation_label_seq = np.array(label_tokenizer.texts_to_sequences(test_df_b['Score'].astype(str).tolist()))"
   ]
  },
  {
   "cell_type": "code",
   "execution_count": 11,
   "metadata": {},
   "outputs": [
    {
     "name": "stdout",
     "output_type": "stream",
     "text": [
      "Train on 56320 samples, validate on 14080 samples\n",
      "Epoch 1/30\n",
      "56320/56320 - 23s - loss: 1.0971 - accuracy: 0.5038 - val_loss: 12.2885 - val_accuracy: 0.0000e+00\n",
      "Epoch 2/30\n",
      "56320/56320 - 21s - loss: 0.8678 - accuracy: 0.6237 - val_loss: 18.2853 - val_accuracy: 0.0000e+00\n",
      "Epoch 3/30\n",
      "56320/56320 - 20s - loss: 0.8067 - accuracy: 0.6529 - val_loss: 17.7380 - val_accuracy: 0.0000e+00\n",
      "Epoch 4/30\n",
      "56320/56320 - 21s - loss: 0.7700 - accuracy: 0.6709 - val_loss: 21.8387 - val_accuracy: 0.0000e+00\n",
      "Epoch 5/30\n",
      "56320/56320 - 20s - loss: 0.7296 - accuracy: 0.6921 - val_loss: 26.0671 - val_accuracy: 0.0000e+00\n",
      "Epoch 6/30\n",
      "56320/56320 - 20s - loss: 0.6820 - accuracy: 0.7157 - val_loss: 32.6666 - val_accuracy: 0.0000e+00\n",
      "Epoch 7/30\n",
      "56320/56320 - 20s - loss: 0.6408 - accuracy: 0.7344 - val_loss: 38.7700 - val_accuracy: 0.0000e+00\n",
      "Epoch 8/30\n",
      "56320/56320 - 20s - loss: 0.5892 - accuracy: 0.7563 - val_loss: 47.9506 - val_accuracy: 0.0000e+00\n",
      "Epoch 9/30\n",
      "56320/56320 - 20s - loss: 0.5439 - accuracy: 0.7761 - val_loss: 45.8207 - val_accuracy: 0.0000e+00\n",
      "Epoch 10/30\n",
      "56320/56320 - 20s - loss: 0.5011 - accuracy: 0.7940 - val_loss: 64.2940 - val_accuracy: 0.0000e+00\n",
      "Epoch 11/30\n",
      "56320/56320 - 20s - loss: 0.4672 - accuracy: 0.8091 - val_loss: 65.8627 - val_accuracy: 0.0000e+00\n",
      "Epoch 12/30\n",
      "56320/56320 - 20s - loss: 0.4313 - accuracy: 0.8227 - val_loss: 84.8261 - val_accuracy: 0.0000e+00\n",
      "Epoch 13/30\n",
      "56320/56320 - 20s - loss: 0.4014 - accuracy: 0.8354 - val_loss: 93.4641 - val_accuracy: 0.0000e+00\n",
      "Epoch 14/30\n",
      "56320/56320 - 21s - loss: 0.3809 - accuracy: 0.8477 - val_loss: 95.3865 - val_accuracy: 0.0000e+00\n",
      "Epoch 15/30\n",
      "56320/56320 - 21s - loss: 0.3435 - accuracy: 0.8602 - val_loss: 111.2700 - val_accuracy: 0.0000e+00\n",
      "Epoch 16/30\n",
      "56320/56320 - 20s - loss: 0.3319 - accuracy: 0.8658 - val_loss: 113.4663 - val_accuracy: 0.0000e+00\n",
      "Epoch 17/30\n",
      "56320/56320 - 20s - loss: 0.3109 - accuracy: 0.8729 - val_loss: 120.8138 - val_accuracy: 0.0000e+00\n",
      "Epoch 18/30\n",
      "56320/56320 - 21s - loss: 0.2895 - accuracy: 0.8825 - val_loss: 125.3361 - val_accuracy: 0.0000e+00\n",
      "Epoch 19/30\n",
      "56320/56320 - 20s - loss: 0.2726 - accuracy: 0.8884 - val_loss: 141.6480 - val_accuracy: 0.0000e+00\n",
      "Epoch 20/30\n",
      "56320/56320 - 20s - loss: 0.2605 - accuracy: 0.8949 - val_loss: 134.6521 - val_accuracy: 0.0000e+00\n",
      "Epoch 21/30\n",
      "56320/56320 - 20s - loss: 0.2411 - accuracy: 0.9027 - val_loss: 141.5342 - val_accuracy: 0.0000e+00\n",
      "Epoch 22/30\n",
      "56320/56320 - 20s - loss: 0.2375 - accuracy: 0.9045 - val_loss: 162.9888 - val_accuracy: 0.0000e+00\n",
      "Epoch 23/30\n",
      "56320/56320 - 20s - loss: 0.2212 - accuracy: 0.9103 - val_loss: 154.2145 - val_accuracy: 0.0000e+00\n",
      "Epoch 24/30\n",
      "56320/56320 - 20s - loss: 0.2121 - accuracy: 0.9151 - val_loss: 139.7345 - val_accuracy: 0.0000e+00\n",
      "Epoch 25/30\n",
      "56320/56320 - 20s - loss: 0.2014 - accuracy: 0.9201 - val_loss: 175.0304 - val_accuracy: 0.0000e+00\n",
      "Epoch 26/30\n",
      "56320/56320 - 20s - loss: 0.1961 - accuracy: 0.9218 - val_loss: 160.9501 - val_accuracy: 0.0000e+00\n",
      "Epoch 27/30\n",
      "56320/56320 - 20s - loss: 0.1826 - accuracy: 0.9275 - val_loss: 179.5820 - val_accuracy: 0.0000e+00\n",
      "Epoch 28/30\n",
      "56320/56320 - 21s - loss: 0.1721 - accuracy: 0.9315 - val_loss: 201.9161 - val_accuracy: 0.0000e+00\n",
      "Epoch 29/30\n",
      "56320/56320 - 20s - loss: 0.1677 - accuracy: 0.9341 - val_loss: 192.1511 - val_accuracy: 0.0000e+00\n",
      "Epoch 30/30\n",
      "56320/56320 - 20s - loss: 0.1644 - accuracy: 0.9356 - val_loss: 182.2681 - val_accuracy: 0.0000e+00\n"
     ]
    }
   ],
   "source": [
    "model1 = Sequential()\n",
    "model1.add(Dense(512, activation = 'relu', input_dim = x_train_matrix_b.shape[1]))\n",
    "model1.add(Dense(256, activation = 'relu'))\n",
    "model1.add(Dense(128, activation = 'relu'))\n",
    "model1.add(Dense(64, activation = 'relu'))\n",
    "model1.add(Dense(24, activation='relu'))\n",
    "model1.add(Dense(6, activation='softmax'))\n",
    "model1.compile(loss='sparse_categorical_crossentropy',optimizer='adam',metrics=['accuracy'])\n",
    "num_epochs = 30\n",
    "history_rnn1 = model1.fit(x_train_matrix_b, training_label_seq, epochs=num_epochs, validation_data=(x_test_matrix_b, validation_label_seq), verbose=2)"
   ]
  },
  {
   "cell_type": "code",
   "execution_count": null,
   "metadata": {},
   "outputs": [],
   "source": []
  }
 ],
 "metadata": {
  "kernelspec": {
   "display_name": "Python 3",
   "language": "python",
   "name": "python3"
  },
  "language_info": {
   "codemirror_mode": {
    "name": "ipython",
    "version": 3
   },
   "file_extension": ".py",
   "mimetype": "text/x-python",
   "name": "python",
   "nbconvert_exporter": "python",
   "pygments_lexer": "ipython3",
   "version": "3.7.6"
  }
 },
 "nbformat": 4,
 "nbformat_minor": 2
}
