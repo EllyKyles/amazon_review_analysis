{
 "cells": [
  {
   "cell_type": "code",
   "execution_count": 0,
   "metadata": {
    "colab": {},
    "colab_type": "code",
    "id": "whh7NpY7f2uX"
   },
   "outputs": [],
   "source": [
    "import pandas as pd\n",
    "import numpy as np\n",
    "import matplotlib.pyplot as plt\n",
    "from pprint import pprint\n",
    "%matplotlib inline\n",
    "pd.set_option('display.expand_frame_repr', False)\n",
    "pd.set_option('display.max_colwidth', -1)\n",
    "\n",
    "from sklearn.cluster import KMeans\n",
    "from sklearn.metrics import silhouette_score\n",
    "import itertools\n",
    "import scipy.stats as scs"
   ]
  },
  {
   "cell_type": "code",
   "execution_count": 0,
   "metadata": {
    "colab": {},
    "colab_type": "code",
    "id": "ZHCua6K1KBtj"
   },
   "outputs": [],
   "source": [
    "# Gensim\n",
    "import gensim\n",
    "import gensim.corpora as corpora\n",
    "from gensim.utils import simple_preprocess\n",
    "from gensim.models import CoherenceModel\n",
    "from gensim.test.utils import common_texts\n",
    "from gensim.models.doc2vec import Doc2Vec, TaggedDocument\n",
    "from gensim import similarities\n",
    "from gensim import models\n"
   ]
  },
  {
   "cell_type": "code",
   "execution_count": 0,
   "metadata": {
    "colab": {},
    "colab_type": "code",
    "id": "XjasWz4XQaEc"
   },
   "outputs": [],
   "source": [
    "from datetime import datetime\n",
    "import pickle\n",
    "from google.colab import files\n",
    "from io import BytesIO\n",
    "from PIL import Image"
   ]
  },
  {
   "cell_type": "code",
   "execution_count": 4,
   "metadata": {
    "colab": {
     "base_uri": "https://localhost:8080/",
     "height": 122
    },
    "colab_type": "code",
    "id": "ocIXVFFAhSC0",
    "outputId": "a01d903e-3ff4-4da0-a077-7cc6bcd350bb"
   },
   "outputs": [
    {
     "name": "stdout",
     "output_type": "stream",
     "text": [
      "Go to this URL in a browser: https://accounts.google.com/o/oauth2/auth?client_id=947318989803-6bn6qk8qdgf4n4g3pfee6491hc0brc4i.apps.googleusercontent.com&redirect_uri=urn%3aietf%3awg%3aoauth%3a2.0%3aoob&response_type=code&scope=email%20https%3a%2f%2fwww.googleapis.com%2fauth%2fdocs.test%20https%3a%2f%2fwww.googleapis.com%2fauth%2fdrive%20https%3a%2f%2fwww.googleapis.com%2fauth%2fdrive.photos.readonly%20https%3a%2f%2fwww.googleapis.com%2fauth%2fpeopleapi.readonly\n",
      "\n",
      "Enter your authorization code:\n",
      "··········\n",
      "Mounted at /content/drive\n"
     ]
    }
   ],
   "source": [
    "from google.colab import drive\n",
    "drive.mount('/content/drive')"
   ]
  },
  {
   "cell_type": "markdown",
   "metadata": {
    "colab_type": "text",
    "id": "GPLs8airmEIm"
   },
   "source": [
    "# New Section"
   ]
  },
  {
   "cell_type": "code",
   "execution_count": 0,
   "metadata": {
    "colab": {},
    "colab_type": "code",
    "id": "YfRUzB_HZtVw"
   },
   "outputs": [],
   "source": [
    "# The csv file of doc_2vec was created from Topic_modelling juypter notebook and saved in the following path \n",
    "doc2vec_df = pd.read_pickle('/content/drive/My Drive/capstone3/doc2vec_df.pkl')"
   ]
  },
  {
   "cell_type": "code",
   "execution_count": 0,
   "metadata": {
    "colab": {},
    "colab_type": "code",
    "id": "ZA-gxnEtMiLT"
   },
   "outputs": [],
   "source": [
    "ks = [4,5,6,7,8]\n",
    "x=doc2vec_df.values"
   ]
  },
  {
   "cell_type": "code",
   "execution_count": 0,
   "metadata": {
    "colab": {},
    "colab_type": "code",
    "id": "c8_YeVT1XSsy"
   },
   "outputs": [],
   "source": [
    "doc2vec_arr=doc2vec_df.values\n",
    "\n",
    "silhouette = []\n",
    "for k in ks:\n",
    "  km = KMeans(k)\n",
    "  y = km.fit_predict(x)\n",
    "  silhouette.append(silhouette_score(x,y))"
   ]
  },
  {
   "cell_type": "code",
   "execution_count": 0,
   "metadata": {
    "colab": {
     "base_uri": "https://localhost:8080/",
     "height": 295
    },
    "colab_type": "code",
    "id": "e6ZG0Novk_Vu",
    "outputId": "70b0d4cd-4cee-43be-c2eb-0d9e82e441e3"
   },
   "outputs": [
    {
     "data": {
      "image/png": "[encoded data removed]",
      "text/plain": [
       "<Figure size 432x288 with 1 Axes>"
      ]
     },
     "metadata": {
      "tags": []
     },
     "output_type": "display_data"
    }
   ],
   "source": [
    "plt.plot(ks, silhouette, linestyle='--', marker='o', color='b')\n",
    "plt.ylabel('Silhouette_Score')\n",
    "plt.xlabel('K Clutering')\n",
    "plt.title('Silhouette Score')\n",
    "plt.savefig('/content/drive/My Drive/capstone3/shil_score');"
   ]
  },
  {
   "cell_type": "code",
   "execution_count": 7,
   "metadata": {
    "colab": {
     "base_uri": "https://localhost:8080/",
     "height": 204
    },
    "colab_type": "code",
    "id": "CbHKYPIJBHr6",
    "outputId": "04e1c57e-33d4-4ac5-9104-5e5307792141"
   },
   "outputs": [
    {
     "data": {
      "text/html": [
       "<div>\n",
       "<style scoped>\n",
       "    .dataframe tbody tr th:only-of-type {\n",
       "        vertical-align: middle;\n",
       "    }\n",
       "\n",
       "    .dataframe tbody tr th {\n",
       "        vertical-align: top;\n",
       "    }\n",
       "\n",
       "    .dataframe thead th {\n",
       "        text-align: right;\n",
       "    }\n",
       "</style>\n",
       "<table border=\"1\" class=\"dataframe\">\n",
       "  <thead>\n",
       "    <tr style=\"text-align: right;\">\n",
       "      <th></th>\n",
       "      <th>0</th>\n",
       "      <th>1</th>\n",
       "    </tr>\n",
       "  </thead>\n",
       "  <tbody>\n",
       "    <tr>\n",
       "      <th>0</th>\n",
       "      <td>0</td>\n",
       "      <td>0.021*\"flavor\" + 0.016*\"taste\" + 0.015*\"amazon\" + 0.013*\"store\" + 0.013*\"price\" + 0.013*\"chocolate\" + 0.012*\"love\" + 0.012*\"time\" + 0.012*\"box\" + 0.011*\"bag\"</td>\n",
       "    </tr>\n",
       "    <tr>\n",
       "      <th>1</th>\n",
       "      <td>1</td>\n",
       "      <td>0.124*\"coffee\" + 0.043*\"cup\" + 0.028*\"flavor\" + 0.022*\"taste\" + 0.016*\"kcup\" + 0.012*\"blend\" + 0.011*\"price\" + 0.010*\"pod\" + 0.010*\"love\" + 0.010*\"bean\"</td>\n",
       "    </tr>\n",
       "    <tr>\n",
       "      <th>2</th>\n",
       "      <td>2</td>\n",
       "      <td>0.078*\"food\" + 0.034*\"cat\" + 0.031*\"dog\" + 0.012*\"day\" + 0.011*\"time\" + 0.011*\"year\" + 0.010*\"baby\" + 0.009*\"month\" + 0.009*\"brand\" + 0.009*\"ingredient\"</td>\n",
       "    </tr>\n",
       "    <tr>\n",
       "      <th>3</th>\n",
       "      <td>3</td>\n",
       "      <td>0.125*\"tea\" + 0.053*\"dog\" + 0.053*\"treat\" + 0.022*\"bag\" + 0.015*\"flavor\" + 0.015*\"time\" + 0.014*\"love\" + 0.010*\"chew\" + 0.010*\"day\" + 0.009*\"tooth\"</td>\n",
       "    </tr>\n",
       "    <tr>\n",
       "      <th>4</th>\n",
       "      <td>4</td>\n",
       "      <td>0.036*\"water\" + 0.034*\"taste\" + 0.032*\"sugar\" + 0.026*\"flavor\" + 0.019*\"drink\" + 0.016*\"milk\" + 0.014*\"bottle\" + 0.013*\"cereal\" + 0.012*\"coconut\" + 0.011*\"protein\"</td>\n",
       "    </tr>\n",
       "  </tbody>\n",
       "</table>\n",
       "</div>"
      ],
      "text/plain": [
       "   0                                                                                                                                                                    1\n",
       "0  0  0.021*\"flavor\" + 0.016*\"taste\" + 0.015*\"amazon\" + 0.013*\"store\" + 0.013*\"price\" + 0.013*\"chocolate\" + 0.012*\"love\" + 0.012*\"time\" + 0.012*\"box\" + 0.011*\"bag\"      \n",
       "1  1  0.124*\"coffee\" + 0.043*\"cup\" + 0.028*\"flavor\" + 0.022*\"taste\" + 0.016*\"kcup\" + 0.012*\"blend\" + 0.011*\"price\" + 0.010*\"pod\" + 0.010*\"love\" + 0.010*\"bean\"           \n",
       "2  2  0.078*\"food\" + 0.034*\"cat\" + 0.031*\"dog\" + 0.012*\"day\" + 0.011*\"time\" + 0.011*\"year\" + 0.010*\"baby\" + 0.009*\"month\" + 0.009*\"brand\" + 0.009*\"ingredient\"           \n",
       "3  3  0.125*\"tea\" + 0.053*\"dog\" + 0.053*\"treat\" + 0.022*\"bag\" + 0.015*\"flavor\" + 0.015*\"time\" + 0.014*\"love\" + 0.010*\"chew\" + 0.010*\"day\" + 0.009*\"tooth\"                \n",
       "4  4  0.036*\"water\" + 0.034*\"taste\" + 0.032*\"sugar\" + 0.026*\"flavor\" + 0.019*\"drink\" + 0.016*\"milk\" + 0.014*\"bottle\" + 0.013*\"cereal\" + 0.012*\"coconut\" + 0.011*\"protein\""
      ]
     },
     "execution_count": 7,
     "metadata": {
      "tags": []
     },
     "output_type": "execute_result"
    }
   ],
   "source": [
    "# top_5_df.pkl file was created from Topic modelling juypternotebook after analyzing LDA\n",
    "top_5_topics = pd.read_pickle('/content/drive/My Drive/capstone3/amazon_review_analysis/Topic_modelling/model/top_5_df.pkl')\n",
    "top_5_topics"
   ]
  },
  {
   "cell_type": "code",
   "execution_count": 8,
   "metadata": {
    "colab": {
     "base_uri": "https://localhost:8080/",
     "height": 326,
     "resources": {
      "http://localhost:8080/nbextensions/google.colab/files.js": {
       "data": "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",
       "headers": [
        [
         "content-type",
         "application/javascript"
        ]
       ],
       "ok": true,
       "status": 200,
       "status_text": ""
      }
     }
    },
    "colab_type": "code",
    "id": "GINi6eBOD1fC",
    "outputId": "3eedb130-4961-41dd-881b-1ff810336ef7"
   },
   "outputs": [
    {
     "data": {
      "text/html": [
       "\n",
       "     <input type=\"file\" id=\"files-f299553e-8e17-409c-b2b7-24bf9d9b09d7\" name=\"files[]\" multiple disabled />\n",
       "     <output id=\"result-f299553e-8e17-409c-b2b7-24bf9d9b09d7\">\n",
       "      Upload widget is only available when the cell has been executed in the\n",
       "      current browser session. Please rerun this cell to enable.\n",
       "      </output>\n",
       "      <script src=\"/nbextensions/google.colab/files.js\"></script> "
      ],
      "text/plain": [
       "<IPython.core.display.HTML object>"
      ]
     },
     "metadata": {
      "tags": []
     },
     "output_type": "display_data"
    },
    {
     "name": "stdout",
     "output_type": "stream",
     "text": [
      "Saving 5_cluster.png to 5_cluster.png\n"
     ]
    },
    {
     "data": {
      "image/png": "[encoded data removed]",
      "text/plain": [
       "<Figure size 432x288 with 1 Axes>"
      ]
     },
     "metadata": {
      "tags": []
     },
     "output_type": "display_data"
    }
   ],
   "source": [
    "uploaded = files.upload()\n",
    "im = Image.open(BytesIO(uploaded['5_cluster.png']))\n",
    "plt.imshow(im)\n",
    "plt.show()\n"
   ]
  },
  {
   "cell_type": "markdown",
   "metadata": {
    "colab_type": "text",
    "id": "Oe_ibx3TetDk"
   },
   "source": [
    "After checking Topic modelling and Kmeans, I believe that 5 different clustering is the most appropriate\n",
    "\n",
    "# 5 Clustering is following:\n",
    "Cluster Index     Category\n",
    "   0.              Snack\n",
    "   1.              Coffee\n",
    "   3.              Pet Food\n",
    "   4.               Tea\n",
    "   5.             Water & Milk"
   ]
  },
  {
   "cell_type": "markdown",
   "metadata": {
    "colab_type": "text",
    "id": "jRm79dIdFJ77"
   },
   "source": [
    "** Classfy each product into 5 different category from KMeans**"
   ]
  },
  {
   "cell_type": "code",
   "execution_count": 9,
   "metadata": {
    "colab": {
     "base_uri": "https://localhost:8080/",
     "height": 34
    },
    "colab_type": "code",
    "id": "uPlUNar9qIPb",
    "outputId": "75bde3f6-197c-4fee-82e4-f4fbb1e61964"
   },
   "outputs": [
    {
     "name": "stdout",
     "output_type": "stream",
     "text": [
      "Duration:0:10:09.295342\n"
     ]
    }
   ],
   "source": [
    "start = datetime.now()\n",
    "prediction = {}\n",
    "for k in ks:\n",
    "  prediction[k] = KMeans(k, random_state=0).fit_predict(x)\n",
    "\n",
    "cluster_pre_df = pd.DataFrame(prediction)\n",
    "\n",
    "end = datetime.now()\n",
    "print('Duration:{}'.format(end-start))\n",
    "cluster_pre_df.columns = ['cluster_'+str(x) for x in cluster_pre_df.columns]\n",
    "cluster_pre_df.to_pickle('/content/drive/My Drive/capstone3/cluster_pre_df.pkl')"
   ]
  },
  {
   "cell_type": "code",
   "execution_count": 10,
   "metadata": {
    "colab": {
     "base_uri": "https://localhost:8080/",
     "height": 97
    },
    "colab_type": "code",
    "id": "0HZHc7Amd6iH",
    "outputId": "35631949-b4f9-472c-abfa-0b869d083015"
   },
   "outputs": [
    {
     "data": {
      "text/html": [
       "<div>\n",
       "<style scoped>\n",
       "    .dataframe tbody tr th:only-of-type {\n",
       "        vertical-align: middle;\n",
       "    }\n",
       "\n",
       "    .dataframe tbody tr th {\n",
       "        vertical-align: top;\n",
       "    }\n",
       "\n",
       "    .dataframe thead th {\n",
       "        text-align: right;\n",
       "    }\n",
       "</style>\n",
       "<table border=\"1\" class=\"dataframe\">\n",
       "  <thead>\n",
       "    <tr style=\"text-align: right;\">\n",
       "      <th></th>\n",
       "      <th>Id</th>\n",
       "      <th>ProductId</th>\n",
       "      <th>UserId</th>\n",
       "      <th>Score</th>\n",
       "      <th>cluster_5</th>\n",
       "      <th>data_lemmatized</th>\n",
       "      <th>Text</th>\n",
       "    </tr>\n",
       "  </thead>\n",
       "  <tbody>\n",
       "    <tr>\n",
       "      <th>0</th>\n",
       "      <td>491451</td>\n",
       "      <td>B005A1LH0Q</td>\n",
       "      <td>A2Z3EDGYBA75F5</td>\n",
       "      <td>4</td>\n",
       "      <td>2</td>\n",
       "      <td>['snack', 'amount', 'crunch', 'hint', 'cinnamon', 'flavor']</td>\n",
       "      <td>I was pleasantly surprised at these little snacks.  Thought sure they wouldn't fill me up, but they did.  Had just the right amount of crunch and a hint of cinnamon flavor that was not overpowering or bitter.</td>\n",
       "    </tr>\n",
       "  </tbody>\n",
       "</table>\n",
       "</div>"
      ],
      "text/plain": [
       "       Id   ProductId          UserId  Score  cluster_5                                              data_lemmatized                                                                                                                                                                                                              Text\n",
       "0  491451  B005A1LH0Q  A2Z3EDGYBA75F5  4      2          ['snack', 'amount', 'crunch', 'hint', 'cinnamon', 'flavor']  I was pleasantly surprised at these little snacks.  Thought sure they wouldn't fill me up, but they did.  Had just the right amount of crunch and a hint of cinnamon flavor that was not overpowering or bitter."
      ]
     },
     "execution_count": 10,
     "metadata": {
      "tags": []
     },
     "output_type": "execute_result"
    }
   ],
   "source": [
    "df = pd.read_csv('/content/drive/My Drive/capstone3/data/doc_train.csv')\n",
    "cluster_pre_df = pd.read_pickle('/content/drive/My Drive/capstone3/cluster_pre_df.pkl')\n",
    "new_df = pd.concat([df, cluster_pre_df], axis = 1)\n",
    "new_df = new_df[['Id', 'ProductId', 'UserId', 'Score', 'cluster_5','data_lemmatized', 'Text']]\n",
    "new_df.head(1)"
   ]
  },
  {
   "cell_type": "code",
   "execution_count": 11,
   "metadata": {
    "colab": {
     "base_uri": "https://localhost:8080/",
     "height": 68
    },
    "colab_type": "code",
    "id": "6ywd_hhfgSwO",
    "outputId": "cd66e676-01ae-44fa-f357-e67ebe9ffcfe"
   },
   "outputs": [
    {
     "name": "stdout",
     "output_type": "stream",
     "text": [
      "Number of unique users: 133285\n",
      "Number of unique id: 52852\n",
      "Number of score: 253370\n"
     ]
    }
   ],
   "source": [
    "print('Number of unique users: {}'.format(len(new_df['UserId'].value_counts())))\n",
    "print('Number of unique id: {}'.format(len(new_df['ProductId'].value_counts())))\n",
    "print('Number of score: {}'.format(new_df.shape[0]))"
   ]
  },
  {
   "cell_type": "markdown",
   "metadata": {
    "colab_type": "text",
    "id": "_2ebWju6FzUL"
   },
   "source": [
    "**Find the Top 20 items that received more than 100 reviews and also the highest average scores from those reviews**"
   ]
  },
  {
   "cell_type": "code",
   "execution_count": 0,
   "metadata": {
    "colab": {},
    "colab_type": "code",
    "id": "_iU3jMVThVw1"
   },
   "outputs": [],
   "source": [
    "# find best 10 items in each 5 category that had more than 300 reviews and then their average scores were above 4.5\n",
    "\n",
    "product_review_count = df['ProductId'].value_counts()"
   ]
  },
  {
   "cell_type": "code",
   "execution_count": 13,
   "metadata": {
    "colab": {
     "base_uri": "https://localhost:8080/",
     "height": 265
    },
    "colab_type": "code",
    "id": "Rm4I0WtyiZXF",
    "outputId": "c12fd20e-459e-46c8-a39d-b3f92a84371b"
   },
   "outputs": [
    {
     "data": {
      "image/png": "[encoded data removed]",
      "text/plain": [
       "<Figure size 432x288 with 1 Axes>"
      ]
     },
     "metadata": {
      "tags": []
     },
     "output_type": "display_data"
    }
   ],
   "source": [
    "plt.hist(product_review_count, bins = 20)\n",
    "plt.xlim(0,150);"
   ]
  },
  {
   "cell_type": "code",
   "execution_count": 14,
   "metadata": {
    "colab": {
     "base_uri": "https://localhost:8080/",
     "height": 221
    },
    "colab_type": "code",
    "id": "_BRoEDMRiHhC",
    "outputId": "ab58ba10-8b63-4ed2-d790-dc4ae80a6c45"
   },
   "outputs": [
    {
     "data": {
      "text/plain": [
       "B007JFMH8M    637\n",
       "B005K4Q4LK    401\n",
       "B003B3OOPA    399\n",
       "B005K4Q1YA    383\n",
       "B005K4Q34S    378\n",
       "             ... \n",
       "B002HQLY7S    101\n",
       "B000X1Q1G8    101\n",
       "B002LN1ME2    101\n",
       "B003SSWCJI    101\n",
       "B003EM7J9Q    101\n",
       "Name: ProductId, Length: 260, dtype: int64"
      ]
     },
     "execution_count": 14,
     "metadata": {
      "tags": []
     },
     "output_type": "execute_result"
    }
   ],
   "source": [
    "# find the items that have more than 100 reivews and scores\n",
    "product_index =product_review_count[product_review_count>  100]\n",
    "product_index"
   ]
  },
  {
   "cell_type": "code",
   "execution_count": 15,
   "metadata": {
    "colab": {
     "base_uri": "https://localhost:8080/",
     "height": 493
    },
    "colab_type": "code",
    "id": "WBwgntEuiw4U",
    "outputId": "9aed6940-b422-41d7-cdd9-798d8909b080"
   },
   "outputs": [
    {
     "data": {
      "text/html": [
       "<div>\n",
       "<style scoped>\n",
       "    .dataframe tbody tr th:only-of-type {\n",
       "        vertical-align: middle;\n",
       "    }\n",
       "\n",
       "    .dataframe tbody tr th {\n",
       "        vertical-align: top;\n",
       "    }\n",
       "\n",
       "    .dataframe thead th {\n",
       "        text-align: right;\n",
       "    }\n",
       "</style>\n",
       "<table border=\"1\" class=\"dataframe\">\n",
       "  <thead>\n",
       "    <tr style=\"text-align: right;\">\n",
       "      <th></th>\n",
       "      <th>ProductId</th>\n",
       "      <th>Score</th>\n",
       "      <th>cluster_5</th>\n",
       "      <th>data_lemmatized</th>\n",
       "      <th>Text</th>\n",
       "    </tr>\n",
       "  </thead>\n",
       "  <tbody>\n",
       "    <tr>\n",
       "      <th>1</th>\n",
       "      <td>B007PA32L2</td>\n",
       "      <td>5</td>\n",
       "      <td>0</td>\n",
       "      <td>['coffee', 'product', 'cup', 'price']</td>\n",
       "      <td>Great coffee, available only in the fall.  Have had it before and the Green Mountain products are good.  Would like to buy the K Cups at a lesser price.</td>\n",
       "    </tr>\n",
       "    <tr>\n",
       "      <th>6</th>\n",
       "      <td>B004FEN3GK</td>\n",
       "      <td>5</td>\n",
       "      <td>1</td>\n",
       "      <td>['packaging', 'package', 'cracker', 'ziplock_baggie', 'turn', 'softbr', 'stack', 'amount', 'bag', 'snacking', 'course', 'honey_maid', 'taste', 'yum']</td>\n",
       "      <td>Brilliant packaging! Rarely do we go through an entire package of the regular sized cracker, which means I have to find a ziplock baggie, and make sure they get eaten before they turn from crispy to soft.&lt;br /&gt;With these fresh stacks I get just the right amount, no worrying about them going stale, and they are so much easier to toss into the bag for on the go snacking. Plus, of course, the delicious honey maid taste. Yum!</td>\n",
       "    </tr>\n",
       "    <tr>\n",
       "      <th>11</th>\n",
       "      <td>B008GRONV6</td>\n",
       "      <td>5</td>\n",
       "      <td>2</td>\n",
       "      <td>['dog', 'longterm', 'medication', 'year', 'pill', 'cheese', 'meat', 'calorie', 'pill_pocket', 'love', 'medicine', 'battle', 'consistency', 'pill', 'use', 'twiceaday', 'medicine', 'time', 'training', 'time', 'treat', 'use', 'size', 'pill', 'bag', 'price', 'amazon', 'shipping', 'store', 'portion', 'pill_pocket', 'pill', 'calorie', 'medicine', 'hope']</td>\n",
       "      <td>One of our beloved dogs has seizures and is on long-term medication - and has been for a few years now. When we started giving her pills, we tried cheese, peanut butter, meat, etc... but I worried about the extra calories. Our vet recommended pill pockets and we LOVE them! She thinks it's a treat - so no medicine battles - and it is the perfect consistency so that the pills don't fall out and she can't just lick it off (like peanut butter). I use the twice-a-day medicine time as training time since these are treats to her! :-) It is super easy and we use the larger size and divide them in half for her smaller pills so the bag lasts longer. The price on Amazon (as long as I have free shipping) is GREAT and better than most pet stores. Because I can use a small portion of the pill pocket and it holds/hides the pill and she takes it greedily - I don't worry she's getting too many extra calories AND I KNOW she's getting her medicine! I hope they NEVER stop making them!</td>\n",
       "    </tr>\n",
       "    <tr>\n",
       "      <th>30</th>\n",
       "      <td>B007JFMH8M</td>\n",
       "      <td>4</td>\n",
       "      <td>0</td>\n",
       "      <td>['son', 'cookie', 'cookie', 'bit']</td>\n",
       "      <td>My 5 yr old son loved the cookies. I enjoyed it as well, I am just used to cookies being a bit sweeter.</td>\n",
       "    </tr>\n",
       "    <tr>\n",
       "      <th>32</th>\n",
       "      <td>B002GJ9JY6</td>\n",
       "      <td>5</td>\n",
       "      <td>3</td>\n",
       "      <td>['fatcalorie', 'contentbr', 'lowsalt', 'product', 'someone', 'house', 'balk', 'dash', 'honey', 'agave', 'work', 'texture', 'mix', 'jar', 'consistency', 'sugar', 'factory', 'seal', 'jar', 'trust', 'mebr', 'mix', 'spoon', 'bowl', 'pinch', 'usage', 'recipe', 'website', 'bell_plantation', 'chocolatepb', 'fan', 'spoon', 'cracker', 'bananaapple', 'slice', 'summerbr', 'storage', 'bit', 'shelf_life', 'projection', 'year', 'company', 'month', 'size', 'case', 'cost', 'website', 'shipping', 'purchase', 'cost', 'try', 'jar', 'container', 'company', 'purchase', 'product', 'price', 'pro', 'calorie', 'content', 'hand', 'dog', 'con', 'cost', 'portion_control', 'neededbr', 'change', 'life', 'craving']</td>\n",
       "      <td>I love high-octane peanut butter, but not the fat/calorie content.&lt;br /&gt;&lt;br /&gt;TASTE: If you are accustomed to low-salt or raw products, the taste will be fine. If someone in the house balks at the taste, you can toss in a dash of fine sea salt or honey (agave works well too). You could easily mix PB2 with PB to wean onto this gradually.&lt;br /&gt;&lt;br /&gt;TEXTURE: Mixes fast and is very smooth (surprisingly). From the jar, it's similar in consistency to powdered sugar. Open factory seal on jar carefully so it doesn't fly out (trust me).&lt;br /&gt;&lt;br /&gt;MIXING: Easily mixes using a small spoon or spatula in a gently sloping small bowl (I use a pinch bowl)&lt;br /&gt;&lt;br /&gt;USAGE: PB2 has recipes on their website (Bell Plantation) and they also sell a chocolate/pb product. I'm a fan of straight PB2 (a spoon by itself) but have had PB2 on crackers, sprinkled on banana/apple slices, and am looking forward to making homemade PB2 ice cream this summer.&lt;br /&gt;&lt;br /&gt;STORAGE: I was a bit disappointed at shelf life projection.  As a dry product, it should last for years but the company says 10-12 months unopened and 4-6 opened. I would prefer to buy the larger sizes or a case to save more.&lt;br /&gt;&lt;br /&gt;COST: It can be obtained cheaper elsewhere (like on the PB2 website) but I had free shipping purchases to offset the cost. I wanted to try just one jar before committing to a larger sized container from the company. If you purchase natural products, the price won't be such a shock.&lt;br /&gt;&lt;br /&gt;BIGGEST PROS: lower calorie and fat content - hands down the best. Dogs like it too ;)&lt;br /&gt;BIGGEST CONS: high cost and not a product you can 'make ahead' very successfully (though this could be considered a \"PRO\" because it helps with portion control. I make it as needed.&lt;br /&gt;&lt;br /&gt;This product will not change your life, but it will satisfy your peanut butter cravings.</td>\n",
       "    </tr>\n",
       "  </tbody>\n",
       "</table>\n",
       "</div>"
      ],
      "text/plain": [
       "     ProductId  Score  cluster_5                                                                                                                                                                                                                                                                                                                                                                                                                                                                                                                                                                                                                                                                                                        data_lemmatized                                                                                                                                                                                                                                                                                                                                                                                                                                                                                                                                                                                                                                                                                                                                                                                                                                                                                                                                                                                                                                                                                                                                                                                                                                                                                                                                                                                                                                                                                                                                                                                                                                                                                                                                                                                                                                                                                                                              Text\n",
       "1   B007PA32L2  5      0          ['coffee', 'product', 'cup', 'price']                                                                                                                                                                                                                                                                                                                                                                                                                                                                                                                                                                                                                                                                                  Great coffee, available only in the fall.  Have had it before and the Green Mountain products are good.  Would like to buy the K Cups at a lesser price.                                                                                                                                                                                                                                                                                                                                                                                                                                                                                                                                                                                                                                                                                                                                                                                                                                                                                                                                                                                                                                                                                                                                                                                                                                                                                                                                                                                                                                                                                                                                                                                                                                                                                                                                                                        \n",
       "6   B004FEN3GK  5      1          ['packaging', 'package', 'cracker', 'ziplock_baggie', 'turn', 'softbr', 'stack', 'amount', 'bag', 'snacking', 'course', 'honey_maid', 'taste', 'yum']                                                                                                                                                                                                                                                                                                                                                                                                                                                                                                                                                                  Brilliant packaging! Rarely do we go through an entire package of the regular sized cracker, which means I have to find a ziplock baggie, and make sure they get eaten before they turn from crispy to soft.<br />With these fresh stacks I get just the right amount, no worrying about them going stale, and they are so much easier to toss into the bag for on the go snacking. Plus, of course, the delicious honey maid taste. Yum!                                                                                                                                                                                                                                                                                                                                                                                                                                                                                                                                                                                                                                                                                                                                                                                                                                                                                                                                                                                                                                                                                                                                                                                                                                                                                                                                                                                                                                                                                       \n",
       "11  B008GRONV6  5      2          ['dog', 'longterm', 'medication', 'year', 'pill', 'cheese', 'meat', 'calorie', 'pill_pocket', 'love', 'medicine', 'battle', 'consistency', 'pill', 'use', 'twiceaday', 'medicine', 'time', 'training', 'time', 'treat', 'use', 'size', 'pill', 'bag', 'price', 'amazon', 'shipping', 'store', 'portion', 'pill_pocket', 'pill', 'calorie', 'medicine', 'hope']                                                                                                                                                                                                                                                                                                                                                         One of our beloved dogs has seizures and is on long-term medication - and has been for a few years now. When we started giving her pills, we tried cheese, peanut butter, meat, etc... but I worried about the extra calories. Our vet recommended pill pockets and we LOVE them! She thinks it's a treat - so no medicine battles - and it is the perfect consistency so that the pills don't fall out and she can't just lick it off (like peanut butter). I use the twice-a-day medicine time as training time since these are treats to her! :-) It is super easy and we use the larger size and divide them in half for her smaller pills so the bag lasts longer. The price on Amazon (as long as I have free shipping) is GREAT and better than most pet stores. Because I can use a small portion of the pill pocket and it holds/hides the pill and she takes it greedily - I don't worry she's getting too many extra calories AND I KNOW she's getting her medicine! I hope they NEVER stop making them!                                                                                                                                                                                                                                                                                                                                                                                                                                                                                                                                                                                                                                                                                                                                                                                                                                                                                                             \n",
       "30  B007JFMH8M  4      0          ['son', 'cookie', 'cookie', 'bit']                                                                                                                                                                                                                                                                                                                                                                                                                                                                                                                                                                                                                                                                                     My 5 yr old son loved the cookies. I enjoyed it as well, I am just used to cookies being a bit sweeter.                                                                                                                                                                                                                                                                                                                                                                                                                                                                                                                                                                                                                                                                                                                                                                                                                                                                                                                                                                                                                                                                                                                                                                                                                                                                                                                                                                                                                                                                                                                                                                                                                                                                                                                                                                                                                         \n",
       "32  B002GJ9JY6  5      3          ['fatcalorie', 'contentbr', 'lowsalt', 'product', 'someone', 'house', 'balk', 'dash', 'honey', 'agave', 'work', 'texture', 'mix', 'jar', 'consistency', 'sugar', 'factory', 'seal', 'jar', 'trust', 'mebr', 'mix', 'spoon', 'bowl', 'pinch', 'usage', 'recipe', 'website', 'bell_plantation', 'chocolatepb', 'fan', 'spoon', 'cracker', 'bananaapple', 'slice', 'summerbr', 'storage', 'bit', 'shelf_life', 'projection', 'year', 'company', 'month', 'size', 'case', 'cost', 'website', 'shipping', 'purchase', 'cost', 'try', 'jar', 'container', 'company', 'purchase', 'product', 'price', 'pro', 'calorie', 'content', 'hand', 'dog', 'con', 'cost', 'portion_control', 'neededbr', 'change', 'life', 'craving']  I love high-octane peanut butter, but not the fat/calorie content.<br /><br />TASTE: If you are accustomed to low-salt or raw products, the taste will be fine. If someone in the house balks at the taste, you can toss in a dash of fine sea salt or honey (agave works well too). You could easily mix PB2 with PB to wean onto this gradually.<br /><br />TEXTURE: Mixes fast and is very smooth (surprisingly). From the jar, it's similar in consistency to powdered sugar. Open factory seal on jar carefully so it doesn't fly out (trust me).<br /><br />MIXING: Easily mixes using a small spoon or spatula in a gently sloping small bowl (I use a pinch bowl)<br /><br />USAGE: PB2 has recipes on their website (Bell Plantation) and they also sell a chocolate/pb product. I'm a fan of straight PB2 (a spoon by itself) but have had PB2 on crackers, sprinkled on banana/apple slices, and am looking forward to making homemade PB2 ice cream this summer.<br /><br />STORAGE: I was a bit disappointed at shelf life projection.  As a dry product, it should last for years but the company says 10-12 months unopened and 4-6 opened. I would prefer to buy the larger sizes or a case to save more.<br /><br />COST: It can be obtained cheaper elsewhere (like on the PB2 website) but I had free shipping purchases to offset the cost. I wanted to try just one jar before committing to a larger sized container from the company. If you purchase natural products, the price won't be such a shock.<br /><br />BIGGEST PROS: lower calorie and fat content - hands down the best. Dogs like it too ;)<br />BIGGEST CONS: high cost and not a product you can 'make ahead' very successfully (though this could be considered a \"PRO\" because it helps with portion control. I make it as needed.<br /><br />This product will not change your life, but it will satisfy your peanut butter cravings."
      ]
     },
     "execution_count": 15,
     "metadata": {
      "tags": []
     },
     "output_type": "execute_result"
    }
   ],
   "source": [
    "selected_df=new_df[new_df['ProductId'].isin(product_index.index)][['ProductId','Score', 'cluster_5', 'data_lemmatized', 'Text']]\n",
    "selected_df.head(5)"
   ]
  },
  {
   "cell_type": "code",
   "execution_count": 16,
   "metadata": {
    "colab": {
     "base_uri": "https://localhost:8080/",
     "height": 442
    },
    "colab_type": "code",
    "id": "UPQuXGQ-sh7J",
    "outputId": "7b980735-9d2e-4b55-ccdc-452e209570b9"
   },
   "outputs": [
    {
     "data": {
      "text/plain": [
       "{0: Index(['B000GAT6NG', 'B001E8DHPW', 'B00474CSVE', 'B007TJGZ18', 'B005GX8MMO',\n",
       "        'B003QDRJXY', 'B001EO5Q64', 'B000NMJWZO', 'B008BY7NSE', 'B007R900WA',\n",
       "        'B001BS4G6O', 'B003FDC2I2', 'B003B3OOPA', 'B00451WLYI', 'B000QSON4K',\n",
       "        'B00438XVGU', 'B0049ULB78', 'B0032CB15Q', 'B003D4F1QS', 'B0030VJ70K'],\n",
       "       dtype='object', name='ProductId'),\n",
       " 1: Index(['B005K4Q34S', 'B004JRXZKM', 'B001E8DHPW', 'B000UBD88A', 'B001ELL60W',\n",
       "        'B007PA30TG', 'B005V9UG18', 'B007R900WA', 'B000PDY3HI', 'B005K4Q1VI',\n",
       "        'B002LN1ME2', 'B007TJGZ18', 'B000NMJWZO', 'B0013A0QXC', 'B0034EDLS2',\n",
       "        'B0034EDMCW', 'B001D0DMMY', 'B0034EFIYC', 'B000GAT6NG', 'B003G52BN0'],\n",
       "       dtype='object', name='ProductId'),\n",
       " 2: Index(['B004EAGP74', 'B003QDRJXY', 'B007R900WA', 'B001ELL60W', 'B004P4POZ8',\n",
       "        'B000GAT6NG', 'B000NMJWZO', 'B008BY7O9W', 'B003B3OOPA', 'B001E8DHPW',\n",
       "        'B009E7YC54', 'B0030VBQ5Y', 'B002HQLY7S', 'B0030VBPN2', 'B008BY7NSE',\n",
       "        'B0043WOANY', 'B00954NY46', 'B003D4F1QS', 'B0030VJ70K', 'B003D4MW38'],\n",
       "       dtype='object', name='ProductId'),\n",
       " 3: Index(['B008JKTTUA', 'B004EAGP74', 'B004779XNW', 'B000NMJWZO', 'B003QNLUTI',\n",
       "        'B004OVWQDA', 'B000GAT6NG', 'B001EO5Q64', 'B0030VJ79Q', 'B0030VBQ5Y',\n",
       "        'B003QDRJXY', 'B005DFL4PM', 'B008BY7O9W', 'B007TGDXMU', 'B006N3I3I4',\n",
       "        'B001ELL60W', 'B00954NY46', 'B000BRR8VQ', 'B007R900WA', 'B005GRCWDU'],\n",
       "       dtype='object', name='ProductId'),\n",
       " 4: Index(['B000NMJWZO', 'B004EAGP74', 'B0030VJ70K', 'B001M2BM4I', 'B001E8DHPW',\n",
       "        'B002LN1ME2', 'B003QDRJXY', 'B000OQ2DL4', 'B001EYUE5M', 'B001EO5Y8Y',\n",
       "        'B006N3I29E', 'B0034EFIYC', 'B007R900WA', 'B003QNJYXM', 'B007PA30ZU',\n",
       "        'B0030VJ79Q', 'B003B3OOPA', 'B001EO5Q64', 'B003Z6W32E', 'B0032CB15Q'],\n",
       "       dtype='object', name='ProductId')}"
      ]
     },
     "execution_count": 16,
     "metadata": {
      "tags": []
     },
     "output_type": "execute_result"
    }
   ],
   "source": [
    "# after selecting the items that have more than 100 reviews and then subsetting the dataset for each cluster, with that subset of dataset find the items that have top 20 average scores\n",
    "recommend_item = {}\n",
    "recommend_item_scores = {}\n",
    "num = [0,1,2,3,4]\n",
    "\n",
    "for i in num:\n",
    "  sub_selected_df = selected_df[selected_df['cluster_5']==i]\n",
    "  item_scores=sub_selected_df.groupby('ProductId')['Score'].mean().sort_values(ascending = False).iloc[:20]\n",
    "  recommend_item_scores[i] = item_scores\n",
    "  item_index = item_scores.index\n",
    "  recommend_item[i] = item_index[:20]\n",
    "recommend_item"
   ]
  },
  {
   "cell_type": "code",
   "execution_count": 17,
   "metadata": {
    "colab": {
     "base_uri": "https://localhost:8080/",
     "height": 1000
    },
    "colab_type": "code",
    "id": "U7POr6D8_Gtp",
    "outputId": "03093a81-03a9-4aa5-a293-8d79801fcb88"
   },
   "outputs": [
    {
     "data": {
      "text/plain": [
       "{0: ProductId\n",
       " B000GAT6NG    4.868421\n",
       " B001E8DHPW    4.810811\n",
       " B00474CSVE    4.806452\n",
       " B007TJGZ18    4.800000\n",
       " B005GX8MMO    4.777778\n",
       " B003QDRJXY    4.770833\n",
       " B001EO5Q64    4.770115\n",
       " B000NMJWZO    4.766667\n",
       " B008BY7NSE    4.763636\n",
       " B007R900WA    4.760870\n",
       " B001BS4G6O    4.741935\n",
       " B003FDC2I2    4.725490\n",
       " B003B3OOPA    4.723577\n",
       " B00451WLYI    4.722222\n",
       " B000QSON4K    4.718750\n",
       " B00438XVGU    4.716981\n",
       " B0049ULB78    4.714286\n",
       " B0032CB15Q    4.705882\n",
       " B003D4F1QS    4.692308\n",
       " B0030VJ70K    4.689655\n",
       " Name: Score, dtype: float64, 1: ProductId\n",
       " B005K4Q34S    5.0\n",
       " B004JRXZKM    5.0\n",
       " B001E8DHPW    5.0\n",
       " B000UBD88A    5.0\n",
       " B001ELL60W    5.0\n",
       " B007PA30TG    5.0\n",
       " B005V9UG18    5.0\n",
       " B007R900WA    5.0\n",
       " B000PDY3HI    5.0\n",
       " B005K4Q1VI    5.0\n",
       " B002LN1ME2    5.0\n",
       " B007TJGZ18    5.0\n",
       " B000NMJWZO    5.0\n",
       " B0013A0QXC    5.0\n",
       " B0034EDLS2    5.0\n",
       " B0034EDMCW    5.0\n",
       " B001D0DMMY    5.0\n",
       " B0034EFIYC    5.0\n",
       " B000GAT6NG    5.0\n",
       " B003G52BN0    5.0\n",
       " Name: Score, dtype: float64, 2: ProductId\n",
       " B004EAGP74    4.971429\n",
       " B003QDRJXY    4.952381\n",
       " B007R900WA    4.909091\n",
       " B001ELL60W    4.851064\n",
       " B004P4POZ8    4.846154\n",
       " B000GAT6NG    4.843750\n",
       " B000NMJWZO    4.826923\n",
       " B008BY7O9W    4.800000\n",
       " B003B3OOPA    4.781250\n",
       " B001E8DHPW    4.771429\n",
       " B009E7YC54    4.765957\n",
       " B0030VBQ5Y    4.761905\n",
       " B002HQLY7S    4.756098\n",
       " B0030VBPN2    4.755556\n",
       " B008BY7NSE    4.754717\n",
       " B0043WOANY    4.750000\n",
       " B00954NY46    4.743590\n",
       " B003D4F1QS    4.730159\n",
       " B0030VJ70K    4.702128\n",
       " B003D4MW38    4.692308\n",
       " Name: Score, dtype: float64, 3: ProductId\n",
       " B008JKTTUA    5.000000\n",
       " B004EAGP74    5.000000\n",
       " B004779XNW    5.000000\n",
       " B000NMJWZO    5.000000\n",
       " B003QNLUTI    4.909091\n",
       " B004OVWQDA    4.909091\n",
       " B000GAT6NG    4.904762\n",
       " B001EO5Q64    4.900000\n",
       " B0030VJ79Q    4.866667\n",
       " B0030VBQ5Y    4.866667\n",
       " B003QDRJXY    4.863636\n",
       " B005DFL4PM    4.857143\n",
       " B008BY7O9W    4.857143\n",
       " B007TGDXMU    4.857143\n",
       " B006N3I3I4    4.857143\n",
       " B001ELL60W    4.851852\n",
       " B00954NY46    4.833333\n",
       " B000BRR8VQ    4.800000\n",
       " B007R900WA    4.800000\n",
       " B005GRCWDU    4.789474\n",
       " Name: Score, dtype: float64, 4: ProductId\n",
       " B000NMJWZO    4.944444\n",
       " B004EAGP74    4.851852\n",
       " B0030VJ70K    4.848485\n",
       " B001M2BM4I    4.829268\n",
       " B001E8DHPW    4.827586\n",
       " B002LN1ME2    4.812500\n",
       " B003QDRJXY    4.782609\n",
       " B000OQ2DL4    4.760000\n",
       " B001EYUE5M    4.756757\n",
       " B001EO5Y8Y    4.756757\n",
       " B006N3I29E    4.756757\n",
       " B0034EFIYC    4.755102\n",
       " B007R900WA    4.750000\n",
       " B003QNJYXM    4.750000\n",
       " B007PA30ZU    4.744186\n",
       " B0030VJ79Q    4.738095\n",
       " B003B3OOPA    4.729323\n",
       " B001EO5Q64    4.725000\n",
       " B003Z6W32E    4.711538\n",
       " B0032CB15Q    4.711111\n",
       " Name: Score, dtype: float64}"
      ]
     },
     "execution_count": 17,
     "metadata": {
      "tags": []
     },
     "output_type": "execute_result"
    }
   ],
   "source": [
    "recommend_item_scores"
   ]
  },
  {
   "cell_type": "code",
   "execution_count": 0,
   "metadata": {
    "colab": {},
    "colab_type": "code",
    "id": "haplghVdSM6T"
   },
   "outputs": [],
   "source": [
    "documents = [TaggedDocument(doc, [i]) for i, doc in enumerate(df['data_lemmatized'])]"
   ]
  },
  {
   "cell_type": "code",
   "execution_count": 19,
   "metadata": {
    "colab": {
     "base_uri": "https://localhost:8080/",
     "height": 71
    },
    "colab_type": "code",
    "id": "YAJAVEC8LtgS",
    "outputId": "b2f33fbe-7f9c-4fd4-a44e-102f08dcb5fa"
   },
   "outputs": [
    {
     "name": "stderr",
     "output_type": "stream",
     "text": [
      "/usr/local/lib/python3.6/dist-packages/smart_open/smart_open_lib.py:402: UserWarning: This function is deprecated, use smart_open.open instead. See the migration notes for details: https://github.com/RaRe-Technologies/smart_open/blob/master/README.rst#migrating-to-the-new-open-function\n",
      "  'See the migration notes for details: %s' % _MIGRATION_NOTES_URL\n"
     ]
    }
   ],
   "source": [
    "# load the Doc2vec model, corpus, dct created from topic modelling juypternotebook\n",
    "model = Doc2Vec.load('/content/drive/My Drive/capstone3/doc2vec.model')\n",
    "corpus = pickle.load(open('/content/drive/My Drive/capstone3/data/corpus.pkl', 'rb'))\n",
    "dct = corpora.Dictionary.load('/content/drive/My Drive/capstone3/dct.gensim')"
   ]
  },
  {
   "cell_type": "code",
   "execution_count": 0,
   "metadata": {
    "colab": {},
    "colab_type": "code",
    "id": "vbpZt1ibUttw"
   },
   "outputs": [],
   "source": [
    "# since I decide that 5 topic is appropriate, I will use 5 for num_topics in LsiModel  \n",
    "lsi = models.LsiModel(corpus, id2word = dct, num_topics = 5)"
   ]
  },
  {
   "cell_type": "code",
   "execution_count": 21,
   "metadata": {
    "colab": {
     "base_uri": "https://localhost:8080/",
     "height": 34
    },
    "colab_type": "code",
    "id": "OvYzmq-EVC1C",
    "outputId": "e3cd8807-913f-4ee5-9c0e-7c296678fe62"
   },
   "outputs": [
    {
     "name": "stdout",
     "output_type": "stream",
     "text": [
      "[(0, 0.5391487786836722), (1, -0.5895068483493694), (2, -0.4410888755184868), (3, -0.273213356268446), (4, -0.011305201677400355)]\n"
     ]
    }
   ],
   "source": [
    "# to check whether 5 number of topics does make sense. \n",
    "#cluster -> coffee # 1 \n",
    "doc = 'coffee is delicious'\n",
    "vec_bow= dct.doc2bow(doc.lower().split())\n",
    "vec_lsi = lsi[vec_bow]\n",
    "print(vec_lsi)"
   ]
  },
  {
   "cell_type": "code",
   "execution_count": 22,
   "metadata": {
    "colab": {
     "base_uri": "https://localhost:8080/",
     "height": 34
    },
    "colab_type": "code",
    "id": "rJwGoFFIVYGv",
    "outputId": "899f83df-7ec0-4cb7-8723-e89f4c548d57"
   },
   "outputs": [
    {
     "name": "stdout",
     "output_type": "stream",
     "text": [
      "[(0, 0.3158774281897218), (1, -0.08915242281917958), (2, 0.8446979857324276), (3, -0.40967664103857176), (4, -0.02254821473477592)]\n"
     ]
    }
   ],
   "source": [
    "# cluster -> tea # 3\n",
    "doc1 = 'tea tastes lemon'\n",
    "vec_bow1= dct.doc2bow(doc1.lower().split())\n",
    "vec_lsi1 = lsi[vec_bow1]\n",
    "print(vec_lsi1)"
   ]
  },
  {
   "cell_type": "code",
   "execution_count": 23,
   "metadata": {
    "colab": {
     "base_uri": "https://localhost:8080/",
     "height": 34
    },
    "colab_type": "code",
    "id": "v2pfV07HVmdE",
    "outputId": "6189a6e0-beb5-48e6-f733-93f04820c69d"
   },
   "outputs": [
    {
     "name": "stdout",
     "output_type": "stream",
     "text": [
      "[(0, 0.1977584470030295), (1, 0.3655643650734001), (2, -0.1265616181025953), (3, -0.07724257682016328), (4, -0.7181133470756499)]\n"
     ]
    }
   ],
   "source": [
    "# cluster -> dog & cat food #2\n",
    "doc2 = 'My dog loves jerkey'\n",
    "vec_bow2= dct.doc2bow(doc2.lower().split())\n",
    "vec_lsi2 = lsi[vec_bow2]\n",
    "print(vec_lsi2)"
   ]
  },
  {
   "cell_type": "code",
   "execution_count": 24,
   "metadata": {
    "colab": {
     "base_uri": "https://localhost:8080/",
     "height": 34
    },
    "colab_type": "code",
    "id": "z7Rom8HsXFNw",
    "outputId": "58a57dba-ec8b-48f7-aa49-8df539707022"
   },
   "outputs": [
    {
     "name": "stdout",
     "output_type": "stream",
     "text": [
      "[(0, 0.0683768318875696), (1, 0.03744766166356227), (2, 0.00815943478645547), (3, 0.17604078188790226), (4, -0.003906969875101689)]\n"
     ]
    }
   ],
   "source": [
    "# cluster -> mile & water & cereal # 4\n",
    "doc3 = 'protein bar is not bad'\n",
    "vec_bow3= dct.doc2bow(doc3.lower().split())\n",
    "vec_lsi3 = lsi[vec_bow3]\n",
    "print(vec_lsi3)"
   ]
  },
  {
   "cell_type": "code",
   "execution_count": 25,
   "metadata": {
    "colab": {
     "base_uri": "https://localhost:8080/",
     "height": 71
    },
    "colab_type": "code",
    "id": "syentpyXZLdQ",
    "outputId": "96c77492-4555-46fa-dd7b-9dc927284a05"
   },
   "outputs": [
    {
     "name": "stderr",
     "output_type": "stream",
     "text": [
      "/usr/local/lib/python3.6/dist-packages/smart_open/smart_open_lib.py:402: UserWarning: This function is deprecated, use smart_open.open instead. See the migration notes for details: https://github.com/RaRe-Technologies/smart_open/blob/master/README.rst#migrating-to-the-new-open-function\n",
      "  'See the migration notes for details: %s' % _MIGRATION_NOTES_URL\n"
     ]
    }
   ],
   "source": [
    "# Initailizing Query Structres\n",
    "#index = similarities.MatrixSimilarity(lsi[corpus])\n",
    "\n",
    "#index.save('/content/drive/My Drive/capstone3/corpus_index.index')\n",
    "index = similarities.MatrixSimilarity.load('/content/drive/My Drive/capstone3/corpus_index.index')"
   ]
  },
  {
   "cell_type": "markdown",
   "metadata": {
    "colab_type": "text",
    "id": "chrI4h2k_Se6"
   },
   "source": [
    "**Recommend System**"
   ]
  },
  {
   "cell_type": "code",
   "execution_count": 26,
   "metadata": {
    "colab": {
     "base_uri": "https://localhost:8080/",
     "height": 102
    },
    "colab_type": "code",
    "id": "Na4bmMQ6auhT",
    "outputId": "de3248e7-ad53-4475-9b33-a854d522c743"
   },
   "outputs": [
    {
     "data": {
      "text/plain": [
       "Index(['B004EAGP74', 'B003QDRJXY', 'B007R900WA', 'B001ELL60W', 'B004P4POZ8',\n",
       "       'B000GAT6NG', 'B000NMJWZO', 'B008BY7O9W', 'B003B3OOPA', 'B001E8DHPW',\n",
       "       'B009E7YC54', 'B0030VBQ5Y', 'B002HQLY7S', 'B0030VBPN2', 'B008BY7NSE',\n",
       "       'B0043WOANY', 'B00954NY46', 'B003D4F1QS', 'B0030VJ70K', 'B003D4MW38'],\n",
       "      dtype='object', name='ProductId')"
      ]
     },
     "execution_count": 26,
     "metadata": {
      "tags": []
     },
     "output_type": "execute_result"
    }
   ],
   "source": [
    "# new words as an input to find the item\n",
    "# vec_lsi was 'coffee is delicious'\n",
    "sims = index[vec_lsi]\n",
    "result = list(enumerate(sims))\n",
    "item_index = np.argmax([v[1] for i, v in enumerate(result)])\n",
    "cluster_num=new_df.iloc[item_index]['cluster_5']\n",
    "\n",
    "\n",
    "re_item = recommend_item[cluster_num]\n",
    "re_item"
   ]
  },
  {
   "cell_type": "code",
   "execution_count": 0,
   "metadata": {
    "colab": {},
    "colab_type": "code",
    "id": "YJOoDOd3R6H8"
   },
   "outputs": [],
   "source": [
    "# load the Doc2vec model, corpus, dct created from topic modelling juypternotebook\n",
    "#model = Doc2Vec.load('/content/drive/My Drive/capstone3/doc2vec.model')\n",
    "#corpus = pickle.load(open('/content/drive/My Drive/capstone3/data/corpus.pkl', 'rb'))\n",
    "#dct = corpora.Dictionary.load('/content/drive/My Drive/capstone3/dct.gensim')\n",
    "\n",
    "def find_items(string):\n",
    "  vec_bow= dct.doc2bow(string.lower().split())\n",
    "  vec_lsi = lsi[vec_bow]\n",
    "  sims = index[vec_lsi]\n",
    "  result = list(enumerate(sims))\n",
    "  item_index = np.argmax([v[1] for i, v in enumerate(result)])\n",
    "  cluster_num=new_df.iloc[item_index]['cluster_5']\n",
    "\n",
    "  re_item = recommend_item[cluster_num]\n",
    "  return (cluster_num, re_item)"
   ]
  },
  {
   "cell_type": "code",
   "execution_count": 28,
   "metadata": {
    "colab": {
     "base_uri": "https://localhost:8080/",
     "height": 119
    },
    "colab_type": "code",
    "id": "MUTU_pj-GivR",
    "outputId": "5d09ed14-5b2a-4a3a-d501-dafd5103eca2"
   },
   "outputs": [
    {
     "data": {
      "text/plain": [
       "(0,\n",
       " Index(['B000GAT6NG', 'B001E8DHPW', 'B00474CSVE', 'B007TJGZ18', 'B005GX8MMO',\n",
       "        'B003QDRJXY', 'B001EO5Q64', 'B000NMJWZO', 'B008BY7NSE', 'B007R900WA',\n",
       "        'B001BS4G6O', 'B003FDC2I2', 'B003B3OOPA', 'B00451WLYI', 'B000QSON4K',\n",
       "        'B00438XVGU', 'B0049ULB78', 'B0032CB15Q', 'B003D4F1QS', 'B0030VJ70K'],\n",
       "       dtype='object', name='ProductId'))"
      ]
     },
     "execution_count": 28,
     "metadata": {
      "tags": []
     },
     "output_type": "execute_result"
    }
   ],
   "source": [
    "find_items('dark chocolate')"
   ]
  },
  {
   "cell_type": "code",
   "execution_count": 29,
   "metadata": {
    "colab": {
     "base_uri": "https://localhost:8080/",
     "height": 119
    },
    "colab_type": "code",
    "id": "PSvpliqxGwgh",
    "outputId": "80b94f4f-71ca-4d6c-abb8-30bfb5b68fea"
   },
   "outputs": [
    {
     "data": {
      "text/plain": [
       "(2,\n",
       " Index(['B004EAGP74', 'B003QDRJXY', 'B007R900WA', 'B001ELL60W', 'B004P4POZ8',\n",
       "        'B000GAT6NG', 'B000NMJWZO', 'B008BY7O9W', 'B003B3OOPA', 'B001E8DHPW',\n",
       "        'B009E7YC54', 'B0030VBQ5Y', 'B002HQLY7S', 'B0030VBPN2', 'B008BY7NSE',\n",
       "        'B0043WOANY', 'B00954NY46', 'B003D4F1QS', 'B0030VJ70K', 'B003D4MW38'],\n",
       "       dtype='object', name='ProductId'))"
      ]
     },
     "execution_count": 29,
     "metadata": {
      "tags": []
     },
     "output_type": "execute_result"
    }
   ],
   "source": [
    "find_items('which dog food is great')"
   ]
  },
  {
   "cell_type": "code",
   "execution_count": 0,
   "metadata": {
    "colab": {},
    "colab_type": "code",
    "id": "66WYMm2xG1ce"
   },
   "outputs": [],
   "source": []
  }
 ],
 "metadata": {
  "accelerator": "GPU",
  "colab": {
   "collapsed_sections": [],
   "machine_shape": "hm",
   "name": "Clustering_final.ipynb",
   "provenance": []
  },
  "kernelspec": {
   "display_name": "Python 3",
   "language": "python",
   "name": "python3"
  },
  "language_info": {
   "codemirror_mode": {
    "name": "ipython",
    "version": 3
   },
   "file_extension": ".py",
   "mimetype": "text/x-python",
   "name": "python",
   "nbconvert_exporter": "python",
   "pygments_lexer": "ipython3",
   "version": "3.7.6"
  }
 },
 "nbformat": 4,
 "nbformat_minor": 1
}
