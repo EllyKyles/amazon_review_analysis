{
 "cells": [
  {
   "cell_type": "code",
   "execution_count": 0,
   "metadata": {
    "colab": {},
    "colab_type": "code",
    "id": "whh7NpY7f2uX"
   },
   "outputs": [],
   "source": [
    "import pandas as pd\n",
    "import numpy as np\n",
    "import matplotlib.pyplot as plt\n",
    "from pprint import pprint\n",
    "%matplotlib inline\n",
    "\n",
    "from sklearn.feature_extraction.text import CountVectorizer\n",
    "pd.set_option('display.expand_frame_repr', False)\n",
    "pd.set_option('display.max_colwidth', -1)\n",
    "\n",
    "# Gensim\n",
    "import gensim\n",
    "import gensim.corpora as corpora\n",
    "from gensim.utils import simple_preprocess\n",
    "from gensim.models import CoherenceModel\n",
    "from gensim.test.utils import common_texts\n",
    "from gensim.models.doc2vec import Doc2Vec, TaggedDocument\n",
    "import spacy\n",
    "import re\n",
    "import string\n",
    "from textblob import TextBlob\n",
    "import seaborn as sns\n",
    "plt.style.use('ggplot')\n",
    "font = {'weight' : 'bold',\n",
    "        'size'   : 14}\n",
    "plt.rc('font', **font)"
   ]
  },
  {
   "cell_type": "code",
   "execution_count": 0,
   "metadata": {
    "colab": {},
    "colab_type": "code",
    "id": "Ozpf4x50mhA-"
   },
   "outputs": [],
   "source": [
    "# Get topic weights and dominant topics ------------\n",
    "from sklearn.manifold import TSNE\n",
    "from bokeh.plotting import figure, output_file, show\n",
    "from bokeh.models import Label\n",
    "from bokeh.io import output_notebook\n",
    "import matplotlib.colors as mcolors"
   ]
  },
  {
   "cell_type": "code",
   "execution_count": 0,
   "metadata": {
    "colab": {},
    "colab_type": "code",
    "id": "XjasWz4XQaEc"
   },
   "outputs": [],
   "source": [
    "from datetime import datetime\n",
    "from gensim.models import word2vec"
   ]
  },
  {
   "cell_type": "code",
   "execution_count": 0,
   "metadata": {
    "colab": {},
    "colab_type": "code",
    "id": "vR9MDEFR109-"
   },
   "outputs": [],
   "source": [
    "!pip install pyLDAvis"
   ]
  },
  {
   "cell_type": "code",
   "execution_count": 0,
   "metadata": {
    "colab": {},
    "colab_type": "code",
    "id": "_2foRSV82KGq"
   },
   "outputs": [],
   "source": [
    "import pyLDAvis.gensim\n"
   ]
  },
  {
   "cell_type": "code",
   "execution_count": 0,
   "metadata": {
    "colab": {
     "base_uri": "https://localhost:8080/",
     "height": 51
    },
    "colab_type": "code",
    "id": "HHc2--mXf2uk",
    "outputId": "bddfc25b-1893-4e15-ef3a-c6fb5c9d4a62"
   },
   "outputs": [
    {
     "name": "stdout",
     "output_type": "stream",
     "text": [
      "[nltk_data] Downloading package stopwords to /root/nltk_data...\n",
      "[nltk_data]   Unzipping corpora/stopwords.zip.\n"
     ]
    }
   ],
   "source": [
    "from nltk.corpus import stopwords\n",
    "import nltk\n",
    "nltk.download('stopwords')\n",
    "stop_words = stopwords.words('english')\n",
    "stop_words.extend(['br', 'ive', 'gery', 'one', 'product']) #<<- keep updating stop_words if there are unneccessary words whenever checking text "
   ]
  },
  {
   "cell_type": "code",
   "execution_count": 0,
   "metadata": {
    "colab": {},
    "colab_type": "code",
    "id": "qNFZXlFpIsFW"
   },
   "outputs": [],
   "source": [
    "from google.colab import files\n",
    "from io import BytesIO\n",
    "from PIL import Image"
   ]
  },
  {
   "cell_type": "code",
   "execution_count": 0,
   "metadata": {
    "colab": {
     "base_uri": "https://localhost:8080/",
     "height": 122
    },
    "colab_type": "code",
    "id": "ocIXVFFAhSC0",
    "outputId": "f7edaca3-cbf0-4d44-d53c-1f2cefeef826"
   },
   "outputs": [
    {
     "name": "stdout",
     "output_type": "stream",
     "text": [
      "Go to this URL in a browser: https://accounts.google.com/o/oauth2/auth?client_id=947318989803-6bn6qk8qdgf4n4g3pfee6491hc0brc4i.apps.googleusercontent.com&redirect_uri=urn%3aietf%3awg%3aoauth%3a2.0%3aoob&response_type=code&scope=email%20https%3a%2f%2fwww.googleapis.com%2fauth%2fdocs.test%20https%3a%2f%2fwww.googleapis.com%2fauth%2fdrive%20https%3a%2f%2fwww.googleapis.com%2fauth%2fdrive.photos.readonly%20https%3a%2f%2fwww.googleapis.com%2fauth%2fpeopleapi.readonly\n",
      "\n",
      "Enter your authorization code:\n",
      "··········\n",
      "Mounted at /content/drive\n"
     ]
    }
   ],
   "source": [
    "from google.colab import drive\n",
    "drive.mount('/content/drive')"
   ]
  },
  {
   "cell_type": "code",
   "execution_count": 0,
   "metadata": {
    "colab": {},
    "colab_type": "code",
    "id": "Ahha8WoVlQEd"
   },
   "outputs": [],
   "source": [
    "df = pd.read_csv('/content/drive/My Drive/capstone3/data/doc_train.csv')"
   ]
  },
  {
   "cell_type": "code",
   "execution_count": 0,
   "metadata": {
    "colab": {
     "base_uri": "https://localhost:8080/",
     "height": 406
    },
    "colab_type": "code",
    "id": "zmkmb3cuitm0",
    "outputId": "691634a6-0beb-4720-f93f-92dc62d40d5f"
   },
   "outputs": [
    {
     "data": {
      "text/html": [
       "<div>\n",
       "<style scoped>\n",
       "    .dataframe tbody tr th:only-of-type {\n",
       "        vertical-align: middle;\n",
       "    }\n",
       "\n",
       "    .dataframe tbody tr th {\n",
       "        vertical-align: top;\n",
       "    }\n",
       "\n",
       "    .dataframe thead th {\n",
       "        text-align: right;\n",
       "    }\n",
       "</style>\n",
       "<table border=\"1\" class=\"dataframe\">\n",
       "  <thead>\n",
       "    <tr style=\"text-align: right;\">\n",
       "      <th></th>\n",
       "      <th>Unnamed: 0</th>\n",
       "      <th>Id</th>\n",
       "      <th>ProductId</th>\n",
       "      <th>UserId</th>\n",
       "      <th>ProfileName</th>\n",
       "      <th>HelpfulnessNumerator</th>\n",
       "      <th>HelpfulnessDenominator</th>\n",
       "      <th>Score</th>\n",
       "      <th>Time</th>\n",
       "      <th>Summary</th>\n",
       "      <th>Text</th>\n",
       "      <th>clean_text</th>\n",
       "      <th>token_words</th>\n",
       "      <th>join_token</th>\n",
       "      <th>Date</th>\n",
       "      <th>year</th>\n",
       "      <th>words_count</th>\n",
       "      <th>unique_words</th>\n",
       "      <th>new_token_words</th>\n",
       "      <th>data_lemmatized</th>\n",
       "      <th>polarity</th>\n",
       "      <th>subjectivity</th>\n",
       "      <th>doc2vec_vector_0</th>\n",
       "      <th>doc2vec_vector_1</th>\n",
       "      <th>doc2vec_vector_2</th>\n",
       "      <th>doc2vec_vector_3</th>\n",
       "      <th>doc2vec_vector_4</th>\n",
       "      <th>doc2vec_vector_5</th>\n",
       "      <th>doc2vec_vector_6</th>\n",
       "      <th>doc2vec_vector_7</th>\n",
       "      <th>doc2vec_vector_8</th>\n",
       "      <th>doc2vec_vector_9</th>\n",
       "    </tr>\n",
       "  </thead>\n",
       "  <tbody>\n",
       "    <tr>\n",
       "      <th>0</th>\n",
       "      <td>491450</td>\n",
       "      <td>491451</td>\n",
       "      <td>B005A1LH0Q</td>\n",
       "      <td>A2Z3EDGYBA75F5</td>\n",
       "      <td>Jeanne R. Michon</td>\n",
       "      <td>2</td>\n",
       "      <td>2</td>\n",
       "      <td>4</td>\n",
       "      <td>1322611200</td>\n",
       "      <td>Great snack</td>\n",
       "      <td>I was pleasantly surprised at these little snacks.  Thought sure they wouldn't fill me up, but they did.  Had just the right amount of crunch and a hint of cinnamon flavor that was not overpowering or bitter.</td>\n",
       "      <td>i was pleasantly surprised at these little snacks  thought sure they wouldnt fill me up but they did  had just the right amount of crunch and a hint of cinnamon flavor that was not overpowering or bitter</td>\n",
       "      <td>['pleasantli', 'surpris', 'littl', 'snack', 'thought', 'sure', 'wouldnt', 'fill', 'right', 'amount', 'crunch', 'hint', 'cinnamon', 'flavor', 'overpow', 'bitter']</td>\n",
       "      <td>pleasantli surpris littl snack thought sure wouldnt fill right amount crunch hint cinnamon flavor overpow bitter</td>\n",
       "      <td>2011-11-30</td>\n",
       "      <td>2011</td>\n",
       "      <td>37</td>\n",
       "      <td>16</td>\n",
       "      <td>pleasantli surpris littl snack thought sure wouldnt fill right amount crunch hint cinnamon flavor overpow bitter</td>\n",
       "      <td>['snack', 'amount', 'crunch', 'hint', 'cinnamon', 'flavor']</td>\n",
       "      <td>0.119643</td>\n",
       "      <td>0.664921</td>\n",
       "      <td>-0.093459</td>\n",
       "      <td>0.010824</td>\n",
       "      <td>0.044514</td>\n",
       "      <td>0.019727</td>\n",
       "      <td>-0.061364</td>\n",
       "      <td>0.016364</td>\n",
       "      <td>-0.032123</td>\n",
       "      <td>0.031593</td>\n",
       "      <td>0.025646</td>\n",
       "      <td>0.013055</td>\n",
       "    </tr>\n",
       "  </tbody>\n",
       "</table>\n",
       "</div>"
      ],
      "text/plain": [
       "   Unnamed: 0      Id   ProductId          UserId       ProfileName  HelpfulnessNumerator  HelpfulnessDenominator  Score        Time      Summary                                                                                                                                                                                                              Text                                                                                                                                                                                                   clean_text                                                                                                                                                        token_words                                                                                                        join_token        Date  year  words_count  unique_words                                                                                                   new_token_words                                              data_lemmatized  polarity  subjectivity  doc2vec_vector_0  doc2vec_vector_1  doc2vec_vector_2  doc2vec_vector_3  doc2vec_vector_4  doc2vec_vector_5  doc2vec_vector_6  doc2vec_vector_7  doc2vec_vector_8  doc2vec_vector_9\n",
       "0  491450      491451  B005A1LH0Q  A2Z3EDGYBA75F5  Jeanne R. Michon  2                     2                       4      1322611200  Great snack  I was pleasantly surprised at these little snacks.  Thought sure they wouldn't fill me up, but they did.  Had just the right amount of crunch and a hint of cinnamon flavor that was not overpowering or bitter.  i was pleasantly surprised at these little snacks  thought sure they wouldnt fill me up but they did  had just the right amount of crunch and a hint of cinnamon flavor that was not overpowering or bitter  ['pleasantli', 'surpris', 'littl', 'snack', 'thought', 'sure', 'wouldnt', 'fill', 'right', 'amount', 'crunch', 'hint', 'cinnamon', 'flavor', 'overpow', 'bitter']  pleasantli surpris littl snack thought sure wouldnt fill right amount crunch hint cinnamon flavor overpow bitter  2011-11-30  2011  37           16            pleasantli surpris littl snack thought sure wouldnt fill right amount crunch hint cinnamon flavor overpow bitter  ['snack', 'amount', 'crunch', 'hint', 'cinnamon', 'flavor']  0.119643  0.664921     -0.093459          0.010824          0.044514          0.019727         -0.061364          0.016364         -0.032123          0.031593          0.025646          0.013055        "
      ]
     },
     "execution_count": 7,
     "metadata": {
      "tags": []
     },
     "output_type": "execute_result"
    }
   ],
   "source": [
    "df.head(1)"
   ]
  },
  {
   "cell_type": "markdown",
   "metadata": {
    "colab_type": "text",
    "id": "GPLs8airmEIm"
   },
   "source": [
    "# New Section"
   ]
  },
  {
   "cell_type": "code",
   "execution_count": 0,
   "metadata": {
    "colab": {
     "base_uri": "https://localhost:8080/",
     "height": 170
    },
    "colab_type": "code",
    "id": "PDq6O0lNf2uz",
    "outputId": "d22af3e1-d79f-4270-95f3-879deb0d2a4a"
   },
   "outputs": [
    {
     "data": {
      "text/plain": [
       "Index(['Unnamed: 0', 'Id', 'ProductId', 'UserId', 'ProfileName',\n",
       "       'HelpfulnessNumerator', 'HelpfulnessDenominator', 'Score', 'Time',\n",
       "       'Summary', 'Text', 'clean_text', 'token_words', 'join_token', 'Date',\n",
       "       'year', 'words_count', 'unique_words', 'new_token_words',\n",
       "       'data_lemmatized', 'polarity', 'subjectivity', 'doc2vec_vector_0',\n",
       "       'doc2vec_vector_1', 'doc2vec_vector_2', 'doc2vec_vector_3',\n",
       "       'doc2vec_vector_4', 'doc2vec_vector_5', 'doc2vec_vector_6',\n",
       "       'doc2vec_vector_7', 'doc2vec_vector_8', 'doc2vec_vector_9'],\n",
       "      dtype='object')"
      ]
     },
     "execution_count": 8,
     "metadata": {
      "tags": []
     },
     "output_type": "execute_result"
    }
   ],
   "source": [
    "df.columns"
   ]
  },
  {
   "cell_type": "code",
   "execution_count": 0,
   "metadata": {
    "colab": {
     "base_uri": "https://localhost:8080/",
     "height": 68
    },
    "colab_type": "code",
    "id": "GLjTkoREf2vx",
    "outputId": "621791f7-3e47-4da3-fc15-dd3baac75b05"
   },
   "outputs": [
    {
     "name": "stdout",
     "output_type": "stream",
     "text": [
      "['i was pleasantly surprised at these little snacks  thought sure they wouldnt '\n",
      " 'fill me up but they did  had just the right amount of crunch and a hint of '\n",
      " 'cinnamon flavor that was not overpowering or bitter']\n"
     ]
    }
   ],
   "source": [
    "data = df.clean_text.values.tolist()\n",
    "\n",
    "pprint(data[:1])"
   ]
  },
  {
   "cell_type": "code",
   "execution_count": 0,
   "metadata": {
    "colab": {
     "base_uri": "https://localhost:8080/",
     "height": 54
    },
    "colab_type": "code",
    "id": "eX5qfMPof2v5",
    "outputId": "e6d9b94e-5f5d-44c3-ffee-ae681b8c94ab"
   },
   "outputs": [
    {
     "name": "stdout",
     "output_type": "stream",
     "text": [
      "[['was', 'pleasantly', 'surprised', 'at', 'these', 'little', 'snacks', 'thought', 'sure', 'they', 'wouldnt', 'fill', 'me', 'up', 'but', 'they', 'did', 'had', 'just', 'the', 'right', 'amount', 'of', 'crunch', 'and', 'hint', 'of', 'cinnamon', 'flavor', 'that', 'was', 'not', 'overpowering', 'or', 'bitter']]\n"
     ]
    }
   ],
   "source": [
    "def sent_to_words(sentences):\n",
    "    for sentence in sentences:\n",
    "        yield(gensim.utils.simple_preprocess(str(sentence), deacc=True))  # deacc=True removes punctuations\n",
    "\n",
    "data_words = list(sent_to_words(data))\n",
    "\n",
    "print(data_words[:1])"
   ]
  },
  {
   "cell_type": "code",
   "execution_count": 0,
   "metadata": {
    "colab": {
     "base_uri": "https://localhost:8080/",
     "height": 88
    },
    "colab_type": "code",
    "id": "WEKcaODDf2v-",
    "outputId": "3817da26-dffc-485d-bea4-7244f85aff3e"
   },
   "outputs": [
    {
     "name": "stderr",
     "output_type": "stream",
     "text": [
      "/usr/local/lib/python3.6/dist-packages/gensim/models/phrases.py:598: UserWarning: For a faster implementation, use the gensim.models.phrases.Phraser class\n",
      "  warnings.warn(\"For a faster implementation, use the gensim.models.phrases.Phraser class\")\n"
     ]
    },
    {
     "name": "stdout",
     "output_type": "stream",
     "text": [
      "['was', 'pleasantly_surprised', 'at', 'these', 'little', 'snacks', 'thought', 'sure', 'they', 'wouldnt', 'fill', 'me', 'up', 'but', 'they', 'did', 'had', 'just', 'the', 'right', 'amount', 'of', 'crunch', 'and', 'hint', 'of', 'cinnamon', 'flavor', 'that', 'was', 'not', 'overpowering', 'or', 'bitter']\n"
     ]
    }
   ],
   "source": [
    "# Build the bigram and trigram models\n",
    "bigram = gensim.models.Phrases(data_words, min_count=5, threshold=100) # higher threshold fewer phrases.\n",
    "trigram = gensim.models.Phrases(bigram[data_words], threshold=100)  \n",
    "\n",
    "# Faster way to get a sentence clubbed as a trigram/bigram\n",
    "bigram_mod = gensim.models.phrases.Phraser(bigram)\n",
    "trigram_mod = gensim.models.phrases.Phraser(trigram)\n",
    "\n",
    "# See trigram example\n",
    "print(trigram_mod[bigram_mod[data_words[0]]])"
   ]
  },
  {
   "cell_type": "code",
   "execution_count": 0,
   "metadata": {
    "colab": {},
    "colab_type": "code",
    "id": "4lI0MDsxf2wB"
   },
   "outputs": [],
   "source": [
    "# Define functions for stopwords, bigrams, trigrams and lemmatization\n",
    "def remove_stopwords(texts):\n",
    "    return [[word for word in simple_preprocess(str(doc)) if word not in stop_words] for doc in texts]\n",
    "\n",
    "def make_bigrams(texts):\n",
    "    return [bigram_mod[doc] for doc in texts]\n",
    "\n",
    "def make_trigrams(texts):\n",
    "    return [trigram_mod[bigram_mod[doc]] for doc in texts]\n",
    "\n",
    "def lemmatization(texts, allowed_postags=['NOUN', 'ADJ', 'VERB', 'ADV']):\n",
    "    \"\"\"https://spacy.io/api/annotation\"\"\"\n",
    "    texts_out = []\n",
    "    for sent in texts:\n",
    "        doc = nlp(\" \".join(sent)) \n",
    "        texts_out.append([token.lemma_ for token in doc if token.pos_ in allowed_postags])\n",
    "    return texts_out"
   ]
  },
  {
   "cell_type": "code",
   "execution_count": 0,
   "metadata": {
    "colab": {},
    "colab_type": "code",
    "id": "USPvx5B0f2wF"
   },
   "outputs": [],
   "source": [
    "# Remove Stop Words\n",
    "data_words_nostops = remove_stopwords(data_words)\n",
    "\n",
    "# Form Bigrams\n",
    "data_words_bigrams = make_bigrams(data_words_nostops)\n",
    "\n",
    "# Initialize spacy 'en' model, keeping only tagger component (for efficiency)\n",
    "\n",
    "nlp = spacy.load('en', disable=['parser', 'ner'])"
   ]
  },
  {
   "cell_type": "code",
   "execution_count": 0,
   "metadata": {
    "colab": {
     "base_uri": "https://localhost:8080/",
     "height": 51
    },
    "colab_type": "code",
    "id": "EdItxmd-f2wI",
    "outputId": "d6e6be4a-bc76-490b-889e-4dbb26f051f1"
   },
   "outputs": [
    {
     "name": "stdout",
     "output_type": "stream",
     "text": [
      "Duration:0:16:34.928726\n",
      "[['snack', 'amount', 'crunch', 'hint', 'cinnamon', 'flavor']]\n"
     ]
    }
   ],
   "source": [
    "start = datetime.now()\n",
    "data_lemmatized = lemmatization(data_words_bigrams, allowed_postags=['NOUN'])\n",
    "end = datetime.now()\n",
    "print('Duration:{}'.format(end-start))\n",
    "print(data_lemmatized[:1])"
   ]
  },
  {
   "cell_type": "code",
   "execution_count": 0,
   "metadata": {
    "colab": {},
    "colab_type": "code",
    "id": "fqL9WZHLJr5h"
   },
   "outputs": [],
   "source": [
    "with open('/content/drive/My Drive/capstone3/data_lemmatized.txt', 'w') as file_handler:\n",
    "    for item in data_lemmatized:\n",
    "        file_handler.write(\"{}\\n\".format(item))"
   ]
  },
  {
   "cell_type": "code",
   "execution_count": 0,
   "metadata": {
    "colab": {},
    "colab_type": "code",
    "id": "Us-8D4yxf2wN"
   },
   "outputs": [],
   "source": [
    "df['data_lemmatized'] = np.array(data_lemmatized)"
   ]
  },
  {
   "cell_type": "code",
   "execution_count": 0,
   "metadata": {
    "colab": {
     "base_uri": "https://localhost:8080/",
     "height": 224
    },
    "colab_type": "code",
    "id": "QYy9M207f2wQ",
    "outputId": "f4a02fca-a855-4787-af88-2b957cf70444"
   },
   "outputs": [
    {
     "data": {
      "text/plain": [
       "0    [snack, amount, crunch, hint, cinnamon, flavor]                                                                                                                                                                                                                                                                                                                                                                                      \n",
       "1    [coffee, product, cup, price]                                                                                                                                                                                                                                                                                                                                                                                                        \n",
       "2    [item, bulldog, stuff, price, shipping, recommend, dog, lover, dog, treat]                                                                                                                                                                                                                                                                                                                                                           \n",
       "3    [catnipmist, couple, review, cost, field, oil, rejuvenator, truebr, smartykat, catnipmist, cat, walked_away, field, oil, rejuvenator, cat, sniff, roll, wrestle, downside, star, star, field, pay, forbr, cat, cost, cat, stick, field, oil, rejuvenator]                                                                                                                                                                            \n",
       "4    [let, water, bottle, amazon, account, review, term, money, idea, prop]                                                                                                                                                                                                                                                                                                                                                               \n",
       "5    [world, soup, product, wolf_gang, puck, line, chunkys, world, reminder, society, selfview, gender, hegemony, imagine, puck, realm, home, cookinbr, disappointment, dumpling, cube, flavorless, dough, confinement, liberation, conformity, broth, thickness, lack, substancea, soup, progresso, wedding, campbell, select, case, food, barrel, cream, chickenbr, bust, head, chef, superego, allure, capitalism, ego, tabasco, lunch]\n",
       "6    [packaging, package, cracker, ziplock_baggie, turn, softbr, stack, amount, bag, snacking, course, honey_maid, taste, yum]                                                                                                                                                                                                                                                                                                            \n",
       "7    [tea, find, bag, taste]                                                                                                                                                                                                                                                                                                                                                                                                              \n",
       "8    [cereal, familybr, bite, size, kid, bowl, milk, miniwheat, size, eat, texture, cinnamon, roll, flavor, sort, way, cinnamon, roll, bit, frosted_miniwheat, nothing, miniwheatsbr, variety, source, fiber, milk, lot, debris, cereal, bottom, box]                                                                                                                                                                                     \n",
       "9    [dog, toy, size, anticipation, something, shih_tzu, afternoon, standpoint, toy, success, hour, toy, nab, treat, disk, ltsigh, something, buddy]                                                                                                                                                                                                                                                                                      \n",
       "Name: data_lemmatized, dtype: object"
      ]
     },
     "execution_count": 19,
     "metadata": {
      "tags": []
     },
     "output_type": "execute_result"
    }
   ],
   "source": [
    "df['data_lemmatized'].iloc[:10]"
   ]
  },
  {
   "cell_type": "code",
   "execution_count": 0,
   "metadata": {
    "colab": {},
    "colab_type": "code",
    "id": "1r2YQt84f2wW"
   },
   "outputs": [],
   "source": [
    "dct = corpora.Dictionary(simple_preprocess(line, deacc=True) for line in open('/content/drive/My Drive/capstone3/clean_text.txt'))"
   ]
  },
  {
   "cell_type": "code",
   "execution_count": 0,
   "metadata": {
    "colab": {
     "base_uri": "https://localhost:8080/",
     "height": 34
    },
    "colab_type": "code",
    "id": "7XRPJBoGf2wb",
    "outputId": "34c1a49e-96af-460d-f2cd-3964236ae5aa"
   },
   "outputs": [
    {
     "name": "stdout",
     "output_type": "stream",
     "text": [
      "Duaration: 0:00:05.932671\n"
     ]
    }
   ],
   "source": [
    "start = datetime.now()\n",
    "corpus = [dct.doc2bow(line) for line in np.array(data_lemmatized)]\n",
    "end = datetime.now()\n",
    "print('Duaration: {}'.format(end-start))"
   ]
  },
  {
   "cell_type": "code",
   "execution_count": 0,
   "metadata": {
    "colab": {},
    "colab_type": "code",
    "id": "pGeGOGfu_Day"
   },
   "outputs": [],
   "source": [
    "import pickle\n",
    "pickle.dump(corpus, open('/content/drive/My Drive/capstone3/corpus.pkl', 'wb'))\n",
    "dct.save('/content/drive/My Drive/capstone3/dct.gensim')"
   ]
  },
  {
   "cell_type": "code",
   "execution_count": 0,
   "metadata": {
    "colab": {
     "base_uri": "https://localhost:8080/",
     "height": 71
    },
    "colab_type": "code",
    "id": "0IybKhOmLjPe",
    "outputId": "4ab85815-4a7c-4ba0-bcb9-b3ff9165b323"
   },
   "outputs": [
    {
     "name": "stderr",
     "output_type": "stream",
     "text": [
      "/usr/local/lib/python3.6/dist-packages/smart_open/smart_open_lib.py:402: UserWarning: This function is deprecated, use smart_open.open instead. See the migration notes for details: https://github.com/RaRe-Technologies/smart_open/blob/master/README.rst#migrating-to-the-new-open-function\n",
      "  'See the migration notes for details: %s' % _MIGRATION_NOTES_URL\n"
     ]
    }
   ],
   "source": [
    "dct = corpora.Dictionary.load('/content/drive/My Drive/capstone3/dct.gensim')\n",
    "corpus = pickle.load(open('/content/drive/My Drive/capstone3/data/corpus.pkl', 'rb'))\n",
    "\n",
    "start = datetime.now()\n",
    "documents = [TaggedDocument(doc, [i]) for i, doc in enumerate(df['data_lemmatized'])]\n",
    "# train a Doc2Vec model with our text data\n",
    "model = Doc2Vec(documents, vector_size=200, window=7, min_count=5, workers=4)\n",
    "model.save('/content/drive/My Drive/capstone3/doc2vec.model')\n",
    "# transform each document into a vector data\n",
    "doc2vec_df = df[\"data_lemmatized\"].apply(lambda x: model.infer_vector(x)).apply(pd.Series)\n",
    "doc2vec_df.columns = [\"doc2vec_\" + str(x) for x in doc2vec_df.columns]"
   ]
  },
  {
   "cell_type": "code",
   "execution_count": 0,
   "metadata": {
    "colab": {
     "base_uri": "https://localhost:8080/",
     "height": 547
    },
    "colab_type": "code",
    "id": "Hv7ztT6KLJ7E",
    "outputId": "95b4874f-e2bd-4923-cc29-b5e1882ced15"
   },
   "outputs": [
    {
     "data": {
      "text/plain": [
       "[TaggedDocument(words=\"['snack', 'amount', 'crunch', 'hint', 'cinnamon', 'flavor']\", tags=[0]),\n",
       " TaggedDocument(words=\"['coffee', 'product', 'cup', 'price']\", tags=[1]),\n",
       " TaggedDocument(words=\"['item', 'bulldog', 'stuff', 'price', 'shipping', 'recommend', 'dog', 'lover', 'dog', 'treat']\", tags=[2]),\n",
       " TaggedDocument(words=\"['catnipmist', 'couple', 'review', 'cost', 'field', 'oil', 'rejuvenator', 'truebr', 'smartykat', 'catnipmist', 'cat', 'walked_away', 'field', 'oil', 'rejuvenator', 'cat', 'sniff', 'roll', 'wrestle', 'downside', 'star', 'star', 'field', 'pay', 'forbr', 'cat', 'cost', 'cat', 'stick', 'field', 'oil', 'rejuvenator']\", tags=[3]),\n",
       " TaggedDocument(words=\"['let', 'water', 'bottle', 'amazon', 'account', 'review', 'term', 'money', 'idea', 'prop']\", tags=[4]),\n",
       " TaggedDocument(words=\"['world', 'soup', 'product', 'wolf_gang', 'puck', 'line', 'chunkys', 'world', 'reminder', 'society', 'selfview', 'gender', 'hegemony', 'imagine', 'puck', 'realm', 'home', 'cookinbr', 'disappointment', 'dumpling', 'cube', 'flavorless', 'dough', 'confinement', 'liberation', 'conformity', 'broth', 'thickness', 'lack', 'substancea', 'soup', 'progresso', 'wedding', 'campbell', 'select', 'case', 'food', 'barrel', 'cream', 'chickenbr', 'bust', 'head', 'chef', 'superego', 'allure', 'capitalism', 'ego', 'tabasco', 'lunch']\", tags=[5]),\n",
       " TaggedDocument(words=\"['packaging', 'package', 'cracker', 'ziplock_baggie', 'turn', 'softbr', 'stack', 'amount', 'bag', 'snacking', 'course', 'honey_maid', 'taste', 'yum']\", tags=[6]),\n",
       " TaggedDocument(words=\"['tea', 'find', 'bag', 'taste']\", tags=[7]),\n",
       " TaggedDocument(words=\"['cereal', 'familybr', 'bite', 'size', 'kid', 'bowl', 'milk', 'miniwheat', 'size', 'eat', 'texture', 'cinnamon', 'roll', 'flavor', 'sort', 'way', 'cinnamon', 'roll', 'bit', 'frosted_miniwheat', 'nothing', 'miniwheatsbr', 'variety', 'source', 'fiber', 'milk', 'lot', 'debris', 'cereal', 'bottom', 'box']\", tags=[8]),\n",
       " TaggedDocument(words=\"['dog', 'toy', 'size', 'anticipation', 'something', 'shih_tzu', 'afternoon', 'standpoint', 'toy', 'success', 'hour', 'toy', 'nab', 'treat', 'disk', 'ltsigh', 'something', 'buddy']\", tags=[9]),\n",
       " TaggedDocument(words=\"['biscuit', 'bubble_wrap', 'put', 'boxi', 'biscuita', 'pack', 'biscuit']\", tags=[10]),\n",
       " TaggedDocument(words=\"['dog', 'longterm', 'medication', 'year', 'pill', 'cheese', 'meat', 'calorie', 'pill_pocket', 'love', 'medicine', 'battle', 'consistency', 'pill', 'use', 'twiceaday', 'medicine', 'time', 'training', 'time', 'treat', 'use', 'size', 'pill', 'bag', 'price', 'amazon', 'shipping', 'store', 'portion', 'pill_pocket', 'pill', 'calorie', 'medicine', 'hope']\", tags=[11]),\n",
       " TaggedDocument(words=\"['mound', 'bar', 'kid', 'decade', 'year', 'desire', 'recipe', 'lot', 'ingredient', 'preservative', 'way', 'day', 'bar', 'remember', 'lot']\", tags=[12]),\n",
       " TaggedDocument(words=\"['fan', 'kraft', 'sea', 'something', 'decade', 'west_coast', 'kraft', 'sea', 'wine', 'vinaigrette', 'order', 'case', 'stuff', 'adultbr', 'color', 'color', 'dozen', 'wine', 'vinaigrette', 'recipe', 'nothing', 'version']\", tags=[13]),\n",
       " TaggedDocument(words=\"['huskyshepherd', 'tract', 'issue', 'rectum', 'guy', 'drug', 'prescription_alergydogfood', 'solve', 'itbr', 'eagle_pack', 'dog', 'racer', 'breed', 'pack', 'brand', 'name', 'productbr', 'bloodydiarrhea_pooch', 'energy', 'ingredient', 'top_notchbr', 'food', 'issue']\", tags=[14]),\n",
       " TaggedDocument(words=\"['someone', 'earl_grey', 'sensationalism', 'marketing_ploy', 'tea', 'bergamot', 'flavor', 'earl_grey', 'price', 'one', 'teabag', 'earl_greya', 'price', 'stash', 'price', 'performance', 'course', 'lot', 'tea', 'silk_sachet', 'performer', 'category', 'tea']\", tags=[15]),\n",
       " TaggedDocument(words=\"['candy', 'machine', 'customer_service', 'apple', 'gumball', 'party', 'thank', 'candy', 'machine']\", tags=[16]),\n",
       " TaggedDocument(words=\"['love', 'time', 'time', 'chocolate', 'caramel']\", tags=[17]),\n",
       " TaggedDocument(words=\"['love', 'date', 'taste', 'crunchy', 'salt']\", tags=[18]),\n",
       " TaggedDocument(words=\"['research', 'coconut', 'oil', 'dementia', 'parkinsons_disease', 'search', 'newport', 'information']\", tags=[19]),\n",
       " TaggedDocument(words=\"['parent', 'lollipop', 'year', 'treat', 'child', 'grandchild', 'tradition', 'thank']\", tags=[20]),\n",
       " TaggedDocument(words=\"['vanilla', 'chocolate', 'version', 'power', 'crunch', 'bar', 'cookie', 'cream', 'flavor', 'sugar', 'reason', 'job', 'cc', 'notbr', 'drink', 'drink', 'something', 'filmy', 'coating', 'roof', 'mouth', 'flavor', 'hunger', 'hour', 'gastric_distress', 'bar', 'flavor', 'flavor', 'bite', 'morning', 'coffeebr', 'crave', 'sweet', 'power', 'crunch', 'bar', 'sugar', 'substitute', 'sugar', 'tooth', 'pass']\", tags=[21]),\n",
       " TaggedDocument(words=\"['star', 'report', 'study', 'research', 'formula', 'diego']\", tags=[22]),\n",
       " TaggedDocument(words=\"['couple', 'site', 'chest_congestion', 'use', 'breastfeeding', 'empty_stomache', 'help', 'congestion', 'allergy', 'difference', 'chest_congestion', 'drank', 'cup', 'day', 'result', 'dose', 'smell', 'alot', 'maple_syrup', 'day', 'tea', 'mix', 'honey', 'taste', 'smell', 'year', 'breastfeeding', 'son', 'site', 'nurse', 'time', 'day', 'use', 'somebody']\", tags=[23]),\n",
       " TaggedDocument(words=\"['morning', 'fiber', 'acid', 'day']\", tags=[24]),\n",
       " TaggedDocument(words=\"['flavor', 'drink', 'morning', 'hydration', 'love', 'seed', 'leave', 'fun', 'drink', 'taste', 'love', 'sugar', 'time', 'something', 'omega', 'combat', 'inflammation', 'source', 'benefit', 'fiber', 'content', 'antioxidantsi', 'anyone', 'market']\", tags=[25]),\n",
       " TaggedDocument(words=\"['sugar', 'date', 'flavor', 'ingredient', 'comprising', 'sugarsbar', 'snack', 'flavor', 'flavor', 'hazelnut', 'variety', 'expectation']\", tags=[26]),\n",
       " TaggedDocument(words=\"['rib', 'emeril', 'bayou', 'blast', 'pork_chop', 'shot', 'rib', 'time', 'trial', 'error', 'bam', 'emeril', 'rib', 'overpower', 'meat', 'saltiness', 'couple', 'rib', 'complement', 'meat', 'saltlick', 'thank_goodness', 'couple', 'hour', 'people']\", tags=[27]),\n",
       " TaggedDocument(words=\"['tea', 'light', 'jasmine', 'tea', 'scent', 'flower', 'beautifullike', 'carnation', 'photo', 'bloom']\", tags=[28]),\n",
       " TaggedDocument(words=\"['product', 'luck', 'shipment', 'one', 'brownie', 'crunch', 'one', 'condition', 'guess', 'someplace', 'chocolate', 'coating', 'melt', 'chocolate', 'flake', 'imprint', 'wrapper', 'someplace', 'mess', 'look']\", tags=[29])]"
      ]
     },
     "execution_count": 14,
     "metadata": {
      "tags": []
     },
     "output_type": "execute_result"
    }
   ],
   "source": [
    "documents[:30]"
   ]
  },
  {
   "cell_type": "markdown",
   "metadata": {
    "colab_type": "text",
    "id": "3XkErb6uMAEi"
   },
   "source": [
    "**Doc2Vec - used for clustering in clustering juypter notebook**\n"
   ]
  },
  {
   "cell_type": "code",
   "execution_count": 0,
   "metadata": {
    "colab": {
     "base_uri": "https://localhost:8080/",
     "height": 439
    },
    "colab_type": "code",
    "id": "uyWIDIDoNKIg",
    "outputId": "8293b259-7edd-40bc-955c-5e9efaebc2d1"
   },
   "outputs": [
    {
     "data": {
      "text/html": [
       "<div>\n",
       "<style scoped>\n",
       "    .dataframe tbody tr th:only-of-type {\n",
       "        vertical-align: middle;\n",
       "    }\n",
       "\n",
       "    .dataframe tbody tr th {\n",
       "        vertical-align: top;\n",
       "    }\n",
       "\n",
       "    .dataframe thead th {\n",
       "        text-align: right;\n",
       "    }\n",
       "</style>\n",
       "<table border=\"1\" class=\"dataframe\">\n",
       "  <thead>\n",
       "    <tr style=\"text-align: right;\">\n",
       "      <th></th>\n",
       "      <th>doc2vec_0</th>\n",
       "      <th>doc2vec_1</th>\n",
       "      <th>doc2vec_2</th>\n",
       "      <th>doc2vec_3</th>\n",
       "      <th>doc2vec_4</th>\n",
       "      <th>doc2vec_5</th>\n",
       "      <th>doc2vec_6</th>\n",
       "      <th>doc2vec_7</th>\n",
       "      <th>doc2vec_8</th>\n",
       "      <th>doc2vec_9</th>\n",
       "      <th>doc2vec_10</th>\n",
       "      <th>doc2vec_11</th>\n",
       "      <th>doc2vec_12</th>\n",
       "      <th>doc2vec_13</th>\n",
       "      <th>doc2vec_14</th>\n",
       "      <th>doc2vec_15</th>\n",
       "      <th>doc2vec_16</th>\n",
       "      <th>doc2vec_17</th>\n",
       "      <th>doc2vec_18</th>\n",
       "      <th>doc2vec_19</th>\n",
       "      <th>doc2vec_20</th>\n",
       "      <th>doc2vec_21</th>\n",
       "      <th>doc2vec_22</th>\n",
       "      <th>doc2vec_23</th>\n",
       "      <th>doc2vec_24</th>\n",
       "      <th>doc2vec_25</th>\n",
       "      <th>doc2vec_26</th>\n",
       "      <th>doc2vec_27</th>\n",
       "      <th>doc2vec_28</th>\n",
       "      <th>doc2vec_29</th>\n",
       "      <th>doc2vec_30</th>\n",
       "      <th>doc2vec_31</th>\n",
       "      <th>doc2vec_32</th>\n",
       "      <th>doc2vec_33</th>\n",
       "      <th>doc2vec_34</th>\n",
       "      <th>doc2vec_35</th>\n",
       "      <th>doc2vec_36</th>\n",
       "      <th>doc2vec_37</th>\n",
       "      <th>doc2vec_38</th>\n",
       "      <th>doc2vec_39</th>\n",
       "      <th>...</th>\n",
       "      <th>doc2vec_160</th>\n",
       "      <th>doc2vec_161</th>\n",
       "      <th>doc2vec_162</th>\n",
       "      <th>doc2vec_163</th>\n",
       "      <th>doc2vec_164</th>\n",
       "      <th>doc2vec_165</th>\n",
       "      <th>doc2vec_166</th>\n",
       "      <th>doc2vec_167</th>\n",
       "      <th>doc2vec_168</th>\n",
       "      <th>doc2vec_169</th>\n",
       "      <th>doc2vec_170</th>\n",
       "      <th>doc2vec_171</th>\n",
       "      <th>doc2vec_172</th>\n",
       "      <th>doc2vec_173</th>\n",
       "      <th>doc2vec_174</th>\n",
       "      <th>doc2vec_175</th>\n",
       "      <th>doc2vec_176</th>\n",
       "      <th>doc2vec_177</th>\n",
       "      <th>doc2vec_178</th>\n",
       "      <th>doc2vec_179</th>\n",
       "      <th>doc2vec_180</th>\n",
       "      <th>doc2vec_181</th>\n",
       "      <th>doc2vec_182</th>\n",
       "      <th>doc2vec_183</th>\n",
       "      <th>doc2vec_184</th>\n",
       "      <th>doc2vec_185</th>\n",
       "      <th>doc2vec_186</th>\n",
       "      <th>doc2vec_187</th>\n",
       "      <th>doc2vec_188</th>\n",
       "      <th>doc2vec_189</th>\n",
       "      <th>doc2vec_190</th>\n",
       "      <th>doc2vec_191</th>\n",
       "      <th>doc2vec_192</th>\n",
       "      <th>doc2vec_193</th>\n",
       "      <th>doc2vec_194</th>\n",
       "      <th>doc2vec_195</th>\n",
       "      <th>doc2vec_196</th>\n",
       "      <th>doc2vec_197</th>\n",
       "      <th>doc2vec_198</th>\n",
       "      <th>doc2vec_199</th>\n",
       "    </tr>\n",
       "  </thead>\n",
       "  <tbody>\n",
       "    <tr>\n",
       "      <th>0</th>\n",
       "      <td>0.017688</td>\n",
       "      <td>-0.066032</td>\n",
       "      <td>-0.032917</td>\n",
       "      <td>0.021086</td>\n",
       "      <td>0.017136</td>\n",
       "      <td>0.047369</td>\n",
       "      <td>0.035270</td>\n",
       "      <td>0.000432</td>\n",
       "      <td>0.007202</td>\n",
       "      <td>0.002777</td>\n",
       "      <td>-0.003404</td>\n",
       "      <td>-0.003137</td>\n",
       "      <td>-0.008978</td>\n",
       "      <td>-0.002421</td>\n",
       "      <td>-0.025434</td>\n",
       "      <td>-0.001608</td>\n",
       "      <td>-0.019240</td>\n",
       "      <td>0.008869</td>\n",
       "      <td>-0.048088</td>\n",
       "      <td>0.012533</td>\n",
       "      <td>-0.014105</td>\n",
       "      <td>-0.011365</td>\n",
       "      <td>-0.010902</td>\n",
       "      <td>-0.009515</td>\n",
       "      <td>-0.042178</td>\n",
       "      <td>-0.005578</td>\n",
       "      <td>-0.017870</td>\n",
       "      <td>-0.019605</td>\n",
       "      <td>-0.022553</td>\n",
       "      <td>-0.005077</td>\n",
       "      <td>-0.003625</td>\n",
       "      <td>0.007640</td>\n",
       "      <td>-0.015481</td>\n",
       "      <td>0.006517</td>\n",
       "      <td>0.012947</td>\n",
       "      <td>-0.006896</td>\n",
       "      <td>0.018816</td>\n",
       "      <td>-0.000142</td>\n",
       "      <td>-0.005011</td>\n",
       "      <td>-0.015399</td>\n",
       "      <td>...</td>\n",
       "      <td>0.025751</td>\n",
       "      <td>0.022786</td>\n",
       "      <td>0.016859</td>\n",
       "      <td>-0.005655</td>\n",
       "      <td>0.000924</td>\n",
       "      <td>0.024440</td>\n",
       "      <td>0.031404</td>\n",
       "      <td>0.002658</td>\n",
       "      <td>-0.035432</td>\n",
       "      <td>0.001441</td>\n",
       "      <td>-0.008827</td>\n",
       "      <td>0.013730</td>\n",
       "      <td>-0.000790</td>\n",
       "      <td>0.008637</td>\n",
       "      <td>-0.007868</td>\n",
       "      <td>-0.022497</td>\n",
       "      <td>-0.015382</td>\n",
       "      <td>0.013986</td>\n",
       "      <td>-0.018191</td>\n",
       "      <td>0.007919</td>\n",
       "      <td>0.025239</td>\n",
       "      <td>-0.009735</td>\n",
       "      <td>0.013936</td>\n",
       "      <td>-0.007556</td>\n",
       "      <td>-0.000623</td>\n",
       "      <td>0.013646</td>\n",
       "      <td>0.021190</td>\n",
       "      <td>0.004085</td>\n",
       "      <td>0.009499</td>\n",
       "      <td>0.007812</td>\n",
       "      <td>0.011106</td>\n",
       "      <td>0.015120</td>\n",
       "      <td>-0.001252</td>\n",
       "      <td>0.002764</td>\n",
       "      <td>-0.007921</td>\n",
       "      <td>0.002384</td>\n",
       "      <td>0.003728</td>\n",
       "      <td>-0.009538</td>\n",
       "      <td>-0.020891</td>\n",
       "      <td>0.008254</td>\n",
       "    </tr>\n",
       "    <tr>\n",
       "      <th>1</th>\n",
       "      <td>0.014932</td>\n",
       "      <td>-0.041262</td>\n",
       "      <td>-0.041342</td>\n",
       "      <td>0.002035</td>\n",
       "      <td>0.016909</td>\n",
       "      <td>0.043571</td>\n",
       "      <td>0.019211</td>\n",
       "      <td>-0.009784</td>\n",
       "      <td>-0.013866</td>\n",
       "      <td>-0.005963</td>\n",
       "      <td>-0.025331</td>\n",
       "      <td>0.001743</td>\n",
       "      <td>-0.028342</td>\n",
       "      <td>-0.003208</td>\n",
       "      <td>-0.024192</td>\n",
       "      <td>-0.006123</td>\n",
       "      <td>-0.008066</td>\n",
       "      <td>0.023680</td>\n",
       "      <td>-0.038551</td>\n",
       "      <td>-0.014760</td>\n",
       "      <td>-0.019905</td>\n",
       "      <td>0.009940</td>\n",
       "      <td>-0.031898</td>\n",
       "      <td>-0.029591</td>\n",
       "      <td>-0.014116</td>\n",
       "      <td>0.017216</td>\n",
       "      <td>-0.004447</td>\n",
       "      <td>-0.051823</td>\n",
       "      <td>-0.000723</td>\n",
       "      <td>-0.015810</td>\n",
       "      <td>-0.023572</td>\n",
       "      <td>0.031887</td>\n",
       "      <td>-0.017086</td>\n",
       "      <td>-0.010271</td>\n",
       "      <td>0.010990</td>\n",
       "      <td>0.006231</td>\n",
       "      <td>0.005796</td>\n",
       "      <td>0.008976</td>\n",
       "      <td>0.007824</td>\n",
       "      <td>-0.012509</td>\n",
       "      <td>...</td>\n",
       "      <td>0.019408</td>\n",
       "      <td>0.016353</td>\n",
       "      <td>0.009106</td>\n",
       "      <td>-0.007781</td>\n",
       "      <td>-0.000652</td>\n",
       "      <td>0.038784</td>\n",
       "      <td>0.027965</td>\n",
       "      <td>-0.008994</td>\n",
       "      <td>-0.025926</td>\n",
       "      <td>0.003128</td>\n",
       "      <td>-0.010727</td>\n",
       "      <td>0.004518</td>\n",
       "      <td>0.008499</td>\n",
       "      <td>0.008281</td>\n",
       "      <td>-0.002171</td>\n",
       "      <td>-0.044895</td>\n",
       "      <td>-0.015514</td>\n",
       "      <td>0.013830</td>\n",
       "      <td>-0.010629</td>\n",
       "      <td>0.017869</td>\n",
       "      <td>0.021401</td>\n",
       "      <td>-0.016577</td>\n",
       "      <td>0.024042</td>\n",
       "      <td>-0.009694</td>\n",
       "      <td>-0.007739</td>\n",
       "      <td>0.015027</td>\n",
       "      <td>0.026485</td>\n",
       "      <td>0.005593</td>\n",
       "      <td>-0.001872</td>\n",
       "      <td>0.003644</td>\n",
       "      <td>0.026329</td>\n",
       "      <td>0.001076</td>\n",
       "      <td>0.000435</td>\n",
       "      <td>0.001556</td>\n",
       "      <td>0.003323</td>\n",
       "      <td>0.000758</td>\n",
       "      <td>0.010245</td>\n",
       "      <td>-0.007771</td>\n",
       "      <td>-0.013504</td>\n",
       "      <td>-0.014266</td>\n",
       "    </tr>\n",
       "    <tr>\n",
       "      <th>2</th>\n",
       "      <td>0.008347</td>\n",
       "      <td>-0.025935</td>\n",
       "      <td>-0.039618</td>\n",
       "      <td>0.007406</td>\n",
       "      <td>0.014831</td>\n",
       "      <td>0.017109</td>\n",
       "      <td>0.009522</td>\n",
       "      <td>-0.001138</td>\n",
       "      <td>0.007893</td>\n",
       "      <td>0.000455</td>\n",
       "      <td>0.001425</td>\n",
       "      <td>-0.020699</td>\n",
       "      <td>-0.011112</td>\n",
       "      <td>-0.003527</td>\n",
       "      <td>-0.014857</td>\n",
       "      <td>0.005768</td>\n",
       "      <td>-0.008229</td>\n",
       "      <td>-0.015113</td>\n",
       "      <td>-0.025653</td>\n",
       "      <td>-0.009213</td>\n",
       "      <td>0.008478</td>\n",
       "      <td>-0.003216</td>\n",
       "      <td>-0.020891</td>\n",
       "      <td>-0.019089</td>\n",
       "      <td>-0.012364</td>\n",
       "      <td>0.024004</td>\n",
       "      <td>-0.010693</td>\n",
       "      <td>-0.032366</td>\n",
       "      <td>-0.010533</td>\n",
       "      <td>-0.013641</td>\n",
       "      <td>-0.015436</td>\n",
       "      <td>0.022892</td>\n",
       "      <td>-0.014017</td>\n",
       "      <td>0.015919</td>\n",
       "      <td>-0.002439</td>\n",
       "      <td>0.000689</td>\n",
       "      <td>0.007006</td>\n",
       "      <td>-0.010440</td>\n",
       "      <td>-0.003707</td>\n",
       "      <td>-0.015768</td>\n",
       "      <td>...</td>\n",
       "      <td>0.012428</td>\n",
       "      <td>0.016211</td>\n",
       "      <td>0.011173</td>\n",
       "      <td>-0.013934</td>\n",
       "      <td>-0.014206</td>\n",
       "      <td>0.015683</td>\n",
       "      <td>0.002425</td>\n",
       "      <td>-0.004228</td>\n",
       "      <td>-0.024787</td>\n",
       "      <td>-0.006630</td>\n",
       "      <td>0.000710</td>\n",
       "      <td>0.003393</td>\n",
       "      <td>0.000534</td>\n",
       "      <td>0.001911</td>\n",
       "      <td>-0.009725</td>\n",
       "      <td>-0.025614</td>\n",
       "      <td>-0.000765</td>\n",
       "      <td>0.012299</td>\n",
       "      <td>0.003115</td>\n",
       "      <td>0.003721</td>\n",
       "      <td>0.012548</td>\n",
       "      <td>0.007339</td>\n",
       "      <td>-0.000759</td>\n",
       "      <td>-0.001369</td>\n",
       "      <td>-0.010190</td>\n",
       "      <td>0.022256</td>\n",
       "      <td>-0.000353</td>\n",
       "      <td>0.006862</td>\n",
       "      <td>0.014646</td>\n",
       "      <td>0.024742</td>\n",
       "      <td>0.006518</td>\n",
       "      <td>0.011308</td>\n",
       "      <td>-0.003739</td>\n",
       "      <td>-0.003708</td>\n",
       "      <td>0.003887</td>\n",
       "      <td>0.010972</td>\n",
       "      <td>-0.000710</td>\n",
       "      <td>-0.003336</td>\n",
       "      <td>-0.007643</td>\n",
       "      <td>0.002128</td>\n",
       "    </tr>\n",
       "    <tr>\n",
       "      <th>3</th>\n",
       "      <td>0.045139</td>\n",
       "      <td>-0.050753</td>\n",
       "      <td>-0.025572</td>\n",
       "      <td>0.014936</td>\n",
       "      <td>0.012436</td>\n",
       "      <td>0.013532</td>\n",
       "      <td>0.038051</td>\n",
       "      <td>0.001758</td>\n",
       "      <td>-0.050699</td>\n",
       "      <td>0.015712</td>\n",
       "      <td>-0.044860</td>\n",
       "      <td>0.015251</td>\n",
       "      <td>-0.054470</td>\n",
       "      <td>0.006249</td>\n",
       "      <td>-0.020835</td>\n",
       "      <td>-0.028086</td>\n",
       "      <td>-0.004026</td>\n",
       "      <td>0.078416</td>\n",
       "      <td>-0.009993</td>\n",
       "      <td>-0.055365</td>\n",
       "      <td>-0.048316</td>\n",
       "      <td>0.060279</td>\n",
       "      <td>-0.046147</td>\n",
       "      <td>-0.038926</td>\n",
       "      <td>0.030561</td>\n",
       "      <td>0.054264</td>\n",
       "      <td>0.061735</td>\n",
       "      <td>-0.100193</td>\n",
       "      <td>0.041984</td>\n",
       "      <td>-0.003902</td>\n",
       "      <td>-0.040704</td>\n",
       "      <td>0.030621</td>\n",
       "      <td>-0.045796</td>\n",
       "      <td>-0.066450</td>\n",
       "      <td>0.013673</td>\n",
       "      <td>-0.015073</td>\n",
       "      <td>0.006380</td>\n",
       "      <td>0.013463</td>\n",
       "      <td>0.031357</td>\n",
       "      <td>-0.010117</td>\n",
       "      <td>...</td>\n",
       "      <td>-0.012184</td>\n",
       "      <td>0.021556</td>\n",
       "      <td>0.009355</td>\n",
       "      <td>-0.000852</td>\n",
       "      <td>-0.002902</td>\n",
       "      <td>0.020054</td>\n",
       "      <td>0.039177</td>\n",
       "      <td>-0.026819</td>\n",
       "      <td>-0.017754</td>\n",
       "      <td>0.016183</td>\n",
       "      <td>-0.028102</td>\n",
       "      <td>-0.011320</td>\n",
       "      <td>0.027381</td>\n",
       "      <td>-0.003618</td>\n",
       "      <td>0.023181</td>\n",
       "      <td>-0.038870</td>\n",
       "      <td>0.008970</td>\n",
       "      <td>0.024811</td>\n",
       "      <td>0.017487</td>\n",
       "      <td>0.032586</td>\n",
       "      <td>0.026290</td>\n",
       "      <td>-0.012522</td>\n",
       "      <td>0.005409</td>\n",
       "      <td>0.007539</td>\n",
       "      <td>-0.018804</td>\n",
       "      <td>-0.011311</td>\n",
       "      <td>0.000919</td>\n",
       "      <td>-0.009340</td>\n",
       "      <td>-0.028596</td>\n",
       "      <td>0.016225</td>\n",
       "      <td>0.027792</td>\n",
       "      <td>-0.001618</td>\n",
       "      <td>-0.020136</td>\n",
       "      <td>-0.002925</td>\n",
       "      <td>-0.022485</td>\n",
       "      <td>-0.014390</td>\n",
       "      <td>0.037980</td>\n",
       "      <td>0.045401</td>\n",
       "      <td>-0.012261</td>\n",
       "      <td>-0.008005</td>\n",
       "    </tr>\n",
       "    <tr>\n",
       "      <th>4</th>\n",
       "      <td>0.008855</td>\n",
       "      <td>-0.063556</td>\n",
       "      <td>-0.031110</td>\n",
       "      <td>-0.000307</td>\n",
       "      <td>0.017547</td>\n",
       "      <td>0.024267</td>\n",
       "      <td>0.025837</td>\n",
       "      <td>-0.007521</td>\n",
       "      <td>-0.018503</td>\n",
       "      <td>-0.012618</td>\n",
       "      <td>-0.035850</td>\n",
       "      <td>0.004997</td>\n",
       "      <td>-0.023248</td>\n",
       "      <td>0.006496</td>\n",
       "      <td>-0.018231</td>\n",
       "      <td>-0.007949</td>\n",
       "      <td>-0.014897</td>\n",
       "      <td>0.024597</td>\n",
       "      <td>-0.021872</td>\n",
       "      <td>-0.007176</td>\n",
       "      <td>-0.032724</td>\n",
       "      <td>0.000757</td>\n",
       "      <td>-0.012437</td>\n",
       "      <td>-0.008678</td>\n",
       "      <td>-0.017194</td>\n",
       "      <td>0.007274</td>\n",
       "      <td>0.001221</td>\n",
       "      <td>-0.033421</td>\n",
       "      <td>0.010407</td>\n",
       "      <td>-0.007945</td>\n",
       "      <td>-0.007182</td>\n",
       "      <td>0.012034</td>\n",
       "      <td>-0.014968</td>\n",
       "      <td>-0.005912</td>\n",
       "      <td>0.005838</td>\n",
       "      <td>0.003357</td>\n",
       "      <td>0.005435</td>\n",
       "      <td>-0.000197</td>\n",
       "      <td>0.009355</td>\n",
       "      <td>0.005377</td>\n",
       "      <td>...</td>\n",
       "      <td>0.013387</td>\n",
       "      <td>0.014275</td>\n",
       "      <td>-0.003102</td>\n",
       "      <td>-0.014233</td>\n",
       "      <td>0.001526</td>\n",
       "      <td>0.017980</td>\n",
       "      <td>0.033142</td>\n",
       "      <td>0.007985</td>\n",
       "      <td>-0.017453</td>\n",
       "      <td>-0.002362</td>\n",
       "      <td>-0.016271</td>\n",
       "      <td>0.003929</td>\n",
       "      <td>0.008396</td>\n",
       "      <td>-0.000729</td>\n",
       "      <td>-0.014419</td>\n",
       "      <td>-0.018291</td>\n",
       "      <td>-0.021933</td>\n",
       "      <td>0.008052</td>\n",
       "      <td>-0.009730</td>\n",
       "      <td>0.008859</td>\n",
       "      <td>0.007038</td>\n",
       "      <td>0.002891</td>\n",
       "      <td>0.021865</td>\n",
       "      <td>-0.020685</td>\n",
       "      <td>-0.003234</td>\n",
       "      <td>0.014731</td>\n",
       "      <td>0.021326</td>\n",
       "      <td>0.003355</td>\n",
       "      <td>0.011394</td>\n",
       "      <td>-0.013269</td>\n",
       "      <td>0.008944</td>\n",
       "      <td>0.001783</td>\n",
       "      <td>-0.001920</td>\n",
       "      <td>0.003963</td>\n",
       "      <td>-0.008220</td>\n",
       "      <td>0.004670</td>\n",
       "      <td>0.019041</td>\n",
       "      <td>-0.003863</td>\n",
       "      <td>-0.007184</td>\n",
       "      <td>0.007753</td>\n",
       "    </tr>\n",
       "    <tr>\n",
       "      <th>...</th>\n",
       "      <td>...</td>\n",
       "      <td>...</td>\n",
       "      <td>...</td>\n",
       "      <td>...</td>\n",
       "      <td>...</td>\n",
       "      <td>...</td>\n",
       "      <td>...</td>\n",
       "      <td>...</td>\n",
       "      <td>...</td>\n",
       "      <td>...</td>\n",
       "      <td>...</td>\n",
       "      <td>...</td>\n",
       "      <td>...</td>\n",
       "      <td>...</td>\n",
       "      <td>...</td>\n",
       "      <td>...</td>\n",
       "      <td>...</td>\n",
       "      <td>...</td>\n",
       "      <td>...</td>\n",
       "      <td>...</td>\n",
       "      <td>...</td>\n",
       "      <td>...</td>\n",
       "      <td>...</td>\n",
       "      <td>...</td>\n",
       "      <td>...</td>\n",
       "      <td>...</td>\n",
       "      <td>...</td>\n",
       "      <td>...</td>\n",
       "      <td>...</td>\n",
       "      <td>...</td>\n",
       "      <td>...</td>\n",
       "      <td>...</td>\n",
       "      <td>...</td>\n",
       "      <td>...</td>\n",
       "      <td>...</td>\n",
       "      <td>...</td>\n",
       "      <td>...</td>\n",
       "      <td>...</td>\n",
       "      <td>...</td>\n",
       "      <td>...</td>\n",
       "      <td>...</td>\n",
       "      <td>...</td>\n",
       "      <td>...</td>\n",
       "      <td>...</td>\n",
       "      <td>...</td>\n",
       "      <td>...</td>\n",
       "      <td>...</td>\n",
       "      <td>...</td>\n",
       "      <td>...</td>\n",
       "      <td>...</td>\n",
       "      <td>...</td>\n",
       "      <td>...</td>\n",
       "      <td>...</td>\n",
       "      <td>...</td>\n",
       "      <td>...</td>\n",
       "      <td>...</td>\n",
       "      <td>...</td>\n",
       "      <td>...</td>\n",
       "      <td>...</td>\n",
       "      <td>...</td>\n",
       "      <td>...</td>\n",
       "      <td>...</td>\n",
       "      <td>...</td>\n",
       "      <td>...</td>\n",
       "      <td>...</td>\n",
       "      <td>...</td>\n",
       "      <td>...</td>\n",
       "      <td>...</td>\n",
       "      <td>...</td>\n",
       "      <td>...</td>\n",
       "      <td>...</td>\n",
       "      <td>...</td>\n",
       "      <td>...</td>\n",
       "      <td>...</td>\n",
       "      <td>...</td>\n",
       "      <td>...</td>\n",
       "      <td>...</td>\n",
       "      <td>...</td>\n",
       "      <td>...</td>\n",
       "      <td>...</td>\n",
       "      <td>...</td>\n",
       "    </tr>\n",
       "    <tr>\n",
       "      <th>253365</th>\n",
       "      <td>-0.005395</td>\n",
       "      <td>-0.005143</td>\n",
       "      <td>-0.043410</td>\n",
       "      <td>0.000410</td>\n",
       "      <td>0.017109</td>\n",
       "      <td>0.035006</td>\n",
       "      <td>0.026282</td>\n",
       "      <td>0.019923</td>\n",
       "      <td>0.001907</td>\n",
       "      <td>-0.025519</td>\n",
       "      <td>-0.007373</td>\n",
       "      <td>-0.034826</td>\n",
       "      <td>-0.000201</td>\n",
       "      <td>-0.012587</td>\n",
       "      <td>-0.011031</td>\n",
       "      <td>0.012706</td>\n",
       "      <td>0.009645</td>\n",
       "      <td>-0.032221</td>\n",
       "      <td>-0.033544</td>\n",
       "      <td>-0.006778</td>\n",
       "      <td>-0.016537</td>\n",
       "      <td>-0.014326</td>\n",
       "      <td>0.002446</td>\n",
       "      <td>0.007317</td>\n",
       "      <td>-0.018529</td>\n",
       "      <td>0.025888</td>\n",
       "      <td>-0.025383</td>\n",
       "      <td>-0.027233</td>\n",
       "      <td>-0.008319</td>\n",
       "      <td>-0.014103</td>\n",
       "      <td>-0.011681</td>\n",
       "      <td>0.013274</td>\n",
       "      <td>-0.005183</td>\n",
       "      <td>-0.003356</td>\n",
       "      <td>0.006458</td>\n",
       "      <td>0.004777</td>\n",
       "      <td>0.011190</td>\n",
       "      <td>0.004206</td>\n",
       "      <td>0.000351</td>\n",
       "      <td>-0.012774</td>\n",
       "      <td>...</td>\n",
       "      <td>0.029307</td>\n",
       "      <td>0.015160</td>\n",
       "      <td>0.007208</td>\n",
       "      <td>0.002729</td>\n",
       "      <td>-0.003002</td>\n",
       "      <td>0.011045</td>\n",
       "      <td>0.006414</td>\n",
       "      <td>0.003497</td>\n",
       "      <td>-0.023973</td>\n",
       "      <td>-0.016487</td>\n",
       "      <td>0.022020</td>\n",
       "      <td>0.019774</td>\n",
       "      <td>-0.017313</td>\n",
       "      <td>0.013190</td>\n",
       "      <td>-0.008089</td>\n",
       "      <td>-0.026604</td>\n",
       "      <td>-0.014307</td>\n",
       "      <td>-0.004948</td>\n",
       "      <td>-0.002621</td>\n",
       "      <td>0.009578</td>\n",
       "      <td>0.013382</td>\n",
       "      <td>0.008487</td>\n",
       "      <td>0.020807</td>\n",
       "      <td>-0.009781</td>\n",
       "      <td>-0.012654</td>\n",
       "      <td>0.029986</td>\n",
       "      <td>0.017729</td>\n",
       "      <td>0.013799</td>\n",
       "      <td>0.008365</td>\n",
       "      <td>-0.007548</td>\n",
       "      <td>0.002831</td>\n",
       "      <td>0.013766</td>\n",
       "      <td>-0.021595</td>\n",
       "      <td>-0.013564</td>\n",
       "      <td>0.001688</td>\n",
       "      <td>0.006134</td>\n",
       "      <td>0.003196</td>\n",
       "      <td>-0.001431</td>\n",
       "      <td>0.013061</td>\n",
       "      <td>-0.016022</td>\n",
       "    </tr>\n",
       "    <tr>\n",
       "      <th>253366</th>\n",
       "      <td>0.016049</td>\n",
       "      <td>-0.053875</td>\n",
       "      <td>-0.039519</td>\n",
       "      <td>0.003142</td>\n",
       "      <td>0.011787</td>\n",
       "      <td>0.023708</td>\n",
       "      <td>0.038213</td>\n",
       "      <td>0.006018</td>\n",
       "      <td>0.012308</td>\n",
       "      <td>-0.008320</td>\n",
       "      <td>-0.001973</td>\n",
       "      <td>-0.001503</td>\n",
       "      <td>-0.020835</td>\n",
       "      <td>-0.001807</td>\n",
       "      <td>-0.034008</td>\n",
       "      <td>-0.013829</td>\n",
       "      <td>-0.023083</td>\n",
       "      <td>-0.002043</td>\n",
       "      <td>-0.034844</td>\n",
       "      <td>-0.000376</td>\n",
       "      <td>-0.005484</td>\n",
       "      <td>0.012758</td>\n",
       "      <td>-0.021267</td>\n",
       "      <td>-0.016649</td>\n",
       "      <td>-0.011156</td>\n",
       "      <td>0.016686</td>\n",
       "      <td>-0.018726</td>\n",
       "      <td>-0.005774</td>\n",
       "      <td>-0.007135</td>\n",
       "      <td>-0.010135</td>\n",
       "      <td>0.000041</td>\n",
       "      <td>0.010845</td>\n",
       "      <td>-0.007572</td>\n",
       "      <td>0.002329</td>\n",
       "      <td>-0.002664</td>\n",
       "      <td>0.001232</td>\n",
       "      <td>-0.002023</td>\n",
       "      <td>-0.009218</td>\n",
       "      <td>0.005309</td>\n",
       "      <td>-0.007705</td>\n",
       "      <td>...</td>\n",
       "      <td>0.010212</td>\n",
       "      <td>0.011342</td>\n",
       "      <td>0.004924</td>\n",
       "      <td>-0.011504</td>\n",
       "      <td>0.002771</td>\n",
       "      <td>0.017083</td>\n",
       "      <td>0.016622</td>\n",
       "      <td>0.003328</td>\n",
       "      <td>-0.020676</td>\n",
       "      <td>0.005347</td>\n",
       "      <td>-0.008052</td>\n",
       "      <td>0.007283</td>\n",
       "      <td>0.006677</td>\n",
       "      <td>-0.002970</td>\n",
       "      <td>-0.015363</td>\n",
       "      <td>-0.011958</td>\n",
       "      <td>-0.008949</td>\n",
       "      <td>0.005435</td>\n",
       "      <td>-0.018031</td>\n",
       "      <td>-0.002104</td>\n",
       "      <td>0.013021</td>\n",
       "      <td>0.000526</td>\n",
       "      <td>0.011986</td>\n",
       "      <td>-0.005090</td>\n",
       "      <td>0.001871</td>\n",
       "      <td>0.023610</td>\n",
       "      <td>0.014381</td>\n",
       "      <td>0.014967</td>\n",
       "      <td>0.009026</td>\n",
       "      <td>0.001887</td>\n",
       "      <td>0.016464</td>\n",
       "      <td>0.014363</td>\n",
       "      <td>-0.009791</td>\n",
       "      <td>0.011103</td>\n",
       "      <td>-0.008849</td>\n",
       "      <td>0.001528</td>\n",
       "      <td>0.008097</td>\n",
       "      <td>-0.015241</td>\n",
       "      <td>-0.019018</td>\n",
       "      <td>0.008318</td>\n",
       "    </tr>\n",
       "    <tr>\n",
       "      <th>253367</th>\n",
       "      <td>0.017390</td>\n",
       "      <td>-0.038501</td>\n",
       "      <td>-0.045476</td>\n",
       "      <td>0.006273</td>\n",
       "      <td>-0.012748</td>\n",
       "      <td>0.006499</td>\n",
       "      <td>-0.020471</td>\n",
       "      <td>0.000805</td>\n",
       "      <td>0.030104</td>\n",
       "      <td>-0.009936</td>\n",
       "      <td>-0.064647</td>\n",
       "      <td>0.014982</td>\n",
       "      <td>0.015931</td>\n",
       "      <td>-0.010862</td>\n",
       "      <td>-0.028689</td>\n",
       "      <td>0.023246</td>\n",
       "      <td>-0.059912</td>\n",
       "      <td>0.083458</td>\n",
       "      <td>0.028710</td>\n",
       "      <td>0.033738</td>\n",
       "      <td>-0.015964</td>\n",
       "      <td>-0.035653</td>\n",
       "      <td>-0.030316</td>\n",
       "      <td>0.022977</td>\n",
       "      <td>-0.017483</td>\n",
       "      <td>0.013433</td>\n",
       "      <td>0.038483</td>\n",
       "      <td>-0.026513</td>\n",
       "      <td>-0.030258</td>\n",
       "      <td>-0.025564</td>\n",
       "      <td>0.011780</td>\n",
       "      <td>0.033188</td>\n",
       "      <td>0.078346</td>\n",
       "      <td>-0.070081</td>\n",
       "      <td>-0.004535</td>\n",
       "      <td>-0.005545</td>\n",
       "      <td>0.023379</td>\n",
       "      <td>-0.007387</td>\n",
       "      <td>0.079834</td>\n",
       "      <td>0.011578</td>\n",
       "      <td>...</td>\n",
       "      <td>0.007150</td>\n",
       "      <td>-0.009969</td>\n",
       "      <td>-0.009740</td>\n",
       "      <td>-0.074763</td>\n",
       "      <td>0.032322</td>\n",
       "      <td>-0.017388</td>\n",
       "      <td>0.041391</td>\n",
       "      <td>0.027332</td>\n",
       "      <td>0.006503</td>\n",
       "      <td>-0.026866</td>\n",
       "      <td>-0.045556</td>\n",
       "      <td>-0.009246</td>\n",
       "      <td>0.017490</td>\n",
       "      <td>-0.025776</td>\n",
       "      <td>-0.035990</td>\n",
       "      <td>-0.010074</td>\n",
       "      <td>-0.053072</td>\n",
       "      <td>0.015988</td>\n",
       "      <td>-0.026022</td>\n",
       "      <td>0.005612</td>\n",
       "      <td>-0.012640</td>\n",
       "      <td>0.010773</td>\n",
       "      <td>-0.026881</td>\n",
       "      <td>0.000381</td>\n",
       "      <td>0.018034</td>\n",
       "      <td>-0.030252</td>\n",
       "      <td>0.003802</td>\n",
       "      <td>0.007512</td>\n",
       "      <td>-0.006146</td>\n",
       "      <td>-0.062718</td>\n",
       "      <td>0.012808</td>\n",
       "      <td>-0.046436</td>\n",
       "      <td>0.003860</td>\n",
       "      <td>-0.022556</td>\n",
       "      <td>-0.027923</td>\n",
       "      <td>0.026625</td>\n",
       "      <td>0.003044</td>\n",
       "      <td>-0.006804</td>\n",
       "      <td>0.035459</td>\n",
       "      <td>0.010159</td>\n",
       "    </tr>\n",
       "    <tr>\n",
       "      <th>253368</th>\n",
       "      <td>0.139635</td>\n",
       "      <td>0.006093</td>\n",
       "      <td>0.044317</td>\n",
       "      <td>0.084950</td>\n",
       "      <td>-0.066792</td>\n",
       "      <td>0.054869</td>\n",
       "      <td>0.056692</td>\n",
       "      <td>0.027387</td>\n",
       "      <td>0.060281</td>\n",
       "      <td>0.074270</td>\n",
       "      <td>0.122632</td>\n",
       "      <td>0.020431</td>\n",
       "      <td>0.045850</td>\n",
       "      <td>0.011924</td>\n",
       "      <td>-0.046004</td>\n",
       "      <td>-0.017052</td>\n",
       "      <td>-0.053271</td>\n",
       "      <td>0.034226</td>\n",
       "      <td>-0.103138</td>\n",
       "      <td>0.042097</td>\n",
       "      <td>0.043174</td>\n",
       "      <td>-0.033768</td>\n",
       "      <td>0.011824</td>\n",
       "      <td>0.018962</td>\n",
       "      <td>-0.048532</td>\n",
       "      <td>-0.070412</td>\n",
       "      <td>0.023566</td>\n",
       "      <td>0.097140</td>\n",
       "      <td>-0.085902</td>\n",
       "      <td>0.077642</td>\n",
       "      <td>0.030928</td>\n",
       "      <td>-0.056771</td>\n",
       "      <td>-0.003204</td>\n",
       "      <td>0.040763</td>\n",
       "      <td>0.031643</td>\n",
       "      <td>0.008026</td>\n",
       "      <td>-0.000812</td>\n",
       "      <td>-0.052755</td>\n",
       "      <td>-0.008628</td>\n",
       "      <td>0.037195</td>\n",
       "      <td>...</td>\n",
       "      <td>0.052927</td>\n",
       "      <td>0.066792</td>\n",
       "      <td>0.044791</td>\n",
       "      <td>0.034751</td>\n",
       "      <td>0.033970</td>\n",
       "      <td>-0.071187</td>\n",
       "      <td>0.034039</td>\n",
       "      <td>0.013017</td>\n",
       "      <td>0.007112</td>\n",
       "      <td>-0.076912</td>\n",
       "      <td>0.017733</td>\n",
       "      <td>0.008190</td>\n",
       "      <td>0.011738</td>\n",
       "      <td>-0.042532</td>\n",
       "      <td>-0.012423</td>\n",
       "      <td>0.065514</td>\n",
       "      <td>-0.023115</td>\n",
       "      <td>0.014225</td>\n",
       "      <td>-0.048259</td>\n",
       "      <td>-0.046333</td>\n",
       "      <td>0.007381</td>\n",
       "      <td>-0.039743</td>\n",
       "      <td>-0.008873</td>\n",
       "      <td>0.004212</td>\n",
       "      <td>-0.028501</td>\n",
       "      <td>-0.061762</td>\n",
       "      <td>-0.002676</td>\n",
       "      <td>-0.056814</td>\n",
       "      <td>0.098988</td>\n",
       "      <td>0.025103</td>\n",
       "      <td>-0.058878</td>\n",
       "      <td>-0.002926</td>\n",
       "      <td>-0.073450</td>\n",
       "      <td>-0.003272</td>\n",
       "      <td>-0.146153</td>\n",
       "      <td>-0.065284</td>\n",
       "      <td>0.030965</td>\n",
       "      <td>0.089508</td>\n",
       "      <td>-0.034780</td>\n",
       "      <td>0.148287</td>\n",
       "    </tr>\n",
       "    <tr>\n",
       "      <th>253369</th>\n",
       "      <td>-0.007437</td>\n",
       "      <td>-0.031194</td>\n",
       "      <td>-0.031078</td>\n",
       "      <td>0.009224</td>\n",
       "      <td>0.016236</td>\n",
       "      <td>0.019064</td>\n",
       "      <td>0.009368</td>\n",
       "      <td>0.010133</td>\n",
       "      <td>-0.005379</td>\n",
       "      <td>0.002295</td>\n",
       "      <td>-0.022611</td>\n",
       "      <td>-0.017967</td>\n",
       "      <td>-0.002636</td>\n",
       "      <td>0.002231</td>\n",
       "      <td>-0.013791</td>\n",
       "      <td>0.001579</td>\n",
       "      <td>-0.001187</td>\n",
       "      <td>0.004683</td>\n",
       "      <td>-0.032782</td>\n",
       "      <td>0.000330</td>\n",
       "      <td>-0.000949</td>\n",
       "      <td>-0.036227</td>\n",
       "      <td>-0.017345</td>\n",
       "      <td>-0.002340</td>\n",
       "      <td>-0.017435</td>\n",
       "      <td>0.006949</td>\n",
       "      <td>-0.040283</td>\n",
       "      <td>-0.027215</td>\n",
       "      <td>-0.027768</td>\n",
       "      <td>-0.026569</td>\n",
       "      <td>-0.001571</td>\n",
       "      <td>0.033904</td>\n",
       "      <td>0.002448</td>\n",
       "      <td>-0.005300</td>\n",
       "      <td>0.030104</td>\n",
       "      <td>-0.004722</td>\n",
       "      <td>0.013735</td>\n",
       "      <td>0.015705</td>\n",
       "      <td>-0.006728</td>\n",
       "      <td>-0.027719</td>\n",
       "      <td>...</td>\n",
       "      <td>0.024742</td>\n",
       "      <td>0.017524</td>\n",
       "      <td>0.004957</td>\n",
       "      <td>-0.026193</td>\n",
       "      <td>-0.000945</td>\n",
       "      <td>0.022017</td>\n",
       "      <td>0.019071</td>\n",
       "      <td>0.014262</td>\n",
       "      <td>-0.034916</td>\n",
       "      <td>-0.007477</td>\n",
       "      <td>0.002206</td>\n",
       "      <td>0.019487</td>\n",
       "      <td>-0.001680</td>\n",
       "      <td>0.014441</td>\n",
       "      <td>-0.021168</td>\n",
       "      <td>-0.036657</td>\n",
       "      <td>-0.029470</td>\n",
       "      <td>0.020496</td>\n",
       "      <td>-0.016994</td>\n",
       "      <td>0.009740</td>\n",
       "      <td>0.019891</td>\n",
       "      <td>0.008831</td>\n",
       "      <td>0.002791</td>\n",
       "      <td>-0.026443</td>\n",
       "      <td>0.005595</td>\n",
       "      <td>0.038125</td>\n",
       "      <td>0.012183</td>\n",
       "      <td>0.014861</td>\n",
       "      <td>0.005350</td>\n",
       "      <td>-0.003047</td>\n",
       "      <td>0.016869</td>\n",
       "      <td>0.012776</td>\n",
       "      <td>0.019894</td>\n",
       "      <td>-0.001743</td>\n",
       "      <td>0.017260</td>\n",
       "      <td>0.020893</td>\n",
       "      <td>0.005705</td>\n",
       "      <td>-0.027350</td>\n",
       "      <td>-0.012887</td>\n",
       "      <td>0.001478</td>\n",
       "    </tr>\n",
       "  </tbody>\n",
       "</table>\n",
       "<p>253370 rows × 200 columns</p>\n",
       "</div>"
      ],
      "text/plain": [
       "        doc2vec_0  doc2vec_1  doc2vec_2  doc2vec_3  doc2vec_4  doc2vec_5  doc2vec_6  doc2vec_7  doc2vec_8  doc2vec_9  doc2vec_10  doc2vec_11  doc2vec_12  doc2vec_13  doc2vec_14  doc2vec_15  doc2vec_16  doc2vec_17  doc2vec_18  doc2vec_19  doc2vec_20  doc2vec_21  doc2vec_22  doc2vec_23  doc2vec_24  doc2vec_25  doc2vec_26  doc2vec_27  doc2vec_28  doc2vec_29  doc2vec_30  doc2vec_31  doc2vec_32  doc2vec_33  doc2vec_34  doc2vec_35  doc2vec_36  doc2vec_37  doc2vec_38  doc2vec_39  ...  doc2vec_160  doc2vec_161  doc2vec_162  doc2vec_163  doc2vec_164  doc2vec_165  doc2vec_166  doc2vec_167  doc2vec_168  doc2vec_169  doc2vec_170  doc2vec_171  doc2vec_172  doc2vec_173  doc2vec_174  doc2vec_175  doc2vec_176  doc2vec_177  doc2vec_178  doc2vec_179  doc2vec_180  doc2vec_181  doc2vec_182  doc2vec_183  doc2vec_184  doc2vec_185  doc2vec_186  doc2vec_187  doc2vec_188  doc2vec_189  doc2vec_190  doc2vec_191  doc2vec_192  doc2vec_193  doc2vec_194  doc2vec_195  doc2vec_196  doc2vec_197  doc2vec_198  doc2vec_199\n",
       "0       0.017688  -0.066032  -0.032917   0.021086   0.017136   0.047369   0.035270   0.000432   0.007202   0.002777  -0.003404   -0.003137   -0.008978   -0.002421   -0.025434   -0.001608   -0.019240    0.008869   -0.048088    0.012533   -0.014105   -0.011365   -0.010902   -0.009515   -0.042178   -0.005578   -0.017870   -0.019605   -0.022553   -0.005077   -0.003625    0.007640   -0.015481    0.006517    0.012947   -0.006896    0.018816   -0.000142   -0.005011   -0.015399    ...  0.025751     0.022786     0.016859    -0.005655     0.000924     0.024440     0.031404     0.002658    -0.035432     0.001441    -0.008827     0.013730    -0.000790     0.008637    -0.007868    -0.022497    -0.015382     0.013986    -0.018191     0.007919     0.025239    -0.009735     0.013936    -0.007556    -0.000623     0.013646     0.021190     0.004085     0.009499     0.007812     0.011106     0.015120    -0.001252     0.002764    -0.007921     0.002384     0.003728    -0.009538    -0.020891     0.008254   \n",
       "1       0.014932  -0.041262  -0.041342   0.002035   0.016909   0.043571   0.019211  -0.009784  -0.013866  -0.005963  -0.025331    0.001743   -0.028342   -0.003208   -0.024192   -0.006123   -0.008066    0.023680   -0.038551   -0.014760   -0.019905    0.009940   -0.031898   -0.029591   -0.014116    0.017216   -0.004447   -0.051823   -0.000723   -0.015810   -0.023572    0.031887   -0.017086   -0.010271    0.010990    0.006231    0.005796    0.008976    0.007824   -0.012509    ...  0.019408     0.016353     0.009106    -0.007781    -0.000652     0.038784     0.027965    -0.008994    -0.025926     0.003128    -0.010727     0.004518     0.008499     0.008281    -0.002171    -0.044895    -0.015514     0.013830    -0.010629     0.017869     0.021401    -0.016577     0.024042    -0.009694    -0.007739     0.015027     0.026485     0.005593    -0.001872     0.003644     0.026329     0.001076     0.000435     0.001556     0.003323     0.000758     0.010245    -0.007771    -0.013504    -0.014266   \n",
       "2       0.008347  -0.025935  -0.039618   0.007406   0.014831   0.017109   0.009522  -0.001138   0.007893   0.000455   0.001425   -0.020699   -0.011112   -0.003527   -0.014857    0.005768   -0.008229   -0.015113   -0.025653   -0.009213    0.008478   -0.003216   -0.020891   -0.019089   -0.012364    0.024004   -0.010693   -0.032366   -0.010533   -0.013641   -0.015436    0.022892   -0.014017    0.015919   -0.002439    0.000689    0.007006   -0.010440   -0.003707   -0.015768    ...  0.012428     0.016211     0.011173    -0.013934    -0.014206     0.015683     0.002425    -0.004228    -0.024787    -0.006630     0.000710     0.003393     0.000534     0.001911    -0.009725    -0.025614    -0.000765     0.012299     0.003115     0.003721     0.012548     0.007339    -0.000759    -0.001369    -0.010190     0.022256    -0.000353     0.006862     0.014646     0.024742     0.006518     0.011308    -0.003739    -0.003708     0.003887     0.010972    -0.000710    -0.003336    -0.007643     0.002128   \n",
       "3       0.045139  -0.050753  -0.025572   0.014936   0.012436   0.013532   0.038051   0.001758  -0.050699   0.015712  -0.044860    0.015251   -0.054470    0.006249   -0.020835   -0.028086   -0.004026    0.078416   -0.009993   -0.055365   -0.048316    0.060279   -0.046147   -0.038926    0.030561    0.054264    0.061735   -0.100193    0.041984   -0.003902   -0.040704    0.030621   -0.045796   -0.066450    0.013673   -0.015073    0.006380    0.013463    0.031357   -0.010117    ... -0.012184     0.021556     0.009355    -0.000852    -0.002902     0.020054     0.039177    -0.026819    -0.017754     0.016183    -0.028102    -0.011320     0.027381    -0.003618     0.023181    -0.038870     0.008970     0.024811     0.017487     0.032586     0.026290    -0.012522     0.005409     0.007539    -0.018804    -0.011311     0.000919    -0.009340    -0.028596     0.016225     0.027792    -0.001618    -0.020136    -0.002925    -0.022485    -0.014390     0.037980     0.045401    -0.012261    -0.008005   \n",
       "4       0.008855  -0.063556  -0.031110  -0.000307   0.017547   0.024267   0.025837  -0.007521  -0.018503  -0.012618  -0.035850    0.004997   -0.023248    0.006496   -0.018231   -0.007949   -0.014897    0.024597   -0.021872   -0.007176   -0.032724    0.000757   -0.012437   -0.008678   -0.017194    0.007274    0.001221   -0.033421    0.010407   -0.007945   -0.007182    0.012034   -0.014968   -0.005912    0.005838    0.003357    0.005435   -0.000197    0.009355    0.005377    ...  0.013387     0.014275    -0.003102    -0.014233     0.001526     0.017980     0.033142     0.007985    -0.017453    -0.002362    -0.016271     0.003929     0.008396    -0.000729    -0.014419    -0.018291    -0.021933     0.008052    -0.009730     0.008859     0.007038     0.002891     0.021865    -0.020685    -0.003234     0.014731     0.021326     0.003355     0.011394    -0.013269     0.008944     0.001783    -0.001920     0.003963    -0.008220     0.004670     0.019041    -0.003863    -0.007184     0.007753   \n",
       "...          ...        ...        ...        ...        ...        ...        ...        ...        ...        ...        ...         ...         ...         ...         ...         ...         ...         ...         ...         ...         ...         ...         ...         ...         ...         ...         ...         ...         ...         ...         ...         ...         ...         ...         ...         ...         ...         ...         ...         ...    ...       ...          ...          ...          ...          ...          ...          ...          ...          ...          ...          ...          ...          ...          ...          ...          ...          ...          ...          ...          ...          ...          ...          ...          ...          ...          ...          ...          ...          ...          ...          ...          ...          ...          ...          ...          ...          ...          ...          ...          ...   \n",
       "253365 -0.005395  -0.005143  -0.043410   0.000410   0.017109   0.035006   0.026282   0.019923   0.001907  -0.025519  -0.007373   -0.034826   -0.000201   -0.012587   -0.011031    0.012706    0.009645   -0.032221   -0.033544   -0.006778   -0.016537   -0.014326    0.002446    0.007317   -0.018529    0.025888   -0.025383   -0.027233   -0.008319   -0.014103   -0.011681    0.013274   -0.005183   -0.003356    0.006458    0.004777    0.011190    0.004206    0.000351   -0.012774    ...  0.029307     0.015160     0.007208     0.002729    -0.003002     0.011045     0.006414     0.003497    -0.023973    -0.016487     0.022020     0.019774    -0.017313     0.013190    -0.008089    -0.026604    -0.014307    -0.004948    -0.002621     0.009578     0.013382     0.008487     0.020807    -0.009781    -0.012654     0.029986     0.017729     0.013799     0.008365    -0.007548     0.002831     0.013766    -0.021595    -0.013564     0.001688     0.006134     0.003196    -0.001431     0.013061    -0.016022   \n",
       "253366  0.016049  -0.053875  -0.039519   0.003142   0.011787   0.023708   0.038213   0.006018   0.012308  -0.008320  -0.001973   -0.001503   -0.020835   -0.001807   -0.034008   -0.013829   -0.023083   -0.002043   -0.034844   -0.000376   -0.005484    0.012758   -0.021267   -0.016649   -0.011156    0.016686   -0.018726   -0.005774   -0.007135   -0.010135    0.000041    0.010845   -0.007572    0.002329   -0.002664    0.001232   -0.002023   -0.009218    0.005309   -0.007705    ...  0.010212     0.011342     0.004924    -0.011504     0.002771     0.017083     0.016622     0.003328    -0.020676     0.005347    -0.008052     0.007283     0.006677    -0.002970    -0.015363    -0.011958    -0.008949     0.005435    -0.018031    -0.002104     0.013021     0.000526     0.011986    -0.005090     0.001871     0.023610     0.014381     0.014967     0.009026     0.001887     0.016464     0.014363    -0.009791     0.011103    -0.008849     0.001528     0.008097    -0.015241    -0.019018     0.008318   \n",
       "253367  0.017390  -0.038501  -0.045476   0.006273  -0.012748   0.006499  -0.020471   0.000805   0.030104  -0.009936  -0.064647    0.014982    0.015931   -0.010862   -0.028689    0.023246   -0.059912    0.083458    0.028710    0.033738   -0.015964   -0.035653   -0.030316    0.022977   -0.017483    0.013433    0.038483   -0.026513   -0.030258   -0.025564    0.011780    0.033188    0.078346   -0.070081   -0.004535   -0.005545    0.023379   -0.007387    0.079834    0.011578    ...  0.007150    -0.009969    -0.009740    -0.074763     0.032322    -0.017388     0.041391     0.027332     0.006503    -0.026866    -0.045556    -0.009246     0.017490    -0.025776    -0.035990    -0.010074    -0.053072     0.015988    -0.026022     0.005612    -0.012640     0.010773    -0.026881     0.000381     0.018034    -0.030252     0.003802     0.007512    -0.006146    -0.062718     0.012808    -0.046436     0.003860    -0.022556    -0.027923     0.026625     0.003044    -0.006804     0.035459     0.010159   \n",
       "253368  0.139635   0.006093   0.044317   0.084950  -0.066792   0.054869   0.056692   0.027387   0.060281   0.074270   0.122632    0.020431    0.045850    0.011924   -0.046004   -0.017052   -0.053271    0.034226   -0.103138    0.042097    0.043174   -0.033768    0.011824    0.018962   -0.048532   -0.070412    0.023566    0.097140   -0.085902    0.077642    0.030928   -0.056771   -0.003204    0.040763    0.031643    0.008026   -0.000812   -0.052755   -0.008628    0.037195    ...  0.052927     0.066792     0.044791     0.034751     0.033970    -0.071187     0.034039     0.013017     0.007112    -0.076912     0.017733     0.008190     0.011738    -0.042532    -0.012423     0.065514    -0.023115     0.014225    -0.048259    -0.046333     0.007381    -0.039743    -0.008873     0.004212    -0.028501    -0.061762    -0.002676    -0.056814     0.098988     0.025103    -0.058878    -0.002926    -0.073450    -0.003272    -0.146153    -0.065284     0.030965     0.089508    -0.034780     0.148287   \n",
       "253369 -0.007437  -0.031194  -0.031078   0.009224   0.016236   0.019064   0.009368   0.010133  -0.005379   0.002295  -0.022611   -0.017967   -0.002636    0.002231   -0.013791    0.001579   -0.001187    0.004683   -0.032782    0.000330   -0.000949   -0.036227   -0.017345   -0.002340   -0.017435    0.006949   -0.040283   -0.027215   -0.027768   -0.026569   -0.001571    0.033904    0.002448   -0.005300    0.030104   -0.004722    0.013735    0.015705   -0.006728   -0.027719    ...  0.024742     0.017524     0.004957    -0.026193    -0.000945     0.022017     0.019071     0.014262    -0.034916    -0.007477     0.002206     0.019487    -0.001680     0.014441    -0.021168    -0.036657    -0.029470     0.020496    -0.016994     0.009740     0.019891     0.008831     0.002791    -0.026443     0.005595     0.038125     0.012183     0.014861     0.005350    -0.003047     0.016869     0.012776     0.019894    -0.001743     0.017260     0.020893     0.005705    -0.027350    -0.012887     0.001478   \n",
       "\n",
       "[253370 rows x 200 columns]"
      ]
     },
     "execution_count": 11,
     "metadata": {
      "tags": []
     },
     "output_type": "execute_result"
    }
   ],
   "source": [
    "doc2vec_df.to_pickle('/content/drive/My Drive/capstone3/doc2vec_df.pkl')\n",
    "doc2vec_df"
   ]
  },
  {
   "cell_type": "code",
   "execution_count": 0,
   "metadata": {
    "colab": {},
    "colab_type": "code",
    "id": "v7nPdtCcf2we"
   },
   "outputs": [],
   "source": [
    "from gensim.models import LdaModel, LdaMulticore\n",
    "\n",
    "\n",
    "# Clustering 4\n",
    "model_4 = LdaMulticore(corpus=corpus,\n",
    "                         id2word=dct,\n",
    "                         random_state=100,\n",
    "                         num_topics=4,\n",
    "                         passes=10,\n",
    "                         chunksize=1000,\n",
    "                         batch=False,\n",
    "                         alpha='asymmetric',\n",
    "                         decay=0.5,\n",
    "                         offset=64,\n",
    "                         eta=None,\n",
    "                         eval_every=0,\n",
    "                         iterations=100,\n",
    "                         gamma_threshold=0.001,\n",
    "                         per_word_topics=True)"
   ]
  },
  {
   "cell_type": "code",
   "execution_count": 0,
   "metadata": {
    "colab": {
     "base_uri": "https://localhost:8080/",
     "height": 227
    },
    "colab_type": "code",
    "id": "tsfN2yWb2nTz",
    "outputId": "53ff1c28-302b-4515-855d-deea7614cc43"
   },
   "outputs": [
    {
     "name": "stderr",
     "output_type": "stream",
     "text": [
      "/usr/local/lib/python3.6/dist-packages/smart_open/smart_open_lib.py:402: UserWarning: This function is deprecated, use smart_open.open instead. See the migration notes for details: https://github.com/RaRe-Technologies/smart_open/blob/master/README.rst#migrating-to-the-new-open-function\n",
      "  'See the migration notes for details: %s' % _MIGRATION_NOTES_URL\n"
     ]
    },
    {
     "data": {
      "text/html": [
       "<div>\n",
       "<style scoped>\n",
       "    .dataframe tbody tr th:only-of-type {\n",
       "        vertical-align: middle;\n",
       "    }\n",
       "\n",
       "    .dataframe tbody tr th {\n",
       "        vertical-align: top;\n",
       "    }\n",
       "\n",
       "    .dataframe thead th {\n",
       "        text-align: right;\n",
       "    }\n",
       "</style>\n",
       "<table border=\"1\" class=\"dataframe\">\n",
       "  <thead>\n",
       "    <tr style=\"text-align: right;\">\n",
       "      <th></th>\n",
       "      <th>0</th>\n",
       "      <th>1</th>\n",
       "    </tr>\n",
       "  </thead>\n",
       "  <tbody>\n",
       "    <tr>\n",
       "      <th>0</th>\n",
       "      <td>0</td>\n",
       "      <td>0.020*\"flavor\" + 0.019*\"taste\" + 0.015*\"amazon\" + 0.014*\"chocolate\" + 0.012*\"price\" + 0.012*\"store\" + 0.012*\"box\" + 0.012*\"love\" + 0.011*\"time\" + 0.011*\"bag\"</td>\n",
       "    </tr>\n",
       "    <tr>\n",
       "      <th>1</th>\n",
       "      <td>1</td>\n",
       "      <td>0.096*\"coffee\" + 0.029*\"flavor\" + 0.029*\"cup\" + 0.020*\"taste\" + 0.014*\"sauce\" + 0.013*\"kcup\" + 0.010*\"bean\" + 0.010*\"love\" + 0.009*\"time\" + 0.009*\"blend\"</td>\n",
       "    </tr>\n",
       "    <tr>\n",
       "      <th>2</th>\n",
       "      <td>2</td>\n",
       "      <td>0.066*\"food\" + 0.050*\"dog\" + 0.026*\"cat\" + 0.025*\"treat\" + 0.012*\"time\" + 0.011*\"day\" + 0.010*\"year\" + 0.008*\"chicken\" + 0.008*\"baby\" + 0.008*\"month\"</td>\n",
       "    </tr>\n",
       "    <tr>\n",
       "      <th>3</th>\n",
       "      <td>3</td>\n",
       "      <td>0.095*\"tea\" + 0.039*\"water\" + 0.027*\"taste\" + 0.027*\"flavor\" + 0.022*\"drink\" + 0.021*\"bottle\" + 0.010*\"sugar\" + 0.010*\"day\" + 0.010*\"energy\" + 0.009*\"time\"</td>\n",
       "    </tr>\n",
       "  </tbody>\n",
       "</table>\n",
       "</div>"
      ],
      "text/plain": [
       "   0                                                                                                                                                              1\n",
       "0  0  0.020*\"flavor\" + 0.019*\"taste\" + 0.015*\"amazon\" + 0.014*\"chocolate\" + 0.012*\"price\" + 0.012*\"store\" + 0.012*\"box\" + 0.012*\"love\" + 0.011*\"time\" + 0.011*\"bag\"\n",
       "1  1  0.096*\"coffee\" + 0.029*\"flavor\" + 0.029*\"cup\" + 0.020*\"taste\" + 0.014*\"sauce\" + 0.013*\"kcup\" + 0.010*\"bean\" + 0.010*\"love\" + 0.009*\"time\" + 0.009*\"blend\"    \n",
       "2  2  0.066*\"food\" + 0.050*\"dog\" + 0.026*\"cat\" + 0.025*\"treat\" + 0.012*\"time\" + 0.011*\"day\" + 0.010*\"year\" + 0.008*\"chicken\" + 0.008*\"baby\" + 0.008*\"month\"        \n",
       "3  3  0.095*\"tea\" + 0.039*\"water\" + 0.027*\"taste\" + 0.027*\"flavor\" + 0.022*\"drink\" + 0.021*\"bottle\" + 0.010*\"sugar\" + 0.010*\"day\" + 0.010*\"energy\" + 0.009*\"time\"  "
      ]
     },
     "execution_count": 38,
     "metadata": {
      "tags": []
     },
     "output_type": "execute_result"
    }
   ],
   "source": [
    "model_4.save('/content/drive/My Drive/capstone3/model_4.model')\n",
    "\n",
    "df_4 = pd.DataFrame(model_4.print_topics(-1))\n",
    "df_4"
   ]
  },
  {
   "cell_type": "code",
   "execution_count": 0,
   "metadata": {
    "colab": {},
    "colab_type": "code",
    "id": "VpnFlrXPXXaU"
   },
   "outputs": [],
   "source": [
    "start_time = datetime.now()\n",
    "\n",
    "# Clustering 5\n",
    "model_5 = LdaMulticore(corpus=corpus,\n",
    "                         id2word=dct,\n",
    "                         random_state=100,\n",
    "                         num_topics=5,\n",
    "                         passes=10,\n",
    "                         chunksize=1000,\n",
    "                         batch=False,\n",
    "                         alpha='asymmetric',\n",
    "                         decay=0.5,\n",
    "                         offset=64,\n",
    "                         eta=None,\n",
    "                         eval_every=0,\n",
    "                         iterations=100,\n",
    "                         gamma_threshold=0.001,\n",
    "                         per_word_topics=True)\n",
    "# save the model\n",
    "model_5.save('/content/drive/My Drive/capstone3/model_5.model')\n",
    "end_time = datetime.now()\n",
    "print('Duration: {}.format(end_time -start_time)')\n",
    "df_5 = pd.DataFrame(model_5.print_topics(-1))\n",
    "df_5"
   ]
  },
  {
   "cell_type": "code",
   "execution_count": 0,
   "metadata": {
    "colab": {
     "base_uri": "https://localhost:8080/",
     "height": 34
    },
    "colab_type": "code",
    "id": "Q_5MQ93qmwif",
    "outputId": "0a4e03e2-4d42-4083-be85-8b37b48fc768"
   },
   "outputs": [
    {
     "name": "stdout",
     "output_type": "stream",
     "text": [
      "Duration: 0:23:50.322466\n"
     ]
    }
   ],
   "source": [
    "# Get topic weights\n",
    "topic_weights = []\n",
    "for i, row_list in enumerate(model_5[corpus]):\n",
    "    topic_weights.append([w for i, w in row_list[0]])\n",
    "    \n",
    "# Array of topic weights    \n",
    "arr = pd.DataFrame(topic_weights).fillna(0).values\n",
    "# Keep the well separated points (optional)\n",
    "arr = arr[np.amax(arr, axis=1) > 0.35]\n",
    "# Dominant topic number in each doc\n",
    "topic_num = np.argmax(arr, axis=1)\n",
    "\n",
    "start_time = datetime.now()\n",
    "# tSNE Dimension Reduction\n",
    "tsne_model = TSNE(n_components=2, verbose=0, random_state=0, angle=.99, init='pca')\n",
    "tsne_lda = tsne_model.fit_transform(arr)\n",
    "# Plot the Topic Clusters using Bokeh\n",
    "output_notebook()\n",
    "n_topics = 5\n",
    "\n",
    "end_time = datetime.now()\n",
    "print('Duration: {}'.format(end_time -start_time))"
   ]
  },
  {
   "cell_type": "code",
   "execution_count": 0,
   "metadata": {
    "colab": {},
    "colab_type": "code",
    "id": "M-AvNCAPt7BS"
   },
   "outputs": [],
   "source": [
    "mycolors = np.array([color for name, color in mcolors.TABLEAU_COLORS.items()])\n",
    "plot = figure(title=\"t-SNE Clustering of {} LDA Topics\".format(5), \n",
    "              plot_width=900, plot_height=700)\n",
    "plot.scatter(x=tsne_lda[:,0], y=tsne_lda[:,1], color=mycolors[topic_num])\n",
    "plt.savefig('/content/drive/My Drive/capstone3/amazon_review_analysis/Topic_modelling/5_cluster.png')\n"
   ]
  },
  {
   "cell_type": "code",
   "execution_count": 0,
   "metadata": {
    "colab": {
     "base_uri": "https://localhost:8080/",
     "height": 332,
     "resources": {
      "http://localhost:8080/nbextensions/google.colab/files.js": {
       "data": "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",
       "headers": [
        [
         "content-type",
         "application/javascript"
        ]
       ],
       "ok": true,
       "status": 200,
       "status_text": ""
      }
     }
    },
    "colab_type": "code",
    "id": "c1NxMmLyGO8p",
    "outputId": "23cd49cb-cd40-457b-9e60-c4e41b57774f"
   },
   "outputs": [
    {
     "data": {
      "text/html": [
       "\n",
       "     <input type=\"file\" id=\"files-daf405b9-d74f-4bc2-bd47-cbe22a0998a3\" name=\"files[]\" multiple disabled />\n",
       "     <output id=\"result-daf405b9-d74f-4bc2-bd47-cbe22a0998a3\">\n",
       "      Upload widget is only available when the cell has been executed in the\n",
       "      current browser session. Please rerun this cell to enable.\n",
       "      </output>\n",
       "      <script src=\"/nbextensions/google.colab/files.js\"></script> "
      ],
      "text/plain": [
       "<IPython.core.display.HTML object>"
      ]
     },
     "metadata": {
      "tags": []
     },
     "output_type": "display_data"
    },
    {
     "name": "stdout",
     "output_type": "stream",
     "text": [
      "Saving 5_cluster.png to 5_cluster (3).png\n"
     ]
    },
    {
     "data": {
      "image/png": "[encoded data removed]",
      "text/plain": [
       "<Figure size 432x288 with 1 Axes>"
      ]
     },
     "metadata": {
      "tags": []
     },
     "output_type": "display_data"
    }
   ],
   "source": [
    "uploaded = files.upload()\n",
    "im = Image.open(BytesIO(uploaded['5_cluster.png']))\n",
    "\n",
    "plt.imshow(im)\n",
    "plt.show()"
   ]
  },
  {
   "cell_type": "code",
   "execution_count": 0,
   "metadata": {
    "colab": {
     "base_uri": "https://localhost:8080/",
     "height": 1000
    },
    "colab_type": "code",
    "id": "XaoHIiMc2Qfk",
    "outputId": "3e1056e6-5094-4d74-c5a6-12c3a0e3f5c0"
   },
   "outputs": [
    {
     "name": "stdout",
     "output_type": "stream",
     "text": [
      "Duration: 0:52:04.841795\n"
     ]
    },
    {
     "name": "stderr",
     "output_type": "stream",
     "text": [
      "/usr/local/lib/python3.6/dist-packages/pyLDAvis/_prepare.py:257: FutureWarning: Sorting because non-concatenation axis is not aligned. A future version\n",
      "of pandas will change to not sort by default.\n",
      "\n",
      "To accept the future behavior, pass 'sort=False'.\n",
      "\n",
      "To retain the current behavior and silence the warning, pass 'sort=True'.\n",
      "\n",
      "  return pd.concat([default_term_info] + list(topic_dfs))\n"
     ]
    },
    {
     "data": {
      "text/html": [
       "\n",
       "<link rel=\"stylesheet\" type=\"text/css\" href=\"https://cdn.rawgit.com/bmabey/pyLDAvis/files/ldavis.v1.0.0.css\">\n",
       "\n",
       "\n",
       "<div id=\"ldavis_el1421400116050330329420550874\"></div>\n",
       "<script type=\"text/javascript\">\n",
       "\n",
       "var ldavis_el1421400116050330329420550874_data = {\"mdsDat\": {\"x\": [0.07999930760613898, 0.24751322693422637, -0.03961319413234514, -0.13084764654797976, -0.15705169386004011], \"y\": [0.03613410368454214, 0.037467609726728655, -0.23863009464286045, 0.164121756710768, 0.0009066245208217157], \"topics\": [1, 2, 3, 4, 5], \"cluster\": [1, 1, 1, 1, 1], \"Freq\": [35.32511520385742, 21.75250244140625, 17.4066162109375, 16.382848739624023, 9.132911682128906]}, \"tinfo\": {\"Category\": [\"Default\", \"Default\", \"Default\", \"Default\", \"Default\", \"Default\", \"Default\", \"Default\", \"Default\", \"Default\", \"Default\", \"Default\", \"Default\", \"Default\", \"Default\", \"Default\", \"Default\", \"Default\", \"Default\", \"Default\", \"Default\", \"Default\", \"Default\", \"Default\", \"Default\", \"Default\", \"Default\", \"Default\", \"Default\", \"Default\", \"Topic1\", \"Topic1\", \"Topic1\", \"Topic1\", \"Topic1\", \"Topic1\", \"Topic1\", \"Topic1\", \"Topic1\", \"Topic1\", \"Topic1\", \"Topic1\", \"Topic1\", \"Topic1\", \"Topic1\", \"Topic1\", \"Topic1\", \"Topic1\", \"Topic1\", \"Topic1\", \"Topic1\", \"Topic1\", \"Topic1\", \"Topic1\", \"Topic1\", \"Topic1\", \"Topic1\", \"Topic1\", \"Topic1\", \"Topic1\", \"Topic1\", \"Topic1\", \"Topic1\", \"Topic1\", \"Topic1\", \"Topic1\", \"Topic1\", \"Topic1\", \"Topic1\", \"Topic1\", \"Topic1\", \"Topic1\", \"Topic1\", \"Topic1\", \"Topic1\", \"Topic1\", \"Topic1\", \"Topic1\", \"Topic1\", \"Topic1\", \"Topic1\", \"Topic1\", \"Topic1\", \"Topic1\", \"Topic1\", \"Topic1\", \"Topic1\", \"Topic1\", \"Topic1\", \"Topic1\", \"Topic1\", \"Topic1\", \"Topic1\", \"Topic1\", \"Topic1\", \"Topic1\", \"Topic1\", \"Topic1\", \"Topic2\", \"Topic2\", \"Topic2\", \"Topic2\", \"Topic2\", \"Topic2\", \"Topic2\", \"Topic2\", \"Topic2\", \"Topic2\", \"Topic2\", \"Topic2\", \"Topic2\", \"Topic2\", \"Topic2\", \"Topic2\", \"Topic2\", \"Topic2\", \"Topic2\", \"Topic2\", \"Topic2\", \"Topic2\", \"Topic2\", \"Topic2\", \"Topic2\", \"Topic2\", \"Topic2\", \"Topic2\", \"Topic2\", \"Topic2\", \"Topic2\", \"Topic2\", \"Topic2\", \"Topic2\", \"Topic2\", \"Topic2\", \"Topic2\", \"Topic2\", \"Topic2\", \"Topic2\", \"Topic2\", \"Topic2\", \"Topic2\", \"Topic2\", \"Topic2\", \"Topic2\", \"Topic2\", \"Topic2\", \"Topic2\", \"Topic2\", \"Topic2\", \"Topic2\", \"Topic2\", \"Topic2\", \"Topic2\", \"Topic2\", \"Topic2\", \"Topic2\", \"Topic2\", \"Topic3\", \"Topic3\", \"Topic3\", \"Topic3\", \"Topic3\", \"Topic3\", \"Topic3\", \"Topic3\", \"Topic3\", \"Topic3\", \"Topic3\", \"Topic3\", \"Topic3\", \"Topic3\", \"Topic3\", \"Topic3\", \"Topic3\", \"Topic3\", \"Topic3\", \"Topic3\", \"Topic3\", \"Topic3\", \"Topic3\", \"Topic3\", \"Topic3\", \"Topic3\", \"Topic3\", \"Topic3\", \"Topic3\", \"Topic3\", \"Topic3\", \"Topic3\", \"Topic3\", \"Topic3\", \"Topic3\", \"Topic3\", \"Topic3\", \"Topic3\", \"Topic3\", \"Topic3\", \"Topic3\", \"Topic3\", \"Topic3\", \"Topic3\", \"Topic3\", \"Topic3\", \"Topic3\", \"Topic3\", \"Topic3\", \"Topic3\", \"Topic3\", \"Topic3\", \"Topic3\", \"Topic3\", \"Topic3\", \"Topic3\", \"Topic3\", \"Topic3\", \"Topic3\", \"Topic3\", \"Topic3\", \"Topic3\", \"Topic3\", \"Topic3\", \"Topic3\", \"Topic3\", \"Topic3\", \"Topic3\", \"Topic4\", \"Topic4\", \"Topic4\", \"Topic4\", \"Topic4\", \"Topic4\", \"Topic4\", \"Topic4\", \"Topic4\", \"Topic4\", \"Topic4\", \"Topic4\", \"Topic4\", \"Topic4\", \"Topic4\", \"Topic4\", \"Topic4\", \"Topic4\", \"Topic4\", \"Topic4\", \"Topic4\", \"Topic4\", \"Topic4\", \"Topic4\", \"Topic4\", \"Topic4\", \"Topic4\", \"Topic4\", \"Topic4\", \"Topic4\", \"Topic4\", \"Topic4\", \"Topic4\", \"Topic4\", \"Topic4\", \"Topic4\", \"Topic4\", \"Topic4\", \"Topic4\", \"Topic4\", \"Topic4\", \"Topic4\", \"Topic4\", \"Topic4\", \"Topic4\", \"Topic4\", \"Topic4\", \"Topic4\", \"Topic4\", \"Topic4\", \"Topic4\", \"Topic4\", \"Topic4\", \"Topic5\", \"Topic5\", \"Topic5\", \"Topic5\", \"Topic5\", \"Topic5\", \"Topic5\", \"Topic5\", \"Topic5\", \"Topic5\", \"Topic5\", \"Topic5\", \"Topic5\", \"Topic5\", \"Topic5\", \"Topic5\", \"Topic5\", \"Topic5\", \"Topic5\", \"Topic5\", \"Topic5\", \"Topic5\", \"Topic5\", \"Topic5\", \"Topic5\", \"Topic5\", \"Topic5\", \"Topic5\", \"Topic5\", \"Topic5\", \"Topic5\", \"Topic5\", \"Topic5\", \"Topic5\", \"Topic5\", \"Topic5\", \"Topic5\", \"Topic5\", \"Topic5\", \"Topic5\", \"Topic5\", \"Topic5\", \"Topic5\", \"Topic5\", \"Topic5\", \"Topic5\", \"Topic5\", \"Topic5\", \"Topic5\", \"Topic5\", \"Topic5\", \"Topic5\", \"Topic5\", \"Topic5\", \"Topic5\", \"Topic5\", \"Topic5\"], \"Freq\": [82068.0, 59567.0, 64430.0, 49127.0, 30473.0, 25614.0, 24198.0, 79186.0, 67018.0, 24904.0, 21524.0, 17140.0, 29526.0, 35674.0, 11807.0, 10781.0, 34487.0, 13745.0, 27755.0, 27863.0, 8735.0, 15149.0, 14271.0, 8398.0, 11633.0, 9606.0, 12814.0, 6810.0, 8601.0, 8949.0, 14270.384765625, 12813.6513671875, 8622.00390625, 5637.88330078125, 5597.1044921875, 5403.681640625, 5545.0556640625, 4445.478515625, 4242.10009765625, 3785.99560546875, 2892.820556640625, 2692.0927734375, 10324.5029296875, 2011.063720703125, 1561.6556396484375, 1478.1263427734375, 1336.652587890625, 11583.3544921875, 1277.541015625, 1282.4412841796875, 1273.4791259765625, 1157.08740234375, 1110.16943359375, 1112.00634765625, 1087.7774658203125, 1076.1328125, 1037.7969970703125, 1012.0637817382812, 1015.93310546875, 973.7998046875, 5370.431640625, 3874.46728515625, 8124.2783203125, 2235.1611328125, 2927.47119140625, 2499.03515625, 25242.078125, 30811.572265625, 2442.7763671875, 5144.34375, 2099.48095703125, 22882.294921875, 13977.86328125, 12237.337890625, 6770.6025390625, 25914.546875, 9415.8935546875, 7049.31591796875, 6635.86376953125, 9467.6103515625, 21223.564453125, 11134.142578125, 6546.517578125, 20879.65234375, 18384.9296875, 6717.39208984375, 24017.009765625, 19154.947265625, 10669.2998046875, 8620.611328125, 8257.2080078125, 7181.8359375, 6289.3544921875, 7707.671875, 8031.51123046875, 7101.5068359375, 6907.18017578125, 6989.65283203125, 49127.0234375, 25613.564453125, 24197.419921875, 7519.49365234375, 6327.94775390625, 4546.68212890625, 3779.147216796875, 3543.209716796875, 3486.560546875, 2874.482421875, 64411.58203125, 2429.95263671875, 2370.1904296875, 2282.9462890625, 2255.607666015625, 2244.1923828125, 2111.686279296875, 1895.8011474609375, 1881.4427490234375, 2241.72314453125, 1542.7579345703125, 1519.4085693359375, 1507.9459228515625, 1465.77783203125, 1267.2476806640625, 1235.6376953125, 1030.0784912109375, 1029.37548828125, 959.4522094726562, 955.4302368164062, 4718.05810546875, 1411.50732421875, 2907.666015625, 2190.67041015625, 8005.6025390625, 1816.3729248046875, 4047.963134765625, 6495.30029296875, 7276.50634765625, 5611.77783203125, 11059.966796875, 2697.32470703125, 7179.32568359375, 8876.3564453125, 10785.396484375, 3381.43798828125, 3910.34521484375, 6520.15234375, 3506.97412109375, 5470.8994140625, 4713.2236328125, 6811.88916015625, 4352.080078125, 5624.07568359375, 4168.92041015625, 3848.31640625, 4003.006103515625, 3832.120849609375, 3750.653076171875, 17139.63671875, 8397.431640625, 5052.791015625, 4823.2216796875, 3857.48193359375, 3242.09814453125, 3147.8486328125, 3080.712890625, 2547.775146484375, 2000.3741455078125, 1768.421630859375, 1713.2410888671875, 1005.70703125, 895.3901977539062, 885.3973999023438, 825.2981567382812, 791.9230346679688, 727.574951171875, 684.36083984375, 683.7146606445312, 666.2694091796875, 645.8898315429688, 637.31396484375, 618.6432495117188, 595.5293579101562, 577.114990234375, 530.7025756835938, 512.3953857421875, 505.8337707519531, 501.7220153808594, 1780.8350830078125, 576.2706298828125, 587.0676879882812, 19591.849609375, 3498.444580078125, 973.6637573242188, 5984.72412109375, 1849.79052734375, 8080.31884765625, 7558.296875, 11250.7509765625, 2419.28955078125, 1315.6287841796875, 18474.279296875, 9049.29296875, 20183.8515625, 3454.09912109375, 1320.6346435546875, 9733.6298828125, 2914.400390625, 6002.61279296875, 4095.06005859375, 7509.63623046875, 23937.115234375, 20240.845703125, 5210.73583984375, 6736.4775390625, 2679.517333984375, 5361.30078125, 3281.8583984375, 5680.17431640625, 4328.2861328125, 4342.97412109375, 3955.786376953125, 4110.29931640625, 4257.60546875, 3794.30078125, 3818.714111328125, 82067.3203125, 11806.322265625, 10780.5263671875, 8734.3759765625, 6809.97265625, 5491.8505859375, 5069.1806640625, 4954.74072265625, 4663.43505859375, 4244.326171875, 3987.208740234375, 3747.48583984375, 3149.64794921875, 2959.614013671875, 2079.517578125, 1529.2332763671875, 1206.9166259765625, 1165.379150390625, 1152.964111328125, 1135.8675537109375, 1007.3800659179688, 988.5359497070312, 994.0353393554688, 949.6057739257812, 946.6810302734375, 766.8029174804688, 760.6676635742188, 734.5286865234375, 690.9625854492188, 693.71826171875, 1832.37939453125, 7718.87109375, 24298.9765625, 1459.975341796875, 1575.8673095703125, 3646.2158203125, 2559.169921875, 3118.01025390625, 2698.94140625, 2746.494873046875, 22110.28515625, 4883.056640625, 15229.455078125, 3847.421142578125, 5688.01220703125, 6485.5390625, 4608.37060546875, 5344.58740234375, 5607.18408203125, 4670.92626953125, 3666.494873046875, 3113.811279296875, 3086.64306640625, 59566.4296875, 4300.8330078125, 2450.524169921875, 2218.859130859375, 2204.47021484375, 1714.604736328125, 1470.459716796875, 1369.7900390625, 1031.5894775390625, 839.144775390625, 797.6481323242188, 779.6861572265625, 693.1961669921875, 671.906005859375, 664.891845703125, 620.917236328125, 622.4041137695312, 561.269287109375, 498.44268798828125, 489.1059265136719, 456.0699462890625, 475.15264892578125, 431.96624755859375, 387.5301513671875, 379.2651672363281, 379.5858459472656, 364.2913818359375, 369.3230895996094, 342.6386413574219, 339.99066162109375, 2461.9443359375, 4065.974365234375, 1806.424560546875, 2176.0625, 1081.56591796875, 1356.390625, 7370.63671875, 11339.5810546875, 5645.5, 8688.1357421875, 3404.71435546875, 1455.13720703125, 4976.35888671875, 1975.166748046875, 3558.256103515625, 4195.3916015625, 3292.13623046875, 2721.084716796875, 2286.880126953125, 1981.4749755859375, 2338.293212890625, 1588.9288330078125, 1935.1533203125, 1932.1802978515625, 1893.3443603515625, 1655.2615966796875, 1517.946044921875], \"Term\": [\"coffee\", \"tea\", \"food\", \"dog\", \"cup\", \"cat\", \"treat\", \"flavor\", \"taste\", \"chocolate\", \"sugar\", \"bar\", \"water\", \"bag\", \"sauce\", \"kcup\", \"amazon\", \"milk\", \"box\", \"store\", \"bean\", \"drink\", \"cookie\", \"cereal\", \"calorie\", \"coconut\", \"chip\", \"pod\", \"blend\", \"protein\", \"cookie\", \"chip\", \"grocery\", \"cheese\", \"jar\", \"bread\", \"recipe\", \"butter\", \"cracker\", \"cake\", \"seller\", \"shipment\", \"item\", \"popcorn\", \"party\", \"pancake\", \"blue_diamond\", \"salt\", \"pretzel\", \"ship\", \"vendor\", \"truffle\", \"dip\", \"freezer\", \"jelly\", \"gf\", \"cheddar\", \"curry\", \"bake\", \"waffle\", \"soup\", \"flour\", \"shipping\", \"salad\", \"cook\", \"date\", \"store\", \"amazon\", \"pop\", \"gift\", \"cooking\", \"box\", \"order\", \"package\", \"family\", \"price\", \"oil\", \"candy\", \"kid\", \"pack\", \"bag\", \"snack\", \"rice\", \"time\", \"love\", \"texture\", \"flavor\", \"taste\", \"year\", \"way\", \"thing\", \"mix\", \"purchase\", \"use\", \"brand\", \"quality\", \"lot\", \"day\", \"dog\", \"cat\", \"treat\", \"baby\", \"hair\", \"formula\", \"bone\", \"skin\", \"vet\", \"feed\", \"food\", \"salmon\", \"pill\", \"coat\", \"shampoo\", \"wellness\", \"training\", \"greenie\", \"pet\", \"tuna\", \"conditioner\", \"litter\", \"lab\", \"kitty\", \"feeding\", \"liver\", \"pup\", \"lamb\", \"duck\", \"picky_eater\", \"chew\", \"gas\", \"toy\", \"plant\", \"chicken\", \"china\", \"tooth\", \"problem\", \"month\", \"week\", \"day\", \"weight\", \"ingredient\", \"year\", \"time\", \"meat\", \"smell\", \"brand\", \"health\", \"thing\", \"quality\", \"love\", \"product\", \"bag\", \"stuff\", \"size\", \"something\", \"lot\", \"bit\", \"bar\", \"cereal\", \"juice\", \"syrup\", \"cocoa\", \"gram\", \"soda\", \"granola\", \"blueberry\", \"magnesium\", \"smoothie\", \"shake\", \"oat\", \"cola\", \"mio\", \"alcohol\", \"workout\", \"xylitol\", \"sugarfree\", \"mg\", \"lemonade\", \"coke\", \"hemp\", \"whey\", \"aspartame\", \"zico\", \"liter\", \"cluster\", \"potassium\", \"root_beer\", \"yogurt\", \"essentia\", \"oats\", \"sugar\", \"fiber\", \"pineapple\", \"energy\", \"carb\", \"coconut\", \"protein\", \"milk\", \"stevia\", \"boost\", \"chocolate\", \"calorie\", \"water\", \"vitamin\", \"strawberry\", \"drink\", \"sweetener\", \"fruit\", \"powder\", \"bottle\", \"taste\", \"flavor\", \"diet\", \"ingredient\", \"apple\", \"snack\", \"breakfast\", \"love\", \"something\", \"bit\", \"mix\", \"thing\", \"day\", \"stuff\", \"lot\", \"coffee\", \"sauce\", \"kcup\", \"bean\", \"pod\", \"roast\", \"machine\", \"pasta\", \"starbuck\", \"noodle\", \"maker\", \"pepper\", \"espresso\", \"keurig\", \"hazelnut\", \"cappuccino\", \"coffeebr\", \"marley\", \"popchip\", \"mustard\", \"jalapeno\", \"grind\", \"trap\", \"senseo\", \"kettle\", \"folger\", \"kona\", \"caribou\", \"french_roast\", \"grinder\", \"creamer\", \"blend\", \"cup\", \"filter\", \"brewer\", \"ground\", \"pot\", \"brew\", \"jerky\", \"aroma\", \"flavor\", \"morning\", \"taste\", \"vanilla\", \"brand\", \"love\", \"use\", \"price\", \"time\", \"water\", \"way\", \"review\", \"day\", \"tea\", \"ginger\", \"matcha\", \"licorice\", \"chai\", \"stash\", \"peppermint\", \"flower\", \"leaf\", \"rawhide\", \"lipton\", \"teabr\", \"chamomile\", \"cider\", \"teabag\", \"jasmine\", \"tassimo\", \"chewer\", \"drawer\", \"earl_grey\", \"twining\", \"clove\", \"nylabone\", \"bully_stick\", \"dispenser\", \"kong\", \"rooibos\", \"bitter\", \"hibiscus\", \"yogi\", \"mint\", \"honey\", \"ice\", \"lemon\", \"peach\", \"leave\", \"bag\", \"flavor\", \"cup\", \"taste\", \"drink\", \"caffeine\", \"love\", \"smell\", \"water\", \"time\", \"day\", \"box\", \"bit\", \"milk\", \"brand\", \"minute\", \"way\", \"sugar\", \"use\", \"quality\", \"lot\"], \"Total\": [82068.0, 59567.0, 64430.0, 49127.0, 30473.0, 25614.0, 24198.0, 79186.0, 67018.0, 24904.0, 21524.0, 17140.0, 29526.0, 35674.0, 11807.0, 10781.0, 34487.0, 13745.0, 27755.0, 27863.0, 8735.0, 15149.0, 14271.0, 8398.0, 11633.0, 9606.0, 12814.0, 6810.0, 8601.0, 8949.0, 14271.17578125, 12814.4404296875, 8622.80078125, 5638.6748046875, 5597.90185546875, 5404.4716796875, 5545.8798828125, 4446.27392578125, 4242.88818359375, 3786.78759765625, 2893.615966796875, 2692.888916015625, 10328.1142578125, 2011.8507080078125, 1562.4525146484375, 1478.9163818359375, 1337.45458984375, 11590.47265625, 1278.3282470703125, 1283.242431640625, 1274.2755126953125, 1157.883544921875, 1110.96728515625, 1112.807861328125, 1088.5733642578125, 1076.9208984375, 1038.5860595703125, 1012.8543090820312, 1016.72900390625, 974.5902099609375, 5395.099609375, 3885.438232421875, 8235.7861328125, 2237.665283203125, 2948.8759765625, 2534.230224609375, 27863.1640625, 34487.6640625, 2512.303466796875, 5487.875, 2153.059326171875, 27755.1171875, 16559.431640625, 14513.8525390625, 7693.48388671875, 35614.453125, 11846.640625, 8654.30859375, 8211.8779296875, 12922.9267578125, 35674.99609375, 16496.037109375, 8286.2041015625, 43927.546875, 42338.890625, 9121.720703125, 79186.65625, 67018.546875, 24603.658203125, 21041.13671875, 21372.646484375, 13934.9091796875, 8617.9326171875, 20456.458984375, 24861.37109375, 15206.5, 18591.85546875, 28686.00390625, 49127.8125, 25614.349609375, 24198.60546875, 7520.28662109375, 6328.73583984375, 4547.4765625, 3779.943115234375, 3544.00244140625, 3487.3466796875, 2875.27197265625, 64430.125, 2430.74609375, 2370.98193359375, 2283.738037109375, 2256.39453125, 2244.978515625, 2112.475830078125, 1896.5887451171875, 1882.22998046875, 2242.672607421875, 1543.544677734375, 1520.197265625, 1508.737060546875, 1466.5645751953125, 1268.037109375, 1236.4287109375, 1030.8660888671875, 1030.165283203125, 960.2445678710938, 956.2225952148438, 4757.14794921875, 1417.742919921875, 3018.284912109375, 2290.440185546875, 11209.88671875, 1984.1038818359375, 5443.177734375, 12087.06640625, 14514.583984375, 10023.1552734375, 28686.00390625, 3554.828857421875, 17163.451171875, 24603.658203125, 43927.546875, 5655.900390625, 7974.171875, 24861.37109375, 6563.0341796875, 21372.646484375, 15206.5, 42338.890625, 13008.296875, 35674.99609375, 16120.37109375, 12522.076171875, 17406.0078125, 18591.85546875, 19603.728515625, 17140.42578125, 8398.220703125, 5053.5859375, 4824.0146484375, 3858.276123046875, 3242.888427734375, 3148.638671875, 3081.49951171875, 2548.573974609375, 2001.193115234375, 1769.212890625, 1714.0379638671875, 1006.5005493164062, 896.1768798828125, 886.1865844726562, 826.088623046875, 792.711181640625, 728.3630981445312, 685.152099609375, 684.5087890625, 667.06640625, 646.677490234375, 638.1012573242188, 619.4309692382812, 596.3178100585938, 577.9007568359375, 531.4974365234375, 513.1817016601562, 506.62176513671875, 502.51019287109375, 1787.1341552734375, 577.416259765625, 588.6358032226562, 21524.625, 3705.906982421875, 994.825439453125, 6744.75146484375, 1961.5399169921875, 9606.49609375, 8949.3720703125, 13745.615234375, 2676.967529296875, 1391.95947265625, 24904.8125, 11633.2607421875, 29526.78125, 4233.12109375, 1416.3974609375, 15149.330078125, 3662.65283203125, 8934.5654296875, 5760.51513671875, 13225.8330078125, 67018.546875, 79186.65625, 9602.9990234375, 17163.451171875, 3573.298828125, 16496.037109375, 5889.205078125, 42338.890625, 17406.0078125, 19603.728515625, 13934.9091796875, 21372.646484375, 28686.00390625, 16120.37109375, 18591.85546875, 82068.1015625, 11807.111328125, 10781.3115234375, 8735.16796875, 6810.75634765625, 5492.634765625, 5069.970703125, 4955.53125, 4664.22216796875, 4245.115234375, 3988.016357421875, 3748.280029296875, 3150.4326171875, 2960.399658203125, 2080.308837890625, 1530.019287109375, 1207.702880859375, 1166.1624755859375, 1153.7611083984375, 1136.6585693359375, 1008.168701171875, 989.3247680664062, 994.8294677734375, 950.3885498046875, 947.4783935546875, 767.586181640625, 761.4503173828125, 735.3111572265625, 691.744873046875, 694.5084228515625, 1859.554931640625, 8601.0625, 30473.40234375, 1527.83349609375, 1669.8681640625, 4294.3681640625, 3150.9775390625, 4311.0068359375, 3789.537353515625, 4071.24169921875, 79186.65625, 9634.44140625, 67018.546875, 7905.935546875, 24861.37109375, 42338.890625, 20456.458984375, 35614.453125, 43927.546875, 29526.78125, 21041.13671875, 14967.03125, 28686.00390625, 59567.21484375, 4301.6220703125, 2451.309326171875, 2219.646240234375, 2205.255126953125, 1715.3905029296875, 1471.2490234375, 1370.5806884765625, 1032.37744140625, 839.9415283203125, 798.4337158203125, 780.4722290039062, 693.9794311523438, 672.6959838867188, 665.6790161132812, 621.702392578125, 623.2029418945312, 562.067626953125, 499.2389831542969, 489.88922119140625, 456.853759765625, 475.969482421875, 432.759033203125, 388.32928466796875, 380.0597839355469, 380.38201904296875, 365.0745544433594, 370.1262512207031, 343.42291259765625, 340.7752990722656, 3126.465576171875, 6708.8486328125, 2813.07177734375, 3642.372802734375, 1562.2607421875, 2173.664306640625, 35674.99609375, 79186.65625, 30473.40234375, 67018.546875, 15149.330078125, 3879.26171875, 42338.890625, 7974.171875, 29526.78125, 43927.546875, 28686.00390625, 27755.1171875, 19603.728515625, 13745.615234375, 24861.37109375, 7268.10009765625, 21041.13671875, 21524.625, 20456.458984375, 15206.5, 18591.85546875], \"loglift\": [30.0, 29.0, 28.0, 27.0, 26.0, 25.0, 24.0, 23.0, 22.0, 21.0, 20.0, 19.0, 18.0, 17.0, 16.0, 15.0, 14.0, 13.0, 12.0, 11.0, 10.0, 9.0, 8.0, 7.0, 6.0, 5.0, 4.0, 3.0, 2.0, 1.0, 1.0405000448226929, 1.0405000448226929, 1.0405000448226929, 1.0404000282287598, 1.0404000282287598, 1.0404000282287598, 1.0404000282287598, 1.0404000282287598, 1.0404000282287598, 1.0404000282287598, 1.0403000116348267, 1.0403000116348267, 1.0401999950408936, 1.0401999950408936, 1.0400999784469604, 1.0399999618530273, 1.0399999618530273, 1.0399999618530273, 1.0399999618530273, 1.0399999618530273, 1.0399999618530273, 1.0398999452590942, 1.0398999452590942, 1.0398999452590942, 1.0398000478744507, 1.0398000478744507, 1.0398000478744507, 1.0398000478744507, 1.0398000478744507, 1.0398000478744507, 1.0360000133514404, 1.0377000570297241, 1.026900053024292, 1.0394999980926514, 1.0333000421524048, 1.0266000032424927, 0.9417999982833862, 0.9279000163078308, 1.0125000476837158, 0.9758999943733215, 1.0154000520706177, 0.8475000262260437, 0.8711000084877014, 0.8700000047683716, 0.9128000140190125, 0.722599983215332, 0.8108999729156494, 0.8353999853134155, 0.8274999856948853, 0.7293999791145325, 0.5212000012397766, 0.6474999785423279, 0.8048999905586243, 0.29679998755455017, 0.20640000700950623, 0.7346000075340271, -0.1525000035762787, -0.2117999941110611, 0.20509999990463257, 0.14830000698566437, 0.08959999680519104, 0.37770000100135803, 0.725600004196167, 0.06449999660253525, -0.08940000087022781, 0.2791999876499176, 0.05040000006556511, -0.37139999866485596, 1.5254000425338745, 1.5254000425338745, 1.5254000425338745, 1.5253000259399414, 1.5253000259399414, 1.5253000259399414, 1.5252000093460083, 1.5252000093460083, 1.5252000093460083, 1.5252000093460083, 1.5252000093460083, 1.5250999927520752, 1.5250999927520752, 1.5250999927520752, 1.5250999927520752, 1.5250999927520752, 1.5250999927520752, 1.524999976158142, 1.524999976158142, 1.524999976158142, 1.524899959564209, 1.524899959564209, 1.524899959564209, 1.524899959564209, 1.5247999429702759, 1.5247999429702759, 1.5247000455856323, 1.5247000455856323, 1.5246000289916992, 1.5246000289916992, 1.517199993133545, 1.5210000276565552, 1.4881000518798828, 1.4809000492095947, 1.1887999773025513, 1.4371000528335571, 1.2293000221252441, 0.9043999910354614, 0.8349000215530396, 0.9453999996185303, 0.5723999738693237, 1.249400019645691, 0.6539000272750854, 0.5059000253677368, 0.12110000103712082, 1.0110000371932983, 0.8129000067710876, 0.18700000643730164, 0.8986999988555908, 0.16279999911785126, 0.35409998893737793, -0.30160000920295715, 0.43050000071525574, -0.32199999690055847, 0.17299999296665192, 0.3456000089645386, 0.05570000037550926, -0.05389999970793724, -0.1282999962568283, 1.7482999563217163, 1.7482000589370728, 1.7482000589370728, 1.7482000589370728, 1.7481000423431396, 1.7481000423431396, 1.7481000423431396, 1.7481000423431396, 1.7480000257492065, 1.7479000091552734, 1.7479000091552734, 1.7479000091552734, 1.747499942779541, 1.7474000453948975, 1.7474000453948975, 1.7474000453948975, 1.7473000288009644, 1.7472000122070312, 1.7472000122070312, 1.7472000122070312, 1.7470999956130981, 1.7470999956130981, 1.7470999956130981, 1.746999979019165, 1.746999979019165, 1.746999979019165, 1.7467999458312988, 1.7467999458312988, 1.7467999458312988, 1.7467000484466553, 1.7447999715805054, 1.7462999820709229, 1.7457000017166138, 1.6541999578475952, 1.6907000541687012, 1.7267999649047852, 1.6288000345230103, 1.6897000074386597, 1.5752999782562256, 1.5793999433517456, 1.5479999780654907, 1.6470999717712402, 1.6919000148773193, 1.4495999813079834, 1.4970999956130981, 1.367900013923645, 1.5448999404907227, 1.6783000230789185, 1.305999994277954, 1.5197999477386475, 1.350600004196167, 1.407099962234497, 1.1822999715805054, 0.7188000082969666, 0.38420000672340393, 1.1369999647140503, 0.8130999803543091, 1.4605000019073486, 0.6244000196456909, 1.163599967956543, -0.2603999972343445, 0.35670000314712524, 0.24120000004768372, 0.48910000920295715, 0.09969999641180038, -0.15940000116825104, 0.30169999599456787, 0.1655000001192093, 1.808899998664856, 1.808899998664856, 1.808899998664856, 1.8087999820709229, 1.8087999820709229, 1.8087999820709229, 1.8087999820709229, 1.8087999820709229, 1.8087999820709229, 1.8086999654769897, 1.8086999654769897, 1.8086999654769897, 1.8086999654769897, 1.8086999654769897, 1.8085999488830566, 1.80840003490448, 1.8083000183105469, 1.8083000183105469, 1.8082000017166138, 1.8082000017166138, 1.8082000017166138, 1.8080999851226807, 1.8080999851226807, 1.8080999851226807, 1.8080999851226807, 1.8078999519348145, 1.8078999519348145, 1.8078999519348145, 1.807800054550171, 1.807800054550171, 1.7941999435424805, 1.700700044631958, 1.5824999809265137, 1.7634999752044678, 1.7510000467300415, 1.645300030708313, 1.6009000539779663, 1.4850000143051147, 1.469599962234497, 1.4153000116348267, 0.5332000255584717, 1.1294000148773193, 0.3271999955177307, 1.0887000560760498, 0.33399999141693115, -0.06719999760389328, 0.31850001215934753, -0.0877000018954277, -0.24959999322891235, -0.03500000014901161, 0.0617000013589859, 0.23890000581741333, -0.4203999936580658, 2.3933000564575195, 2.3931000232696533, 2.3929998874664307, 2.392899990081787, 2.392899990081787, 2.3928000926971436, 2.392699956893921, 2.392699956893921, 2.3924999237060547, 2.3922998905181885, 2.3922998905181885, 2.3922998905181885, 2.392199993133545, 2.3921000957489014, 2.3921000957489014, 2.3919999599456787, 2.3919999599456787, 2.391900062561035, 2.391700029373169, 2.391700029373169, 2.3915998935699463, 2.3915998935699463, 2.3914999961853027, 2.391200065612793, 2.391200065612793, 2.391200065612793, 2.3910999298095703, 2.3910999298095703, 2.3910000324249268, 2.3910000324249268, 2.1542999744415283, 1.8925000429153442, 1.9503999948501587, 1.8782000541687012, 2.025599956512451, 1.9217000007629395, 0.8162999749183655, 0.4498000144958496, 0.7073000073432922, 0.35030001401901245, 0.9004999995231628, 1.4127000570297241, 0.2522999942302704, 0.9976999759674072, 0.27730000019073486, 0.04470000043511391, 0.22840000689029694, 0.07090000063180923, 0.24480000138282776, 0.4564000070095062, 0.029400000348687172, 0.8729000091552734, 0.007000000216066837, -0.01730000041425228, 0.013299999758601189, 0.17550000548362732, -0.11209999769926071], \"logprob\": [30.0, 29.0, 28.0, 27.0, 26.0, 25.0, 24.0, 23.0, 22.0, 21.0, 20.0, 19.0, 18.0, 17.0, 16.0, 15.0, 14.0, 13.0, 12.0, 11.0, 10.0, 9.0, 8.0, 7.0, 6.0, 5.0, 4.0, 3.0, 2.0, 1.0, -4.6539998054504395, -4.761600017547607, -5.157800197601318, -5.582600116729736, -5.589900016784668, -5.625100135803223, -5.5991997718811035, -5.820300102233887, -5.867099761962891, -5.980800151824951, -6.249899864196777, -6.321800231933594, -4.97760009765625, -6.613500118255615, -6.866399765014648, -6.92140007019043, -7.021999835968018, -4.862599849700928, -7.067200183868408, -7.063399791717529, -7.070400238037109, -7.166200160980225, -7.207600116729736, -7.205999851226807, -7.228000164031982, -7.238800048828125, -7.275100231170654, -7.30019998550415, -7.296299934387207, -7.338699817657471, -5.631199836730957, -5.957699775695801, -5.217299938201904, -6.507800102233887, -6.23799991607666, -6.396299839019775, -4.083600044250488, -3.8842999935150146, -6.419000148773193, -5.674300193786621, -6.570499897003174, -4.18179988861084, -4.674699783325195, -4.807700157165527, -5.399600028991699, -4.057400226593018, -5.069799900054932, -5.3592000007629395, -5.4197001457214355, -5.064300060272217, -4.256999969482422, -4.902100086212158, -5.433199882507324, -4.273399829864502, -4.400599956512451, -5.40749979019165, -4.133399963378906, -4.359600067138672, -4.944799900054932, -5.1579999923706055, -5.201099872589111, -5.34060001373291, -5.473299980163574, -5.269899845123291, -5.228799819946289, -5.351799964904785, -5.3796000480651855, -5.367700099945068, -2.9328999519348145, -3.584199905395508, -3.6410000324249268, -4.809800148010254, -4.9822998046875, -5.312900066375732, -5.497799873352051, -5.562300205230713, -5.578400135040283, -5.771399974822998, -2.6619999408721924, -5.9394001960754395, -5.964300155639648, -6.001800060272217, -6.013899803161621, -6.018899917602539, -6.079800128936768, -6.187600135803223, -6.195300102233887, -6.019999980926514, -6.393700122833252, -6.408999919891357, -6.416500091552734, -6.444900035858154, -6.590400218963623, -6.615699768066406, -6.797699928283691, -6.798299789428711, -6.86870002746582, -6.872900009155273, -5.275899887084961, -6.482600212097168, -5.759900093078613, -6.043099880218506, -4.747099876403809, -6.230400085449219, -5.429100036621094, -4.956200122833252, -4.842599868774414, -5.102399826049805, -4.423999786376953, -5.835000038146973, -4.856100082397461, -4.643899917602539, -4.449100017547607, -5.609000205993652, -5.463699817657471, -4.952400207519531, -5.572500228881836, -5.127799987792969, -5.276899814605713, -4.908599853515625, -5.356599807739258, -5.100200176239014, -5.399600028991699, -5.479700088500977, -5.440199851989746, -5.48390007019043, -5.50540018081665, -3.763000011444092, -4.476500034332275, -4.984499931335449, -5.031000137329102, -5.25439977645874, -5.428199768066406, -5.457699775695801, -5.479300022125244, -5.6691999435424805, -5.911099910736084, -6.034299850463867, -6.065999984741211, -6.598700046539307, -6.714900016784668, -6.726099967956543, -6.79640007019043, -6.837699890136719, -6.922500133514404, -6.983699798583984, -6.984600067138672, -7.010499954223633, -7.041500091552734, -7.054900169372559, -7.08459997177124, -7.122700214385986, -7.154099941253662, -7.23799991607666, -7.273099899291992, -7.285999774932861, -7.294099807739258, -6.027299880981445, -7.155600070953369, -7.13700008392334, -3.629300117492676, -5.352099895477295, -6.631100177764893, -4.815199851989746, -5.989299774169922, -4.514999866485596, -4.5817999839782715, -4.184000015258789, -5.720900058746338, -6.330100059509277, -3.687999963760376, -4.401700019836426, -3.5994999408721924, -5.3649001121521, -6.326300144195557, -4.328800201416016, -5.5346999168396, -4.81220006942749, -5.1946001052856445, -4.588200092315674, -3.428999900817871, -3.5966999530792236, -4.953700065612793, -4.696899890899658, -5.618800163269043, -4.92519998550415, -5.415999889373779, -4.867400169372559, -5.139200210571289, -5.135900020599365, -5.2291998863220215, -5.190899848937988, -5.155700206756592, -5.270899772644043, -5.264500141143799, -2.1363000869750977, -4.075200080871582, -4.166100025177002, -4.376500129699707, -4.625400066375732, -4.8404998779296875, -4.920599937438965, -4.94350004196167, -5.004000186920166, -5.098199844360352, -5.160699844360352, -5.222700119018555, -5.396500110626221, -5.458700180053711, -5.811699867248535, -6.11899995803833, -6.3557000160217285, -6.3907999992370605, -6.401500225067139, -6.416399955749512, -6.536399841308594, -6.555300235748291, -6.549799919128418, -6.5954999923706055, -6.598599910736084, -6.809299945831299, -6.817399978637695, -6.85230016708374, -6.91349983215332, -6.9095001220703125, -5.938199996948242, -4.500100135803223, -3.3533999919891357, -6.16540002822876, -6.089000225067139, -5.250100135803223, -5.604100227355957, -5.406599998474121, -5.550899982452393, -5.5335001945495605, -3.4477999210357666, -4.958000183105469, -3.8206000328063965, -5.196400165557861, -4.8053998947143555, -4.674200057983398, -5.015900135040283, -4.867700099945068, -4.819699764251709, -5.002399921417236, -5.24459981918335, -5.407899856567383, -5.4166998863220215, -1.8724000453948975, -4.5005998611450195, -5.0630998611450195, -5.162499904632568, -5.169000148773193, -5.420300006866455, -5.57390022277832, -5.644800186157227, -5.928299903869629, -6.134799957275391, -6.185500144958496, -6.2083001136779785, -6.325900077819824, -6.357100009918213, -6.367599964141846, -6.435999870300293, -6.433599948883057, -6.5370001792907715, -6.655700206756592, -6.674600124359131, -6.74459981918335, -6.70359992980957, -6.798900127410889, -6.907400131225586, -6.928999900817871, -6.928100109100342, -6.969200134277344, -6.95550012588501, -7.0304999351501465, -7.038300037384033, -5.058499813079834, -4.55679988861084, -5.368100166320801, -5.1819000244140625, -5.88100004196167, -5.654600143432617, -3.961899995803833, -3.531100034713745, -4.228600025177002, -3.797499895095825, -4.734300136566162, -5.5843000411987305, -4.354700088500977, -5.278800010681152, -4.690199851989746, -4.5254998207092285, -4.767899990081787, -4.958399772644043, -5.132299900054932, -5.275599956512451, -5.110000133514404, -5.496399879455566, -5.299300193786621, -5.30079984664917, -5.321100234985352, -5.45550012588501, -5.542099952697754]}, \"token.table\": {\"Topic\": [3, 1, 2, 4, 1, 3, 4, 5, 3, 2, 1, 2, 4, 5, 1, 3, 4, 1, 2, 3, 4, 5, 5, 3, 4, 5, 1, 3, 2, 2, 3, 1, 2, 3, 4, 5, 1, 2, 4, 5, 1, 2, 3, 4, 5, 1, 1, 3, 4, 5, 4, 5, 2, 4, 5, 1, 3, 4, 5, 1, 1, 2, 3, 1, 3, 4, 1, 3, 4, 2, 3, 5, 5, 1, 1, 2, 5, 5, 1, 2, 4, 2, 5, 1, 1, 3, 5, 5, 3, 2, 3, 1, 3, 4, 4, 3, 3, 2, 1, 4, 1, 1, 4, 1, 4, 5, 3, 4, 5, 1, 1, 2, 1, 2, 3, 4, 5, 1, 2, 3, 1, 5, 2, 5, 3, 4, 5, 2, 5, 2, 3, 4, 2, 3, 1, 2, 3, 4, 5, 2, 2, 2, 3, 4, 5, 1, 2, 3, 4, 5, 1, 3, 5, 4, 1, 2, 2, 1, 4, 1, 3, 2, 3, 1, 1, 4, 5, 5, 3, 3, 2, 4, 4, 1, 2, 4, 2, 4, 1, 2, 3, 3, 5, 3, 5, 3, 5, 1, 2, 3, 1, 2, 4, 1, 5, 1, 2, 4, 3, 4, 4, 4, 1, 3, 2, 4, 5, 2, 2, 5, 1, 2, 3, 4, 5, 1, 3, 5, 3, 5, 5, 3, 2, 2, 1, 2, 3, 4, 5, 1, 2, 3, 4, 5, 4, 3, 4, 4, 5, 1, 2, 4, 3, 1, 3, 4, 5, 1, 3, 5, 1, 2, 3, 4, 5, 3, 1, 2, 3, 5, 1, 2, 4, 5, 2, 3, 4, 5, 4, 4, 5, 3, 1, 3, 1, 2, 1, 2, 4, 5, 1, 2, 3, 4, 5, 1, 2, 4, 5, 1, 1, 4, 3, 5, 4, 5, 2, 2, 2, 1, 3, 2, 3, 4, 1, 4, 5, 4, 1, 4, 5, 3, 1, 2, 3, 4, 5, 1, 1, 2, 4, 5, 1, 2, 3, 4, 5, 1, 2, 3, 4, 2, 3, 2, 1, 2, 4, 5, 1, 2, 3, 4, 5, 5, 1, 1, 2, 3, 4, 5, 1, 2, 3, 4, 5, 3, 1, 4, 2, 1, 4, 4, 1, 4, 3, 2, 1, 1, 1, 2, 1, 2, 3, 4, 5, 2, 1, 2, 3, 4, 5, 3, 1, 3, 3, 1, 2, 3, 4, 5, 1, 2, 4, 5, 3, 5, 1, 2, 4, 5, 1, 3, 1, 2, 3, 4, 5, 3, 5, 3, 3, 5, 3, 5, 1, 2, 3, 4, 5, 5, 5, 5, 1, 2, 3, 4, 1, 2, 3, 4, 5, 1, 2, 3, 4, 5, 1, 2, 3, 2, 5, 2, 4, 1, 2, 1, 2, 5, 1, 2, 3, 4, 5, 1, 3, 4, 5, 1, 2, 2, 3, 1, 2, 3, 4, 5, 1, 2, 3, 4, 5, 1, 2, 3, 4, 5, 1, 2, 3, 2, 3, 3, 3, 1, 2, 3, 4, 5, 5, 1, 3, 3], \"Freq\": [0.9986822009086609, 0.8934208750724792, 0.05483119934797287, 0.05175763741135597, 0.24990913271903992, 0.7500072717666626, 0.6744871139526367, 0.32520791888237, 0.9994670748710632, 0.9998289346694946, 0.5949264764785767, 0.15764543414115906, 0.04084093123674393, 0.20661529898643494, 0.9992830157279968, 0.9999751448631287, 0.9998663067817688, 0.3269276022911072, 0.19134114682674408, 0.2215394824743271, 0.14354412257671356, 0.11666148155927658, 0.9969571232795715, 0.0106963524594903, 0.8974472880363464, 0.09184911847114563, 0.9996601343154907, 0.9997748136520386, 0.9997504949569702, 0.05459929257631302, 0.945429801940918, 0.22554345428943634, 0.14932896196842194, 0.5678281188011169, 0.028277991339564323, 0.02910969778895378, 0.8244245648384094, 0.00014411757001653314, 0.0773911327123642, 0.09803597629070282, 0.3230714797973633, 0.2622542381286621, 0.09182921051979065, 0.22878867387771606, 0.09404147416353226, 0.9999127388000488, 0.07742980122566223, 0.5572908520698547, 0.3012291193008423, 0.06401543319225311, 0.7232649326324463, 0.27650153636932373, 0.055693019181489944, 0.9437870979309082, 0.9991520643234253, 0.9997134804725647, 0.3423331677913666, 0.28252798318862915, 0.37507137656211853, 0.9997920393943787, 0.19874049723148346, 0.02338123507797718, 0.7778558731079102, 0.8145076036453247, 0.18534120917320251, 0.9993337988853455, 0.05658819153904915, 0.9431365728378296, 0.9995768070220947, 0.9999863505363464, 0.9998546242713928, 0.9994308352470398, 0.9985886812210083, 0.9994357228279114, 0.999880313873291, 0.9917706847190857, 0.007987979799509048, 0.9981005191802979, 0.2600383162498474, 0.7141909599304199, 0.02578081376850605, 0.9152746796607971, 0.08416897803544998, 0.9999656081199646, 0.2581830322742462, 0.7417843341827393, 0.9989653825759888, 0.9979631304740906, 0.9976972937583923, 0.9996768236160278, 0.9996692538261414, 0.15885084867477417, 0.8410975337028503, 0.9999865889549255, 0.9994180202484131, 0.998952329158783, 0.9986867904663086, 0.9996471405029297, 0.9925816059112549, 0.007121357601135969, 0.9999176263809204, 0.9748918414115906, 0.02461613528430462, 0.9997906684875488, 0.985181987285614, 0.014519602991640568, 0.017359400168061256, 0.7973839044570923, 0.1852763295173645, 0.9991565346717834, 0.9860982298851013, 0.013810900039970875, 0.24367283284664154, 0.38555386662483215, 0.14843475818634033, 0.1076134517788887, 0.11475979536771774, 0.07841300219297409, 0.37894412875175476, 0.5426429510116577, 0.9991293549537659, 0.9972115159034729, 0.9999834895133972, 0.9975182414054871, 0.6425366401672363, 0.1327451467514038, 0.22476240992546082, 0.9987038969993591, 0.998184859752655, 0.11253194510936737, 0.8873566389083862, 0.9998626708984375, 0.0017318528844043612, 0.9975472688674927, 0.8800954222679138, 0.037434276193380356, 0.011958171613514423, 0.06005081906914711, 0.010528390295803547, 0.999557614326477, 0.9991821050643921, 0.055856771767139435, 0.9438984990119934, 0.9556015133857727, 0.043852947652339935, 0.3032960593700409, 0.01867738924920559, 0.25561124086380005, 0.27921369671821594, 0.1432059407234192, 0.9970561265945435, 0.0025737122632563114, 0.9995763301849365, 0.9992363452911377, 0.00027937241247855127, 0.9997186660766602, 0.9998952150344849, 0.9992740154266357, 0.9989231824874878, 0.32805177569389343, 0.6718849539756775, 0.9959492683410645, 0.004232078790664673, 0.9991448521614075, 0.9373391270637512, 0.006195476278662682, 0.05630594864487648, 0.9998553991317749, 0.9997260570526123, 0.9998378753662109, 0.9996895790100098, 0.9996717572212219, 0.9992679357528687, 0.9999071359634399, 0.15089531242847443, 0.8490189909934998, 0.9998837113380432, 0.9998515248298645, 0.1113814115524292, 0.5343564748764038, 0.35425686836242676, 0.9982741475105286, 0.9987685084342957, 0.3938082456588745, 0.6060652732849121, 0.3576161861419678, 0.6420028209686279, 0.18918105959892273, 0.4182725250720978, 0.3924618661403656, 0.9996984601020813, 0.00029046929557807744, 0.9988407492637634, 0.9998388886451721, 0.9988701939582825, 0.9994732737541199, 0.2876340448856354, 0.7122241258621216, 0.9998840689659119, 0.9999710917472839, 0.9994950890541077, 0.9998649954795837, 0.8080977201461792, 0.19179534912109375, 0.9996150135993958, 0.9994086027145386, 0.9989957213401794, 0.9995114803314209, 0.9988688230514526, 0.9996343851089478, 0.05382615700364113, 0.18816152215003967, 0.0786690041422844, 0.05520631745457649, 0.6238313913345337, 0.10432759672403336, 0.298157274723053, 0.5974127650260925, 0.9984013438224792, 0.9997088313102722, 0.9994567632675171, 0.9990640878677368, 0.9992124438285828, 0.9996532797813416, 0.3715067505836487, 0.20611175894737244, 0.20541252195835114, 0.13532806932926178, 0.08164865523576736, 0.4342343211174011, 0.16089226305484772, 0.13415561616420746, 0.15319249033927917, 0.11752787977457047, 0.9998085498809814, 0.9994037747383118, 0.9997451305389404, 0.9990031719207764, 0.9998738169670105, 0.36422139406204224, 0.5977827906608582, 0.03783659264445305, 0.9992567300796509, 0.010330567136406898, 0.8185155391693115, 0.02699042484164238, 0.14411868155002594, 0.00031984999077394605, 0.21238039433956146, 0.7874706983566284, 0.3021422326564789, 0.30709537863731384, 0.06700512766838074, 0.10511688143014908, 0.21862660348415375, 0.9986610412597656, 0.515396237373352, 0.1435244381427765, 0.28389135003089905, 0.05719448998570442, 0.42550307512283325, 0.5013577938079834, 0.06331562995910645, 0.009852159768342972, 0.12559108436107635, 0.2611464262008667, 0.5068275332450867, 0.10638915002346039, 0.9994205832481384, 0.9997372627258301, 0.9982460737228394, 0.9995026588439941, 0.0016988433199003339, 0.997221052646637, 0.794824481010437, 0.20512144267559052, 0.8441110849380493, 0.01304392609745264, 0.11715377867221832, 0.025665132328867912, 0.7326513528823853, 0.0006964366766624153, 0.04820889234542847, 0.201270192861557, 0.017178770154714584, 0.843125581741333, 0.034863244742155075, 0.08509112149477005, 0.03693023696541786, 0.999380350112915, 0.9997103810310364, 0.9998927712440491, 0.3072470426559448, 0.6925860643386841, 0.9996585249900818, 0.9991510510444641, 0.9993465542793274, 0.9987214207649231, 0.9995858669281006, 0.02110923081636429, 0.9790662527084351, 0.9565846920013428, 0.04322313144803047, 0.9998889565467834, 0.9724143743515015, 0.0003980410983785987, 0.02706679329276085, 0.999340295791626, 0.9995771646499634, 0.8121289014816284, 0.18756084144115448, 0.9987727403640747, 0.2406034767627716, 0.00555505882948637, 0.7108739018440247, 0.002430338179692626, 0.040447771549224854, 0.9997432231903076, 0.7276540398597717, 0.09451219439506531, 0.15007951855659485, 0.027769625186920166, 0.29097217321395874, 0.5373512506484985, 0.05005350336432457, 0.0956394150853157, 0.02589544840157032, 0.4288032650947571, 0.3345557153224945, 0.21140353381633759, 0.025214675813913345, 0.15531815588474274, 0.8445284962654114, 0.9991598725318909, 0.7297573685646057, 0.07205904275178909, 0.13936057686805725, 0.05871477723121643, 0.4670371115207672, 0.30993324518203735, 0.00046032946556806564, 0.11376713961362839, 0.10883503407239914, 0.998879075050354, 0.9998413324356079, 0.4066270589828491, 0.21934877336025238, 0.10462997108697891, 0.20805729925632477, 0.061401620507240295, 0.7901084423065186, 0.18573039770126343, 0.024136504158377647, 0.9998844265937805, 0.9970566034317017, 0.998984694480896, 0.9988089203834534, 0.0008937887032516301, 0.9996930360794067, 0.9993552565574646, 0.0006039442960172892, 0.9999058842658997, 0.9997871518135071, 0.9995911717414856, 0.999394416809082, 0.999825119972229, 0.9990317821502686, 0.9996699094772339, 0.9864267706871033, 0.013477765955030918, 0.4946464002132416, 0.3072972893714905, 0.08856359124183655, 0.10022299736738205, 0.009183780290186405, 0.999717116355896, 0.06633917987346649, 0.49033305048942566, 0.0013794535771012306, 0.19412674009799957, 0.2476746141910553, 0.9993144273757935, 0.6749500036239624, 0.32498714327812195, 0.9997971653938293, 0.3193724751472473, 0.2299780696630478, 0.24864977598190308, 0.13443633913993835, 0.06756287813186646, 0.9953476786613464, 0.004448481369763613, 0.9997379779815674, 0.9997723698616028, 0.9036344289779663, 0.09600415080785751, 0.9059272408485413, 0.07766526192426682, 0.010084999725222588, 0.006352473050355911, 0.0670715719461441, 0.9326478242874146, 0.34186556935310364, 0.2586168646812439, 0.23535437881946564, 0.13132451474666595, 0.03281562030315399, 0.91021329164505, 0.08975765854120255, 0.9983184933662415, 0.7955982089042664, 0.20422355830669403, 0.9997896552085876, 0.9980697631835938, 0.28581640124320984, 0.00013429118553176522, 0.3571697771549225, 0.2272356003522873, 0.129635751247406, 0.9999796152114868, 0.9989799857139587, 0.999394953250885, 0.7363741993904114, 0.018307948485016823, 0.24512918293476105, 0.00010962843953166157, 0.38633492588996887, 0.2559814155101776, 0.19230186939239502, 0.11308847367763519, 0.052309852093458176, 0.47532814741134644, 0.24551792442798615, 0.05600130558013916, 0.12764200568199158, 0.09549815952777863, 0.08230486512184143, 0.7436832189559937, 0.173979252576828, 0.9634610414505005, 0.036444537341594696, 0.9997747540473938, 0.9991662502288818, 4.132469621254131e-05, 0.999933660030365, 0.9992369413375854, 0.9997000694274902, 0.9981312155723572, 0.3768002986907959, 0.17686346173286438, 0.1285657435655594, 0.225258931517601, 0.0925380066037178, 0.00012648724077735096, 0.40830081701278687, 0.4865964353084564, 0.1048579290509224, 0.9989989995956421, 0.9999005794525146, 0.1837887465953827, 0.8159464001655579, 0.999394416809082, 0.037728458642959595, 0.6835827827453613, 0.158195361495018, 0.12050077319145203, 0.4097211956977844, 0.1472829133272171, 0.17679652571678162, 0.17423012852668762, 0.09196271002292633, 0.3248478174209595, 0.5599035024642944, 0.019654490053653717, 0.07243227958679199, 0.023146403953433037, 0.11617999523878098, 0.7586863040924072, 0.12490052729845047, 0.9995641112327576, 0.9993042349815369, 0.9991028308868408, 0.9995014667510986, 0.4336346983909607, 0.36075934767723083, 0.04661908373236656, 0.10152962058782578, 0.057430483400821686, 0.9977248907089233, 0.00335733056999743, 0.9965676069259644, 0.9984413385391235], \"Term\": [\"alcohol\", \"amazon\", \"amazon\", \"amazon\", \"apple\", \"apple\", \"aroma\", \"aroma\", \"aspartame\", \"baby\", \"bag\", \"bag\", \"bag\", \"bag\", \"bake\", \"bar\", \"bean\", \"bit\", \"bit\", \"bit\", \"bit\", \"bit\", \"bitter\", \"blend\", \"blend\", \"blend\", \"blue_diamond\", \"blueberry\", \"bone\", \"boost\", \"boost\", \"bottle\", \"bottle\", \"bottle\", \"bottle\", \"bottle\", \"box\", \"box\", \"box\", \"box\", \"brand\", \"brand\", \"brand\", \"brand\", \"brand\", \"bread\", \"breakfast\", \"breakfast\", \"breakfast\", \"breakfast\", \"brew\", \"brew\", \"brewer\", \"brewer\", \"bully_stick\", \"butter\", \"caffeine\", \"caffeine\", \"caffeine\", \"cake\", \"calorie\", \"calorie\", \"calorie\", \"candy\", \"candy\", \"cappuccino\", \"carb\", \"carb\", \"caribou\", \"cat\", \"cereal\", \"chai\", \"chamomile\", \"cheddar\", \"cheese\", \"chew\", \"chew\", \"chewer\", \"chicken\", \"chicken\", \"chicken\", \"china\", \"china\", \"chip\", \"chocolate\", \"chocolate\", \"cider\", \"clove\", \"cluster\", \"coat\", \"cocoa\", \"coconut\", \"coconut\", \"coffee\", \"coffeebr\", \"coke\", \"cola\", \"conditioner\", \"cook\", \"cook\", \"cookie\", \"cooking\", \"cooking\", \"cracker\", \"creamer\", \"creamer\", \"cup\", \"cup\", \"cup\", \"curry\", \"date\", \"date\", \"day\", \"day\", \"day\", \"day\", \"day\", \"diet\", \"diet\", \"diet\", \"dip\", \"dispenser\", \"dog\", \"drawer\", \"drink\", \"drink\", \"drink\", \"duck\", \"earl_grey\", \"energy\", \"energy\", \"espresso\", \"essentia\", \"essentia\", \"family\", \"family\", \"family\", \"family\", \"family\", \"feed\", \"feeding\", \"fiber\", \"fiber\", \"filter\", \"filter\", \"flavor\", \"flavor\", \"flavor\", \"flavor\", \"flavor\", \"flour\", \"flour\", \"flower\", \"folger\", \"food\", \"food\", \"formula\", \"freezer\", \"french_roast\", \"fruit\", \"fruit\", \"gas\", \"gas\", \"gf\", \"gift\", \"gift\", \"gift\", \"ginger\", \"gram\", \"granola\", \"greenie\", \"grind\", \"grinder\", \"grocery\", \"ground\", \"ground\", \"hair\", \"hazelnut\", \"health\", \"health\", \"health\", \"hemp\", \"hibiscus\", \"honey\", \"honey\", \"ice\", \"ice\", \"ingredient\", \"ingredient\", \"ingredient\", \"item\", \"item\", \"jalapeno\", \"jar\", \"jasmine\", \"jelly\", \"jerky\", \"jerky\", \"juice\", \"kcup\", \"kettle\", \"keurig\", \"kid\", \"kid\", \"kitty\", \"kona\", \"kong\", \"lab\", \"lamb\", \"leaf\", \"leave\", \"leave\", \"leave\", \"leave\", \"leave\", \"lemon\", \"lemon\", \"lemon\", \"lemonade\", \"licorice\", \"lipton\", \"liter\", \"litter\", \"liver\", \"lot\", \"lot\", \"lot\", \"lot\", \"lot\", \"love\", \"love\", \"love\", \"love\", \"love\", \"machine\", \"magnesium\", \"maker\", \"marley\", \"matcha\", \"meat\", \"meat\", \"meat\", \"mg\", \"milk\", \"milk\", \"milk\", \"milk\", \"mint\", \"mint\", \"mint\", \"minute\", \"minute\", \"minute\", \"minute\", \"minute\", \"mio\", \"mix\", \"mix\", \"mix\", \"mix\", \"month\", \"month\", \"month\", \"month\", \"morning\", \"morning\", \"morning\", \"morning\", \"mustard\", \"noodle\", \"nylabone\", \"oat\", \"oats\", \"oats\", \"oil\", \"oil\", \"order\", \"order\", \"order\", \"order\", \"pack\", \"pack\", \"pack\", \"pack\", \"pack\", \"package\", \"package\", \"package\", \"package\", \"pancake\", \"party\", \"pasta\", \"peach\", \"peach\", \"pepper\", \"peppermint\", \"pet\", \"picky_eater\", \"pill\", \"pineapple\", \"pineapple\", \"plant\", \"plant\", \"pod\", \"pop\", \"pop\", \"pop\", \"popchip\", \"popcorn\", \"pot\", \"pot\", \"potassium\", \"powder\", \"powder\", \"powder\", \"powder\", \"powder\", \"pretzel\", \"price\", \"price\", \"price\", \"price\", \"problem\", \"problem\", \"problem\", \"problem\", \"problem\", \"product\", \"product\", \"product\", \"product\", \"protein\", \"protein\", \"pup\", \"purchase\", \"purchase\", \"purchase\", \"purchase\", \"quality\", \"quality\", \"quality\", \"quality\", \"quality\", \"rawhide\", \"recipe\", \"review\", \"review\", \"review\", \"review\", \"review\", \"rice\", \"rice\", \"rice\", \"roast\", \"rooibos\", \"root_beer\", \"salad\", \"salad\", \"salmon\", \"salt\", \"salt\", \"sauce\", \"seller\", \"senseo\", \"shake\", \"shampoo\", \"ship\", \"shipment\", \"shipping\", \"shipping\", \"size\", \"size\", \"size\", \"size\", \"size\", \"skin\", \"smell\", \"smell\", \"smell\", \"smell\", \"smell\", \"smoothie\", \"snack\", \"snack\", \"soda\", \"something\", \"something\", \"something\", \"something\", \"something\", \"soup\", \"soup\", \"starbuck\", \"stash\", \"stevia\", \"stevia\", \"store\", \"store\", \"store\", \"store\", \"strawberry\", \"strawberry\", \"stuff\", \"stuff\", \"stuff\", \"stuff\", \"stuff\", \"sugar\", \"sugar\", \"sugarfree\", \"sweetener\", \"sweetener\", \"syrup\", \"tassimo\", \"taste\", \"taste\", \"taste\", \"taste\", \"taste\", \"tea\", \"teabag\", \"teabr\", \"texture\", \"texture\", \"texture\", \"texture\", \"thing\", \"thing\", \"thing\", \"thing\", \"thing\", \"time\", \"time\", \"time\", \"time\", \"time\", \"tooth\", \"tooth\", \"tooth\", \"toy\", \"toy\", \"training\", \"trap\", \"treat\", \"treat\", \"truffle\", \"tuna\", \"twining\", \"use\", \"use\", \"use\", \"use\", \"use\", \"vanilla\", \"vanilla\", \"vanilla\", \"vanilla\", \"vendor\", \"vet\", \"vitamin\", \"vitamin\", \"waffle\", \"water\", \"water\", \"water\", \"water\", \"way\", \"way\", \"way\", \"way\", \"way\", \"week\", \"week\", \"week\", \"week\", \"week\", \"weight\", \"weight\", \"weight\", \"wellness\", \"whey\", \"workout\", \"xylitol\", \"year\", \"year\", \"year\", \"year\", \"year\", \"yogi\", \"yogurt\", \"yogurt\", \"zico\"]}, \"R\": 30, \"lambda.step\": 0.01, \"plot.opts\": {\"xlab\": \"PC1\", \"ylab\": \"PC2\"}, \"topic.order\": [1, 3, 5, 2, 4]};\n",
       "\n",
       "function LDAvis_load_lib(url, callback){\n",
       "  var s = document.createElement('script');\n",
       "  s.src = url;\n",
       "  s.async = true;\n",
       "  s.onreadystatechange = s.onload = callback;\n",
       "  s.onerror = function(){console.warn(\"failed to load library \" + url);};\n",
       "  document.getElementsByTagName(\"head\")[0].appendChild(s);\n",
       "}\n",
       "\n",
       "if(typeof(LDAvis) !== \"undefined\"){\n",
       "   // already loaded: just create the visualization\n",
       "   !function(LDAvis){\n",
       "       new LDAvis(\"#\" + \"ldavis_el1421400116050330329420550874\", ldavis_el1421400116050330329420550874_data);\n",
       "   }(LDAvis);\n",
       "}else if(typeof define === \"function\" && define.amd){\n",
       "   // require.js is available: use it to load d3/LDAvis\n",
       "   require.config({paths: {d3: \"https://cdnjs.cloudflare.com/ajax/libs/d3/3.5.5/d3.min\"}});\n",
       "   require([\"d3\"], function(d3){\n",
       "      window.d3 = d3;\n",
       "      LDAvis_load_lib(\"https://cdn.rawgit.com/bmabey/pyLDAvis/files/ldavis.v1.0.0.js\", function(){\n",
       "        new LDAvis(\"#\" + \"ldavis_el1421400116050330329420550874\", ldavis_el1421400116050330329420550874_data);\n",
       "      });\n",
       "    });\n",
       "}else{\n",
       "    // require.js not available: dynamically load d3 & LDAvis\n",
       "    LDAvis_load_lib(\"https://cdnjs.cloudflare.com/ajax/libs/d3/3.5.5/d3.min.js\", function(){\n",
       "         LDAvis_load_lib(\"https://cdn.rawgit.com/bmabey/pyLDAvis/files/ldavis.v1.0.0.js\", function(){\n",
       "                 new LDAvis(\"#\" + \"ldavis_el1421400116050330329420550874\", ldavis_el1421400116050330329420550874_data);\n",
       "            })\n",
       "         });\n",
       "}\n",
       "</script>"
      ],
      "text/plain": [
       "PreparedData(topic_coordinates=              x         y  topics  cluster       Freq\n",
       "topic                                                \n",
       "0      0.079999  0.036134  1       1        35.325115\n",
       "2      0.247513  0.037468  2       1        21.752502\n",
       "4     -0.039613 -0.238630  3       1        17.406616\n",
       "1     -0.130848  0.164122  4       1        16.382849\n",
       "3     -0.157052  0.000907  5       1        9.132912 , topic_info=    Category          Freq     Term         Total  loglift  logprob\n",
       "6    Default  82068.000000  coffee   82068.000000  30.0000  30.0000\n",
       "105  Default  59567.000000  tea      59567.000000  29.0000  29.0000\n",
       "66   Default  64430.000000  food     64430.000000  28.0000  28.0000\n",
       "11   Default  49127.000000  dog      49127.000000  27.0000  27.0000\n",
       "7    Default  30473.000000  cup      30473.000000  26.0000  26.0000\n",
       "..       ...           ...  ...               ...      ...      ...\n",
       "127  Topic5   1935.153320   way      21041.136719  0.0070  -5.2993 \n",
       "253  Topic5   1932.180298   sugar    21524.625000 -0.0173  -5.3008 \n",
       "163  Topic5   1893.344360   use      20456.458984  0.0133  -5.3211 \n",
       "480  Topic5   1655.261597   quality  15206.500000  0.1755  -5.4555 \n",
       "117  Topic5   1517.946045   lot      18591.855469 -0.1121  -5.5421 \n",
       "\n",
       "[335 rows x 6 columns], token_table=      Topic      Freq     Term\n",
       "term                          \n",
       "1482  3      0.998682  alcohol\n",
       "38    1      0.893421  amazon \n",
       "38    2      0.054831  amazon \n",
       "38    4      0.051758  amazon \n",
       "214   1      0.249909  apple  \n",
       "...  ..           ...     ... \n",
       "164   5      0.057430  year   \n",
       "5995  5      0.997725  yogi   \n",
       "1050  1      0.003357  yogurt \n",
       "1050  3      0.996568  yogurt \n",
       "3178  3      0.998441  zico   \n",
       "\n",
       "[492 rows x 3 columns], R=30, lambda_step=0.01, plot_opts={'xlab': 'PC1', 'ylab': 'PC2'}, topic_order=[1, 3, 5, 2, 4])"
      ]
     },
     "execution_count": 57,
     "metadata": {
      "tags": []
     },
     "output_type": "execute_result"
    }
   ],
   "source": [
    "start_time = datetime.now()\n",
    "pyLDAvis.enable_notebook()\n",
    "vis = pyLDAvis.gensim.prepare(model_5, corpus, dictionary=model_5.id2word)\n",
    "end_time = datetime.now()\n",
    "print('Duration: {}'.format(end_time -start_time))\n",
    "pyLDAvis.save_html(vis, '/content/drive/My Drive/capstone3/5_topmodelling.html')\n",
    "vis"
   ]
  },
  {
   "cell_type": "code",
   "execution_count": 0,
   "metadata": {
    "colab": {
     "base_uri": "https://localhost:8080/",
     "height": 306
    },
    "colab_type": "code",
    "id": "SudV5VULajwL",
    "outputId": "40f51e4b-0eb9-448d-ddb3-72a5e40edd1c"
   },
   "outputs": [
    {
     "name": "stdout",
     "output_type": "stream",
     "text": [
      "Duration: {}.format(end_time -start_time)\n"
     ]
    },
    {
     "name": "stderr",
     "output_type": "stream",
     "text": [
      "/usr/local/lib/python3.6/dist-packages/smart_open/smart_open_lib.py:402: UserWarning: This function is deprecated, use smart_open.open instead. See the migration notes for details: https://github.com/RaRe-Technologies/smart_open/blob/master/README.rst#migrating-to-the-new-open-function\n",
      "  'See the migration notes for details: %s' % _MIGRATION_NOTES_URL\n"
     ]
    },
    {
     "data": {
      "text/html": [
       "<div>\n",
       "<style scoped>\n",
       "    .dataframe tbody tr th:only-of-type {\n",
       "        vertical-align: middle;\n",
       "    }\n",
       "\n",
       "    .dataframe tbody tr th {\n",
       "        vertical-align: top;\n",
       "    }\n",
       "\n",
       "    .dataframe thead th {\n",
       "        text-align: right;\n",
       "    }\n",
       "</style>\n",
       "<table border=\"1\" class=\"dataframe\">\n",
       "  <thead>\n",
       "    <tr style=\"text-align: right;\">\n",
       "      <th></th>\n",
       "      <th>0</th>\n",
       "      <th>1</th>\n",
       "    </tr>\n",
       "  </thead>\n",
       "  <tbody>\n",
       "    <tr>\n",
       "      <th>0</th>\n",
       "      <td>0</td>\n",
       "      <td>0.033*\"amazon\" + 0.028*\"price\" + 0.026*\"store\" + 0.023*\"box\" + 0.018*\"time\" + 0.017*\"bag\" + 0.015*\"order\" + 0.013*\"cookie\" + 0.012*\"love\" + 0.011*\"year\"</td>\n",
       "    </tr>\n",
       "    <tr>\n",
       "      <th>1</th>\n",
       "      <td>1</td>\n",
       "      <td>0.030*\"flavor\" + 0.020*\"taste\" + 0.019*\"chip\" + 0.018*\"sauce\" + 0.017*\"salt\" + 0.010*\"rice\" + 0.009*\"bag\" + 0.009*\"use\" + 0.009*\"time\" + 0.009*\"love\"</td>\n",
       "    </tr>\n",
       "    <tr>\n",
       "      <th>2</th>\n",
       "      <td>2</td>\n",
       "      <td>0.067*\"food\" + 0.058*\"dog\" + 0.030*\"cat\" + 0.026*\"treat\" + 0.013*\"day\" + 0.012*\"time\" + 0.010*\"year\" + 0.009*\"baby\" + 0.008*\"month\" + 0.008*\"ingredient\"</td>\n",
       "    </tr>\n",
       "    <tr>\n",
       "      <th>3</th>\n",
       "      <td>3</td>\n",
       "      <td>0.048*\"water\" + 0.036*\"taste\" + 0.033*\"flavor\" + 0.026*\"bottle\" + 0.023*\"drink\" + 0.019*\"coconut\" + 0.013*\"milk\" + 0.012*\"sugar\" + 0.011*\"oil\" + 0.010*\"use\"</td>\n",
       "    </tr>\n",
       "    <tr>\n",
       "      <th>4</th>\n",
       "      <td>4</td>\n",
       "      <td>0.044*\"chocolate\" + 0.037*\"bar\" + 0.029*\"sugar\" + 0.028*\"taste\" + 0.026*\"snack\" + 0.025*\"flavor\" + 0.018*\"calorie\" + 0.018*\"cereal\" + 0.017*\"protein\" + 0.013*\"fruit\"</td>\n",
       "    </tr>\n",
       "    <tr>\n",
       "      <th>5</th>\n",
       "      <td>5</td>\n",
       "      <td>0.120*\"coffee\" + 0.082*\"tea\" + 0.040*\"cup\" + 0.031*\"flavor\" + 0.023*\"taste\" + 0.016*\"kcup\" + 0.012*\"love\" + 0.011*\"blend\" + 0.010*\"bag\" + 0.010*\"pod\"</td>\n",
       "    </tr>\n",
       "  </tbody>\n",
       "</table>\n",
       "</div>"
      ],
      "text/plain": [
       "   0                                                                                                                                                                      1\n",
       "0  0  0.033*\"amazon\" + 0.028*\"price\" + 0.026*\"store\" + 0.023*\"box\" + 0.018*\"time\" + 0.017*\"bag\" + 0.015*\"order\" + 0.013*\"cookie\" + 0.012*\"love\" + 0.011*\"year\"             \n",
       "1  1  0.030*\"flavor\" + 0.020*\"taste\" + 0.019*\"chip\" + 0.018*\"sauce\" + 0.017*\"salt\" + 0.010*\"rice\" + 0.009*\"bag\" + 0.009*\"use\" + 0.009*\"time\" + 0.009*\"love\"                \n",
       "2  2  0.067*\"food\" + 0.058*\"dog\" + 0.030*\"cat\" + 0.026*\"treat\" + 0.013*\"day\" + 0.012*\"time\" + 0.010*\"year\" + 0.009*\"baby\" + 0.008*\"month\" + 0.008*\"ingredient\"             \n",
       "3  3  0.048*\"water\" + 0.036*\"taste\" + 0.033*\"flavor\" + 0.026*\"bottle\" + 0.023*\"drink\" + 0.019*\"coconut\" + 0.013*\"milk\" + 0.012*\"sugar\" + 0.011*\"oil\" + 0.010*\"use\"         \n",
       "4  4  0.044*\"chocolate\" + 0.037*\"bar\" + 0.029*\"sugar\" + 0.028*\"taste\" + 0.026*\"snack\" + 0.025*\"flavor\" + 0.018*\"calorie\" + 0.018*\"cereal\" + 0.017*\"protein\" + 0.013*\"fruit\"\n",
       "5  5  0.120*\"coffee\" + 0.082*\"tea\" + 0.040*\"cup\" + 0.031*\"flavor\" + 0.023*\"taste\" + 0.016*\"kcup\" + 0.012*\"love\" + 0.011*\"blend\" + 0.010*\"bag\" + 0.010*\"pod\"                "
      ]
     },
     "execution_count": 40,
     "metadata": {
      "tags": []
     },
     "output_type": "execute_result"
    }
   ],
   "source": [
    "start_time = datetime.now()\n",
    "\n",
    "# Clustering 6\n",
    "model_6 = LdaMulticore(corpus=corpus,\n",
    "                         id2word=dct,\n",
    "                         random_state=100,\n",
    "                         num_topics=6,\n",
    "                         passes=10,\n",
    "                         chunksize=1000,\n",
    "                         batch=False,\n",
    "                         alpha='asymmetric',\n",
    "                         decay=0.5,\n",
    "                         offset=64,\n",
    "                         eta=None,\n",
    "                         eval_every=0,\n",
    "                         iterations=100,\n",
    "                         gamma_threshold=0.001,\n",
    "                         per_word_topics=True)\n",
    "# save the model\n",
    "model_6.save('/content/drive/My Drive/capstone3/model_6.model')\n",
    "end_time = datetime.now()\n",
    "print('Duration: {}.format(end_time -start_time)')\n",
    "df_6 = pd.DataFrame(model_6.print_topics(-1))\n",
    "df_6"
   ]
  },
  {
   "cell_type": "code",
   "execution_count": 0,
   "metadata": {
    "colab": {
     "base_uri": "https://localhost:8080/",
     "height": 337
    },
    "colab_type": "code",
    "id": "5_YNIReUdKbm",
    "outputId": "7df162e6-0d30-4120-934c-7dae3515e1c8"
   },
   "outputs": [
    {
     "name": "stdout",
     "output_type": "stream",
     "text": [
      "Duration: {}.format(end_time -start_time)\n"
     ]
    },
    {
     "name": "stderr",
     "output_type": "stream",
     "text": [
      "/usr/local/lib/python3.6/dist-packages/smart_open/smart_open_lib.py:402: UserWarning: This function is deprecated, use smart_open.open instead. See the migration notes for details: https://github.com/RaRe-Technologies/smart_open/blob/master/README.rst#migrating-to-the-new-open-function\n",
      "  'See the migration notes for details: %s' % _MIGRATION_NOTES_URL\n"
     ]
    },
    {
     "data": {
      "text/html": [
       "<div>\n",
       "<style scoped>\n",
       "    .dataframe tbody tr th:only-of-type {\n",
       "        vertical-align: middle;\n",
       "    }\n",
       "\n",
       "    .dataframe tbody tr th {\n",
       "        vertical-align: top;\n",
       "    }\n",
       "\n",
       "    .dataframe thead th {\n",
       "        text-align: right;\n",
       "    }\n",
       "</style>\n",
       "<table border=\"1\" class=\"dataframe\">\n",
       "  <thead>\n",
       "    <tr style=\"text-align: right;\">\n",
       "      <th></th>\n",
       "      <th>0</th>\n",
       "      <th>1</th>\n",
       "    </tr>\n",
       "  </thead>\n",
       "  <tbody>\n",
       "    <tr>\n",
       "      <th>0</th>\n",
       "      <td>0</td>\n",
       "      <td>0.036*\"amazon\" + 0.032*\"price\" + 0.028*\"store\" + 0.024*\"box\" + 0.018*\"time\" + 0.018*\"bag\" + 0.016*\"order\" + 0.012*\"love\" + 0.011*\"year\" + 0.011*\"item\"</td>\n",
       "    </tr>\n",
       "    <tr>\n",
       "      <th>1</th>\n",
       "      <td>1</td>\n",
       "      <td>0.032*\"flavor\" + 0.021*\"taste\" + 0.020*\"chip\" + 0.018*\"sauce\" + 0.018*\"salt\" + 0.010*\"rice\" + 0.010*\"bag\" + 0.009*\"love\" + 0.009*\"food\" + 0.009*\"cheese\"</td>\n",
       "    </tr>\n",
       "    <tr>\n",
       "      <th>2</th>\n",
       "      <td>2</td>\n",
       "      <td>0.071*\"food\" + 0.059*\"dog\" + 0.031*\"cat\" + 0.027*\"treat\" + 0.013*\"day\" + 0.012*\"time\" + 0.010*\"year\" + 0.009*\"baby\" + 0.009*\"ingredient\" + 0.008*\"month\"</td>\n",
       "    </tr>\n",
       "    <tr>\n",
       "      <th>3</th>\n",
       "      <td>3</td>\n",
       "      <td>0.063*\"water\" + 0.030*\"taste\" + 0.030*\"bottle\" + 0.025*\"flavor\" + 0.023*\"drink\" + 0.022*\"coconut\" + 0.017*\"oil\" + 0.014*\"milk\" + 0.013*\"use\" + 0.011*\"powder\"</td>\n",
       "    </tr>\n",
       "    <tr>\n",
       "      <th>4</th>\n",
       "      <td>4</td>\n",
       "      <td>0.046*\"chocolate\" + 0.032*\"bar\" + 0.030*\"taste\" + 0.030*\"sugar\" + 0.029*\"flavor\" + 0.022*\"snack\" + 0.021*\"cookie\" + 0.016*\"calorie\" + 0.016*\"cereal\" + 0.014*\"protein\"</td>\n",
       "    </tr>\n",
       "    <tr>\n",
       "      <th>5</th>\n",
       "      <td>5</td>\n",
       "      <td>0.152*\"coffee\" + 0.045*\"cup\" + 0.029*\"flavor\" + 0.021*\"taste\" + 0.020*\"kcup\" + 0.013*\"blend\" + 0.012*\"pod\" + 0.011*\"bean\" + 0.010*\"love\" + 0.010*\"roast\"</td>\n",
       "    </tr>\n",
       "    <tr>\n",
       "      <th>6</th>\n",
       "      <td>6</td>\n",
       "      <td>0.215*\"tea\" + 0.035*\"flavor\" + 0.028*\"taste\" + 0.020*\"bag\" + 0.017*\"honey\" + 0.016*\"ginger\" + 0.015*\"love\" + 0.014*\"cup\" + 0.010*\"day\" + 0.010*\"time\"</td>\n",
       "    </tr>\n",
       "  </tbody>\n",
       "</table>\n",
       "</div>"
      ],
      "text/plain": [
       "   0                                                                                                                                                                       1\n",
       "0  0  0.036*\"amazon\" + 0.032*\"price\" + 0.028*\"store\" + 0.024*\"box\" + 0.018*\"time\" + 0.018*\"bag\" + 0.016*\"order\" + 0.012*\"love\" + 0.011*\"year\" + 0.011*\"item\"                \n",
       "1  1  0.032*\"flavor\" + 0.021*\"taste\" + 0.020*\"chip\" + 0.018*\"sauce\" + 0.018*\"salt\" + 0.010*\"rice\" + 0.010*\"bag\" + 0.009*\"love\" + 0.009*\"food\" + 0.009*\"cheese\"              \n",
       "2  2  0.071*\"food\" + 0.059*\"dog\" + 0.031*\"cat\" + 0.027*\"treat\" + 0.013*\"day\" + 0.012*\"time\" + 0.010*\"year\" + 0.009*\"baby\" + 0.009*\"ingredient\" + 0.008*\"month\"              \n",
       "3  3  0.063*\"water\" + 0.030*\"taste\" + 0.030*\"bottle\" + 0.025*\"flavor\" + 0.023*\"drink\" + 0.022*\"coconut\" + 0.017*\"oil\" + 0.014*\"milk\" + 0.013*\"use\" + 0.011*\"powder\"         \n",
       "4  4  0.046*\"chocolate\" + 0.032*\"bar\" + 0.030*\"taste\" + 0.030*\"sugar\" + 0.029*\"flavor\" + 0.022*\"snack\" + 0.021*\"cookie\" + 0.016*\"calorie\" + 0.016*\"cereal\" + 0.014*\"protein\"\n",
       "5  5  0.152*\"coffee\" + 0.045*\"cup\" + 0.029*\"flavor\" + 0.021*\"taste\" + 0.020*\"kcup\" + 0.013*\"blend\" + 0.012*\"pod\" + 0.011*\"bean\" + 0.010*\"love\" + 0.010*\"roast\"              \n",
       "6  6  0.215*\"tea\" + 0.035*\"flavor\" + 0.028*\"taste\" + 0.020*\"bag\" + 0.017*\"honey\" + 0.016*\"ginger\" + 0.015*\"love\" + 0.014*\"cup\" + 0.010*\"day\" + 0.010*\"time\"                 "
      ]
     },
     "execution_count": 41,
     "metadata": {
      "tags": []
     },
     "output_type": "execute_result"
    }
   ],
   "source": [
    "start_time = datetime.now()\n",
    "\n",
    "# Clustering 7\n",
    "model_7 = LdaMulticore(corpus=corpus,\n",
    "                         id2word=dct,\n",
    "                         random_state=100,\n",
    "                         num_topics=7,\n",
    "                         passes=10,\n",
    "                         chunksize=1000,\n",
    "                         batch=False,\n",
    "                         alpha='asymmetric',\n",
    "                         decay=0.5,\n",
    "                         offset=64,\n",
    "                         eta=None,\n",
    "                         eval_every=0,\n",
    "                         iterations=100,\n",
    "                         gamma_threshold=0.001,\n",
    "                         per_word_topics=True)\n",
    "# save the model\n",
    "model_7.save('/content/drive/My Drive/capstone3/model_7.model')\n",
    "end_time = datetime.now()\n",
    "print('Duration: {}.format(end_time -start_time)')\n",
    "df_7 = pd.DataFrame(model_7.print_topics(-1))\n",
    "df_7"
   ]
  },
  {
   "cell_type": "code",
   "execution_count": 0,
   "metadata": {
    "colab": {
     "base_uri": "https://localhost:8080/",
     "height": 368
    },
    "colab_type": "code",
    "id": "XLpAAv8vf_IF",
    "outputId": "55b45d2b-6035-48a8-c66f-4e717a7f5ced"
   },
   "outputs": [
    {
     "name": "stdout",
     "output_type": "stream",
     "text": [
      "Duration: 0:09:52.389448\n"
     ]
    },
    {
     "name": "stderr",
     "output_type": "stream",
     "text": [
      "/usr/local/lib/python3.6/dist-packages/smart_open/smart_open_lib.py:402: UserWarning: This function is deprecated, use smart_open.open instead. See the migration notes for details: https://github.com/RaRe-Technologies/smart_open/blob/master/README.rst#migrating-to-the-new-open-function\n",
      "  'See the migration notes for details: %s' % _MIGRATION_NOTES_URL\n"
     ]
    },
    {
     "data": {
      "text/html": [
       "<div>\n",
       "<style scoped>\n",
       "    .dataframe tbody tr th:only-of-type {\n",
       "        vertical-align: middle;\n",
       "    }\n",
       "\n",
       "    .dataframe tbody tr th {\n",
       "        vertical-align: top;\n",
       "    }\n",
       "\n",
       "    .dataframe thead th {\n",
       "        text-align: right;\n",
       "    }\n",
       "</style>\n",
       "<table border=\"1\" class=\"dataframe\">\n",
       "  <thead>\n",
       "    <tr style=\"text-align: right;\">\n",
       "      <th></th>\n",
       "      <th>0</th>\n",
       "      <th>1</th>\n",
       "    </tr>\n",
       "  </thead>\n",
       "  <tbody>\n",
       "    <tr>\n",
       "      <th>0</th>\n",
       "      <td>0</td>\n",
       "      <td>0.038*\"amazon\" + 0.034*\"price\" + 0.030*\"store\" + 0.026*\"box\" + 0.019*\"bag\" + 0.019*\"time\" + 0.017*\"order\" + 0.013*\"love\" + 0.011*\"item\" + 0.011*\"package\"</td>\n",
       "    </tr>\n",
       "    <tr>\n",
       "      <th>1</th>\n",
       "      <td>1</td>\n",
       "      <td>0.034*\"flavor\" + 0.021*\"taste\" + 0.021*\"chip\" + 0.020*\"sauce\" + 0.019*\"salt\" + 0.011*\"food\" + 0.011*\"rice\" + 0.011*\"love\" + 0.010*\"bag\" + 0.009*\"cheese\"</td>\n",
       "    </tr>\n",
       "    <tr>\n",
       "      <th>2</th>\n",
       "      <td>2</td>\n",
       "      <td>0.034*\"water\" + 0.017*\"bottle\" + 0.016*\"day\" + 0.016*\"oil\" + 0.015*\"coconut\" + 0.014*\"taste\" + 0.013*\"baby\" + 0.012*\"time\" + 0.011*\"hair\" + 0.010*\"use\"</td>\n",
       "    </tr>\n",
       "    <tr>\n",
       "      <th>3</th>\n",
       "      <td>3</td>\n",
       "      <td>0.041*\"mix\" + 0.038*\"flavor\" + 0.024*\"powder\" + 0.023*\"water\" + 0.021*\"juice\" + 0.019*\"drink\" + 0.016*\"fruit\" + 0.015*\"packet\" + 0.015*\"taste\" + 0.015*\"cake\"</td>\n",
       "    </tr>\n",
       "    <tr>\n",
       "      <th>4</th>\n",
       "      <td>4</td>\n",
       "      <td>0.047*\"chocolate\" + 0.034*\"sugar\" + 0.033*\"taste\" + 0.032*\"bar\" + 0.029*\"flavor\" + 0.020*\"snack\" + 0.017*\"cookie\" + 0.017*\"calorie\" + 0.016*\"cereal\" + 0.015*\"milk\"</td>\n",
       "    </tr>\n",
       "    <tr>\n",
       "      <th>5</th>\n",
       "      <td>5</td>\n",
       "      <td>0.155*\"coffee\" + 0.048*\"cup\" + 0.030*\"flavor\" + 0.023*\"taste\" + 0.021*\"kcup\" + 0.013*\"blend\" + 0.013*\"pod\" + 0.012*\"bean\" + 0.010*\"roast\" + 0.010*\"love\"</td>\n",
       "    </tr>\n",
       "    <tr>\n",
       "      <th>6</th>\n",
       "      <td>6</td>\n",
       "      <td>0.217*\"tea\" + 0.042*\"flavor\" + 0.031*\"taste\" + 0.021*\"bag\" + 0.017*\"honey\" + 0.017*\"love\" + 0.016*\"ginger\" + 0.015*\"cup\" + 0.011*\"drink\" + 0.010*\"time\"</td>\n",
       "    </tr>\n",
       "    <tr>\n",
       "      <th>7</th>\n",
       "      <td>7</td>\n",
       "      <td>0.089*\"food\" + 0.084*\"dog\" + 0.044*\"cat\" + 0.038*\"treat\" + 0.011*\"time\" + 0.011*\"chicken\" + 0.011*\"year\" + 0.010*\"ingredient\" + 0.010*\"day\" + 0.009*\"love\"</td>\n",
       "    </tr>\n",
       "  </tbody>\n",
       "</table>\n",
       "</div>"
      ],
      "text/plain": [
       "   0                                                                                                                                                                    1\n",
       "0  0  0.038*\"amazon\" + 0.034*\"price\" + 0.030*\"store\" + 0.026*\"box\" + 0.019*\"bag\" + 0.019*\"time\" + 0.017*\"order\" + 0.013*\"love\" + 0.011*\"item\" + 0.011*\"package\"          \n",
       "1  1  0.034*\"flavor\" + 0.021*\"taste\" + 0.021*\"chip\" + 0.020*\"sauce\" + 0.019*\"salt\" + 0.011*\"food\" + 0.011*\"rice\" + 0.011*\"love\" + 0.010*\"bag\" + 0.009*\"cheese\"           \n",
       "2  2  0.034*\"water\" + 0.017*\"bottle\" + 0.016*\"day\" + 0.016*\"oil\" + 0.015*\"coconut\" + 0.014*\"taste\" + 0.013*\"baby\" + 0.012*\"time\" + 0.011*\"hair\" + 0.010*\"use\"            \n",
       "3  3  0.041*\"mix\" + 0.038*\"flavor\" + 0.024*\"powder\" + 0.023*\"water\" + 0.021*\"juice\" + 0.019*\"drink\" + 0.016*\"fruit\" + 0.015*\"packet\" + 0.015*\"taste\" + 0.015*\"cake\"      \n",
       "4  4  0.047*\"chocolate\" + 0.034*\"sugar\" + 0.033*\"taste\" + 0.032*\"bar\" + 0.029*\"flavor\" + 0.020*\"snack\" + 0.017*\"cookie\" + 0.017*\"calorie\" + 0.016*\"cereal\" + 0.015*\"milk\"\n",
       "5  5  0.155*\"coffee\" + 0.048*\"cup\" + 0.030*\"flavor\" + 0.023*\"taste\" + 0.021*\"kcup\" + 0.013*\"blend\" + 0.013*\"pod\" + 0.012*\"bean\" + 0.010*\"roast\" + 0.010*\"love\"           \n",
       "6  6  0.217*\"tea\" + 0.042*\"flavor\" + 0.031*\"taste\" + 0.021*\"bag\" + 0.017*\"honey\" + 0.017*\"love\" + 0.016*\"ginger\" + 0.015*\"cup\" + 0.011*\"drink\" + 0.010*\"time\"            \n",
       "7  7  0.089*\"food\" + 0.084*\"dog\" + 0.044*\"cat\" + 0.038*\"treat\" + 0.011*\"time\" + 0.011*\"chicken\" + 0.011*\"year\" + 0.010*\"ingredient\" + 0.010*\"day\" + 0.009*\"love\"         "
      ]
     },
     "execution_count": 42,
     "metadata": {
      "tags": []
     },
     "output_type": "execute_result"
    }
   ],
   "source": [
    "start_time = datetime.now()\n",
    "\n",
    "# Clustering 8\n",
    "model_8 = LdaMulticore(corpus=corpus,\n",
    "                         id2word=dct,\n",
    "                         random_state=100,\n",
    "                         num_topics=8,\n",
    "                         passes=10,\n",
    "                         chunksize=1000,\n",
    "                         batch=False,\n",
    "                         alpha='asymmetric',\n",
    "                         decay=0.5,\n",
    "                         offset=64,\n",
    "                         eta=None,\n",
    "                         eval_every=0,\n",
    "                         iterations=100,\n",
    "                         gamma_threshold=0.001,\n",
    "                         per_word_topics=True)\n",
    "# save the model\n",
    "model_8.save('/content/drive/My Drive/capstone3/model_8.model')\n",
    "end_time = datetime.now()\n",
    "print('Duration: {}'.format(end_time -start_time))\n",
    "df_8 = pd.DataFrame(model_8.print_topics(-1))\n",
    "df_8"
   ]
  },
  {
   "cell_type": "code",
   "execution_count": 0,
   "metadata": {
    "colab": {
     "base_uri": "https://localhost:8080/",
     "height": 34
    },
    "colab_type": "code",
    "id": "xu6a6XAiudu_",
    "outputId": "5c625bf8-356b-4cfa-a861-425ec74d0484"
   },
   "outputs": [
    {
     "name": "stdout",
     "output_type": "stream",
     "text": [
      "Duration: 0:22:54.461859\n"
     ]
    }
   ],
   "source": [
    "# Get topic weights\n",
    "topic_weights = []\n",
    "for i, row_list in enumerate(model_8[corpus]):\n",
    "    topic_weights.append([w for i, w in row_list[0]])\n",
    "    \n",
    "# Array of topic weights    \n",
    "arr = pd.DataFrame(topic_weights).fillna(0).values\n",
    "# Keep the well separated points (optional)\n",
    "arr = arr[np.amax(arr, axis=1) > 0.35]\n",
    "# Dominant topic number in each doc\n",
    "topic_num = np.argmax(arr, axis=1)\n",
    "\n",
    "start_time = datetime.now()\n",
    "# tSNE Dimension Reduction\n",
    "tsne_model = TSNE(n_components=2, verbose=0, random_state=0, angle=.99, init='pca')\n",
    "tsne_lda = tsne_model.fit_transform(arr)\n",
    "# Plot the Topic Clusters using Bokeh\n",
    "output_notebook()\n",
    "n_topics = 8\n",
    "\n",
    "end_time = datetime.now()\n",
    "print('Duration: {}'.format(end_time -start_time))"
   ]
  },
  {
   "cell_type": "code",
   "execution_count": 0,
   "metadata": {
    "colab": {},
    "colab_type": "code",
    "id": "vvc8cNwV1iBZ"
   },
   "outputs": [],
   "source": [
    "mycolors = np.array([color for name, color in mcolors.TABLEAU_COLORS.items()])\n",
    "plot = figure(title=\"t-SNE Clustering of {} LDA Topics\".format(8), \n",
    "              plot_width=900, plot_height=700)\n",
    "plot.scatter(x=tsne_lda[:,0], y=tsne_lda[:,1], color=mycolors[topic_num])\n",
    "plt.savefig('/content/drive/My Drive/capstone3/5_topmodelling.png')\n",
    "show(plot)"
   ]
  },
  {
   "cell_type": "code",
   "execution_count": 0,
   "metadata": {
    "colab": {
     "base_uri": "https://localhost:8080/",
     "height": 332,
     "resources": {
      "http://localhost:8080/nbextensions/google.colab/files.js": {
       "data": "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",
       "headers": [
        [
         "content-type",
         "application/javascript"
        ]
       ],
       "ok": true,
       "status": 200,
       "status_text": ""
      }
     }
    },
    "colab_type": "code",
    "id": "b01rKKd8JEpN",
    "outputId": "4934815f-1358-4f76-9f6b-131eebbdf5c3"
   },
   "outputs": [
    {
     "data": {
      "text/html": [
       "\n",
       "     <input type=\"file\" id=\"files-392bf64d-fff6-4402-a215-771407e558be\" name=\"files[]\" multiple disabled />\n",
       "     <output id=\"result-392bf64d-fff6-4402-a215-771407e558be\">\n",
       "      Upload widget is only available when the cell has been executed in the\n",
       "      current browser session. Please rerun this cell to enable.\n",
       "      </output>\n",
       "      <script src=\"/nbextensions/google.colab/files.js\"></script> "
      ],
      "text/plain": [
       "<IPython.core.display.HTML object>"
      ]
     },
     "metadata": {
      "tags": []
     },
     "output_type": "display_data"
    },
    {
     "name": "stdout",
     "output_type": "stream",
     "text": [
      "Saving 8_cluster.png to 8_cluster (1).png\n"
     ]
    },
    {
     "data": {
      "image/png": "[encoded data removed]",
      "text/plain": [
       "<Figure size 432x288 with 1 Axes>"
      ]
     },
     "metadata": {
      "tags": []
     },
     "output_type": "display_data"
    }
   ],
   "source": [
    "uploaded = files.upload()\n",
    "im = Image.open(BytesIO(uploaded['8_cluster.png']))\n",
    "\n",
    "plt.imshow(im)\n",
    "plt.show()"
   ]
  },
  {
   "cell_type": "code",
   "execution_count": 0,
   "metadata": {
    "colab": {
     "base_uri": "https://localhost:8080/",
     "height": 1000
    },
    "colab_type": "code",
    "id": "XFhJ9cEYJXTw",
    "outputId": "0921974a-7ec0-4d12-c72e-6ebe4d2cda8d"
   },
   "outputs": [
    {
     "name": "stderr",
     "output_type": "stream",
     "text": [
      "/usr/local/lib/python3.6/dist-packages/pyLDAvis/_prepare.py:257: FutureWarning: Sorting because non-concatenation axis is not aligned. A future version\n",
      "of pandas will change to not sort by default.\n",
      "\n",
      "To accept the future behavior, pass 'sort=False'.\n",
      "\n",
      "To retain the current behavior and silence the warning, pass 'sort=True'.\n",
      "\n",
      "  return pd.concat([default_term_info] + list(topic_dfs))\n"
     ]
    },
    {
     "name": "stdout",
     "output_type": "stream",
     "text": [
      "Duration: 0:52:10.566577\n"
     ]
    },
    {
     "data": {
      "text/html": [
       "\n",
       "<link rel=\"stylesheet\" type=\"text/css\" href=\"https://cdn.rawgit.com/bmabey/pyLDAvis/files/ldavis.v1.0.0.css\">\n",
       "\n",
       "\n",
       "<div id=\"ldavis_el1421400074299703445159459984\"></div>\n",
       "<script type=\"text/javascript\">\n",
       "\n",
       "var ldavis_el1421400074299703445159459984_data = {\"mdsDat\": {\"x\": [0.1652816143056669, 0.035196420482750505, 0.06281221785584373, 0.2251083138482461, -0.024414726050300487, -0.04154737467964883, -0.12544908473181152, -0.296987381030747], \"y\": [-0.09152736904658453, 0.07315070241263573, 0.03380727547135748, 0.12823904623744636, 0.07692738615352025, -0.20229295249989845, -0.17722398470193484, 0.15891989597345788], \"topics\": [1, 2, 3, 4, 5, 6, 7, 8], \"cluster\": [1, 1, 1, 1, 1, 1, 1, 1], \"Freq\": [21.478954315185547, 14.279699325561523, 13.736331939697266, 13.55630111694336, 12.560216903686523, 12.086386680603027, 6.366471290588379, 5.935644626617432]}, \"tinfo\": {\"Category\": [\"Default\", \"Default\", \"Default\", \"Default\", \"Default\", \"Default\", \"Default\", \"Default\", \"Default\", \"Default\", \"Default\", \"Default\", \"Default\", \"Default\", \"Default\", \"Default\", \"Default\", \"Default\", \"Default\", \"Default\", \"Default\", \"Default\", \"Default\", \"Default\", \"Default\", \"Default\", \"Default\", \"Default\", \"Default\", \"Default\", \"Topic1\", \"Topic1\", \"Topic1\", \"Topic1\", \"Topic1\", \"Topic1\", \"Topic1\", \"Topic1\", \"Topic1\", \"Topic1\", \"Topic1\", \"Topic1\", \"Topic1\", \"Topic1\", \"Topic1\", \"Topic1\", \"Topic1\", \"Topic1\", \"Topic1\", \"Topic1\", \"Topic1\", \"Topic1\", \"Topic1\", \"Topic1\", \"Topic1\", \"Topic1\", \"Topic1\", \"Topic1\", \"Topic1\", \"Topic1\", \"Topic1\", \"Topic1\", \"Topic1\", \"Topic1\", \"Topic1\", \"Topic1\", \"Topic1\", \"Topic1\", \"Topic1\", \"Topic1\", \"Topic1\", \"Topic1\", \"Topic1\", \"Topic1\", \"Topic1\", \"Topic1\", \"Topic1\", \"Topic1\", \"Topic1\", \"Topic1\", \"Topic1\", \"Topic1\", \"Topic1\", \"Topic1\", \"Topic1\", \"Topic1\", \"Topic1\", \"Topic1\", \"Topic1\", \"Topic1\", \"Topic1\", \"Topic1\", \"Topic1\", \"Topic1\", \"Topic1\", \"Topic1\", \"Topic1\", \"Topic1\", \"Topic1\", \"Topic1\", \"Topic1\", \"Topic2\", \"Topic2\", \"Topic2\", \"Topic2\", \"Topic2\", \"Topic2\", \"Topic2\", \"Topic2\", \"Topic2\", \"Topic2\", \"Topic2\", \"Topic2\", \"Topic2\", \"Topic2\", \"Topic2\", \"Topic2\", \"Topic2\", \"Topic2\", \"Topic2\", \"Topic2\", \"Topic2\", \"Topic2\", \"Topic2\", \"Topic2\", \"Topic2\", \"Topic2\", \"Topic2\", \"Topic2\", \"Topic2\", \"Topic2\", \"Topic2\", \"Topic2\", \"Topic2\", \"Topic2\", \"Topic2\", \"Topic2\", \"Topic2\", \"Topic2\", \"Topic2\", \"Topic2\", \"Topic2\", \"Topic2\", \"Topic2\", \"Topic2\", \"Topic2\", \"Topic2\", \"Topic2\", \"Topic2\", \"Topic2\", \"Topic2\", \"Topic2\", \"Topic2\", \"Topic2\", \"Topic2\", \"Topic2\", \"Topic2\", \"Topic2\", \"Topic2\", \"Topic2\", \"Topic2\", \"Topic2\", \"Topic3\", \"Topic3\", \"Topic3\", \"Topic3\", \"Topic3\", \"Topic3\", \"Topic3\", \"Topic3\", \"Topic3\", \"Topic3\", \"Topic3\", \"Topic3\", \"Topic3\", \"Topic3\", \"Topic3\", \"Topic3\", \"Topic3\", \"Topic3\", \"Topic3\", \"Topic3\", \"Topic3\", \"Topic3\", \"Topic3\", \"Topic3\", \"Topic3\", \"Topic3\", \"Topic3\", \"Topic3\", \"Topic3\", \"Topic3\", \"Topic3\", \"Topic3\", \"Topic3\", \"Topic3\", \"Topic3\", \"Topic3\", \"Topic3\", \"Topic3\", \"Topic3\", \"Topic3\", \"Topic3\", \"Topic3\", \"Topic3\", \"Topic3\", \"Topic3\", \"Topic3\", \"Topic3\", \"Topic3\", \"Topic3\", \"Topic3\", \"Topic3\", \"Topic3\", \"Topic3\", \"Topic3\", \"Topic3\", \"Topic3\", \"Topic3\", \"Topic3\", \"Topic3\", \"Topic3\", \"Topic3\", \"Topic3\", \"Topic3\", \"Topic3\", \"Topic3\", \"Topic3\", \"Topic3\", \"Topic3\", \"Topic3\", \"Topic3\", \"Topic3\", \"Topic3\", \"Topic4\", \"Topic4\", \"Topic4\", \"Topic4\", \"Topic4\", \"Topic4\", \"Topic4\", \"Topic4\", \"Topic4\", \"Topic4\", \"Topic4\", \"Topic4\", \"Topic4\", \"Topic4\", \"Topic4\", \"Topic4\", \"Topic4\", \"Topic4\", \"Topic4\", \"Topic4\", \"Topic4\", \"Topic4\", \"Topic4\", \"Topic4\", \"Topic4\", \"Topic4\", \"Topic4\", \"Topic4\", \"Topic4\", \"Topic4\", \"Topic4\", \"Topic4\", \"Topic4\", \"Topic4\", \"Topic4\", \"Topic4\", \"Topic4\", \"Topic4\", \"Topic4\", \"Topic4\", \"Topic4\", \"Topic4\", \"Topic4\", \"Topic4\", \"Topic4\", \"Topic4\", \"Topic4\", \"Topic4\", \"Topic4\", \"Topic4\", \"Topic4\", \"Topic4\", \"Topic4\", \"Topic4\", \"Topic4\", \"Topic4\", \"Topic4\", \"Topic4\", \"Topic4\", \"Topic4\", \"Topic4\", \"Topic4\", \"Topic4\", \"Topic4\", \"Topic4\", \"Topic4\", \"Topic4\", \"Topic5\", \"Topic5\", \"Topic5\", \"Topic5\", \"Topic5\", \"Topic5\", \"Topic5\", \"Topic5\", \"Topic5\", \"Topic5\", \"Topic5\", \"Topic5\", \"Topic5\", \"Topic5\", \"Topic5\", \"Topic5\", \"Topic5\", \"Topic5\", \"Topic5\", \"Topic5\", \"Topic5\", \"Topic5\", \"Topic5\", \"Topic5\", \"Topic5\", \"Topic5\", \"Topic5\", \"Topic5\", \"Topic5\", \"Topic5\", \"Topic5\", \"Topic5\", \"Topic5\", \"Topic5\", \"Topic5\", \"Topic5\", \"Topic5\", \"Topic5\", \"Topic5\", \"Topic5\", \"Topic5\", \"Topic5\", \"Topic5\", \"Topic5\", \"Topic5\", \"Topic5\", \"Topic5\", \"Topic5\", \"Topic5\", \"Topic5\", \"Topic5\", \"Topic5\", \"Topic5\", \"Topic5\", \"Topic5\", \"Topic5\", \"Topic5\", \"Topic5\", \"Topic5\", \"Topic5\", \"Topic5\", \"Topic5\", \"Topic5\", \"Topic5\", \"Topic5\", \"Topic5\", \"Topic5\", \"Topic5\", \"Topic5\", \"Topic6\", \"Topic6\", \"Topic6\", \"Topic6\", \"Topic6\", \"Topic6\", \"Topic6\", \"Topic6\", \"Topic6\", \"Topic6\", \"Topic6\", \"Topic6\", \"Topic6\", \"Topic6\", \"Topic6\", \"Topic6\", \"Topic6\", \"Topic6\", \"Topic6\", \"Topic6\", \"Topic6\", \"Topic6\", \"Topic6\", \"Topic6\", \"Topic6\", \"Topic6\", \"Topic6\", \"Topic6\", \"Topic6\", \"Topic6\", \"Topic6\", \"Topic6\", \"Topic6\", \"Topic6\", \"Topic6\", \"Topic6\", \"Topic6\", \"Topic6\", \"Topic6\", \"Topic6\", \"Topic6\", \"Topic6\", \"Topic6\", \"Topic6\", \"Topic6\", \"Topic6\", \"Topic6\", \"Topic6\", \"Topic6\", \"Topic6\", \"Topic6\", \"Topic6\", \"Topic6\", \"Topic6\", \"Topic6\", \"Topic6\", \"Topic6\", \"Topic6\", \"Topic7\", \"Topic7\", \"Topic7\", \"Topic7\", \"Topic7\", \"Topic7\", \"Topic7\", \"Topic7\", \"Topic7\", \"Topic7\", \"Topic7\", \"Topic7\", \"Topic7\", \"Topic7\", \"Topic7\", \"Topic7\", \"Topic7\", \"Topic7\", \"Topic7\", \"Topic7\", \"Topic7\", \"Topic7\", \"Topic7\", \"Topic7\", \"Topic7\", \"Topic7\", \"Topic7\", \"Topic7\", \"Topic7\", \"Topic7\", \"Topic7\", \"Topic7\", \"Topic7\", \"Topic7\", \"Topic7\", \"Topic7\", \"Topic7\", \"Topic7\", \"Topic7\", \"Topic7\", \"Topic7\", \"Topic7\", \"Topic7\", \"Topic7\", \"Topic7\", \"Topic7\", \"Topic7\", \"Topic7\", \"Topic7\", \"Topic7\", \"Topic7\", \"Topic7\", \"Topic7\", \"Topic7\", \"Topic7\", \"Topic7\", \"Topic7\", \"Topic7\", \"Topic7\", \"Topic7\", \"Topic7\", \"Topic7\", \"Topic8\", \"Topic8\", \"Topic8\", \"Topic8\", \"Topic8\", \"Topic8\", \"Topic8\", \"Topic8\", \"Topic8\", \"Topic8\", \"Topic8\", \"Topic8\", \"Topic8\", \"Topic8\", \"Topic8\", \"Topic8\", \"Topic8\", \"Topic8\", \"Topic8\", \"Topic8\", \"Topic8\", \"Topic8\", \"Topic8\", \"Topic8\", \"Topic8\", \"Topic8\", \"Topic8\", \"Topic8\", \"Topic8\", \"Topic8\", \"Topic8\", \"Topic8\", \"Topic8\", \"Topic8\", \"Topic8\", \"Topic8\", \"Topic8\", \"Topic8\", \"Topic8\", \"Topic8\", \"Topic8\", \"Topic8\", \"Topic8\", \"Topic8\", \"Topic8\", \"Topic8\", \"Topic8\", \"Topic8\", \"Topic8\", \"Topic8\", \"Topic8\", \"Topic8\", \"Topic8\", \"Topic8\", \"Topic8\", \"Topic8\", \"Topic8\", \"Topic8\", \"Topic8\", \"Topic8\", \"Topic8\"], \"Freq\": [79670.0, 58476.0, 48175.0, 63760.0, 34725.0, 24896.0, 25083.0, 78757.0, 29650.0, 23657.0, 28068.0, 29797.0, 35539.0, 17061.0, 21389.0, 14351.0, 66863.0, 12836.0, 27806.0, 35754.0, 11858.0, 13627.0, 11502.0, 10521.0, 16468.0, 16525.0, 14553.0, 15281.0, 12093.0, 8343.0, 10459.798828125, 8657.41796875, 8303.5302734375, 34719.8515625, 2944.480224609375, 2745.950927734375, 2364.63330078125, 2006.0634765625, 1509.0162353515625, 1361.237548828125, 1303.229248046875, 1284.8011474609375, 1275.6646728515625, 1078.462646484375, 960.5816650390625, 953.3429565429688, 902.4628295898438, 891.7783813476562, 853.900634765625, 819.6814575195312, 788.9400634765625, 782.5621337890625, 1859.17138671875, 665.7928466796875, 651.1718139648438, 563.8020629882812, 513.0364990234375, 505.1608581542969, 427.2931823730469, 426.1898193359375, 5514.29541015625, 27298.896484375, 3114.212646484375, 1768.06103515625, 1582.5401611328125, 2528.729736328125, 15550.376953125, 3377.957763671875, 1474.8902587890625, 5849.72802734375, 30657.171875, 23280.384765625, 4037.425537109375, 7252.01220703125, 4309.49951171875, 2257.510009765625, 10291.0546875, 2071.739013671875, 2670.349365234375, 8959.015625, 6175.24609375, 17185.400390625, 3858.441162109375, 5486.75634765625, 5481.66162109375, 3368.64013671875, 4135.81298828125, 16898.66015625, 5442.9990234375, 10228.1552734375, 4233.564453125, 6572.7890625, 11437.0927734375, 6642.265625, 5608.4990234375, 6993.65625, 5246.37451171875, 6060.71728515625, 5464.001953125, 4705.39111328125, 4479.17041015625, 12836.037109375, 11857.482421875, 11501.958984375, 5688.71875, 5411.556640625, 4969.62646484375, 4249.3115234375, 3762.099853515625, 3101.748046875, 2272.662841796875, 2004.0535888671875, 1697.1331787109375, 1641.783447265625, 1620.9927978515625, 1160.813720703125, 1142.9764404296875, 1108.085205078125, 1101.821533203125, 1092.14306640625, 1074.95751953125, 1045.828857421875, 1022.6861572265625, 993.008056640625, 989.9223022460938, 984.6917724609375, 923.9088134765625, 835.9263916015625, 780.9869384765625, 780.219482421875, 747.1529541015625, 2924.551513671875, 5354.70703125, 3645.680419921875, 5194.6044921875, 6618.7001953125, 3163.971435546875, 3495.745361328125, 3037.138671875, 3542.972900390625, 4327.140625, 4086.25537109375, 2117.01025390625, 1805.2305908203125, 1389.1790771484375, 5460.87548828125, 2334.5185546875, 20701.138671875, 4452.21875, 5022.5732421875, 2810.167236328125, 12905.0869140625, 3235.467529296875, 6259.490234375, 6458.09326171875, 4860.0888671875, 6881.541015625, 5359.56298828125, 4413.46875, 4110.8232421875, 3643.083251953125, 3561.02490234375, 6369.45947265625, 2310.793212890625, 2262.782958984375, 1555.5623779296875, 7848.9423828125, 1307.9910888671875, 939.5469360351562, 590.1838989257812, 570.169921875, 569.7459106445312, 542.072509765625, 522.372802734375, 475.84307861328125, 473.9477844238281, 449.04193115234375, 385.01171875, 361.1801452636719, 349.7568664550781, 340.6507873535156, 338.0791320800781, 334.3008728027344, 322.893798828125, 312.14654541015625, 309.4275207519531, 305.07745361328125, 299.5176086425781, 307.2195739746094, 294.9147033691406, 272.8583068847656, 271.6636962890625, 946.8378295898438, 496.7049255371094, 8898.7119140625, 550.5950317382812, 5634.84814453125, 1115.8477783203125, 9280.8720703125, 10003.0986328125, 19964.078125, 1137.901611328125, 697.9721069335938, 1203.7779541015625, 4233.9404296875, 971.5195922851562, 2666.27783203125, 1462.3824462890625, 1060.092529296875, 1467.8341064453125, 1596.6546630859375, 2496.71484375, 9410.3037109375, 2332.2470703125, 4841.22802734375, 2285.313720703125, 6023.02783203125, 3536.919921875, 4261.5263671875, 7009.1513671875, 8165.32568359375, 3830.239990234375, 2711.1474609375, 4361.69482421875, 3488.353271484375, 3303.6767578125, 3133.556640625, 2870.88427734375, 3442.944580078125, 3065.56494140625, 3107.3388671875, 2712.863525390625, 2621.545166015625, 2405.258056640625, 48174.46875, 25082.9453125, 3381.381591796875, 2908.337890625, 2207.200927734375, 2088.768310546875, 1869.1461181640625, 1812.51123046875, 1482.5291748046875, 1417.1990966796875, 1202.218017578125, 1006.6239624023438, 960.4810180664062, 814.6434936523438, 798.5743408203125, 794.7338256835938, 751.9866943359375, 747.2892456054688, 721.8414306640625, 1940.10546875, 675.2217407226562, 630.5167236328125, 618.1212158203125, 552.0703735351562, 487.2825622558594, 484.47509765625, 460.2178039550781, 457.46728515625, 453.9132385253906, 446.98480224609375, 927.5098266601562, 21782.279296875, 2167.97705078125, 1429.8602294921875, 51206.65234375, 4190.42724609375, 3387.31298828125, 2487.91552734375, 969.638916015625, 1273.3858642578125, 3882.5830078125, 1946.4747314453125, 6166.8173828125, 1969.663330078125, 1302.6749267578125, 1641.537841796875, 2207.513671875, 1667.3778076171875, 5756.91455078125, 4337.48779296875, 6104.3134765625, 2558.322265625, 5635.21484375, 3047.3486328125, 4030.4384765625, 6423.37744140625, 4751.8828125, 3688.422607421875, 5053.90234375, 5252.28466796875, 2986.863525390625, 3172.168701171875, 2795.211669921875, 3279.047119140625, 2399.74853515625, 2640.13818359375, 2586.585693359375, 17061.1015625, 8342.6083984375, 4847.0673828125, 3065.986083984375, 3057.312744140625, 1022.9234619140625, 868.8768310546875, 723.1011352539062, 706.2285766601562, 918.3145751953125, 688.1102294921875, 647.6396484375, 623.0995483398438, 608.8281860351562, 597.6943969726562, 559.7105712890625, 544.1567993164062, 509.9461364746094, 506.3598327636719, 497.7251892089844, 425.2221984863281, 414.0838317871094, 395.4875183105469, 395.58489990234375, 370.0824890136719, 336.6663818359375, 327.7218933105469, 519.9676513671875, 267.6816711425781, 259.3255920410156, 24801.435546875, 1201.24267578125, 3598.781494140625, 1088.075439453125, 3194.59130859375, 2434.24853515625, 793.5116577148438, 4244.73193359375, 18338.189453125, 3685.490478515625, 2877.643798828125, 1408.4420166015625, 7678.6513671875, 2919.6611328125, 8988.68359375, 2147.180908203125, 10850.2998046875, 1548.9163818359375, 9306.8310546875, 3449.309814453125, 2108.486083984375, 8157.201171875, 3799.6162109375, 1593.7833251953125, 1977.4581298828125, 5134.5107421875, 4975.5419921875, 17398.595703125, 6511.92529296875, 2375.19287109375, 15538.068359375, 2530.0537109375, 6941.9208984375, 3535.294921875, 3113.4384765625, 3741.04443359375, 3618.3291015625, 3187.742919921875, 3018.719482421875, 79669.96875, 10521.041015625, 6566.52880859375, 5380.8115234375, 4965.62939453125, 4590.0556640625, 3091.383544921875, 2880.701171875, 2022.263427734375, 1818.5262451171875, 1458.7545166015625, 1426.733154296875, 1153.5736083984375, 1126.547119140625, 897.7890625, 830.1327514648438, 766.83837890625, 763.2805786132812, 736.8049926757812, 722.6123046875, 654.7354736328125, 600.0901489257812, 585.6777954101562, 574.9641723632812, 485.71795654296875, 471.2779846191406, 429.85443115234375, 422.59503173828125, 412.01324462890625, 403.7713928222656, 3648.853271484375, 24841.125, 1541.1773681640625, 6793.634765625, 1340.456298828125, 815.8690185546875, 6282.927734375, 3260.73828125, 1469.2703857421875, 2805.025634765625, 5041.58544921875, 1177.6842041015625, 2391.033447265625, 15471.5732421875, 3258.020751953125, 11603.4150390625, 1646.66552734375, 5262.12060546875, 3818.615234375, 3276.284912109375, 3985.098388671875, 2724.1767578125, 3256.39892578125, 2765.208740234375, 2425.94677734375, 2430.964111328125, 2119.8369140625, 2061.778076171875, 58475.9921875, 4245.552734375, 2158.591796875, 2122.0146484375, 1668.7674560546875, 1451.4453125, 1013.1326293945312, 780.75537109375, 759.96484375, 673.373779296875, 599.2849731445312, 483.7459716796875, 464.2549743652344, 356.3229064941406, 334.4609375, 331.80035400390625, 328.1837158203125, 309.62042236328125, 291.94342041015625, 290.9822082519531, 267.8148193359375, 233.65098571777344, 233.11793518066406, 227.9397735595703, 222.686767578125, 221.37838745117188, 214.9918975830078, 212.21331787109375, 177.5677947998047, 167.0049285888672, 462.0682067871094, 893.3611450195312, 2405.138427734375, 1169.8658447265625, 4616.521484375, 573.1112670898438, 410.4963684082031, 1978.8990478515625, 1175.2763671875, 688.1395263671875, 11232.990234375, 1487.1368408203125, 5779.595703125, 8435.431640625, 2995.432861328125, 4068.102783203125, 4483.5458984375, 1468.4593505859375, 1153.1265869140625, 2266.765869140625, 2396.376220703125, 1185.308837890625, 945.1804809570312, 2566.2744140625, 2090.7685546875, 1820.2088623046875, 1334.7928466796875, 1472.3758544921875, 1480.926025390625, 1149.7576904296875, 1169.11572265625, 1161.1280517578125, 6059.263671875, 5254.2802734375, 2814.892822265625, 2562.338134765625, 1675.4764404296875, 1247.8197021484375, 966.6512451171875, 877.2762451171875, 923.0225830078125, 721.732666015625, 717.2484130859375, 657.549072265625, 513.756591796875, 504.5162658691406, 462.694091796875, 431.34857177734375, 419.7271423339844, 390.2952880859375, 412.7917175292969, 384.541015625, 299.3705139160156, 283.9721374511719, 283.1264343261719, 277.3541259765625, 266.87689208984375, 246.27764892578125, 246.2084503173828, 230.34754943847656, 229.89694213867188, 225.87875366210938, 3657.303955078125, 1431.2685546875, 338.3603210449219, 740.84912109375, 10410.412109375, 1925.3443603515625, 1478.8717041015625, 627.1275024414062, 1125.20849609375, 951.0340576171875, 1957.306884765625, 3883.437744140625, 2147.3837890625, 2118.033447265625, 4080.02490234375, 777.076416015625, 1063.5634765625, 4732.7275390625, 1937.9969482421875, 1610.7479248046875, 5911.8427734375, 3624.0419921875, 9654.6962890625, 1670.1180419921875, 1622.708740234375, 3876.190673828125, 2234.00341796875, 2522.679931640625, 1480.74853515625, 1267.9163818359375, 1154.3167724609375], \"Term\": [\"coffee\", \"tea\", \"dog\", \"food\", \"amazon\", \"chocolate\", \"cat\", \"flavor\", \"cup\", \"treat\", \"store\", \"water\", \"price\", \"bar\", \"sugar\", \"mix\", \"taste\", \"chip\", \"box\", \"bag\", \"sauce\", \"bottle\", \"salt\", \"kcup\", \"snack\", \"order\", \"cookie\", \"drink\", \"oil\", \"cereal\", \"item\", \"grocery\", \"shipping\", \"amazon\", \"seller\", \"shipment\", \"save\", \"service\", \"pancake\", \"blue_diamond\", \"biscuit\", \"ship\", \"vendor\", \"jelly\", \"trap\", \"waffle\", \"discount\", \"sausage\", \"charge\", \"refund\", \"expiration_date\", \"birthday\", \"subscription\", \"dad\", \"pricing\", \"fig\", \"warehouse\", \"supplier\", \"loaf\", \"cupcake\", \"gift\", \"store\", \"delivery\", \"costco\", \"amazoncom\", \"date\", \"order\", \"subscribe\", \"walmart\", \"deal\", \"price\", \"box\", \"thank\", \"purchase\", \"buy\", \"picture\", \"package\", \"dollar\", \"sale\", \"pack\", \"candy\", \"bag\", \"can\", \"case\", \"money\", \"buying\", \"packaging\", \"time\", \"company\", \"year\", \"cost\", \"month\", \"love\", \"quality\", \"review\", \"day\", \"cookie\", \"brand\", \"way\", \"size\", \"taste\", \"chip\", \"sauce\", \"salt\", \"cheese\", \"bread\", \"pasta\", \"noodle\", \"pepper\", \"dish\", \"salad\", \"popcorn\", \"sandwich\", \"tomato\", \"onion\", \"pizza\", \"popchip\", \"pan\", \"mustard\", \"dip\", \"steak\", \"cheddar\", \"curry\", \"olive\", \"pork\", \"jalapeno\", \"kettle\", \"salty\", \"msg\", \"fry\", \"paste\", \"cook\", \"soup\", \"flour\", \"potato\", \"rice\", \"heat\", \"cracker\", \"jerky\", \"butter\", \"recipe\", \"spice\", \"egg\", \"microwave\", \"vinegar\", \"texture\", \"vegetable\", \"flavor\", \"meal\", \"chicken\", \"beef\", \"taste\", \"meat\", \"bag\", \"love\", \"use\", \"food\", \"time\", \"bit\", \"snack\", \"brand\", \"thing\", \"hair\", \"plant\", \"shampoo\", \"conditioner\", \"baby\", \"sleep\", \"scalp\", \"zico\", \"lavender\", \"essentia\", \"liter\", \"soap\", \"tap\", \"electrolyte\", \"gerber\", \"lentil\", \"shaker\", \"moisturizer\", \"cytomax\", \"lotion\", \"babys\", \"prune\", \"fly\", \"caviar\", \"vita_coco\", \"fondant\", \"squirrel\", \"stain\", \"cramp\", \"hydration\", \"cap\", \"shower\", \"coconut\", \"study\", \"energy\", \"face\", \"oil\", \"bottle\", \"water\", \"pain\", \"wash\", \"boost\", \"hour\", \"doctor\", \"skin\", \"lid\", \"tree\", \"effect\", \"benefit\", \"formula\", \"day\", \"body\", \"work\", \"night\", \"use\", \"week\", \"stuff\", \"time\", \"taste\", \"drink\", \"smell\", \"thing\", \"month\", \"product\", \"review\", \"problem\", \"way\", \"lot\", \"year\", \"something\", \"brand\", \"people\", \"dog\", \"cat\", \"vet\", \"toy\", \"wellness\", \"training\", \"pet\", \"greenie\", \"litter\", \"kitty\", \"liver\", \"pup\", \"stool\", \"poop\", \"purina\", \"diarrhea\", \"byproduct\", \"puppy\", \"breed\", \"china\", \"lick\", \"blue_buffalo\", \"rescue\", \"kibble\", \"paw\", \"fur\", \"pill_pocket\", \"petco\", \"kitten\", \"iam\", \"duck\", \"treat\", \"coat\", \"lab\", \"food\", \"chew\", \"bone\", \"feed\", \"lamb\", \"breath\", \"tooth\", \"salmon\", \"chicken\", \"allergy\", \"filler\", \"ball\", \"weight\", \"pill\", \"ingredient\", \"problem\", \"year\", \"grain\", \"day\", \"piece\", \"month\", \"time\", \"brand\", \"quality\", \"bag\", \"love\", \"diet\", \"size\", \"week\", \"thing\", \"meat\", \"something\", \"bit\", \"bar\", \"cereal\", \"syrup\", \"granola\", \"peanut_butter\", \"oat\", \"cola\", \"xylitol\", \"cranberry\", \"fudge\", \"walnut\", \"whey\", \"coke\", \"oats\", \"aspartame\", \"molasse\", \"maple\", \"hunger\", \"quaker\", \"cluster\", \"sucralose\", \"oatmeal\", \"larabar\", \"sodastream\", \"bran\", \"cheerio\", \"kelloggs\", \"hershey\", \"carbonation\", \"truvia\", \"chocolate\", \"brownie\", \"fiber\", \"raisin\", \"gram\", \"blueberry\", \"puff\", \"almond\", \"sugar\", \"nut\", \"gum\", \"splenda\", \"protein\", \"peanut\", \"calorie\", \"banana\", \"snack\", \"yogurt\", \"cookie\", \"cinnamon\", \"stevia\", \"milk\", \"breakfast\", \"carb\", \"chewy\", \"diet\", \"fruit\", \"taste\", \"ingredient\", \"sweetener\", \"flavor\", \"vitamin\", \"love\", \"texture\", \"kid\", \"bit\", \"something\", \"food\", \"lot\", \"coffee\", \"kcup\", \"pod\", \"roast\", \"machine\", \"starbuck\", \"espresso\", \"keurig\", \"hazelnut\", \"creamer\", \"cappuccino\", \"latte\", \"coffeebr\", \"marley\", \"senseo\", \"rawhide\", \"kona\", \"capsule\", \"folger\", \"caribou\", \"french_roast\", \"tassimo\", \"chewer\", \"pumpkin_spice\", \"drawer\", \"wolfgang_puck\", \"nylabone\", \"keurig_brewer\", \"emeril\", \"crema\", \"maker\", \"cup\", \"brewer\", \"blend\", \"filter\", \"drip\", \"bean\", \"brew\", \"decaf\", \"ground\", \"morning\", \"brewing\", \"aroma\", \"flavor\", \"vanilla\", \"taste\", \"drinker\", \"love\", \"brand\", \"use\", \"time\", \"drink\", \"price\", \"way\", \"day\", \"water\", \"review\", \"bit\", \"tea\", \"ginger\", \"chai\", \"licorice\", \"stash\", \"peppermint\", \"leaf\", \"lipton\", \"teabr\", \"chamomile\", \"jasmine\", \"earl_grey\", \"twining\", \"rooibos\", \"hibiscus\", \"yogi\", \"tazo\", \"spearmint\", \"pregnancy\", \"passion_fruit\", \"rose\", \"sage\", \"teavana\", \"cardamom\", \"lemongrass\", \"davidson\", \"bergamot\", \"bark\", \"labor\", \"sachet\", \"root_beer\", \"pineapple\", \"mint\", \"flower\", \"honey\", \"teabag\", \"clove\", \"lemon\", \"leave\", \"raspberry\", \"flavor\", \"caffeine\", \"bag\", \"taste\", \"drink\", \"cup\", \"love\", \"spice\", \"aroma\", \"sugar\", \"brand\", \"cinnamon\", \"drinker\", \"time\", \"day\", \"bit\", \"quality\", \"box\", \"water\", \"smell\", \"milk\", \"year\", \"powder\", \"juice\", \"seed\", \"matcha\", \"wine\", \"yeast\", \"mio\", \"pear\", \"grape\", \"sugarfree\", \"cider\", \"hemp\", \"pomegranate\", \"margarita\", \"cocktail\", \"rum\", \"apple_cider\", \"crystal_light\", \"mango\", \"watermelon\", \"vodka\", \"chia\", \"park\", \"mixer\", \"pudding\", \"liquor\", \"kefir\", \"cow\", \"blade\", \"cacao\", \"cake\", \"pumpkin\", \"coloring\", \"beer\", \"mix\", \"cherry\", \"smoothie\", \"lemonade\", \"extract\", \"orange\", \"ice\", \"packet\", \"apple\", \"glass\", \"fruit\", \"punch\", \"peach\", \"drink\", \"cocoa\", \"soda\", \"water\", \"bottle\", \"flavor\", \"lemon\", \"color\", \"taste\", \"milk\", \"use\", \"vanilla\", \"bit\", \"recipe\"], \"Total\": [79670.0, 58476.0, 48175.0, 63760.0, 34725.0, 24896.0, 25083.0, 78757.0, 29650.0, 23657.0, 28068.0, 29797.0, 35539.0, 17061.0, 21389.0, 14351.0, 66863.0, 12836.0, 27806.0, 35754.0, 11858.0, 13627.0, 11502.0, 10521.0, 16468.0, 16525.0, 14553.0, 15281.0, 12093.0, 8343.0, 10460.658203125, 8658.27734375, 8304.388671875, 34725.64453125, 2945.33935546875, 2746.81005859375, 2365.51611328125, 2006.9224853515625, 1509.875732421875, 1362.0966796875, 1304.08935546875, 1285.6602783203125, 1276.5238037109375, 1079.3223876953125, 961.4409790039062, 954.2023315429688, 903.3220825195312, 892.6378173828125, 854.76025390625, 820.5405883789062, 789.7991943359375, 783.42138671875, 1861.5701904296875, 666.6524047851562, 652.0308837890625, 564.6616821289062, 513.8961181640625, 506.020263671875, 428.1531982421875, 427.0492858886719, 5547.265625, 28068.306640625, 3134.533203125, 1773.9691162109375, 1586.7943115234375, 2574.282470703125, 16525.544921875, 3505.5732421875, 1496.56298828125, 6287.90380859375, 35539.28515625, 27806.326171875, 4555.26025390625, 8683.9638671875, 4928.552734375, 2448.950439453125, 14570.16796875, 2261.816162109375, 3060.10986328125, 12967.5947265625, 8734.2861328125, 35754.12890625, 5113.58984375, 8217.515625, 8234.740234375, 4296.1328125, 5752.33251953125, 43951.53125, 8814.716796875, 24616.71875, 6163.69677734375, 14517.109375, 41977.07421875, 15111.81640625, 14902.611328125, 28703.6640625, 14553.9423828125, 24618.806640625, 21068.494140625, 12517.646484375, 66863.328125, 12836.89453125, 11858.33984375, 11502.8173828125, 5689.578125, 5412.484375, 4970.48486328125, 4250.1689453125, 3762.958251953125, 3102.6064453125, 2273.52099609375, 2004.911865234375, 1697.9915771484375, 1642.6414794921875, 1621.850830078125, 1161.6717529296875, 1143.8343505859375, 1108.9439697265625, 1102.6795654296875, 1093.0015869140625, 1075.8157958984375, 1046.6868896484375, 1023.5442504882812, 993.8667602539062, 990.7807006835938, 985.5497436523438, 924.7671508789062, 836.7846069335938, 781.8452758789062, 781.07763671875, 748.0118408203125, 2951.483642578125, 5490.69775390625, 3943.8193359375, 5971.03076171875, 8294.5498046875, 3709.59521484375, 4263.1650390625, 3714.5634765625, 4505.3544921875, 5751.04248046875, 5555.45166015625, 2477.22802734375, 2047.010498046875, 1477.9666748046875, 9200.4013671875, 3003.157470703125, 78757.265625, 8554.2099609375, 11190.130859375, 4187.78271484375, 66863.328125, 5635.95654296875, 35754.12890625, 41977.07421875, 20571.615234375, 63760.5390625, 43951.53125, 19587.046875, 16468.78125, 24618.806640625, 21454.94140625, 6370.31591796875, 2311.650634765625, 2263.639892578125, 1556.419189453125, 7853.49072265625, 1308.8482666015625, 940.40380859375, 591.0409545898438, 571.0275268554688, 570.6028442382812, 542.9298706054688, 523.230224609375, 476.7003173828125, 474.80474853515625, 449.8992004394531, 385.8695373535156, 362.03802490234375, 350.6137390136719, 341.5078430175781, 338.9360656738281, 335.1579895019531, 323.7511901855469, 313.0038146972656, 310.2848815917969, 305.93463134765625, 300.374755859375, 308.1012268066406, 295.7726745605469, 273.715576171875, 272.5207824707031, 960.0285034179688, 502.2164611816406, 9844.7021484375, 567.135498046875, 6831.2060546875, 1230.2818603515625, 12093.6015625, 13627.8681640625, 29797.76171875, 1314.6002197265625, 760.4671630859375, 1416.444091796875, 5928.3291015625, 1120.4918212890625, 3616.118408203125, 1809.548583984375, 1343.959228515625, 2077.791015625, 2410.931884765625, 4525.80712890625, 28703.6640625, 4137.666015625, 11714.3017578125, 4468.27099609375, 20571.615234375, 10136.2275390625, 16199.359375, 43951.53125, 66863.328125, 15281.7333984375, 7870.01953125, 21454.94140625, 14517.109375, 13162.1201171875, 14902.611328125, 12049.681640625, 21068.494140625, 18618.263671875, 24616.71875, 17344.0703125, 24618.806640625, 11042.5908203125, 48175.33203125, 25083.80859375, 3382.24462890625, 2909.201171875, 2208.06396484375, 2089.6318359375, 1870.00927734375, 1813.374267578125, 1483.392333984375, 1418.0621337890625, 1203.0814208984375, 1007.487060546875, 961.3441772460938, 815.5067138671875, 799.4373168945312, 795.5972290039062, 752.8499755859375, 748.1522827148438, 722.7047119140625, 1942.548828125, 676.0849609375, 631.3796997070312, 618.9850463867188, 552.9334106445312, 488.1456298828125, 485.338134765625, 461.0808410644531, 458.330322265625, 454.77618408203125, 447.8477783203125, 940.0224609375, 23657.8046875, 2259.752197265625, 1499.5577392578125, 63760.5390625, 4668.06591796875, 3750.45556640625, 2823.093994140625, 1025.8524169921875, 1404.1163330078125, 5398.2548828125, 2426.30615234375, 11190.130859375, 2722.21875, 1555.240966796875, 2150.863037109375, 3498.446533203125, 2311.75927734375, 17139.85546875, 12049.681640625, 24616.71875, 5613.68359375, 28703.6640625, 8072.9990234375, 14517.109375, 43951.53125, 24618.806640625, 15111.81640625, 35754.12890625, 41977.07421875, 9439.7734375, 12517.646484375, 10136.2275390625, 21454.94140625, 5635.95654296875, 17344.0703125, 19587.046875, 17061.9609375, 8343.4677734375, 4847.927734375, 3066.845703125, 3058.1728515625, 1023.7833862304688, 869.7366943359375, 723.9608764648438, 707.0886840820312, 919.4570922851562, 688.97021484375, 648.4996948242188, 623.9595947265625, 609.6881103515625, 598.5545043945312, 560.5707397460938, 545.0169067382812, 510.8063659667969, 507.21954345703125, 498.58489990234375, 426.0826721191406, 414.9442138671875, 396.3471374511719, 396.4454345703125, 370.942626953125, 337.5262145996094, 328.58154296875, 521.505615234375, 268.5423278808594, 260.1857604980469, 24896.20703125, 1208.5413818359375, 3666.5234375, 1097.0560302734375, 3256.784423828125, 2551.08935546875, 812.001953125, 4637.966796875, 21389.44140625, 4066.712890625, 3155.9453125, 1488.461669921875, 8907.9560546875, 3247.736328125, 11633.3017578125, 2483.806396484375, 16468.78125, 1786.259033203125, 14553.9423828125, 4635.357421875, 2616.5478515625, 13957.775390625, 5807.1015625, 1944.9952392578125, 2593.130859375, 9439.7734375, 9056.4765625, 66863.328125, 17139.85546875, 3593.560546875, 78757.265625, 4251.177734375, 41977.07421875, 9200.4013671875, 8260.712890625, 19587.046875, 17344.0703125, 63760.5390625, 18618.263671875, 79670.828125, 10521.9013671875, 6567.3896484375, 5381.67236328125, 4966.4912109375, 4590.9169921875, 3092.24462890625, 2881.562255859375, 2023.1248779296875, 1819.3873291015625, 1459.6153564453125, 1427.5946044921875, 1154.4346923828125, 1127.407958984375, 898.6498413085938, 830.994873046875, 767.69921875, 764.1429443359375, 737.6658325195312, 723.47314453125, 655.5962524414062, 600.9510498046875, 586.5401611328125, 575.82568359375, 486.57965087890625, 472.1387939453125, 430.7162170410156, 423.4559020996094, 412.8742370605469, 404.6322326660156, 3845.197021484375, 29650.416015625, 1636.551025390625, 8438.3388671875, 1479.411865234375, 865.5716552734375, 8547.81640625, 4181.69970703125, 1745.3707275390625, 4226.8828125, 9586.142578125, 1443.48291015625, 3970.073486328125, 78757.265625, 7767.3447265625, 66863.328125, 2617.341064453125, 41977.07421875, 24618.806640625, 20571.615234375, 43951.53125, 15281.7333984375, 35539.28515625, 21068.494140625, 28703.6640625, 29797.76171875, 14902.611328125, 19587.046875, 58476.8515625, 4246.4130859375, 2159.45166015625, 2122.874755859375, 1669.62744140625, 1452.3055419921875, 1013.9928588867188, 781.6153564453125, 760.8248901367188, 674.2335815429688, 600.14501953125, 484.60577392578125, 465.1148376464844, 357.1827087402344, 335.3207702636719, 332.6602478027344, 329.0435485839844, 310.4804992675781, 292.8046569824219, 291.8423156738281, 268.6748962402344, 234.51141357421875, 233.97779846191406, 228.80015563964844, 223.54681396484375, 222.23818969726562, 215.8517303466797, 213.07424926757812, 178.42823791503906, 167.86495971679688, 494.1585693359375, 1008.5781860351562, 3009.9853515625, 1370.9805908203125, 6577.25634765625, 654.19970703125, 461.9903259277344, 3649.755859375, 2157.627685546875, 1095.88818359375, 78757.265625, 3800.88232421875, 35754.12890625, 66863.328125, 15281.7333984375, 29650.416015625, 41977.07421875, 5555.45166015625, 3970.073486328125, 21389.44140625, 24618.806640625, 4635.357421875, 2617.341064453125, 43951.53125, 28703.6640625, 19587.046875, 15111.81640625, 27806.326171875, 29797.76171875, 7870.01953125, 13957.775390625, 24616.71875, 6060.11669921875, 5255.2958984375, 2815.745849609375, 2563.191162109375, 1676.3294677734375, 1248.673095703125, 967.5040283203125, 878.1295776367188, 924.0613403320312, 722.5859375, 718.101318359375, 658.4019775390625, 514.6101684570312, 505.36895751953125, 463.5472106933594, 432.20147705078125, 420.5802307128906, 391.1481628417969, 413.6969299316406, 385.39385986328125, 300.223388671875, 284.8251037597656, 283.9801330566406, 278.207275390625, 267.73004150390625, 247.13084411621094, 247.06150817871094, 231.2011260986328, 230.75086975097656, 226.73220825195312, 3927.651611328125, 1553.3515625, 348.0081787109375, 810.4893798828125, 14351.67578125, 2409.8193359375, 1823.73828125, 696.0496215820312, 1421.5294189453125, 1195.368896484375, 2854.6103515625, 6908.984375, 3642.797607421875, 3685.330078125, 9056.4765625, 983.9160766601562, 1574.9559326171875, 15281.7333984375, 4037.15380859375, 3203.921142578125, 29797.76171875, 13627.8681640625, 78757.265625, 3649.755859375, 5316.1611328125, 66863.328125, 13957.775390625, 20571.615234375, 7767.3447265625, 19587.046875, 5751.04248046875], \"loglift\": [30.0, 29.0, 28.0, 27.0, 26.0, 25.0, 24.0, 23.0, 22.0, 21.0, 20.0, 19.0, 18.0, 17.0, 16.0, 15.0, 14.0, 13.0, 12.0, 11.0, 10.0, 9.0, 8.0, 7.0, 6.0, 5.0, 4.0, 3.0, 2.0, 1.0, 1.5379999876022339, 1.5379999876022339, 1.5379999876022339, 1.5378999710083008, 1.5377999544143677, 1.5377999544143677, 1.5377000570297241, 1.5377000570297241, 1.537500023841858, 1.537500023841858, 1.5374000072479248, 1.5374000072479248, 1.5374000072479248, 1.5372999906539917, 1.5371999740600586, 1.5371999740600586, 1.5370999574661255, 1.5370999574661255, 1.5370999574661255, 1.5369999408721924, 1.5369999408721924, 1.5369999408721924, 1.5368000268936157, 1.5368000268936157, 1.5368000268936157, 1.5365999937057495, 1.5363999605178833, 1.5363999605178833, 1.5361000299453735, 1.5361000299453735, 1.532099962234497, 1.5103000402450562, 1.531599998474121, 1.5348000526428223, 1.5354000329971313, 1.5202000141143799, 1.4773000478744507, 1.5010000467300415, 1.5234999656677246, 1.46589994430542, 1.3903000354766846, 1.3603999614715576, 1.4174000024795532, 1.3579000234603882, 1.4039000272750854, 1.4566999673843384, 1.1904000043869019, 1.4502999782562256, 1.401900053024292, 1.1683000326156616, 1.1914000511169434, 0.8054999709129333, 1.256500005722046, 1.1341999769210815, 1.131100058555603, 1.2948999404907227, 1.2081999778747559, 0.5821999907493591, 1.055999994277954, 0.6597999930381775, 1.162500023841858, 0.7457000017166138, 0.2378000020980835, 0.7160999774932861, 0.5608000159263611, 0.12610000371932983, 0.517799973487854, 0.1363999992609024, 0.18850000202655792, 0.5597000122070312, -1.1650999784469604, 1.9463000297546387, 1.9463000297546387, 1.9463000297546387, 1.9462000131607056, 1.9462000131607056, 1.9462000131607056, 1.9460999965667725, 1.9460999965667725, 1.9460999965667725, 1.9459999799728394, 1.9458999633789062, 1.9457999467849731, 1.9457999467849731, 1.9457999467849731, 1.9456000328063965, 1.9456000328063965, 1.9456000328063965, 1.9456000328063965, 1.9455000162124634, 1.9455000162124634, 1.9455000162124634, 1.9455000162124634, 1.9455000162124634, 1.9455000162124634, 1.9455000162124634, 1.9453999996185303, 1.9452999830245972, 1.945199966430664, 1.945199966430664, 1.945199966430664, 1.9371999502182007, 1.9213000535964966, 1.8676999807357788, 1.8070000410079956, 1.7206000089645386, 1.7871999740600586, 1.7479000091552734, 1.7450000047683716, 1.7059999704360962, 1.6619000434875488, 1.63919997215271, 1.789199948310852, 1.8206000328063965, 1.8844000101089478, 1.4247000217437744, 1.6944999694824219, 0.6100999712944031, 1.2933000326156616, 1.1452000141143799, 1.5473999977111816, 0.3012999892234802, 1.3912999629974365, 0.2037999927997589, 0.07450000196695328, 0.5034999847412109, -0.2800000011920929, -0.15790000557899475, 0.4560999870300293, 0.5584999918937683, 0.0357000008225441, 0.15039999783039093, 1.9850000143051147, 1.9847999811172485, 1.9846999645233154, 1.9845999479293823, 1.9845000505447388, 1.9845000505447388, 1.9842000007629395, 1.9837000370025635, 1.9836000204086304, 1.9836000204086304, 1.9835000038146973, 1.9835000038146973, 1.983299970626831, 1.983299970626831, 1.983199954032898, 1.9829000234603882, 1.982800006866455, 1.982699990272522, 1.9825999736785889, 1.9825999736785889, 1.9825999736785889, 1.9824999570846558, 1.9823999404907227, 1.9823999404907227, 1.982300043106079, 1.982300043106079, 1.982300043106079, 1.982200026512146, 1.9819999933242798, 1.9819999933242798, 1.9713000059127808, 1.9740999937057495, 1.8840999603271484, 1.9555000066757202, 1.7926000356674194, 1.8875000476837158, 1.7203999757766724, 1.6758999824523926, 1.5845999717712402, 1.8408000469207764, 1.899399995803833, 1.8223999738693237, 1.6484999656677246, 1.8424999713897705, 1.680400013923645, 1.7720999717712402, 1.7479000091552734, 1.6375999450683594, 1.5729999542236328, 1.3903000354766846, 0.8698999881744385, 1.4118000268936157, 1.1015000343322754, 1.3145999908447266, 0.7567999958992004, 0.9322999715805054, 0.6498000025749207, 0.1492999941110611, -0.11760000139474869, 0.6014000177383423, 0.9193999767303467, 0.3919999897480011, 0.5591999888420105, 0.6028000116348267, 0.42579999566078186, 0.5507000088691711, 0.1737000048160553, 0.18119999766349792, -0.08449999988079071, 0.1298999935388565, -0.25459998846054077, 0.460999995470047, 1.9982999563217163, 1.9982999563217163, 1.9981000423431396, 1.9980000257492065, 1.9979000091552734, 1.9979000091552734, 1.9979000091552734, 1.9977999925613403, 1.9976999759674072, 1.9976999759674072, 1.9975999593734741, 1.997499942779541, 1.9974000453948975, 1.9973000288009644, 1.9972000122070312, 1.9972000122070312, 1.9972000122070312, 1.9972000122070312, 1.9970999956130981, 1.9970999956130981, 1.996999979019165, 1.996999979019165, 1.996899962425232, 1.9967999458312988, 1.996500015258789, 1.996500015258789, 1.996399998664856, 1.996399998664856, 1.996399998664856, 1.996399998664856, 1.9848999977111816, 1.9156999588012695, 1.9569000005722046, 1.950700044631958, 1.779099941253662, 1.8904000520706177, 1.8964999914169312, 1.871899962425232, 1.9420000314712524, 1.9005999565124512, 1.6686999797821045, 1.777999997138977, 1.402500033378601, 1.6747000217437744, 1.8210999965667725, 1.7280999422073364, 1.5378999710083008, 1.6715999841690063, 0.9072999954223633, 0.9765999913215637, 0.6039000153541565, 1.212499976158142, 0.3702999949455261, 1.0240999460220337, 0.7168999910354614, 0.07519999891519547, 0.353300005197525, 0.5879999995231628, 0.04179999977350235, -0.08009999990463257, 0.847599983215332, 0.6255999803543091, 0.710099995136261, 0.11990000307559967, 1.1445000171661377, 0.11590000241994858, -0.026200000196695328, 2.0745999813079834, 2.07450008392334, 2.07450008392334, 2.074399948120117, 2.074399948120117, 2.0738000869750977, 2.0736000537872314, 2.0734000205993652, 2.0734000205993652, 2.0734000205993652, 2.0734000205993652, 2.0732998847961426, 2.0732998847961426, 2.073199987411499, 2.073199987411499, 2.0731000900268555, 2.0731000900268555, 2.072999954223633, 2.0729000568389893, 2.0729000568389893, 2.0725998878479004, 2.0725998878479004, 2.072499990463257, 2.072499990463257, 2.0722999572753906, 2.0720999240875244, 2.072000026702881, 2.071700096130371, 2.0713999271392822, 2.0713000297546387, 2.0708000659942627, 2.0685999393463135, 2.055999994277954, 2.0664000511169434, 2.0553998947143555, 2.0278000831604004, 2.0515999794006348, 1.9859999418258667, 1.920699954032898, 1.976199984550476, 1.982300043106079, 2.019399881362915, 1.9261000156402588, 1.9680999517440796, 1.8166999816894531, 1.9290000200271606, 1.6574000120162964, 1.9321000576019287, 1.627500057220459, 1.779099941253662, 1.8588000535964966, 1.537500023841858, 1.6505000591278076, 1.875499963760376, 1.8035999536514282, 1.4657000303268433, 1.4757000207901, 0.7283999919891357, 1.1068999767303467, 1.660599946975708, 0.45159998536109924, 1.5556999444961548, 0.2750999927520752, 1.1181999444961548, 1.0988999605178833, 0.41909998655319214, 0.5073999762535095, -0.9211999773979187, 0.25529998540878296, 2.113100051879883, 2.11299991607666, 2.11299991607666, 2.1129000186920166, 2.1129000186920166, 2.1129000186920166, 2.112799882888794, 2.112799882888794, 2.1126999855041504, 2.112600088119507, 2.112499952316284, 2.112499952316284, 2.112299919128418, 2.112299919128418, 2.1120998859405518, 2.1120998859405518, 2.111999988555908, 2.111999988555908, 2.1119000911712646, 2.1119000911712646, 2.111799955368042, 2.1117000579833984, 2.111599922180176, 2.111599922180176, 2.111299991607666, 2.111299991607666, 2.1110999584198, 2.1110999584198, 2.1110000610351562, 2.1110000610351562, 2.060699939727783, 1.9361000061035156, 2.052999973297119, 1.896299958229065, 2.0144999027252197, 2.053999900817871, 1.805299997329712, 1.864300012588501, 1.9408999681472778, 1.7029999494552612, 1.4704999923706055, 1.909600019454956, 1.6059999465942383, 0.48570001125335693, 1.2443000078201294, 0.36169999837875366, 1.6497000455856323, 0.0364999994635582, 0.24950000643730164, 0.2759000062942505, -0.2874000072479248, 0.3885999917984009, -0.2768999934196472, 0.08240000158548355, -0.357699990272522, -0.39309999346733093, 0.16290000081062317, -0.13819999992847443, 2.7541000843048096, 2.7539000511169434, 2.753700017929077, 2.753700017929077, 2.7535998821258545, 2.753499984741211, 2.7532999515533447, 2.753000020980835, 2.753000020980835, 2.7527999877929688, 2.752700090408325, 2.7523000240325928, 2.7523000240325928, 2.751699924468994, 2.7516000270843506, 2.751499891281128, 2.751499891281128, 2.7513999938964844, 2.751199960708618, 2.751199960708618, 2.7509000301361084, 2.7504000663757324, 2.7504000663757324, 2.7504000663757324, 2.7502999305725098, 2.750200033187866, 2.7500998973846436, 2.7500998973846436, 2.749300003051758, 2.749000072479248, 2.687000036239624, 2.6328001022338867, 2.5297999382019043, 2.5954999923706055, 2.400099992752075, 2.621799945831299, 2.6359000205993652, 2.1419999599456787, 2.1466000080108643, 2.288800001144409, 0.8065999746322632, 1.8157000541687012, 0.9318000078201294, 0.683899998664856, 1.1246000528335571, 0.767799973487854, 0.5174000263214111, 1.4235999584197998, 1.517799973487854, 0.5095999836921692, 0.4246000051498413, 1.3904000520706177, 1.7355999946594238, -0.08649999648332596, 0.13459999859333038, 0.3781999945640564, 0.32739999890327454, -0.1843000054359436, -0.2476000040769577, 0.8306000232696533, 0.2743000090122223, -0.29989999532699585, 2.8241000175476074, 2.8239998817443848, 2.823899984359741, 2.823899984359741, 2.823699951171875, 2.823499917984009, 2.8232998847961426, 2.823199987411499, 2.8231000900268555, 2.822999954223633, 2.822999954223633, 2.8229000568389893, 2.822499990463257, 2.822499990463257, 2.8224000930786133, 2.822200059890747, 2.822200059890747, 2.822000026702881, 2.822000026702881, 2.822000026702881, 2.8213000297546387, 2.821199893951416, 2.821199893951416, 2.8210999965667725, 2.821000099182129, 2.82069993019104, 2.82069993019104, 2.820499897003174, 2.820499897003174, 2.8203999996185303, 2.7528998851776123, 2.742300033569336, 2.796099901199341, 2.7344000339508057, 2.5030999183654785, 2.5996999740600586, 2.6145999431610107, 2.719899892807007, 2.590399980545044, 2.5954999923706055, 2.4467999935150146, 2.2481000423431396, 2.2957000732421875, 2.2702999114990234, 2.0267999172210693, 2.588200092315674, 2.4316000938415527, 1.6519999504089355, 2.0903000831604004, 2.1364998817443848, 1.2066999673843384, 1.4996999502182007, 0.7253000140190125, 2.0423998832702637, 1.6375000476837158, -0.023600000888109207, 0.9919999837875366, 0.725600004196167, 1.1668000221252441, 0.08669999986886978, 1.2182999849319458], \"logprob\": [30.0, 29.0, 28.0, 27.0, 26.0, 25.0, 24.0, 23.0, 22.0, 21.0, 20.0, 19.0, 18.0, 17.0, 16.0, 15.0, 14.0, 13.0, 12.0, 11.0, 10.0, 9.0, 8.0, 7.0, 6.0, 5.0, 4.0, 3.0, 2.0, 1.0, -4.4670000076293945, -4.656099796295166, -4.697800159454346, -3.267199993133545, -5.734600067138672, -5.8043999671936035, -5.95389986038208, -6.1184000968933105, -6.40310001373291, -6.506100177764893, -6.549699783325195, -6.563899993896484, -6.571100234985352, -6.738999843597412, -6.854700088500977, -6.862299919128418, -6.917200088500977, -6.929100036621094, -6.972499847412109, -7.013400077819824, -7.051599979400635, -7.059700012207031, -6.194399833679199, -7.22130012512207, -7.243500232696533, -7.387599945068359, -7.481900215148926, -7.497399806976318, -7.66480016708374, -7.667399883270264, -5.1072001457214355, -3.507699966430664, -5.678500175476074, -6.24459981918335, -6.355500221252441, -5.8867998123168945, -4.070400238037109, -5.597300052642822, -6.425899982452393, -5.048099994659424, -3.391700029373169, -3.6668999195098877, -5.418900012969971, -4.833199977874756, -5.353700160980225, -6.00029993057251, -4.48330020904541, -6.086100101470947, -5.832300186157227, -4.6219000816345215, -4.99399995803833, -3.9704999923706055, -5.464300155639648, -5.112199783325195, -5.113100051879883, -5.599999904632568, -5.394800186157227, -3.987299919128418, -5.120200157165527, -4.4893999099731445, -5.371500015258789, -4.931600093841553, -4.377699851989746, -4.92110013961792, -5.090199947357178, -4.869500160217285, -5.1570000648498535, -5.012700080871582, -5.116300106048584, -5.2657999992370605, -5.315100193023682, -3.8540000915527344, -3.933300018310547, -3.9637999534606934, -4.667799949645996, -4.717800140380859, -4.8028998374938965, -4.959499835968018, -5.081299781799316, -5.2743000984191895, -5.585299968719482, -5.711100101470947, -5.877399921417236, -5.9105000495910645, -5.923299789428711, -6.257199764251709, -6.27269983291626, -6.303699970245361, -6.309299945831299, -6.3180999755859375, -6.334000110626221, -6.361499786376953, -6.383900165557861, -6.413300037384033, -6.416399955749512, -6.4217000007629395, -6.485400199890137, -6.5854997634887695, -6.653500080108643, -6.6545000076293945, -6.697800159454346, -5.333199977874756, -4.728300094604492, -5.11269998550415, -4.758699893951416, -4.51639986038208, -5.254499912261963, -5.154699802398682, -5.295400142669678, -5.141300201416016, -4.941400051116943, -4.998700141906738, -5.656300067901611, -5.8155999183654785, -6.077600002288818, -4.708700180053711, -5.558499813079834, -3.3761000633239746, -4.912899971008301, -4.792300224304199, -5.373000144958496, -3.8487000465393066, -5.232100009918213, -4.572199821472168, -4.540999889373779, -4.825200080871582, -4.477399826049805, -4.727399826049805, -4.921599864959717, -4.992700099945068, -5.113500118255615, -5.136199951171875, -4.515999794006348, -5.529900074005127, -5.550899982452393, -5.9257001876831055, -4.30709981918335, -6.098999977111816, -6.429900169372559, -6.894800186157227, -6.929299831390381, -6.930099964141846, -6.979899883270264, -7.016900062561035, -7.110199928283691, -7.114200115203857, -7.168099880218506, -7.322000026702881, -7.385900020599365, -7.418000221252441, -7.444399833679199, -7.452000141143799, -7.463200092315674, -7.497900009155273, -7.531799793243408, -7.540500164031982, -7.554699897766113, -7.5731000900268555, -7.547699928283691, -7.588600158691406, -7.666299819946289, -7.6707000732421875, -6.422100067138672, -7.067299842834473, -4.181600093841553, -6.964300155639648, -4.638500213623047, -6.257900238037109, -4.139500141143799, -4.064599990844727, -3.3736000061035156, -6.23829984664917, -6.727099895477295, -6.182000160217285, -4.9243998527526855, -6.396399974822998, -5.3867998123168945, -5.987400054931641, -6.309100151062012, -5.983699798583984, -5.899600028991699, -5.452499866485596, -4.125699996948242, -5.520699977874756, -4.790299892425537, -5.540999889373779, -4.571899890899658, -5.1041998863220215, -4.917900085449219, -4.420300006866455, -4.267600059509277, -5.024600028991699, -5.370100021362305, -4.894599914550781, -5.118100166320801, -5.172500133514404, -5.225299835205078, -5.312900066375732, -5.131199836730957, -5.247300148010254, -5.233699798583984, -5.369500160217285, -5.40369987487793, -5.489799976348877, -2.4795000553131104, -3.1321001052856445, -5.136000156402588, -5.2866997718811035, -5.562600135803223, -5.617700099945068, -5.728799819946289, -5.7596001625061035, -5.960599899291992, -6.0055999755859375, -6.170100212097168, -6.347700119018555, -6.394599914550781, -6.559299945831299, -6.57919979095459, -6.584099769592285, -6.6392998695373535, -6.645599842071533, -6.680300235748291, -5.6915998458862305, -6.747000217437744, -6.815499782562256, -6.835400104522705, -6.948400020599365, -7.073200225830078, -7.078999996185303, -7.13040018081665, -7.13640022277832, -7.144199848175049, -7.1595001220703125, -6.429599761962891, -3.273200035095215, -5.58050012588501, -5.996699810028076, -2.4184000492095947, -4.921500205993652, -5.134300231933594, -5.44290018081665, -6.3850998878479, -6.112599849700928, -4.997799873352051, -5.688300132751465, -4.535099983215332, -5.676400184631348, -6.089900016784668, -5.858699798583984, -5.562399864196777, -5.843100070953369, -4.603899955749512, -4.88700008392334, -4.545300006866455, -5.414999961853027, -4.62529993057251, -5.239999771118164, -4.960400104522705, -4.4944000244140625, -4.79580020904541, -5.049099922180176, -4.734099864959717, -4.6956000328063965, -5.2600998878479, -5.199900150299072, -5.326399803161621, -5.166800022125244, -5.478899955749512, -5.383500099182129, -5.4039998054504395, -3.441200017929077, -4.156599998474121, -4.6996002197265625, -5.157599925994873, -5.1605000495910645, -6.255300045013428, -6.418499946594238, -6.602200031280518, -6.625800132751465, -6.3632001876831055, -6.651800155639648, -6.712399959564209, -6.750999927520752, -6.774199962615967, -6.792699813842773, -6.85830020904541, -6.886499881744385, -6.951399803161621, -6.958499908447266, -6.9756999015808105, -7.1331000328063965, -7.1596999168396, -7.205599784851074, -7.205399990081787, -7.271999835968018, -7.366600036621094, -7.393599987030029, -6.932000160217285, -7.595900058746338, -7.627699851989746, -3.0671000480651855, -6.094600200653076, -4.997399806976318, -6.193600177764893, -5.116499900817871, -5.388299942016602, -6.509300231933594, -4.832300186157227, -3.36899995803833, -4.973599910736084, -5.2210001945495605, -5.935500144958496, -4.239500045776367, -5.206500053405762, -4.081999778747559, -5.513800144195557, -3.8938000202178955, -5.840400218963623, -4.0472002029418945, -5.03980016708374, -5.5320000648498535, -4.179100036621094, -4.9430999755859375, -5.8119001388549805, -5.596199989318848, -4.642000198364258, -4.673500061035156, -3.421600103378296, -4.404399871826172, -5.412899971008301, -3.5346999168395996, -5.349699974060059, -4.340400218963623, -5.015200138092041, -5.142300128936768, -4.958600044250488, -4.992000102996826, -5.11870002746582, -5.1732001304626465, -1.8616000413894653, -3.886199951171875, -4.357500076293945, -4.556700229644775, -4.63700008392334, -4.71560001373291, -5.110899925231934, -5.18149995803833, -5.535299777984619, -5.641499996185303, -5.8618998527526855, -5.884099960327148, -6.096700191497803, -6.1203999519348145, -6.347400188446045, -6.4257001876831055, -6.505000114440918, -6.509699821472168, -6.545000076293945, -6.5644001960754395, -6.663099765777588, -6.750199794769287, -6.774499893188477, -6.793000221252441, -6.961699962615967, -6.991799831390381, -7.083799839019775, -7.100900173187256, -7.126200199127197, -7.146399974822998, -4.945099830627441, -3.0269999504089355, -5.807000160217285, -4.323500156402588, -5.946499824523926, -6.442999839782715, -4.401700019836426, -5.057600021362305, -5.854800224304199, -5.208099842071533, -4.621799945831299, -6.076000213623047, -5.367800235748291, -3.500499963760376, -5.0584001541137695, -3.7881999015808105, -5.740799903869629, -4.578999996185303, -4.899600028991699, -5.052800178527832, -4.85699987411499, -5.237400054931641, -5.058899879455566, -5.222400188446045, -5.353300094604492, -5.351200103759766, -5.4882001876831055, -5.515999794006348, -1.5298999547958374, -4.152599811553955, -4.828999996185303, -4.846099853515625, -5.086400032043457, -5.225900173187256, -5.5854997634887695, -5.8460001945495605, -5.873000144958496, -5.99399995803833, -6.110499858856201, -6.324699878692627, -6.365799903869629, -6.63040018081665, -6.693699836730957, -6.701700210571289, -6.712699890136719, -6.770899772644043, -6.829699993133545, -6.833000183105469, -6.915999889373779, -7.0524001121521, -7.054699897766113, -7.077199935913086, -7.100500106811523, -7.106400012969971, -7.135700225830078, -7.14870023727417, -7.326900005340576, -7.388199806213379, -6.370500087738037, -5.711299896240234, -4.720900058746338, -5.4415998458862305, -4.068900108337402, -6.155200004577637, -6.488900184631348, -4.915999889373779, -5.436999797821045, -5.972300052642822, -3.1796000003814697, -5.201600074768066, -3.8441998958587646, -3.466099977493286, -4.501399993896484, -4.195300102233887, -4.098100185394287, -5.214300155639648, -5.455999851226807, -4.780099868774414, -4.7245001792907715, -5.428500175476074, -5.654900074005127, -4.656000137329102, -4.861000061035156, -4.999499797821045, -5.309700012207031, -5.211599826812744, -5.2058000564575195, -5.458899974822998, -5.442299842834473, -5.449100017547607, -3.726799964904785, -3.8694000244140625, -4.493500232696533, -4.587500095367432, -5.01230001449585, -5.307000160217285, -5.562300205230713, -5.65939998626709, -5.608500003814697, -5.854499816894531, -5.860799789428711, -5.947700023651123, -6.194399833679199, -6.212600231170654, -6.299099922180176, -6.36929988861084, -6.396599769592285, -6.469299793243408, -6.4131999015808105, -6.484099864959717, -6.734499931335449, -6.787300109863281, -6.790299892425537, -6.8109002113342285, -6.849400043487549, -6.929699897766113, -6.929999828338623, -6.996600151062012, -6.998600006103516, -7.016200065612793, -4.2316999435424805, -5.169899940490723, -6.612100124359131, -5.828400135040283, -3.1856000423431396, -4.873300075531006, -5.1371002197265625, -5.994999885559082, -5.4105000495910645, -5.57859992980957, -4.856900215148926, -4.1717000007629395, -4.764200210571289, -4.777900218963623, -4.122300148010254, -5.780600070953369, -5.466800212860107, -3.973900079727173, -4.866799831390381, -5.051700115203857, -3.751499891281128, -4.240799903869629, -3.260999917984009, -5.015500068664551, -5.044300079345703, -4.173600196838379, -4.724599838256836, -4.603099822998047, -5.135900020599365, -5.291100025177002, -5.384900093078613]}, \"token.table\": {\"Topic\": [3, 4, 5, 1, 5, 1, 4, 6, 1, 4, 5, 8, 8, 2, 3, 6, 7, 5, 3, 4, 3, 1, 2, 4, 6, 7, 1, 2, 4, 7, 8, 5, 8, 5, 7, 1, 2, 6, 2, 4, 2, 8, 3, 4, 5, 7, 7, 1, 1, 1, 2, 3, 4, 5, 6, 7, 8, 8, 2, 5, 6, 7, 4, 1, 5, 7, 1, 3, 4, 5, 6, 7, 1, 4, 3, 5, 3, 8, 1, 5, 6, 7, 5, 1, 2, 3, 4, 5, 6, 7, 2, 5, 6, 7, 4, 7, 4, 6, 7, 4, 6, 6, 7, 1, 5, 1, 2, 3, 5, 1, 2, 3, 4, 6, 7, 1, 2, 3, 4, 6, 7, 8, 4, 8, 3, 5, 6, 7, 1, 2, 8, 2, 4, 5, 8, 1, 2, 4, 1, 5, 3, 6, 6, 6, 2, 5, 5, 7, 6, 1, 2, 3, 4, 5, 6, 7, 4, 3, 5, 7, 7, 1, 2, 5, 2, 5, 8, 4, 5, 6, 1, 2, 5, 8, 2, 4, 4, 8, 2, 1, 5, 8, 5, 7, 2, 7, 5, 3, 4, 8, 5, 6, 8, 3, 5, 6, 6, 5, 5, 1, 2, 3, 4, 5, 6, 7, 8, 3, 8, 1, 2, 3, 4, 5, 6, 7, 8, 3, 2, 3, 1, 5, 1, 3, 4, 6, 7, 1, 2, 6, 8, 1, 2, 3, 5, 6, 6, 8, 5, 6, 7, 8, 1, 2, 3, 1, 1, 5, 7, 1, 2, 3, 4, 5, 6, 7, 1, 2, 3, 4, 6, 7, 6, 7, 1, 6, 4, 2, 3, 4, 5, 2, 1, 2, 3, 5, 7, 4, 1, 4, 6, 3, 5, 6, 7, 8, 3, 6, 7, 3, 6, 4, 6, 7, 3, 4, 5, 7, 2, 4, 5, 3, 6, 3, 4, 5, 6, 3, 1, 3, 5, 8, 2, 3, 4, 3, 4, 4, 5, 1, 4, 5, 3, 6, 1, 2, 3, 4, 5, 6, 7, 8, 2, 5, 3, 7, 3, 6, 3, 1, 2, 3, 4, 5, 3, 4, 6, 5, 8, 2, 5, 4, 3, 1, 7, 7, 3, 7, 8, 2, 4, 5, 2, 5, 5, 8, 4, 1, 2, 4, 6, 8, 4, 5, 3, 6, 2, 3, 6, 8, 5, 8, 7, 5, 7, 2, 3, 4, 5, 5, 3, 4, 6, 7, 8, 2, 3, 4, 5, 7, 1, 2, 7, 1, 2, 4, 8, 6, 8, 5, 2, 6, 6, 4, 1, 2, 3, 5, 8, 4, 4, 6, 3, 4, 8, 7, 2, 4, 5, 6, 3, 7, 2, 3, 4, 6, 7, 7, 8, 3, 8, 7, 3, 4, 7, 3, 4, 6, 8, 7, 8, 3, 4, 4, 1, 1, 2, 3, 4, 5, 6, 7, 8, 3, 1, 2, 3, 4, 5, 6, 7, 8, 6, 3, 6, 8, 5, 8, 6, 8, 2, 4, 5, 2, 4, 2, 6, 3, 5, 6, 7, 8, 1, 7, 8, 1, 2, 4, 5, 8, 8, 3, 5, 1, 2, 3, 4, 6, 8, 1, 3, 4, 6, 3, 4, 5, 6, 7, 2, 2, 1, 2, 3, 4, 5, 6, 7, 2, 1, 5, 6, 5, 5, 5, 2, 3, 2, 2, 3, 5, 7, 8, 1, 6, 7, 1, 2, 5, 6, 8, 1, 2, 4, 5, 6, 7, 8, 1, 2, 3, 4, 5, 6, 7, 8, 1, 2, 5, 6, 7, 8, 3, 4, 2, 1, 8, 7, 2, 2, 4, 7, 8, 1, 2, 5, 5, 8, 1, 2, 3, 4, 5, 6, 7, 8, 2, 7, 4, 4, 1, 3, 4, 1, 2, 4, 5, 3, 4, 4, 1, 2, 3, 7, 2, 3, 6, 8, 4, 2, 2, 2, 2, 4, 8, 7, 1, 3, 4, 6, 1, 1, 2, 3, 4, 5, 6, 7, 1, 2, 3, 4, 5, 6, 8, 4, 5, 3, 8, 2, 5, 4, 6, 8, 6, 2, 5, 6, 8, 4, 4, 1, 2, 3, 4, 6, 7, 4, 5, 1, 2, 3, 4, 5, 6, 7, 8, 1, 5, 5, 7, 6, 1, 2, 5, 8, 1, 4, 1, 2, 3, 4, 5, 6, 7, 8, 2, 4, 5, 6, 7, 1, 7, 7, 8, 7, 7, 2, 1, 3, 4, 6, 2, 4, 2, 2, 2, 2, 1, 1, 3, 8, 1, 6, 1, 3, 3, 1, 1, 1, 3, 4, 1, 2, 3, 4, 5, 6, 3, 4, 3, 2, 3, 4, 6, 7, 5, 8, 1, 2, 5, 3, 3, 5, 8, 5, 1, 2, 3, 4, 5, 6, 7, 8, 2, 4, 7, 2, 7, 5, 6, 3, 3, 6, 7, 2, 5, 7, 4, 1, 4, 3, 4, 1, 2, 3, 4, 5, 6, 7, 8, 1, 6, 1, 6, 5, 5, 6, 7, 8, 8, 1, 5, 6, 7, 5, 3, 6, 1, 2, 3, 5, 6, 7, 8, 7, 7, 6, 7, 7, 7, 1, 2, 3, 4, 5, 1, 3, 4, 6, 1, 2, 3, 4, 5, 6, 7, 8, 1, 2, 3, 4, 5, 6, 7, 8, 2, 2, 4, 5, 4, 4, 1, 4, 5, 1, 3, 5, 5, 7, 1, 2, 3, 4, 5, 6, 7, 8, 5, 6, 7, 8, 2, 3, 4, 5, 1, 4, 2, 3, 3, 3, 4, 5, 8, 1, 1, 4, 5, 1, 2, 3, 2, 3, 6, 7, 8, 8, 1, 2, 3, 4, 5, 6, 7, 8, 1, 2, 3, 4, 6, 7, 1, 3, 4, 5, 4, 5, 8, 6, 1, 2, 3, 4, 5, 6, 7, 8, 5, 1, 2, 3, 4, 5, 6, 7, 8, 8, 7, 5, 8, 3], \"Freq\": [0.0573061965405941, 0.7236744165420532, 0.21893905103206635, 0.08451979607343674, 0.9152717590332031, 0.9998374581336975, 5.7594323152443394e-05, 8.639148290967569e-05, 0.9976088404655457, 0.0025208056904375553, 0.4103988707065582, 0.5893821716308594, 0.9986203908920288, 0.06070416420698166, 0.046598631888628006, 0.6022558808326721, 0.29042282700538635, 0.9990735650062561, 0.9994282126426697, 0.0005093276267871261, 0.9965449571609497, 0.48064377903938293, 0.17505671083927155, 0.14135430753231049, 0.04125397652387619, 0.16165965795516968, 0.026965919882059097, 0.05300198122859001, 0.7634145021438599, 0.036729443818330765, 0.1204167827963829, 0.8643990755081177, 0.13527624309062958, 0.9999436736106873, 0.9949583411216736, 0.0010529004503041506, 0.26381006836891174, 0.7350414991378784, 0.6709994673728943, 0.3288136124610901, 0.08513374626636505, 0.9142624139785767, 0.6623994708061218, 0.13355831801891327, 0.09373968839645386, 0.11033078283071518, 0.9960541129112244, 0.9994621276855469, 0.9991646409034729, 0.07816389948129654, 0.22530195116996765, 0.1105322316288948, 0.13207708299160004, 0.1909935623407364, 0.10527365654706955, 0.09291855245828629, 0.06473665684461594, 0.9967459440231323, 0.08722095936536789, 0.010665606707334518, 0.8051347732543945, 0.09693851321935654, 0.9993986487388611, 0.999194860458374, 0.9541022181510925, 0.045470770448446274, 0.03311045467853546, 0.5636027455329895, 0.02150971069931984, 0.2378152310848236, 0.10053977370262146, 0.043261103332042694, 0.09652160853147507, 0.9030902981758118, 0.8500158786773682, 0.1496705710887909, 0.734010636806488, 0.26592567563056946, 0.8372195363044739, 0.054412078112363815, 0.05538307875394821, 0.052937593311071396, 0.997458815574646, 0.24619390070438385, 0.14797630906105042, 0.1065039411187172, 0.19302316009998322, 0.053861260414123535, 0.15512530505657196, 0.09732396900653839, 0.9999105334281921, 0.6543712019920349, 0.2803463935852051, 0.06526491791009903, 0.9066200256347656, 0.09258492290973663, 0.9990248680114746, 0.7798264622688293, 0.22000622749328613, 0.05804890766739845, 0.9416143894195557, 0.816081702709198, 0.18358375132083893, 0.005792106036096811, 0.9937599301338196, 0.00022195812198333442, 0.7863976359367371, 0.053047988563776016, 0.16003179550170898, 0.8742931485176086, 0.0275943074375391, 0.02191312611103058, 0.002231892431154847, 0.05782630667090416, 0.016231944784522057, 0.7841936349868774, 0.022578446194529533, 0.05539865791797638, 0.06331275403499603, 0.07332175225019455, 0.0009310698951594532, 0.0002327674737898633, 0.9988709688186646, 0.9967706203460693, 0.23836570978164673, 0.0015785808209329844, 0.3685986399650574, 0.3912249505519867, 0.005601311568170786, 0.06314205378293991, 0.9310907125473022, 0.15894025564193726, 0.016934143379330635, 0.7726954817771912, 0.05149010941386223, 0.7544602155685425, 0.006648949347436428, 0.23857994377613068, 0.7069839239120483, 0.29286882281303406, 0.9864290356636047, 0.012499628588557243, 0.9995784163475037, 0.9985042810440063, 0.17994903028011322, 0.8195393085479736, 0.9979804754257202, 0.9965028166770935, 0.9993460178375244, 0.6677200794219971, 0.08944308757781982, 0.14140526950359344, 0.07435337454080582, 0.015211409889161587, 0.007666550576686859, 0.00425919471308589, 0.9999677538871765, 0.9958590269088745, 0.9999439120292664, 0.9997908473014832, 0.9981703758239746, 0.9991105794906616, 0.999343752861023, 0.9984409809112549, 0.999898374080658, 0.2008449286222458, 0.7988150715827942, 0.8975880146026611, 0.10218364745378494, 0.9990790486335754, 0.09293784946203232, 0.14422719180583954, 0.7623988389968872, 0.9971030950546265, 0.4488776922225952, 0.5511106252670288, 0.9986879229545593, 0.0010295751271769404, 0.9999303221702576, 0.0037756755482405424, 0.9961758255958557, 0.9984663724899292, 0.7440634369850159, 0.25564372539520264, 0.11039192229509354, 0.8874644637107849, 0.9988268613815308, 0.04026990383863449, 0.9593972563743591, 0.9988195300102234, 0.502581775188446, 0.0173389483243227, 0.48004114627838135, 0.9039379358291626, 0.09599071741104126, 0.9999896287918091, 0.9996234774589539, 0.9984620809555054, 0.9991529583930969, 0.1354360729455948, 0.09029071778059006, 0.30134525895118713, 0.04157135263085365, 0.010157705284655094, 0.022572679445147514, 0.0936766192317009, 0.30529549717903137, 0.025861460715532303, 0.9712415337562561, 0.6174900531768799, 0.018151462078094482, 0.12070722132921219, 0.09257245808839798, 0.05366026237607002, 0.08066055923700333, 0.011911896988749504, 0.0048782057128846645, 0.99973064661026, 0.9910269975662231, 0.008809128776192665, 0.36045217514038086, 0.6394830942153931, 0.6869254112243652, 0.07317037135362625, 0.12151798605918884, 0.11827317625284195, 0.00016224029241129756, 0.9966351389884949, 0.0005637076683342457, 0.0028185383416712284, 0.994804859161377, 0.17991328239440918, 0.8200480341911316, 0.9973856806755066, 0.9984603524208069, 0.9997870922088623, 0.9984375238418579, 0.9970646500587463, 0.024856312200427055, 0.8377959728240967, 0.13719874620437622, 0.00013490536366589367, 0.9975429177284241, 0.9994682669639587, 0.9985129237174988, 0.9990213513374329, 0.982409656047821, 0.017480598762631416, 0.9944285750389099, 0.2436622679233551, 0.01574711874127388, 0.3278326988220215, 0.1963164061307907, 0.05908653140068054, 0.08451882749795914, 0.07284784317016602, 0.9303577542304993, 0.002067461609840393, 0.018766190856695175, 0.031011924147605896, 0.017175834625959396, 0.0006361420382745564, 0.8416550159454346, 0.15755964815616608, 0.993449330329895, 0.0063805351965129375, 0.9992493391036987, 0.10943058878183365, 0.03019140288233757, 0.316427081823349, 0.5439749360084534, 0.9990836381912231, 0.9985364079475403, 0.9998045563697815, 0.867476224899292, 0.08478419482707977, 0.047300659120082855, 0.9999723434448242, 0.9160779714584351, 0.08356116712093353, 0.998808741569519, 0.2506260275840759, 0.06537216156721115, 0.17825202643871307, 0.1959856152534485, 0.3097161650657654, 0.009551678784191608, 0.6292645931243896, 0.3610534369945526, 0.05660998821258545, 0.9427295923233032, 0.9872104525566101, 0.012765652500092983, 0.9987499713897705, 0.7065195441246033, 0.08951814472675323, 0.07219205051660538, 0.1313895434141159, 0.8545842170715332, 0.00040367699693888426, 0.14492005109786987, 0.998305082321167, 0.9978825449943542, 0.8248909711837769, 0.05972591042518616, 0.11535298079252243, 0.9995974898338318, 0.9989435076713562, 0.9989880919456482, 0.08582305908203125, 0.12169990688562393, 0.7914011478424072, 0.02926158718764782, 0.9071092009544373, 0.06340010464191437, 0.11830990761518478, 0.8813025951385498, 0.01827344112098217, 0.9815837740898132, 0.9988281726837158, 0.8378123044967651, 0.16203276813030243, 0.09328031539916992, 0.9057653546333313, 0.05514412000775337, 0.26284557580947876, 2.5394481781404465e-05, 0.023032795637845993, 0.19728973507881165, 0.19645172357559204, 0.14262810349464417, 0.12259186059236526, 0.9244845509529114, 0.07530771195888519, 0.14588098227977753, 0.8534037470817566, 0.9967929720878601, 0.9990974068641663, 0.9987523555755615, 0.0018193071009591222, 0.1079351007938385, 0.037138957530260086, 0.8031142950057983, 0.049999576061964035, 0.5517247915267944, 0.4480968713760376, 0.9990904927253723, 0.5494410395622253, 0.450506329536438, 0.998620331287384, 0.9984152913093567, 0.9972428679466248, 0.9980013370513916, 0.9940032362937927, 0.005768607836216688, 0.9999027252197266, 0.3481370806694031, 0.076790951192379, 0.5747110843658447, 0.19024941325187683, 0.4556722939014435, 0.35395655035972595, 0.018730131909251213, 0.9810290336608887, 0.999724268913269, 0.9988514184951782, 0.9997935891151428, 0.9998524785041809, 0.20606201887130737, 0.09912741929292679, 0.6636096239089966, 0.0312286876142025, 0.08777084946632385, 0.9119296073913574, 0.9997934103012085, 0.9994440078735352, 0.8529232740402222, 0.11888089776039124, 0.028035404160618782, 0.9993894696235657, 0.9971129298210144, 0.0019175248453393579, 0.9960611462593079, 0.2979966104030609, 0.7019644379615784, 0.049592386931180954, 0.7141978740692139, 0.18689920008182526, 0.04925502464175224, 0.9984213709831238, 0.9980890154838562, 0.9981070160865784, 0.01786583662033081, 0.2963626980781555, 0.6855576634407043, 0.1734553724527359, 0.07917219400405884, 0.33588382601737976, 0.3799331784248352, 0.031563859432935715, 0.9999370574951172, 0.9994422197341919, 0.9980921149253845, 0.9987748265266418, 0.8175926804542542, 0.1822555959224701, 0.9997534155845642, 0.9999143481254578, 0.9957034587860107, 0.9982301592826843, 0.9991704225540161, 0.9998048543930054, 0.9989233613014221, 0.9983118772506714, 0.41279730200767517, 0.12892349064350128, 0.027237359434366226, 0.37684398889541626, 0.053990498185157776, 0.9982932806015015, 0.9992510080337524, 0.9990891814231873, 0.03267630189657211, 0.9536144733428955, 0.013337265700101852, 0.9975999593734741, 0.053613949567079544, 0.9455550909042358, 0.9966011047363281, 0.9995834827423096, 0.998200535774231, 0.9990208148956299, 0.013904159888625145, 0.3401884436607361, 0.05098192021250725, 0.05005497485399246, 0.5445795655250549, 0.5422280430793762, 0.4575648605823517, 0.09769418090581894, 0.9007978439331055, 0.9975539445877075, 0.9977465271949768, 0.9983952045440674, 0.9995879530906677, 0.8079363107681274, 0.011605104431509972, 0.10389331728219986, 0.07626211643218994, 0.9992126822471619, 0.9954240918159485, 0.9982873201370239, 0.9997355341911316, 0.9991011023521423, 0.9973065853118896, 0.1956680864095688, 0.17821210622787476, 0.16467700898647308, 0.12541449069976807, 0.16215260326862335, 0.0953902080655098, 0.06058567017316818, 0.01793937385082245, 0.9972382187843323, 0.2724582552909851, 0.153845876455307, 0.049860548228025436, 0.12511591613292694, 0.1653759777545929, 0.12535414099693298, 0.10682021081447601, 0.0011673038825392723, 0.9999011158943176, 0.05097268149256706, 0.9489760994911194, 0.9983153343200684, 0.998134195804596, 0.9992699027061462, 0.9996381402015686, 0.9995352625846863, 0.5204454660415649, 0.26489880681037903, 0.21463115513324738, 0.5739930868148804, 0.4258372187614441, 0.8817737102508545, 0.11773266643285751, 0.10481613129377365, 0.5844054222106934, 0.06691610813140869, 0.0837526023387909, 0.16005416214466095, 0.2006654292345047, 0.79900723695755, 0.9994790554046631, 0.0001393565471516922, 0.1612355262041092, 0.10834971815347672, 0.0048774792812764645, 0.7253508567810059, 0.9956605434417725, 0.9982495307922363, 0.9989818334579468, 0.6657162308692932, 0.0009714938933029771, 0.12167961150407791, 0.10176398605108261, 0.10783582180738449, 0.0019429877866059542, 0.45277607440948486, 0.24026821553707123, 0.27760347723960876, 0.0292758010327816, 0.1520945429801941, 0.05601835995912552, 0.18213790655136108, 0.525967538356781, 0.08376675099134445, 0.998918890953064, 0.9993836879730225, 0.05706905573606491, 0.09578648954629898, 0.5113834738731384, 0.14748434722423553, 0.01768021658062935, 0.05169785022735596, 0.11861411482095718, 0.9997249841690063, 0.09344156086444855, 0.906137228012085, 0.9983371496200562, 0.9992347955703735, 0.9977244734764099, 0.998871386051178, 0.23251965641975403, 0.7674306035041809, 0.9991278648376465, 0.9994754195213318, 0.025933416560292244, 0.01254842709749937, 0.1664758026599884, 0.7955703139305115, 0.9409674406051636, 0.05518728867173195, 0.003751767333596945, 0.6908760070800781, 0.08505818247795105, 0.07225704193115234, 0.14767581224441528, 0.004087110981345177, 0.7063062191009521, 0.1578567922115326, 0.014069844968616962, 0.05243590846657753, 0.06252501904964447, 0.005284770857542753, 0.0015785678988322616, 0.7190126776695251, 0.026250220835208893, 0.1102161630988121, 0.00017384251987095922, 0.010082866065204144, 0.11821291595697403, 0.014776614494621754, 0.0013907401589676738, 0.0002894781355280429, 0.17527902126312256, 0.04327698424458504, 0.17846328020095825, 0.040526941418647766, 0.5620218515396118, 0.8656623959541321, 0.13388100266456604, 0.9991487860679626, 0.9994199872016907, 0.996548593044281, 0.997113823890686, 0.9999024271965027, 0.9986472725868225, 0.9976531267166138, 0.32445353269577026, 0.6755744814872742, 0.01200836431235075, 0.08898505568504333, 0.8990877866744995, 0.9996165037155151, 0.9987136721611023, 0.21380852162837982, 0.12678183615207672, 0.21779309213161469, 0.0715411826968193, 0.14779140055179596, 0.17541173100471497, 0.044916994869709015, 0.0019017276354134083, 0.9997453689575195, 0.9991010427474976, 0.9994602799415588, 0.9970974326133728, 0.9220276474952698, 0.019191894680261612, 0.058800701051950455, 0.26359471678733826, 0.15186426043510437, 0.3774309754371643, 0.20698627829551697, 0.27857571840286255, 0.721095860004425, 0.9976558685302734, 0.002974484348669648, 0.05948968604207039, 0.05155772715806961, 0.8854048252105713, 0.9994217157363892, 0.9997185468673706, 0.9999406933784485, 0.9988142848014832, 0.9993786811828613, 0.9992705583572388, 0.999545156955719, 0.9992120265960693, 0.8700340390205383, 0.1299608051776886, 0.9998157024383545, 0.9972519278526306, 0.862622857093811, 5.627575228572823e-05, 0.04566777125000954, 0.0916169211268425, 0.9984189867973328, 0.26316046714782715, 0.03344486653804779, 0.2382635623216629, 0.3599265217781067, 0.033942803740501404, 0.06771963089704514, 0.003485569264739752, 0.3047381341457367, 0.10644181817770004, 0.25102338194847107, 0.1561298668384552, 0.17975828051567078, 0.0015954875852912664, 0.00030390240135602653, 0.1379665583372116, 0.8620383739471436, 0.9976797103881836, 0.9972732067108154, 0.02216743491590023, 0.977830171585083, 0.07660854607820511, 0.0019313078373670578, 0.9212338328361511, 0.9985660910606384, 0.08334044367074966, 0.01829424314200878, 0.10773276537656784, 0.789701521396637, 0.9995165467262268, 0.9984598159790039, 0.8351024985313416, 0.00034546435927040875, 0.03788592293858528, 0.016351979225873947, 0.08175989985466003, 0.02844323217868805, 0.9994529485702515, 0.9975956082344055, 0.4395236074924469, 0.09363533556461334, 0.050291769206523895, 0.24404743313789368, 0.0005955604137852788, 0.08291524648666382, 0.08834146708250046, 0.0006617337930947542, 0.007292243652045727, 0.9917451739311218, 0.3713882565498352, 0.6278012990951538, 0.9988027811050415, 0.04329649731516838, 0.7523853182792664, 0.003477630438283086, 0.20065927505493164, 0.9993411898612976, 0.9984086155891418, 0.37630990147590637, 0.09213150292634964, 0.21029871702194214, 0.09736548364162445, 0.05629885941743851, 0.1422569453716278, 0.02523047663271427, 0.00013420467439573258, 0.7979938983917236, 0.12466017156839371, 0.07727966457605362, 0.9998750686645508, 0.9966887831687927, 0.06273289769887924, 0.9349225759506226, 0.9974880814552307, 0.9972200989723206, 0.994847297668457, 0.9978192448616028, 0.9997708201408386, 0.8725177049636841, 0.0009803569409996271, 0.008496426977217197, 0.11796961724758148, 0.1974194347858429, 0.8020422458648682, 0.9999289512634277, 0.9990623593330383, 0.9994160532951355, 0.9998869895935059, 0.9992854595184326, 0.9997818470001221, 0.9995706081390381, 0.9997351169586182, 0.9995452761650085, 0.999276876449585, 0.9995403289794922, 0.9971328377723694, 0.9997172951698303, 0.9994864463806152, 0.9997050762176514, 0.9999532103538513, 0.9896131157875061, 0.009955866262316704, 0.37586936354637146, 0.09818139672279358, 0.052326131612062454, 0.2534022629261017, 0.12582238018512726, 0.09426692128181458, 0.7372546195983887, 0.2624360918998718, 0.9993519186973572, 0.08182953298091888, 0.34447181224823, 0.27916067838668823, 0.1484113186597824, 0.14612415432929993, 0.1886235624551773, 0.8109716176986694, 0.0915064662694931, 0.24962382018566132, 0.6588222980499268, 0.9976487755775452, 0.0883292630314827, 0.408873975276947, 0.5028213858604431, 0.9988764524459839, 0.12667153775691986, 0.16904912889003754, 0.15642233192920685, 0.15221340954303741, 0.20860154926776886, 0.1045890599489212, 0.04860450699925423, 0.033844418823719025, 0.9752858877182007, 0.024587038904428482, 0.9984524250030518, 0.7354937791824341, 0.264244943857193, 0.9459430575370789, 0.05307492986321449, 0.9964257478713989, 0.9973875880241394, 0.9998002648353577, 0.9996241927146912, 0.9992417097091675, 0.8056416511535645, 0.1937667578458786, 0.9986017942428589, 0.9725916385650635, 0.02739744819700718, 0.9715491533279419, 0.02821195311844349, 0.14963555335998535, 0.1943286657333374, 0.26309680938720703, 0.14463534951210022, 0.09864587336778641, 0.06413833796977997, 0.02407502569258213, 0.06148391216993332, 0.96360844373703, 0.03622802719473839, 0.9986193180084229, 0.0010743618477135897, 0.9974589943885803, 0.8573389053344727, 0.03660684823989868, 0.10598687082529068, 4.6752040361752734e-05, 0.9991891384124756, 0.9979837536811829, 0.6609044075012207, 0.059829242527484894, 0.2791103720664978, 0.9998086094856262, 0.998530924320221, 0.9984174370765686, 0.06698739528656006, 0.19300565123558044, 0.12211477011442184, 0.2602173686027527, 0.173533096909523, 0.1261528581380844, 0.057968996465206146, 0.996828556060791, 0.9999854564666748, 0.12228681892156601, 0.8758793473243713, 0.9989157915115356, 0.9958209991455078, 0.00043476364226080477, 0.593561053276062, 0.020542582497000694, 0.0011956000234931707, 0.3842223584651947, 0.8862282037734985, 0.02085500955581665, 0.059491660445928574, 0.03314848989248276, 0.201072558760643, 0.16597574949264526, 0.2033098042011261, 0.15283192694187164, 0.14010758697986603, 0.07555369287729263, 0.020694533362984657, 0.04045687988400459, 0.3844917118549347, 0.12195251882076263, 0.15947112441062927, 0.1461382508277893, 0.03274061158299446, 0.09066805988550186, 0.05838249251246452, 0.006143130827695131, 0.9996094703674316, 0.0011114702792838216, 0.7193065285682678, 0.27953478693962097, 0.9995871186256409, 0.9996976256370544, 0.9995413422584534, 0.9207109808921814, 0.07925502955913544, 0.15327845513820648, 0.7887144088745117, 0.05729340389370918, 0.9954426288604736, 0.9976031184196472, 0.06815215945243835, 0.23624785244464874, 0.2927820682525635, 0.0424371138215065, 0.02906918153166771, 0.15924856066703796, 0.04943704977631569, 0.12264472246170044, 0.31722551584243774, 0.4194483458995819, 0.07261168956756592, 0.19067004323005676, 0.7775149941444397, 0.102891705930233, 0.1168769896030426, 0.002330880146473646, 0.9995896816253662, 0.9996320009231567, 0.9398046731948853, 0.059541262686252594, 0.9969450235366821, 0.2723951041698456, 0.13219866156578064, 0.5951291918754578, 0.9959250688552856, 0.9987399578094482, 0.9855916500091553, 0.014032152481377125, 0.9985917806625366, 0.9982562065124512, 0.08152883499860764, 0.9178568720817566, 0.0003355956869199872, 0.6699832081794739, 0.08158330619335175, 0.04970172047615051, 0.19840416312217712, 0.9989780187606812, 0.25934457778930664, 0.1613309383392334, 0.16341936588287354, 0.06815864145755768, 0.11661963164806366, 0.13123860955238342, 0.05268530175089836, 0.0472269169986248, 0.31550198793411255, 0.02515728771686554, 0.34894639253616333, 0.27574360370635986, 0.033444393426179886, 0.0011838723439723253, 0.10290281474590302, 0.14749403297901154, 0.6311372518539429, 0.11833823472261429, 0.9995181560516357, 0.9992294311523438, 0.9992069005966187, 0.997588038444519, 0.14401200413703918, 0.07725599408149719, 0.4132555425167084, 0.0774267241358757, 0.08835353702306747, 0.15621930360794067, 0.03739019110798836, 0.005975601729005575, 0.9986727237701416, 0.41548997163772583, 0.06564643979072571, 0.12621504068374634, 0.24796156585216522, 0.0363980270922184, 0.059634268283843994, 0.04716306924819946, 0.0014217979041859508, 0.9994609355926514, 0.9980152249336243, 0.8671754598617554, 0.1326795220375061, 0.9982388019561768], \"Term\": [\"allergy\", \"allergy\", \"allergy\", \"almond\", \"almond\", \"amazon\", \"amazon\", \"amazon\", \"amazoncom\", \"amazoncom\", \"apple\", \"apple\", \"apple_cider\", \"aroma\", \"aroma\", \"aroma\", \"aroma\", \"aspartame\", \"baby\", \"baby\", \"babys\", \"bag\", \"bag\", \"bag\", \"bag\", \"bag\", \"ball\", \"ball\", \"ball\", \"ball\", \"ball\", \"banana\", \"banana\", \"bar\", \"bark\", \"bean\", \"bean\", \"bean\", \"beef\", \"beef\", \"beer\", \"beer\", \"benefit\", \"benefit\", \"benefit\", \"benefit\", \"bergamot\", \"birthday\", \"biscuit\", \"bit\", \"bit\", \"bit\", \"bit\", \"bit\", \"bit\", \"bit\", \"bit\", \"blade\", \"blend\", \"blend\", \"blend\", \"blend\", \"blue_buffalo\", \"blue_diamond\", \"blueberry\", \"blueberry\", \"body\", \"body\", \"body\", \"body\", \"body\", \"body\", \"bone\", \"bone\", \"boost\", \"boost\", \"bottle\", \"bottle\", \"box\", \"box\", \"box\", \"box\", \"bran\", \"brand\", \"brand\", \"brand\", \"brand\", \"brand\", \"brand\", \"brand\", \"bread\", \"breakfast\", \"breakfast\", \"breakfast\", \"breath\", \"breath\", \"breed\", \"brew\", \"brew\", \"brewer\", \"brewer\", \"brewing\", \"brewing\", \"brownie\", \"brownie\", \"butter\", \"butter\", \"butter\", \"butter\", \"buy\", \"buy\", \"buy\", \"buy\", \"buy\", \"buy\", \"buying\", \"buying\", \"buying\", \"buying\", \"buying\", \"buying\", \"buying\", \"byproduct\", \"cacao\", \"caffeine\", \"caffeine\", \"caffeine\", \"caffeine\", \"cake\", \"cake\", \"cake\", \"calorie\", \"calorie\", \"calorie\", \"calorie\", \"can\", \"can\", \"can\", \"candy\", \"candy\", \"cap\", \"cap\", \"cappuccino\", \"capsule\", \"carb\", \"carb\", \"carbonation\", \"cardamom\", \"caribou\", \"case\", \"case\", \"case\", \"case\", \"case\", \"case\", \"case\", \"cat\", \"caviar\", \"cereal\", \"chai\", \"chamomile\", \"charge\", \"cheddar\", \"cheerio\", \"cheese\", \"cherry\", \"cherry\", \"chew\", \"chew\", \"chewer\", \"chewy\", \"chewy\", \"chewy\", \"chia\", \"chicken\", \"chicken\", \"china\", \"china\", \"chip\", \"chocolate\", \"chocolate\", \"cider\", \"cinnamon\", \"cinnamon\", \"clove\", \"clove\", \"cluster\", \"coat\", \"coat\", \"cocktail\", \"cocoa\", \"cocoa\", \"cocoa\", \"coconut\", \"coconut\", \"coffee\", \"coffeebr\", \"coke\", \"cola\", \"color\", \"color\", \"color\", \"color\", \"color\", \"color\", \"color\", \"color\", \"coloring\", \"coloring\", \"company\", \"company\", \"company\", \"company\", \"company\", \"company\", \"company\", \"company\", \"conditioner\", \"cook\", \"cook\", \"cookie\", \"cookie\", \"cost\", \"cost\", \"cost\", \"cost\", \"cost\", \"costco\", \"costco\", \"costco\", \"cow\", \"cracker\", \"cracker\", \"cramp\", \"cranberry\", \"creamer\", \"crema\", \"crystal_light\", \"cup\", \"cup\", \"cup\", \"cup\", \"cupcake\", \"curry\", \"cytomax\", \"dad\", \"date\", \"date\", \"davidson\", \"day\", \"day\", \"day\", \"day\", \"day\", \"day\", \"day\", \"deal\", \"deal\", \"deal\", \"deal\", \"deal\", \"deal\", \"decaf\", \"decaf\", \"delivery\", \"delivery\", \"diarrhea\", \"diet\", \"diet\", \"diet\", \"diet\", \"dip\", \"discount\", \"dish\", \"doctor\", \"doctor\", \"doctor\", \"dog\", \"dollar\", \"dollar\", \"drawer\", \"drink\", \"drink\", \"drink\", \"drink\", \"drink\", \"drinker\", \"drinker\", \"drinker\", \"drip\", \"drip\", \"duck\", \"duck\", \"earl_grey\", \"effect\", \"effect\", \"effect\", \"effect\", \"egg\", \"egg\", \"egg\", \"electrolyte\", \"emeril\", \"energy\", \"energy\", \"energy\", \"espresso\", \"essentia\", \"expiration_date\", \"extract\", \"extract\", \"extract\", \"face\", \"face\", \"face\", \"feed\", \"feed\", \"fiber\", \"fiber\", \"fig\", \"filler\", \"filler\", \"filter\", \"filter\", \"flavor\", \"flavor\", \"flavor\", \"flavor\", \"flavor\", \"flavor\", \"flavor\", \"flavor\", \"flour\", \"flour\", \"flower\", \"flower\", \"fly\", \"folger\", \"fondant\", \"food\", \"food\", \"food\", \"food\", \"food\", \"formula\", \"formula\", \"french_roast\", \"fruit\", \"fruit\", \"fry\", \"fudge\", \"fur\", \"gerber\", \"gift\", \"gift\", \"ginger\", \"glass\", \"glass\", \"glass\", \"grain\", \"grain\", \"grain\", \"gram\", \"gram\", \"granola\", \"grape\", \"greenie\", \"grocery\", \"ground\", \"ground\", \"ground\", \"ground\", \"gum\", \"gum\", \"hair\", \"hazelnut\", \"heat\", \"heat\", \"heat\", \"hemp\", \"hershey\", \"hershey\", \"hibiscus\", \"honey\", \"honey\", \"hour\", \"hour\", \"hour\", \"hour\", \"hunger\", \"hydration\", \"iam\", \"ice\", \"ice\", \"ice\", \"ingredient\", \"ingredient\", \"ingredient\", \"ingredient\", \"ingredient\", \"item\", \"jalapeno\", \"jasmine\", \"jelly\", \"jerky\", \"jerky\", \"juice\", \"kcup\", \"kefir\", \"kelloggs\", \"kettle\", \"keurig\", \"keurig_brewer\", \"kibble\", \"kid\", \"kid\", \"kid\", \"kid\", \"kid\", \"kitten\", \"kitty\", \"kona\", \"lab\", \"lab\", \"lab\", \"labor\", \"lamb\", \"lamb\", \"larabar\", \"latte\", \"lavender\", \"leaf\", \"leave\", \"leave\", \"leave\", \"leave\", \"leave\", \"lemon\", \"lemon\", \"lemonade\", \"lemonade\", \"lemongrass\", \"lentil\", \"lick\", \"licorice\", \"lid\", \"lid\", \"lid\", \"lid\", \"lipton\", \"liquor\", \"liter\", \"litter\", \"liver\", \"loaf\", \"lot\", \"lot\", \"lot\", \"lot\", \"lot\", \"lot\", \"lot\", \"lot\", \"lotion\", \"love\", \"love\", \"love\", \"love\", \"love\", \"love\", \"love\", \"love\", \"machine\", \"maker\", \"maker\", \"mango\", \"maple\", \"margarita\", \"marley\", \"matcha\", \"meal\", \"meal\", \"meal\", \"meat\", \"meat\", \"microwave\", \"microwave\", \"milk\", \"milk\", \"milk\", \"milk\", \"milk\", \"mint\", \"mint\", \"mio\", \"mix\", \"mix\", \"mix\", \"mix\", \"mix\", \"mixer\", \"moisturizer\", \"molasse\", \"money\", \"money\", \"money\", \"money\", \"money\", \"money\", \"month\", \"month\", \"month\", \"month\", \"morning\", \"morning\", \"morning\", \"morning\", \"morning\", \"msg\", \"mustard\", \"night\", \"night\", \"night\", \"night\", \"night\", \"night\", \"night\", \"noodle\", \"nut\", \"nut\", \"nylabone\", \"oat\", \"oatmeal\", \"oats\", \"oil\", \"oil\", \"olive\", \"onion\", \"orange\", \"orange\", \"orange\", \"orange\", \"order\", \"order\", \"order\", \"pack\", \"pack\", \"pack\", \"pack\", \"pack\", \"package\", \"package\", \"package\", \"package\", \"package\", \"package\", \"package\", \"packaging\", \"packaging\", \"packaging\", \"packaging\", \"packaging\", \"packaging\", \"packaging\", \"packaging\", \"packet\", \"packet\", \"packet\", \"packet\", \"packet\", \"packet\", \"pain\", \"pain\", \"pan\", \"pancake\", \"park\", \"passion_fruit\", \"pasta\", \"paste\", \"paw\", \"peach\", \"peach\", \"peanut\", \"peanut\", \"peanut\", \"peanut_butter\", \"pear\", \"people\", \"people\", \"people\", \"people\", \"people\", \"people\", \"people\", \"people\", \"pepper\", \"peppermint\", \"pet\", \"petco\", \"picture\", \"picture\", \"picture\", \"piece\", \"piece\", \"piece\", \"piece\", \"pill\", \"pill\", \"pill_pocket\", \"pineapple\", \"pineapple\", \"pineapple\", \"pineapple\", \"pizza\", \"plant\", \"pod\", \"pomegranate\", \"poop\", \"popchip\", \"popcorn\", \"pork\", \"potato\", \"potato\", \"powder\", \"pregnancy\", \"price\", \"price\", \"price\", \"price\", \"pricing\", \"problem\", \"problem\", \"problem\", \"problem\", \"problem\", \"problem\", \"problem\", \"product\", \"product\", \"product\", \"product\", \"product\", \"product\", \"product\", \"protein\", \"protein\", \"prune\", \"pudding\", \"puff\", \"puff\", \"pumpkin\", \"pumpkin\", \"pumpkin\", \"pumpkin_spice\", \"punch\", \"punch\", \"punch\", \"punch\", \"pup\", \"puppy\", \"purchase\", \"purchase\", \"purchase\", \"purchase\", \"purchase\", \"purchase\", \"purina\", \"quaker\", \"quality\", \"quality\", \"quality\", \"quality\", \"quality\", \"quality\", \"quality\", \"quality\", \"raisin\", \"raisin\", \"raspberry\", \"raspberry\", \"rawhide\", \"recipe\", \"recipe\", \"recipe\", \"recipe\", \"refund\", \"rescue\", \"review\", \"review\", \"review\", \"review\", \"review\", \"review\", \"review\", \"review\", \"rice\", \"rice\", \"rice\", \"roast\", \"rooibos\", \"root_beer\", \"root_beer\", \"rose\", \"rum\", \"sachet\", \"sage\", \"salad\", \"sale\", \"sale\", \"sale\", \"sale\", \"salmon\", \"salmon\", \"salt\", \"salty\", \"sandwich\", \"sauce\", \"sausage\", \"save\", \"scalp\", \"seed\", \"seller\", \"senseo\", \"service\", \"shaker\", \"shampoo\", \"ship\", \"shipment\", \"shipping\", \"shower\", \"shower\", \"size\", \"size\", \"size\", \"size\", \"size\", \"size\", \"skin\", \"skin\", \"sleep\", \"smell\", \"smell\", \"smell\", \"smell\", \"smell\", \"smoothie\", \"smoothie\", \"snack\", \"snack\", \"snack\", \"soap\", \"soda\", \"soda\", \"soda\", \"sodastream\", \"something\", \"something\", \"something\", \"something\", \"something\", \"something\", \"something\", \"something\", \"soup\", \"soup\", \"spearmint\", \"spice\", \"spice\", \"splenda\", \"splenda\", \"squirrel\", \"stain\", \"starbuck\", \"stash\", \"steak\", \"stevia\", \"stevia\", \"stool\", \"store\", \"store\", \"study\", \"study\", \"stuff\", \"stuff\", \"stuff\", \"stuff\", \"stuff\", \"stuff\", \"stuff\", \"stuff\", \"subscribe\", \"subscribe\", \"subscription\", \"subscription\", \"sucralose\", \"sugar\", \"sugar\", \"sugar\", \"sugar\", \"sugarfree\", \"supplier\", \"sweetener\", \"sweetener\", \"sweetener\", \"syrup\", \"tap\", \"tassimo\", \"taste\", \"taste\", \"taste\", \"taste\", \"taste\", \"taste\", \"taste\", \"tazo\", \"tea\", \"teabag\", \"teabag\", \"teabr\", \"teavana\", \"texture\", \"texture\", \"texture\", \"texture\", \"texture\", \"thank\", \"thank\", \"thank\", \"thank\", \"thing\", \"thing\", \"thing\", \"thing\", \"thing\", \"thing\", \"thing\", \"thing\", \"time\", \"time\", \"time\", \"time\", \"time\", \"time\", \"time\", \"time\", \"tomato\", \"tooth\", \"tooth\", \"tooth\", \"toy\", \"training\", \"trap\", \"treat\", \"treat\", \"tree\", \"tree\", \"tree\", \"truvia\", \"twining\", \"use\", \"use\", \"use\", \"use\", \"use\", \"use\", \"use\", \"use\", \"vanilla\", \"vanilla\", \"vanilla\", \"vanilla\", \"vegetable\", \"vegetable\", \"vegetable\", \"vegetable\", \"vendor\", \"vet\", \"vinegar\", \"vinegar\", \"vita_coco\", \"vitamin\", \"vitamin\", \"vitamin\", \"vodka\", \"waffle\", \"walmart\", \"walmart\", \"walnut\", \"warehouse\", \"wash\", \"wash\", \"water\", \"water\", \"water\", \"water\", \"water\", \"watermelon\", \"way\", \"way\", \"way\", \"way\", \"way\", \"way\", \"way\", \"way\", \"week\", \"week\", \"week\", \"week\", \"week\", \"week\", \"weight\", \"weight\", \"weight\", \"weight\", \"wellness\", \"whey\", \"wine\", \"wolfgang_puck\", \"work\", \"work\", \"work\", \"work\", \"work\", \"work\", \"work\", \"work\", \"xylitol\", \"year\", \"year\", \"year\", \"year\", \"year\", \"year\", \"year\", \"year\", \"yeast\", \"yogi\", \"yogurt\", \"yogurt\", \"zico\"]}, \"R\": 30, \"lambda.step\": 0.01, \"plot.opts\": {\"xlab\": \"PC1\", \"ylab\": \"PC2\"}, \"topic.order\": [1, 2, 3, 8, 5, 6, 7, 4]};\n",
       "\n",
       "function LDAvis_load_lib(url, callback){\n",
       "  var s = document.createElement('script');\n",
       "  s.src = url;\n",
       "  s.async = true;\n",
       "  s.onreadystatechange = s.onload = callback;\n",
       "  s.onerror = function(){console.warn(\"failed to load library \" + url);};\n",
       "  document.getElementsByTagName(\"head\")[0].appendChild(s);\n",
       "}\n",
       "\n",
       "if(typeof(LDAvis) !== \"undefined\"){\n",
       "   // already loaded: just create the visualization\n",
       "   !function(LDAvis){\n",
       "       new LDAvis(\"#\" + \"ldavis_el1421400074299703445159459984\", ldavis_el1421400074299703445159459984_data);\n",
       "   }(LDAvis);\n",
       "}else if(typeof define === \"function\" && define.amd){\n",
       "   // require.js is available: use it to load d3/LDAvis\n",
       "   require.config({paths: {d3: \"https://cdnjs.cloudflare.com/ajax/libs/d3/3.5.5/d3.min\"}});\n",
       "   require([\"d3\"], function(d3){\n",
       "      window.d3 = d3;\n",
       "      LDAvis_load_lib(\"https://cdn.rawgit.com/bmabey/pyLDAvis/files/ldavis.v1.0.0.js\", function(){\n",
       "        new LDAvis(\"#\" + \"ldavis_el1421400074299703445159459984\", ldavis_el1421400074299703445159459984_data);\n",
       "      });\n",
       "    });\n",
       "}else{\n",
       "    // require.js not available: dynamically load d3 & LDAvis\n",
       "    LDAvis_load_lib(\"https://cdnjs.cloudflare.com/ajax/libs/d3/3.5.5/d3.min.js\", function(){\n",
       "         LDAvis_load_lib(\"https://cdn.rawgit.com/bmabey/pyLDAvis/files/ldavis.v1.0.0.js\", function(){\n",
       "                 new LDAvis(\"#\" + \"ldavis_el1421400074299703445159459984\", ldavis_el1421400074299703445159459984_data);\n",
       "            })\n",
       "         });\n",
       "}\n",
       "</script>"
      ],
      "text/plain": [
       "PreparedData(topic_coordinates=              x         y  topics  cluster       Freq\n",
       "topic                                                \n",
       "0      0.165282 -0.091527  1       1        21.478954\n",
       "1      0.035196  0.073151  2       1        14.279699\n",
       "2      0.062812  0.033807  3       1        13.736332\n",
       "7      0.225108  0.128239  4       1        13.556301\n",
       "4     -0.024415  0.076927  5       1        12.560217\n",
       "5     -0.041547 -0.202293  6       1        12.086387\n",
       "6     -0.125449 -0.177224  7       1        6.366471 \n",
       "3     -0.296987  0.158920  8       1        5.935645 , topic_info=    Category          Freq     Term         Total  loglift  logprob\n",
       "6    Default  79670.000000  coffee   79670.000000  30.0000  30.0000\n",
       "105  Default  58476.000000  tea      58476.000000  29.0000  29.0000\n",
       "11   Default  48175.000000  dog      48175.000000  28.0000  28.0000\n",
       "66   Default  63760.000000  food     63760.000000  27.0000  27.0000\n",
       "38   Default  34725.000000  amazon   34725.000000  26.0000  26.0000\n",
       "..       ...           ...     ...            ...      ...      ...\n",
       "118  Topic8   2234.003418   milk     13957.775391  0.9920  -4.7246 \n",
       "163  Topic8   2522.679932   use      20571.615234  0.7256  -4.6031 \n",
       "256  Topic8   1480.748535   vanilla  7767.344727   1.1668  -5.1359 \n",
       "106  Topic8   1267.916382   bit      19587.046875  0.0867  -5.2911 \n",
       "172  Topic8   1154.316772   recipe   5751.042480   1.2183  -5.3849 \n",
       "\n",
       "[551 rows x 6 columns], token_table=      Topic      Freq     Term\n",
       "term                          \n",
       "261   3      0.057306  allergy\n",
       "261   4      0.723674  allergy\n",
       "261   5      0.218939  allergy\n",
       "711   1      0.084520  almond \n",
       "711   5      0.915272  almond \n",
       "...  ..           ...     ... \n",
       "1069  8      0.999461  yeast  \n",
       "5995  7      0.998015  yogi   \n",
       "1050  5      0.867175  yogurt \n",
       "1050  8      0.132680  yogurt \n",
       "3178  3      0.998239  zico   \n",
       "\n",
       "[941 rows x 3 columns], R=30, lambda_step=0.01, plot_opts={'xlab': 'PC1', 'ylab': 'PC2'}, topic_order=[1, 2, 3, 8, 5, 6, 7, 4])"
      ]
     },
     "execution_count": 73,
     "metadata": {
      "tags": []
     },
     "output_type": "execute_result"
    }
   ],
   "source": [
    "start_time = datetime.now()\n",
    "pyLDAvis.enable_notebook()\n",
    "vis = pyLDAvis.gensim.prepare(model_8, corpus, dictionary=model_8.id2word)\n",
    "end_time = datetime.now()\n",
    "print('Duration: {}'.format(end_time -start_time))\n",
    "pyLDAvis.save_html(vis, '/content/drive/My Drive/capstone3/8_topmodelling.html')\n",
    "vis"
   ]
  },
  {
   "cell_type": "code",
   "execution_count": 0,
   "metadata": {
    "colab": {
     "base_uri": "https://localhost:8080/",
     "height": 399
    },
    "colab_type": "code",
    "id": "zOOxarvmkBdq",
    "outputId": "034a9eb4-f5bc-4aba-c67a-ae06d276f329"
   },
   "outputs": [
    {
     "name": "stdout",
     "output_type": "stream",
     "text": [
      "Duration: 0:09:47.461928\n"
     ]
    },
    {
     "name": "stderr",
     "output_type": "stream",
     "text": [
      "/usr/local/lib/python3.6/dist-packages/smart_open/smart_open_lib.py:402: UserWarning: This function is deprecated, use smart_open.open instead. See the migration notes for details: https://github.com/RaRe-Technologies/smart_open/blob/master/README.rst#migrating-to-the-new-open-function\n",
      "  'See the migration notes for details: %s' % _MIGRATION_NOTES_URL\n"
     ]
    },
    {
     "data": {
      "text/html": [
       "<div>\n",
       "<style scoped>\n",
       "    .dataframe tbody tr th:only-of-type {\n",
       "        vertical-align: middle;\n",
       "    }\n",
       "\n",
       "    .dataframe tbody tr th {\n",
       "        vertical-align: top;\n",
       "    }\n",
       "\n",
       "    .dataframe thead th {\n",
       "        text-align: right;\n",
       "    }\n",
       "</style>\n",
       "<table border=\"1\" class=\"dataframe\">\n",
       "  <thead>\n",
       "    <tr style=\"text-align: right;\">\n",
       "      <th></th>\n",
       "      <th>0</th>\n",
       "      <th>1</th>\n",
       "    </tr>\n",
       "  </thead>\n",
       "  <tbody>\n",
       "    <tr>\n",
       "      <th>0</th>\n",
       "      <td>0</td>\n",
       "      <td>0.040*\"amazon\" + 0.035*\"price\" + 0.031*\"store\" + 0.026*\"box\" + 0.020*\"bag\" + 0.018*\"time\" + 0.018*\"order\" + 0.013*\"love\" + 0.012*\"item\" + 0.012*\"package\"</td>\n",
       "    </tr>\n",
       "    <tr>\n",
       "      <th>1</th>\n",
       "      <td>1</td>\n",
       "      <td>0.034*\"flavor\" + 0.022*\"chip\" + 0.021*\"taste\" + 0.020*\"sauce\" + 0.020*\"salt\" + 0.011*\"rice\" + 0.011*\"bag\" + 0.010*\"food\" + 0.010*\"cheese\" + 0.010*\"love\"</td>\n",
       "    </tr>\n",
       "    <tr>\n",
       "      <th>2</th>\n",
       "      <td>2</td>\n",
       "      <td>0.035*\"water\" + 0.019*\"bottle\" + 0.017*\"day\" + 0.016*\"coconut\" + 0.015*\"taste\" + 0.013*\"time\" + 0.013*\"baby\" + 0.013*\"oil\" + 0.010*\"food\" + 0.009*\"use\"</td>\n",
       "    </tr>\n",
       "    <tr>\n",
       "      <th>3</th>\n",
       "      <td>3</td>\n",
       "      <td>0.056*\"chocolate\" + 0.054*\"flavor\" + 0.032*\"milk\" + 0.030*\"taste\" + 0.029*\"mix\" + 0.019*\"vanilla\" + 0.018*\"water\" + 0.018*\"drink\" + 0.016*\"powder\" + 0.013*\"juice\"</td>\n",
       "    </tr>\n",
       "    <tr>\n",
       "      <th>4</th>\n",
       "      <td>4</td>\n",
       "      <td>0.038*\"bar\" + 0.033*\"sugar\" + 0.030*\"taste\" + 0.028*\"snack\" + 0.025*\"flavor\" + 0.020*\"calorie\" + 0.019*\"cereal\" + 0.017*\"protein\" + 0.015*\"ingredient\" + 0.015*\"cookie\"</td>\n",
       "    </tr>\n",
       "    <tr>\n",
       "      <th>5</th>\n",
       "      <td>5</td>\n",
       "      <td>0.162*\"coffee\" + 0.048*\"cup\" + 0.029*\"flavor\" + 0.022*\"taste\" + 0.021*\"kcup\" + 0.013*\"pod\" + 0.013*\"blend\" + 0.011*\"roast\" + 0.011*\"bean\" + 0.010*\"love\"</td>\n",
       "    </tr>\n",
       "    <tr>\n",
       "      <th>6</th>\n",
       "      <td>6</td>\n",
       "      <td>0.228*\"tea\" + 0.037*\"flavor\" + 0.029*\"taste\" + 0.022*\"bag\" + 0.018*\"honey\" + 0.016*\"ginger\" + 0.016*\"love\" + 0.015*\"cup\" + 0.010*\"drink\" + 0.009*\"time\"</td>\n",
       "    </tr>\n",
       "    <tr>\n",
       "      <th>7</th>\n",
       "      <td>7</td>\n",
       "      <td>0.089*\"food\" + 0.087*\"dog\" + 0.045*\"cat\" + 0.040*\"treat\" + 0.011*\"time\" + 0.011*\"chicken\" + 0.011*\"year\" + 0.010*\"ingredient\" + 0.010*\"day\" + 0.009*\"love\"</td>\n",
       "    </tr>\n",
       "    <tr>\n",
       "      <th>8</th>\n",
       "      <td>8</td>\n",
       "      <td>0.057*\"hair\" + 0.029*\"gum\" + 0.022*\"skin\" + 0.020*\"shampoo\" + 0.019*\"chew\" + 0.018*\"tooth\" + 0.014*\"conditioner\" + 0.013*\"breath\" + 0.013*\"oil\" + 0.012*\"use\"</td>\n",
       "    </tr>\n",
       "  </tbody>\n",
       "</table>\n",
       "</div>"
      ],
      "text/plain": [
       "   0                                                                                                                                                                        1\n",
       "0  0  0.040*\"amazon\" + 0.035*\"price\" + 0.031*\"store\" + 0.026*\"box\" + 0.020*\"bag\" + 0.018*\"time\" + 0.018*\"order\" + 0.013*\"love\" + 0.012*\"item\" + 0.012*\"package\"              \n",
       "1  1  0.034*\"flavor\" + 0.022*\"chip\" + 0.021*\"taste\" + 0.020*\"sauce\" + 0.020*\"salt\" + 0.011*\"rice\" + 0.011*\"bag\" + 0.010*\"food\" + 0.010*\"cheese\" + 0.010*\"love\"               \n",
       "2  2  0.035*\"water\" + 0.019*\"bottle\" + 0.017*\"day\" + 0.016*\"coconut\" + 0.015*\"taste\" + 0.013*\"time\" + 0.013*\"baby\" + 0.013*\"oil\" + 0.010*\"food\" + 0.009*\"use\"                \n",
       "3  3  0.056*\"chocolate\" + 0.054*\"flavor\" + 0.032*\"milk\" + 0.030*\"taste\" + 0.029*\"mix\" + 0.019*\"vanilla\" + 0.018*\"water\" + 0.018*\"drink\" + 0.016*\"powder\" + 0.013*\"juice\"     \n",
       "4  4  0.038*\"bar\" + 0.033*\"sugar\" + 0.030*\"taste\" + 0.028*\"snack\" + 0.025*\"flavor\" + 0.020*\"calorie\" + 0.019*\"cereal\" + 0.017*\"protein\" + 0.015*\"ingredient\" + 0.015*\"cookie\"\n",
       "5  5  0.162*\"coffee\" + 0.048*\"cup\" + 0.029*\"flavor\" + 0.022*\"taste\" + 0.021*\"kcup\" + 0.013*\"pod\" + 0.013*\"blend\" + 0.011*\"roast\" + 0.011*\"bean\" + 0.010*\"love\"               \n",
       "6  6  0.228*\"tea\" + 0.037*\"flavor\" + 0.029*\"taste\" + 0.022*\"bag\" + 0.018*\"honey\" + 0.016*\"ginger\" + 0.016*\"love\" + 0.015*\"cup\" + 0.010*\"drink\" + 0.009*\"time\"                \n",
       "7  7  0.089*\"food\" + 0.087*\"dog\" + 0.045*\"cat\" + 0.040*\"treat\" + 0.011*\"time\" + 0.011*\"chicken\" + 0.011*\"year\" + 0.010*\"ingredient\" + 0.010*\"day\" + 0.009*\"love\"             \n",
       "8  8  0.057*\"hair\" + 0.029*\"gum\" + 0.022*\"skin\" + 0.020*\"shampoo\" + 0.019*\"chew\" + 0.018*\"tooth\" + 0.014*\"conditioner\" + 0.013*\"breath\" + 0.013*\"oil\" + 0.012*\"use\"          "
      ]
     },
     "execution_count": 43,
     "metadata": {
      "tags": []
     },
     "output_type": "execute_result"
    }
   ],
   "source": [
    "start_time = datetime.now()\n",
    "\n",
    "# Clustering 9\n",
    "model_9 = LdaMulticore(corpus=corpus,\n",
    "                         id2word=dct,\n",
    "                         random_state=100,\n",
    "                         num_topics=9,\n",
    "                         passes=10,\n",
    "                         chunksize=1000,\n",
    "                         batch=False,\n",
    "                         alpha='asymmetric',\n",
    "                         decay=0.5,\n",
    "                         offset=64,\n",
    "                         eta=None,\n",
    "                         eval_every=0,\n",
    "                         iterations=100,\n",
    "                         gamma_threshold=0.001,\n",
    "                         per_word_topics=True)\n",
    "# save the model\n",
    "model_9.save('/content/drive/My Drive/capstone3/model_9.model')\n",
    "end_time = datetime.now()\n",
    "print('Duration: {}'.format(end_time -start_time))\n",
    "df_9 = pd.DataFrame(model_9.print_topics(-1))\n",
    "df_9"
   ]
  },
  {
   "cell_type": "code",
   "execution_count": 0,
   "metadata": {
    "colab": {},
    "colab_type": "code",
    "id": "qXD8NRVHf2xZ"
   },
   "outputs": [],
   "source": []
  }
 ],
 "metadata": {
  "accelerator": "GPU",
  "colab": {
   "collapsed_sections": [],
   "machine_shape": "hm",
   "name": "Topic_modelling.ipynb",
   "provenance": []
  },
  "kernelspec": {
   "display_name": "Python 3",
   "language": "python",
   "name": "python3"
  },
  "language_info": {
   "codemirror_mode": {
    "name": "ipython",
    "version": 3
   },
   "file_extension": ".py",
   "mimetype": "text/x-python",
   "name": "python",
   "nbconvert_exporter": "python",
   "pygments_lexer": "ipython3",
   "version": "3.7.6"
  }
 },
 "nbformat": 4,
 "nbformat_minor": 1
}
