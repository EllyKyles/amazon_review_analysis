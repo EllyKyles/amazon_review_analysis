{
 "cells": [
  {
   "cell_type": "markdown",
   "metadata": {},
   "source": [
    "# EDA Analysis & Split Data"
   ]
  },
  {
   "cell_type": "code",
   "execution_count": 15,
   "metadata": {},
   "outputs": [
    {
     "name": "stderr",
     "output_type": "stream",
     "text": [
      "/opt/anaconda3/lib/python3.7/site-packages/ipykernel_launcher.py:7: FutureWarning: Passing a negative integer is deprecated in version 1.0 and will not be supported in future version. Instead, use None to not limit the column width.\n",
      "  import sys\n"
     ]
    }
   ],
   "source": [
    "import numpy as np\n",
    "import pandas as pd\n",
    "import matplotlib.pyplot as plt\n",
    "#from wordcloud import WordCloud\n",
    "from sklearn.feature_extraction.text import CountVectorizer\n",
    "pd.set_option('display.expand_frame_repr', False)\n",
    "pd.set_option('display.max_colwidth', -1)\n",
    "\n",
    "\n",
    "plt.style.use('ggplot')\n",
    "font = {'weight' : 'bold',\n",
    "        'size'   : 14}\n",
    "plt.rc('font', **font)\n",
    "\n",
    "import warnings\n",
    "warnings.filterwarnings(\"ignore\")"
   ]
  },
  {
   "cell_type": "code",
   "execution_count": 3,
   "metadata": {},
   "outputs": [],
   "source": [
    "data = pd.read_pickle('/Users/ellykyles/capstone2/data/cleaned_corpus.pkl')"
   ]
  },
  {
   "cell_type": "code",
   "execution_count": 4,
   "metadata": {},
   "outputs": [
    {
     "data": {
      "text/html": [
       "<div>\n",
       "<style scoped>\n",
       "    .dataframe tbody tr th:only-of-type {\n",
       "        vertical-align: middle;\n",
       "    }\n",
       "\n",
       "    .dataframe tbody tr th {\n",
       "        vertical-align: top;\n",
       "    }\n",
       "\n",
       "    .dataframe thead th {\n",
       "        text-align: right;\n",
       "    }\n",
       "</style>\n",
       "<table border=\"1\" class=\"dataframe\">\n",
       "  <thead>\n",
       "    <tr style=\"text-align: right;\">\n",
       "      <th></th>\n",
       "      <th>Id</th>\n",
       "      <th>ProductId</th>\n",
       "      <th>UserId</th>\n",
       "      <th>ProfileName</th>\n",
       "      <th>HelpfulnessNumerator</th>\n",
       "      <th>HelpfulnessDenominator</th>\n",
       "      <th>Score</th>\n",
       "      <th>Time</th>\n",
       "      <th>Summary</th>\n",
       "      <th>Text</th>\n",
       "      <th>clean_text</th>\n",
       "      <th>token_words</th>\n",
       "    </tr>\n",
       "  </thead>\n",
       "  <tbody>\n",
       "    <tr>\n",
       "      <th>0</th>\n",
       "      <td>1</td>\n",
       "      <td>B001E4KFG0</td>\n",
       "      <td>A3SGXH7AUHU8GW</td>\n",
       "      <td>delmartian</td>\n",
       "      <td>1</td>\n",
       "      <td>1</td>\n",
       "      <td>5</td>\n",
       "      <td>1303862400</td>\n",
       "      <td>Good Quality Dog Food</td>\n",
       "      <td>I have bought several of the Vitality canned dog food products and have found them all to be of good quality. The product looks more like a stew than a processed meat and it smells better. My Labrador is finicky and she appreciates this product better than  most.</td>\n",
       "      <td>i have bought several of the vitality canned dog food products and have found them all to be of good quality the product looks more like a stew than a processed meat and it smells better my labrador is finicky and she appreciates this product better than  most</td>\n",
       "      <td>[bought, sever, vital, can, dog, food, product, found, good, qualiti, product, look, like, stew, process, meat, smell, better, labrador, finicki, appreci, product, better]</td>\n",
       "    </tr>\n",
       "  </tbody>\n",
       "</table>\n",
       "</div>"
      ],
      "text/plain": [
       "   Id   ProductId          UserId ProfileName  HelpfulnessNumerator  HelpfulnessDenominator  Score        Time                Summary                                                                                                                                                                                                                                                                     Text                                                                                                                                                                                                                                                            clean_text                                                                                                                                                                  token_words\n",
       "0  1   B001E4KFG0  A3SGXH7AUHU8GW  delmartian  1                     1                       5      1303862400  Good Quality Dog Food  I have bought several of the Vitality canned dog food products and have found them all to be of good quality. The product looks more like a stew than a processed meat and it smells better. My Labrador is finicky and she appreciates this product better than  most.  i have bought several of the vitality canned dog food products and have found them all to be of good quality the product looks more like a stew than a processed meat and it smells better my labrador is finicky and she appreciates this product better than  most  [bought, sever, vital, can, dog, food, product, found, good, qualiti, product, look, like, stew, process, meat, smell, better, labrador, finicki, appreci, product, better]"
      ]
     },
     "execution_count": 4,
     "metadata": {},
     "output_type": "execute_result"
    }
   ],
   "source": [
    "data.head(1)"
   ]
  },
  {
   "cell_type": "code",
   "execution_count": 5,
   "metadata": {},
   "outputs": [],
   "source": [
    "data['join_token'] = data['token_words'].apply(lambda x: ' '.join(x))"
   ]
  },
  {
   "cell_type": "code",
   "execution_count": 6,
   "metadata": {},
   "outputs": [
    {
     "data": {
      "text/plain": [
       "115093"
      ]
     },
     "execution_count": 6,
     "metadata": {},
     "output_type": "execute_result"
    }
   ],
   "source": [
    "len(data[data[\"HelpfulnessNumerator\"] !=data['HelpfulnessDenominator']])"
   ]
  },
  {
   "cell_type": "code",
   "execution_count": 7,
   "metadata": {},
   "outputs": [
    {
     "name": "stdout",
     "output_type": "stream",
     "text": [
      "<class 'pandas.core.frame.DataFrame'>\n",
      "RangeIndex: 568454 entries, 0 to 568453\n",
      "Data columns (total 13 columns):\n",
      " #   Column                  Non-Null Count   Dtype \n",
      "---  ------                  --------------   ----- \n",
      " 0   Id                      568454 non-null  int64 \n",
      " 1   ProductId               568454 non-null  object\n",
      " 2   UserId                  568454 non-null  object\n",
      " 3   ProfileName             568438 non-null  object\n",
      " 4   HelpfulnessNumerator    568454 non-null  int64 \n",
      " 5   HelpfulnessDenominator  568454 non-null  int64 \n",
      " 6   Score                   568454 non-null  int64 \n",
      " 7   Time                    568454 non-null  int64 \n",
      " 8   Summary                 568427 non-null  object\n",
      " 9   Text                    568454 non-null  object\n",
      " 10  clean_text              568454 non-null  object\n",
      " 11  token_words             568454 non-null  object\n",
      " 12  join_token              568454 non-null  object\n",
      "dtypes: int64(5), object(8)\n",
      "memory usage: 56.4+ MB\n"
     ]
    }
   ],
   "source": [
    "data.info()"
   ]
  },
  {
   "cell_type": "code",
   "execution_count": 8,
   "metadata": {},
   "outputs": [],
   "source": [
    "from datetime import datetime as dt\n",
    "data['Date'] = pd.to_datetime(data['Time'], unit='s')"
   ]
  },
  {
   "cell_type": "code",
   "execution_count": 9,
   "metadata": {},
   "outputs": [
    {
     "data": {
      "text/plain": [
       "0        2011-04-27\n",
       "1        2012-09-07\n",
       "2        2008-08-18\n",
       "3        2011-06-13\n",
       "4        2012-10-21\n",
       "            ...    \n",
       "568449   2011-03-09\n",
       "568450   2012-03-09\n",
       "568451   2012-02-21\n",
       "568452   2012-03-13\n",
       "568453   2012-05-31\n",
       "Name: Date, Length: 568454, dtype: datetime64[ns]"
      ]
     },
     "execution_count": 9,
     "metadata": {},
     "output_type": "execute_result"
    }
   ],
   "source": [
    "data['Date'] "
   ]
  },
  {
   "cell_type": "code",
   "execution_count": 10,
   "metadata": {},
   "outputs": [],
   "source": [
    "data['year'] = data['Date'].dt.year"
   ]
  },
  {
   "cell_type": "code",
   "execution_count": 11,
   "metadata": {},
   "outputs": [
    {
     "data": {
      "image/png": "[encoded data removed]",
      "text/plain": [
       "<Figure size 432x288 with 1 Axes>"
      ]
     },
     "metadata": {
      "needs_background": "light"
     },
     "output_type": "display_data"
    }
   ],
   "source": [
    "import matplotlib.pyplot as plt\n",
    "%matplotlib inline\n",
    "data.groupby('year')['ProductId'].count().sort_values(ascending = False).plot.bar(color='b')\n",
    "plt.title('Total Reveiw by Year')\n",
    "plt.savefig('Total_Review_Year')"
   ]
  },
  {
   "cell_type": "code",
   "execution_count": 12,
   "metadata": {},
   "outputs": [],
   "source": [
    "filter_data = data[data.Date.dt.year >2010 ]"
   ]
  },
  {
   "cell_type": "code",
   "execution_count": 13,
   "metadata": {},
   "outputs": [
    {
     "data": {
      "text/plain": [
       "(361958, 15)"
      ]
     },
     "execution_count": 13,
     "metadata": {},
     "output_type": "execute_result"
    }
   ],
   "source": [
    "filter_data.shape"
   ]
  },
  {
   "cell_type": "code",
   "execution_count": 14,
   "metadata": {},
   "outputs": [
    {
     "data": {
      "text/plain": [
       "0.6367410555647423"
      ]
     },
     "execution_count": 14,
     "metadata": {},
     "output_type": "execute_result"
    }
   ],
   "source": [
    "filter_data.shape[0]/data.shape[0]"
   ]
  },
  {
   "cell_type": "markdown",
   "metadata": {},
   "source": [
    "# Split Train and Test Data Set"
   ]
  },
  {
   "cell_type": "code",
   "execution_count": 16,
   "metadata": {},
   "outputs": [],
   "source": [
    "def count_voca(text):\n",
    "    return len(text.split())\n",
    "def unique_voca(text):\n",
    "    return len(text)"
   ]
  },
  {
   "cell_type": "code",
   "execution_count": 17,
   "metadata": {},
   "outputs": [],
   "source": [
    "filter_data['words_count'] = filter_data['clean_text'].apply(count_voca)\n",
    "filter_data['unique_words'] = filter_data['token_words'].apply(unique_voca)"
   ]
  },
  {
   "cell_type": "code",
   "execution_count": 18,
   "metadata": {},
   "outputs": [
    {
     "data": {
      "text/html": [
       "<div>\n",
       "<style scoped>\n",
       "    .dataframe tbody tr th:only-of-type {\n",
       "        vertical-align: middle;\n",
       "    }\n",
       "\n",
       "    .dataframe tbody tr th {\n",
       "        vertical-align: top;\n",
       "    }\n",
       "\n",
       "    .dataframe thead th {\n",
       "        text-align: right;\n",
       "    }\n",
       "</style>\n",
       "<table border=\"1\" class=\"dataframe\">\n",
       "  <thead>\n",
       "    <tr style=\"text-align: right;\">\n",
       "      <th></th>\n",
       "      <th>Id</th>\n",
       "      <th>ProductId</th>\n",
       "      <th>UserId</th>\n",
       "      <th>ProfileName</th>\n",
       "      <th>HelpfulnessNumerator</th>\n",
       "      <th>HelpfulnessDenominator</th>\n",
       "      <th>Score</th>\n",
       "      <th>Time</th>\n",
       "      <th>Summary</th>\n",
       "      <th>Text</th>\n",
       "      <th>clean_text</th>\n",
       "      <th>token_words</th>\n",
       "      <th>join_token</th>\n",
       "      <th>Date</th>\n",
       "      <th>year</th>\n",
       "      <th>words_count</th>\n",
       "      <th>unique_words</th>\n",
       "    </tr>\n",
       "  </thead>\n",
       "  <tbody>\n",
       "    <tr>\n",
       "      <th>0</th>\n",
       "      <td>1</td>\n",
       "      <td>B001E4KFG0</td>\n",
       "      <td>A3SGXH7AUHU8GW</td>\n",
       "      <td>delmartian</td>\n",
       "      <td>1</td>\n",
       "      <td>1</td>\n",
       "      <td>5</td>\n",
       "      <td>1303862400</td>\n",
       "      <td>Good Quality Dog Food</td>\n",
       "      <td>I have bought several of the Vitality canned dog food products and have found them all to be of good quality. The product looks more like a stew than a processed meat and it smells better. My Labrador is finicky and she appreciates this product better than  most.</td>\n",
       "      <td>i have bought several of the vitality canned dog food products and have found them all to be of good quality the product looks more like a stew than a processed meat and it smells better my labrador is finicky and she appreciates this product better than  most</td>\n",
       "      <td>[bought, sever, vital, can, dog, food, product, found, good, qualiti, product, look, like, stew, process, meat, smell, better, labrador, finicki, appreci, product, better]</td>\n",
       "      <td>bought sever vital can dog food product found good qualiti product look like stew process meat smell better labrador finicki appreci product better</td>\n",
       "      <td>2011-04-27</td>\n",
       "      <td>2011</td>\n",
       "      <td>48</td>\n",
       "      <td>23</td>\n",
       "    </tr>\n",
       "  </tbody>\n",
       "</table>\n",
       "</div>"
      ],
      "text/plain": [
       "   Id   ProductId          UserId ProfileName  HelpfulnessNumerator  HelpfulnessDenominator  Score        Time                Summary                                                                                                                                                                                                                                                                     Text                                                                                                                                                                                                                                                            clean_text                                                                                                                                                                  token_words                                                                                                                                           join_token       Date  year  words_count  unique_words\n",
       "0  1   B001E4KFG0  A3SGXH7AUHU8GW  delmartian  1                     1                       5      1303862400  Good Quality Dog Food  I have bought several of the Vitality canned dog food products and have found them all to be of good quality. The product looks more like a stew than a processed meat and it smells better. My Labrador is finicky and she appreciates this product better than  most.  i have bought several of the vitality canned dog food products and have found them all to be of good quality the product looks more like a stew than a processed meat and it smells better my labrador is finicky and she appreciates this product better than  most  [bought, sever, vital, can, dog, food, product, found, good, qualiti, product, look, like, stew, process, meat, smell, better, labrador, finicki, appreci, product, better]  bought sever vital can dog food product found good qualiti product look like stew process meat smell better labrador finicki appreci product better 2011-04-27  2011  48           23          "
      ]
     },
     "execution_count": 18,
     "metadata": {},
     "output_type": "execute_result"
    }
   ],
   "source": [
    "filter_data.head(1)"
   ]
  },
  {
   "cell_type": "code",
   "execution_count": 19,
   "metadata": {},
   "outputs": [
    {
     "data": {
      "text/plain": [
       "2"
      ]
     },
     "execution_count": 19,
     "metadata": {},
     "output_type": "execute_result"
    }
   ],
   "source": [
    "from sklearn.model_selection import ShuffleSplit\n",
    "rs=ShuffleSplit(n_splits=2, test_size=.3)\n",
    "rs.get_n_splits(filter_data)"
   ]
  },
  {
   "cell_type": "code",
   "execution_count": 20,
   "metadata": {},
   "outputs": [],
   "source": [
    "for train_index, test_index in rs.split(filter_data): \n",
    "    test_data = filter_data.iloc[test_index]\n",
    "    train_data = filter_data.iloc[train_index]"
   ]
  },
  {
   "cell_type": "code",
   "execution_count": 21,
   "metadata": {},
   "outputs": [
    {
     "data": {
      "text/plain": [
       "(108588, 17)"
      ]
     },
     "execution_count": 21,
     "metadata": {},
     "output_type": "execute_result"
    }
   ],
   "source": [
    "test_data.shape"
   ]
  },
  {
   "cell_type": "code",
   "execution_count": 22,
   "metadata": {},
   "outputs": [
    {
     "data": {
      "text/plain": [
       "(253370, 17)"
      ]
     },
     "execution_count": 22,
     "metadata": {},
     "output_type": "execute_result"
    }
   ],
   "source": [
    "train_data.shape"
   ]
  },
  {
   "cell_type": "code",
   "execution_count": 26,
   "metadata": {},
   "outputs": [],
   "source": [
    "test_data.to_pickle('/Users/ellykyles/capstone2/data/test.pkl')\n",
    "train_data.to_pickle('/Users/ellykyles/capstone2/data/train.pkl')"
   ]
  },
  {
   "cell_type": "code",
   "execution_count": 24,
   "metadata": {},
   "outputs": [
    {
     "data": {
      "image/png": "[encoded data removed]",
      "text/plain": [
       "<Figure size 720x720 with 2 Axes>"
      ]
     },
     "metadata": {},
     "output_type": "display_data"
    }
   ],
   "source": [
    "fig, axs = plt.subplots((2), figsize = (10,10))\n",
    "axs[0].hist(train_data['words_count'], bins = 150, color = 'pink')\n",
    "axs[0].set_title(\"Distribution of Word Count\")\n",
    "axs[0].axvline(train_data['words_count'].mean(), c= 'k', linestyle = '--')\n",
    "axs[1].hist(train_data['unique_words'], bins = 150, color = 'pink')\n",
    "axs[1].axvline(train_data['unique_words'].mean(), c = 'k', linestyle = '--')\n",
    "axs[1].set_title(\"Distribution of Unique word Count\")\n",
    "axs[0].set_xlim((0,600))\n",
    "axs[1].set_xlim((0, 300))\n",
    "plt.tight_layout()\n",
    "plt.savefig('Distribution_Words')"
   ]
  },
  {
   "cell_type": "code",
   "execution_count": 70,
   "metadata": {},
   "outputs": [
    {
     "data": {
      "image/png": "[encoded data removed]",
      "text/plain": [
       "<Figure size 432x288 with 1 Axes>"
      ]
     },
     "metadata": {
      "needs_background": "light"
     },
     "output_type": "display_data"
    }
   ],
   "source": [
    "plt.scatter(train_data['Score'], train_data['words_count'])\n",
    "plt.title(\"Socre & Word Counts\");\n",
    "plt.savefig('socre_scatter')"
   ]
  },
  {
   "cell_type": "markdown",
   "metadata": {},
   "source": [
    "# Train_pickle Data"
   ]
  },
  {
   "cell_type": "code",
   "execution_count": 27,
   "metadata": {},
   "outputs": [],
   "source": [
    "train_data = pd.read_pickle('/Users/ellykyles/capstone2/data/train.pkl')"
   ]
  },
  {
   "cell_type": "code",
   "execution_count": 28,
   "metadata": {},
   "outputs": [
    {
     "data": {
      "text/html": [
       "<div>\n",
       "<style scoped>\n",
       "    .dataframe tbody tr th:only-of-type {\n",
       "        vertical-align: middle;\n",
       "    }\n",
       "\n",
       "    .dataframe tbody tr th {\n",
       "        vertical-align: top;\n",
       "    }\n",
       "\n",
       "    .dataframe thead th {\n",
       "        text-align: right;\n",
       "    }\n",
       "</style>\n",
       "<table border=\"1\" class=\"dataframe\">\n",
       "  <thead>\n",
       "    <tr style=\"text-align: right;\">\n",
       "      <th></th>\n",
       "      <th>Id</th>\n",
       "      <th>ProductId</th>\n",
       "      <th>UserId</th>\n",
       "      <th>ProfileName</th>\n",
       "      <th>HelpfulnessNumerator</th>\n",
       "      <th>HelpfulnessDenominator</th>\n",
       "      <th>Score</th>\n",
       "      <th>Time</th>\n",
       "      <th>Summary</th>\n",
       "      <th>Text</th>\n",
       "      <th>clean_text</th>\n",
       "      <th>token_words</th>\n",
       "      <th>join_token</th>\n",
       "      <th>Date</th>\n",
       "      <th>year</th>\n",
       "      <th>words_count</th>\n",
       "      <th>unique_words</th>\n",
       "    </tr>\n",
       "  </thead>\n",
       "  <tbody>\n",
       "    <tr>\n",
       "      <th>233938</th>\n",
       "      <td>233939</td>\n",
       "      <td>B003E6COMO</td>\n",
       "      <td>A2ZE58VIDDCMR7</td>\n",
       "      <td>inna</td>\n",
       "      <td>1</td>\n",
       "      <td>2</td>\n",
       "      <td>5</td>\n",
       "      <td>1350000000</td>\n",
       "      <td>&amp;#1091;&amp;#1076;&amp;#1086;&amp;#1073;&amp;#1085;&amp;#1072;&amp;#1103; &amp;#1091;&amp;#1087;&amp;#1072;&amp;#1082;&amp;#1086;&amp;#1074;&amp;#1082;&amp;#1072;</td>\n",
       "      <td>&amp;#1056;&amp;#1077;&amp;#1096;&amp;#1080;&amp;#1083;&amp;#1072; &amp;#1079;&amp;#1072;&amp;#1082;&amp;#1072;&amp;#1079;&amp;#1072;&amp;#1090;&amp;#1100; &amp;#1101;&amp;#1090;&amp;#1080; &amp;#1078;&amp;#1077;&amp;#1083;&amp;#1072;&amp;#1090;&amp;#1080;&amp;#1085;&amp;#1082;&amp;#1080;, &amp;#1090;.&amp;#1082;. &amp;#1076;&amp;#1086;&amp;#1095;&amp;#1082;&amp;#1072; &amp;#1087;&amp;#1086;&amp;#1096;&amp;#1083;&amp;#1072; &amp;#1074; &amp;#1096;&amp;#1082;&amp;#1086;&amp;#1083;&amp;#1091; &amp;#1080; &amp;#1090;&amp;#1088;&amp;#1077;&amp;#1073;&amp;#1091;&amp;#1077;&amp;#1090; &amp;#1089;&amp;#1083;&amp;#1072;&amp;#1076;&amp;#1086;&amp;#1089;&amp;#1090;&amp;#1080;. &amp;#1054;&amp;#1095;&amp;#1077;&amp;#1085;&amp;#1100; &amp;#1091;&amp;#1076;&amp;#1086;&amp;#1073;&amp;#1085;&amp;#1072;&amp;#1103; &amp;#1091;&amp;#1087;&amp;#1072;&amp;#1082;&amp;#1086;&amp;#1074;&amp;#1082;&amp;#1072;. &amp;#1050;&amp;#1072;&amp;#1082; &amp;#1088;&amp;#1072;&amp;#1079; &amp;#1089;&amp;#1090;&amp;#1086;&amp;#1083;&amp;#1100;&amp;#1082;&amp;#1086; &amp;#1082;&amp;#1086;&amp;#1085;&amp;#1092;&amp;#1077;&amp;#1090;, &amp;#1082;&amp;#1072;&amp;#1082; &amp;#1080; &amp;#1090;&amp;#1088;&amp;#1077;&amp;#1073;&amp;#1091;&amp;#1077;&amp;#1090;&amp;#1089;&amp;#1103;, &amp;#1095;&amp;#1090;&amp;#1086;&amp;#1073;&amp;#1099; &amp;#1089;&amp;#1100;&amp;#1077;&amp;#1089;&amp;#1090;&amp;#1100; &amp;#1080;&amp;#1093; &amp;#1079;&amp;#1072; &amp;#1087;&amp;#1077;&amp;#1088;&amp;#1077;&amp;#1084;&amp;#1077;&amp;#1085;&amp;#1091;.</td>\n",
       "      <td></td>\n",
       "      <td>[]</td>\n",
       "      <td></td>\n",
       "      <td>2012-10-12</td>\n",
       "      <td>2012</td>\n",
       "      <td>0</td>\n",
       "      <td>0</td>\n",
       "    </tr>\n",
       "    <tr>\n",
       "      <th>446822</th>\n",
       "      <td>446823</td>\n",
       "      <td>B004PENLO4</td>\n",
       "      <td>ARJB3TQC9PIDB</td>\n",
       "      <td>me</td>\n",
       "      <td>0</td>\n",
       "      <td>0</td>\n",
       "      <td>5</td>\n",
       "      <td>1330560000</td>\n",
       "      <td>goood</td>\n",
       "      <td>Price couldf been lower...........  ........  ...............  ....................  .,,.,...  ............  ..  ......  ........  .  ..........:..............  ....:.:............  .....,.,.,  ..  ...  .............  :........  .:.....  ..........  ...........  .............  ........:...  :.............  ......  ..........: .  :..........  .......  .......  ........</td>\n",
       "      <td>price couldf been lower</td>\n",
       "      <td>[price, couldf, lower]</td>\n",
       "      <td>price couldf lower</td>\n",
       "      <td>2012-03-01</td>\n",
       "      <td>2012</td>\n",
       "      <td>4</td>\n",
       "      <td>3</td>\n",
       "    </tr>\n",
       "  </tbody>\n",
       "</table>\n",
       "</div>"
      ],
      "text/plain": [
       "            Id   ProductId          UserId ProfileName  HelpfulnessNumerator  HelpfulnessDenominator  Score        Time                                                                                                     Summary                                                                                                                                                                                                                                                                                                                                                                                                                                                                                                                                                                                                                                                                                                                                                                                                                                                                                                                                                                                                                 Text                                                                        clean_text             token_words          join_token       Date  year  words_count  unique_words\n",
       "233938  233939  B003E6COMO  A2ZE58VIDDCMR7  inna        1                     2                       5      1350000000  &#1091;&#1076;&#1086;&#1073;&#1085;&#1072;&#1103; &#1091;&#1087;&#1072;&#1082;&#1086;&#1074;&#1082;&#1072;  &#1056;&#1077;&#1096;&#1080;&#1083;&#1072; &#1079;&#1072;&#1082;&#1072;&#1079;&#1072;&#1090;&#1100; &#1101;&#1090;&#1080; &#1078;&#1077;&#1083;&#1072;&#1090;&#1080;&#1085;&#1082;&#1080;, &#1090;.&#1082;. &#1076;&#1086;&#1095;&#1082;&#1072; &#1087;&#1086;&#1096;&#1083;&#1072; &#1074; &#1096;&#1082;&#1086;&#1083;&#1091; &#1080; &#1090;&#1088;&#1077;&#1073;&#1091;&#1077;&#1090; &#1089;&#1083;&#1072;&#1076;&#1086;&#1089;&#1090;&#1080;. &#1054;&#1095;&#1077;&#1085;&#1100; &#1091;&#1076;&#1086;&#1073;&#1085;&#1072;&#1103; &#1091;&#1087;&#1072;&#1082;&#1086;&#1074;&#1082;&#1072;. &#1050;&#1072;&#1082; &#1088;&#1072;&#1079; &#1089;&#1090;&#1086;&#1083;&#1100;&#1082;&#1086; &#1082;&#1086;&#1085;&#1092;&#1077;&#1090;, &#1082;&#1072;&#1082; &#1080; &#1090;&#1088;&#1077;&#1073;&#1091;&#1077;&#1090;&#1089;&#1103;, &#1095;&#1090;&#1086;&#1073;&#1099; &#1089;&#1100;&#1077;&#1089;&#1090;&#1100; &#1080;&#1093; &#1079;&#1072; &#1087;&#1077;&#1088;&#1077;&#1084;&#1077;&#1085;&#1091;.                                                                                    []                                         2012-10-12  2012  0            0           \n",
       "446822  446823  B004PENLO4  ARJB3TQC9PIDB   me          0                     0                       5      1330560000  goood                                                                                                       Price couldf been lower...........  ........  ...............  ....................  .,,.,...  ............  ..  ......  ........  .  ..........:..............  ....:.:............  .....,.,.,  ..  ...  .............  :........  .:.....  ..........  ...........  .............  ........:...  :.............  ......  ..........: .  :..........  .......  .......  ........                                                                                                                                                                                                                                                                                                                                                                                                                                                                                                                                                                                                                                   price couldf been lower                                                           [price, couldf, lower]  price couldf lower 2012-03-01  2012  4            3           "
      ]
     },
     "execution_count": 28,
     "metadata": {},
     "output_type": "execute_result"
    }
   ],
   "source": [
    "train_data[(train_data['words_count'] ==0) | (train_data['words_count'] <5)]"
   ]
  },
  {
   "cell_type": "markdown",
   "metadata": {},
   "source": [
    "not yet to excute the code \n",
    "\n",
    "not_interested_columns = ['Time', 'Text']\n",
    "train_data = train_data.drop(columns = not_interested_columns)"
   ]
  },
  {
   "cell_type": "code",
   "execution_count": 29,
   "metadata": {},
   "outputs": [
    {
     "data": {
      "text/html": [
       "<div>\n",
       "<style scoped>\n",
       "    .dataframe tbody tr th:only-of-type {\n",
       "        vertical-align: middle;\n",
       "    }\n",
       "\n",
       "    .dataframe tbody tr th {\n",
       "        vertical-align: top;\n",
       "    }\n",
       "\n",
       "    .dataframe thead th {\n",
       "        text-align: right;\n",
       "    }\n",
       "</style>\n",
       "<table border=\"1\" class=\"dataframe\">\n",
       "  <thead>\n",
       "    <tr style=\"text-align: right;\">\n",
       "      <th></th>\n",
       "      <th>Id</th>\n",
       "      <th>ProductId</th>\n",
       "      <th>UserId</th>\n",
       "      <th>ProfileName</th>\n",
       "      <th>HelpfulnessNumerator</th>\n",
       "      <th>HelpfulnessDenominator</th>\n",
       "      <th>Score</th>\n",
       "      <th>Time</th>\n",
       "      <th>Summary</th>\n",
       "      <th>Text</th>\n",
       "      <th>clean_text</th>\n",
       "      <th>token_words</th>\n",
       "      <th>join_token</th>\n",
       "      <th>Date</th>\n",
       "      <th>year</th>\n",
       "      <th>words_count</th>\n",
       "      <th>unique_words</th>\n",
       "    </tr>\n",
       "  </thead>\n",
       "  <tbody>\n",
       "    <tr>\n",
       "      <th>491450</th>\n",
       "      <td>491451</td>\n",
       "      <td>B005A1LH0Q</td>\n",
       "      <td>A2Z3EDGYBA75F5</td>\n",
       "      <td>Jeanne R. Michon</td>\n",
       "      <td>2</td>\n",
       "      <td>2</td>\n",
       "      <td>4</td>\n",
       "      <td>1322611200</td>\n",
       "      <td>Great snack</td>\n",
       "      <td>I was pleasantly surprised at these little snacks.  Thought sure they wouldn't fill me up, but they did.  Had just the right amount of crunch and a hint of cinnamon flavor that was not overpowering or bitter.</td>\n",
       "      <td>i was pleasantly surprised at these little snacks  thought sure they wouldnt fill me up but they did  had just the right amount of crunch and a hint of cinnamon flavor that was not overpowering or bitter</td>\n",
       "      <td>[pleasantli, surpris, littl, snack, thought, sure, wouldnt, fill, right, amount, crunch, hint, cinnamon, flavor, overpow, bitter]</td>\n",
       "      <td>pleasantli surpris littl snack thought sure wouldnt fill right amount crunch hint cinnamon flavor overpow bitter</td>\n",
       "      <td>2011-11-30</td>\n",
       "      <td>2011</td>\n",
       "      <td>37</td>\n",
       "      <td>16</td>\n",
       "    </tr>\n",
       "  </tbody>\n",
       "</table>\n",
       "</div>"
      ],
      "text/plain": [
       "            Id   ProductId          UserId       ProfileName  HelpfulnessNumerator  HelpfulnessDenominator  Score        Time      Summary                                                                                                                                                                                                              Text                                                                                                                                                                                                   clean_text                                                                                                                        token_words                                                                                                        join_token       Date  year  words_count  unique_words\n",
       "491450  491451  B005A1LH0Q  A2Z3EDGYBA75F5  Jeanne R. Michon  2                     2                       4      1322611200  Great snack  I was pleasantly surprised at these little snacks.  Thought sure they wouldn't fill me up, but they did.  Had just the right amount of crunch and a hint of cinnamon flavor that was not overpowering or bitter.  i was pleasantly surprised at these little snacks  thought sure they wouldnt fill me up but they did  had just the right amount of crunch and a hint of cinnamon flavor that was not overpowering or bitter  [pleasantli, surpris, littl, snack, thought, sure, wouldnt, fill, right, amount, crunch, hint, cinnamon, flavor, overpow, bitter]  pleasantli surpris littl snack thought sure wouldnt fill right amount crunch hint cinnamon flavor overpow bitter 2011-11-30  2011  37           16          "
      ]
     },
     "execution_count": 29,
     "metadata": {},
     "output_type": "execute_result"
    }
   ],
   "source": [
    "train_data.head(1)"
   ]
  },
  {
   "cell_type": "code",
   "execution_count": 30,
   "metadata": {
    "scrolled": true
   },
   "outputs": [
    {
     "data": {
      "text/plain": [
       "Score\n",
       "5    0.622248\n",
       "4    0.143577\n",
       "1    0.099515\n",
       "3    0.078743\n",
       "2    0.055918\n",
       "Name: ProductId, dtype: float64"
      ]
     },
     "execution_count": 30,
     "metadata": {},
     "output_type": "execute_result"
    }
   ],
   "source": [
    "grouped_scores=train_data.groupby('Score')['ProductId'].count().sort_values(ascending = False)\n",
    "grouped_scores = grouped_scores/sum(grouped_scores)\n",
    "grouped_scores"
   ]
  },
  {
   "cell_type": "code",
   "execution_count": 31,
   "metadata": {},
   "outputs": [
    {
     "data": {
      "image/png": "[encoded data removed]",
      "text/plain": [
       "<Figure size 432x288 with 1 Axes>"
      ]
     },
     "metadata": {},
     "output_type": "display_data"
    }
   ],
   "source": [
    "labels = grouped_scores.index\n",
    "sizes = grouped_scores * 100\n",
    "explode = (0.1, 0, 0, 0,0)  # only \"explode\" the 2nd slice (i.e. 'Hogs')\n",
    "\n",
    "fig1, ax1 = plt.subplots()\n",
    "ax1.pie(sizes, explode=explode, labels=labels, autopct='%1.1f%%',\n",
    "        shadow=True, startangle=90)\n",
    "ax1.axis('equal')  # Equal aspect ratio ensures that pie is drawn as a circle.\n",
    "plt.title('Distribution of Scores')\n",
    "plt.savefig('Scores_total')\n",
    "plt.show()"
   ]
  },
  {
   "cell_type": "code",
   "execution_count": 32,
   "metadata": {},
   "outputs": [],
   "source": [
    "data_2011 = train_data[train_data['year'] == 2011]\n",
    "data_2012 = train_data[train_data['year'] == 2012]\n",
    "grouped_scores_2011=data_2011.groupby('Score')['ProductId'].count().sort_values(ascending = False)\n",
    "grouped_scores_2012=data_2012.groupby('Score')['ProductId'].count().sort_values(ascending = False)"
   ]
  },
  {
   "cell_type": "markdown",
   "metadata": {},
   "source": [
    "#  Active Users Analysis"
   ]
  },
  {
   "cell_type": "code",
   "execution_count": 33,
   "metadata": {},
   "outputs": [],
   "source": [
    "train_data = pd.read_pickle('train.pkl')\n",
    "users=train_data.UserId.value_counts()\n"
   ]
  },
  {
   "cell_type": "code",
   "execution_count": 35,
   "metadata": {},
   "outputs": [],
   "source": [
    "# define activer_users as they gave more than 50 reviews\n",
    "active_user_id = users[users>50]\n",
    "\n",
    "active_user =train_data['UserId'].isin(active_user_id.index)\n",
    "\n",
    "active_user_df = train_data[active_user]"
   ]
  },
  {
   "cell_type": "code",
   "execution_count": 36,
   "metadata": {},
   "outputs": [
    {
     "data": {
      "image/png": "[encoded data removed]",
      "text/plain": [
       "<Figure size 432x288 with 1 Axes>"
      ]
     },
     "metadata": {},
     "output_type": "display_data"
    }
   ],
   "source": [
    "most_active_user=active_user_df[active_user_df['UserId'] =='AY12DBB0U420B']\n",
    "most_active_user['Score'].hist();\n",
    "plt.title('The Activist Review Score');"
   ]
  },
  {
   "cell_type": "code",
   "execution_count": 38,
   "metadata": {},
   "outputs": [],
   "source": [
    "# the most active user \n",
    "vectorizer = CountVectorizer(max_features = 1000)\n",
    "X = vectorizer.fit_transform(most_active_user['join_token'])"
   ]
  },
  {
   "cell_type": "code",
   "execution_count": 39,
   "metadata": {},
   "outputs": [
    {
     "data": {
      "text/html": [
       "<div>\n",
       "<style scoped>\n",
       "    .dataframe tbody tr th:only-of-type {\n",
       "        vertical-align: middle;\n",
       "    }\n",
       "\n",
       "    .dataframe tbody tr th {\n",
       "        vertical-align: top;\n",
       "    }\n",
       "\n",
       "    .dataframe thead th {\n",
       "        text-align: right;\n",
       "    }\n",
       "</style>\n",
       "<table border=\"1\" class=\"dataframe\">\n",
       "  <thead>\n",
       "    <tr style=\"text-align: right;\">\n",
       "      <th></th>\n",
       "      <th>count</th>\n",
       "    </tr>\n",
       "  </thead>\n",
       "  <tbody>\n",
       "    <tr>\n",
       "      <th>good</th>\n",
       "      <td>336</td>\n",
       "    </tr>\n",
       "    <tr>\n",
       "      <th>br</th>\n",
       "      <td>264</td>\n",
       "    </tr>\n",
       "    <tr>\n",
       "      <th>peterson</th>\n",
       "      <td>221</td>\n",
       "    </tr>\n",
       "    <tr>\n",
       "      <th>gari</th>\n",
       "      <td>221</td>\n",
       "    </tr>\n",
       "    <tr>\n",
       "      <th>well</th>\n",
       "      <td>219</td>\n",
       "    </tr>\n",
       "    <tr>\n",
       "      <th>like</th>\n",
       "      <td>218</td>\n",
       "    </tr>\n",
       "    <tr>\n",
       "      <th>one</th>\n",
       "      <td>189</td>\n",
       "    </tr>\n",
       "    <tr>\n",
       "      <th>tast</th>\n",
       "      <td>163</td>\n",
       "    </tr>\n",
       "    <tr>\n",
       "      <th>theyr</th>\n",
       "      <td>153</td>\n",
       "    </tr>\n",
       "    <tr>\n",
       "      <th>tri</th>\n",
       "      <td>140</td>\n",
       "    </tr>\n",
       "  </tbody>\n",
       "</table>\n",
       "</div>"
      ],
      "text/plain": [
       "          count\n",
       "good      336  \n",
       "br        264  \n",
       "peterson  221  \n",
       "gari      221  \n",
       "well      219  \n",
       "like      218  \n",
       "one       189  \n",
       "tast      163  \n",
       "theyr     153  \n",
       "tri       140  "
      ]
     },
     "execution_count": 39,
     "metadata": {},
     "output_type": "execute_result"
    }
   ],
   "source": [
    "x_most_active_matrix=X.toarray()\n",
    "the_most_active=pd.DataFrame(x_most_active_matrix.sum(axis =0), index = vectorizer.get_feature_names(), columns =['count'])\n",
    "the_most_active.sort_values(by='count', ascending = False).iloc[:10, :]"
   ]
  },
  {
   "cell_type": "code",
   "execution_count": 41,
   "metadata": {},
   "outputs": [
    {
     "data": {
      "text/html": [
       "<div>\n",
       "<style scoped>\n",
       "    .dataframe tbody tr th:only-of-type {\n",
       "        vertical-align: middle;\n",
       "    }\n",
       "\n",
       "    .dataframe tbody tr th {\n",
       "        vertical-align: top;\n",
       "    }\n",
       "\n",
       "    .dataframe thead th {\n",
       "        text-align: right;\n",
       "    }\n",
       "</style>\n",
       "<table border=\"1\" class=\"dataframe\">\n",
       "  <thead>\n",
       "    <tr style=\"text-align: right;\">\n",
       "      <th></th>\n",
       "      <th>Text</th>\n",
       "      <th>clean_text</th>\n",
       "      <th>token_words</th>\n",
       "    </tr>\n",
       "  </thead>\n",
       "  <tbody>\n",
       "    <tr>\n",
       "      <th>371318</th>\n",
       "      <td>I bought a few of these Nongshim noodle soups because they're easy to store and very handy for making a quick lunch on busy days. The latest I tried today was the Savory Bowl Noodle Soup, Chicken Flavor (3.03 ounces). It was quite good, much better than many other brands I've had in the past. The broth was particularly good. Very tasty. My reservations for food dishes such as this is the high sodium content. The soup doesn't taste particularly salty, but the nutrition label says a lot. I counter this by not having such dishes very often. However, if you're going to have these bowls now and then, this is quite a good one, the best I can remember.&lt;br /&gt;&lt;br /&gt;Gary Peterson</td>\n",
       "      <td>i bought a few of these nongshim noodle soups because theyre easy to store and very handy for making a quick lunch on busy days the latest i tried today was the savory bowl noodle soup chicken flavor  ounces it was quite good much better than many other brands ive had in the past the broth was particularly good very tasty my reservations for food dishes such as this is the high sodium content the soup doesnt taste particularly salty but the nutrition label says a lot i counter this by not having such dishes very often however if youre going to have these bowls now and then this is quite a good one the best i can rememberbr br gary peterson</td>\n",
       "      <td>[bought, nongshim, noodl, soup, theyr, easi, store, handi, make, quick, lunch, busi, day, latest, tri, today, savori, bowl, noodl, soup, chicken, flavor, ounc, quit, good, much, better, mani, brand, ive, past, broth, particularli, good, tasti, reserv, food, dish, high, sodium, content, soup, doesnt, tast, particularli, salti, nutrit, label, say, lot, counter, dish, often, howev, your, go, bowl, quit, good, one, best, rememberbr, br, gari, peterson]</td>\n",
       "    </tr>\n",
       "    <tr>\n",
       "      <th>29079</th>\n",
       "      <td>Our nearby Fresh and Easy grocery store has a small section of premium soft drinks and some of them are really good. Just recently I purchased a 4-pack of Izze Sparkling Blackberry. It's an assortment of concentrated fruit juices dominated by blackberry with added carbonated water. The label says 70% fruit juices. This is not your average fruit-flavored soda pop, folks. This is real fruit juice and with no added  sugar. The taste is delicious and the blackberry stands out real nicely. The drink has a lot of natural sugars, but you don't get that sickening sweet taste I associate with so many of the  cheaper soft drinks. In fact, the drink has a slight sour bite to it and it's very pleasant. This stuff is more expensive, but maybe it's worth it. Personally, I'm looking forward to trying some of the other varieties.&lt;br /&gt;&lt;br /&gt;Gary Peterson</td>\n",
       "      <td>our nearby fresh and easy grocery store has a small section of premium soft drinks and some of them are really good just recently i purchased a  of izze sparkling blackberry its an assortment of concentrated fruit juices dominated by blackberry with added carbonated water the label says  fruit juices this is not your average fruitflavored soda pop folks this is real fruit juice and with no added  sugar the taste is delicious and the blackberry stands out real nicely the drink has a lot of natural sugars but you dont get that sickening sweet taste i associate with so many of the  cheaper soft drinks in fact the drink has a slight sour bite to it and its very pleasant this stuff is more expensive but maybe its worth it personally im looking forward to trying some of the other varietiesbr br gary peterson</td>\n",
       "      <td>[nearbi, fresh, easi, groceri, store, small, section, premium, soft, drink, realli, good, recent, purchas, izz, sparkl, blackberri, assort, concentr, fruit, juic, domin, blackberri, ad, carbon, water, label, say, fruit, juic, averag, fruitflavor, soda, pop, folk, real, fruit, juic, ad, sugar, tast, delici, blackberri, stand, real, nice, drink, lot, natur, sugar, dont, get, sicken, sweet, tast, associ, mani, cheaper, soft, drink, fact, drink, slight, sour, bite, pleasant, stuff, expens, mayb, worth, person, im, look, forward, tri, varietiesbr, br, gari, peterson]</td>\n",
       "    </tr>\n",
       "  </tbody>\n",
       "</table>\n",
       "</div>"
      ],
      "text/plain": [
       "                                                                                                                                                                                                                                                                                                                                                                                                                                                                                                                                                                                                                                                                                                                                                                                                                                                                                      Text                                                                                                                                                                                                                                                                                                                                                                                                                                                                                                                                                                                                                                                                                                                                                                                                                                     clean_text                                                                                                                                                                                                                                                                                                                                                                                                                                                                                                                                                                               token_words\n",
       "371318  I bought a few of these Nongshim noodle soups because they're easy to store and very handy for making a quick lunch on busy days. The latest I tried today was the Savory Bowl Noodle Soup, Chicken Flavor (3.03 ounces). It was quite good, much better than many other brands I've had in the past. The broth was particularly good. Very tasty. My reservations for food dishes such as this is the high sodium content. The soup doesn't taste particularly salty, but the nutrition label says a lot. I counter this by not having such dishes very often. However, if you're going to have these bowls now and then, this is quite a good one, the best I can remember.<br /><br />Gary Peterson                                                                                                                                                                              i bought a few of these nongshim noodle soups because theyre easy to store and very handy for making a quick lunch on busy days the latest i tried today was the savory bowl noodle soup chicken flavor  ounces it was quite good much better than many other brands ive had in the past the broth was particularly good very tasty my reservations for food dishes such as this is the high sodium content the soup doesnt taste particularly salty but the nutrition label says a lot i counter this by not having such dishes very often however if youre going to have these bowls now and then this is quite a good one the best i can rememberbr br gary peterson                                                                                                                                                                        [bought, nongshim, noodl, soup, theyr, easi, store, handi, make, quick, lunch, busi, day, latest, tri, today, savori, bowl, noodl, soup, chicken, flavor, ounc, quit, good, much, better, mani, brand, ive, past, broth, particularli, good, tasti, reserv, food, dish, high, sodium, content, soup, doesnt, tast, particularli, salti, nutrit, label, say, lot, counter, dish, often, howev, your, go, bowl, quit, good, one, best, rememberbr, br, gari, peterson]                                                                                                                    \n",
       "29079   Our nearby Fresh and Easy grocery store has a small section of premium soft drinks and some of them are really good. Just recently I purchased a 4-pack of Izze Sparkling Blackberry. It's an assortment of concentrated fruit juices dominated by blackberry with added carbonated water. The label says 70% fruit juices. This is not your average fruit-flavored soda pop, folks. This is real fruit juice and with no added  sugar. The taste is delicious and the blackberry stands out real nicely. The drink has a lot of natural sugars, but you don't get that sickening sweet taste I associate with so many of the  cheaper soft drinks. In fact, the drink has a slight sour bite to it and it's very pleasant. This stuff is more expensive, but maybe it's worth it. Personally, I'm looking forward to trying some of the other varieties.<br /><br />Gary Peterson  our nearby fresh and easy grocery store has a small section of premium soft drinks and some of them are really good just recently i purchased a  of izze sparkling blackberry its an assortment of concentrated fruit juices dominated by blackberry with added carbonated water the label says  fruit juices this is not your average fruitflavored soda pop folks this is real fruit juice and with no added  sugar the taste is delicious and the blackberry stands out real nicely the drink has a lot of natural sugars but you dont get that sickening sweet taste i associate with so many of the  cheaper soft drinks in fact the drink has a slight sour bite to it and its very pleasant this stuff is more expensive but maybe its worth it personally im looking forward to trying some of the other varietiesbr br gary peterson  [nearbi, fresh, easi, groceri, store, small, section, premium, soft, drink, realli, good, recent, purchas, izz, sparkl, blackberri, assort, concentr, fruit, juic, domin, blackberri, ad, carbon, water, label, say, fruit, juic, averag, fruitflavor, soda, pop, folk, real, fruit, juic, ad, sugar, tast, delici, blackberri, stand, real, nice, drink, lot, natur, sugar, dont, get, sicken, sweet, tast, associ, mani, cheaper, soft, drink, fact, drink, slight, sour, bite, pleasant, stuff, expens, mayb, worth, person, im, look, forward, tri, varietiesbr, br, gari, peterson]"
      ]
     },
     "execution_count": 41,
     "metadata": {},
     "output_type": "execute_result"
    }
   ],
   "source": [
    "# to check the br word \n",
    "mask = most_active_user['clean_text'].str.contains('br') \n",
    "most_active_user[mask][['Text','clean_text','token_words']].iloc[:2]\n"
   ]
  },
  {
   "cell_type": "code",
   "execution_count": 42,
   "metadata": {},
   "outputs": [],
   "source": [
    "# active users' reviews\n",
    "vectorizer_active_user = CountVectorizer(max_features=500)\n",
    "X_active_user = vectorizer_active_user.fit_transform(active_user_df['join_token'])\n",
    "x_active_user_matrix=X_active_user.toarray()\n",
    "features = vectorizer_active_user.get_feature_names()"
   ]
  },
  {
   "cell_type": "code",
   "execution_count": 43,
   "metadata": {},
   "outputs": [
    {
     "data": {
      "text/html": [
       "<div>\n",
       "<style scoped>\n",
       "    .dataframe tbody tr th:only-of-type {\n",
       "        vertical-align: middle;\n",
       "    }\n",
       "\n",
       "    .dataframe tbody tr th {\n",
       "        vertical-align: top;\n",
       "    }\n",
       "\n",
       "    .dataframe thead th {\n",
       "        text-align: right;\n",
       "    }\n",
       "</style>\n",
       "<table border=\"1\" class=\"dataframe\">\n",
       "  <thead>\n",
       "    <tr style=\"text-align: right;\">\n",
       "      <th></th>\n",
       "      <th>count</th>\n",
       "    </tr>\n",
       "  </thead>\n",
       "  <tbody>\n",
       "    <tr>\n",
       "      <th>br</th>\n",
       "      <td>5714</td>\n",
       "    </tr>\n",
       "    <tr>\n",
       "      <th>like</th>\n",
       "      <td>3233</td>\n",
       "    </tr>\n",
       "    <tr>\n",
       "      <th>flavor</th>\n",
       "      <td>3098</td>\n",
       "    </tr>\n",
       "    <tr>\n",
       "      <th>good</th>\n",
       "      <td>2692</td>\n",
       "    </tr>\n",
       "    <tr>\n",
       "      <th>tast</th>\n",
       "      <td>2465</td>\n",
       "    </tr>\n",
       "    <tr>\n",
       "      <th>one</th>\n",
       "      <td>2338</td>\n",
       "    </tr>\n",
       "    <tr>\n",
       "      <th>food</th>\n",
       "      <td>1744</td>\n",
       "    </tr>\n",
       "    <tr>\n",
       "      <th>tri</th>\n",
       "      <td>1594</td>\n",
       "    </tr>\n",
       "    <tr>\n",
       "      <th>tea</th>\n",
       "      <td>1553</td>\n",
       "    </tr>\n",
       "    <tr>\n",
       "      <th>use</th>\n",
       "      <td>1501</td>\n",
       "    </tr>\n",
       "  </tbody>\n",
       "</table>\n",
       "</div>"
      ],
      "text/plain": [
       "        count\n",
       "br      5714 \n",
       "like    3233 \n",
       "flavor  3098 \n",
       "good    2692 \n",
       "tast    2465 \n",
       "one     2338 \n",
       "food    1744 \n",
       "tri     1594 \n",
       "tea     1553 \n",
       "use     1501 "
      ]
     },
     "execution_count": 43,
     "metadata": {},
     "output_type": "execute_result"
    }
   ],
   "source": [
    "the_active=pd.DataFrame(x_active_user_matrix.sum(axis =0), index = features, columns =['count'])\n",
    "the_active.sort_values(by='count', ascending = False).iloc[:10, :]"
   ]
  },
  {
   "cell_type": "code",
   "execution_count": 44,
   "metadata": {},
   "outputs": [],
   "source": [
    "vectorizer_total = CountVectorizer(max_features=5000)\n",
    "X_total = vectorizer_total.fit_transform(train_data['join_token'])\n",
    "x_total_matrix=X_total.toarray()"
   ]
  },
  {
   "cell_type": "code",
   "execution_count": 45,
   "metadata": {},
   "outputs": [
    {
     "data": {
      "text/plain": [
       "['abil',\n",
       " 'abl',\n",
       " 'aboutbr',\n",
       " 'abr',\n",
       " 'absolut',\n",
       " 'absorb',\n",
       " 'abund',\n",
       " 'academi',\n",
       " 'acai',\n",
       " 'accent',\n",
       " 'accept',\n",
       " 'access',\n",
       " 'accid',\n",
       " 'accident',\n",
       " 'accompani',\n",
       " 'accomplish',\n",
       " 'accord',\n",
       " 'accordingli',\n",
       " 'account',\n",
       " 'accur',\n",
       " 'accustom',\n",
       " 'ach',\n",
       " 'achiev',\n",
       " 'acid',\n",
       " 'acn',\n",
       " 'acquir',\n",
       " 'across',\n",
       " 'act',\n",
       " 'action',\n",
       " 'activ']"
      ]
     },
     "execution_count": 45,
     "metadata": {},
     "output_type": "execute_result"
    }
   ],
   "source": [
    "features = vectorizer_total.get_feature_names()\n",
    "features[:30]"
   ]
  },
  {
   "cell_type": "markdown",
   "metadata": {},
   "source": [
    "#  Clean the words that doesn't make sense - ex) br, ive, ill"
   ]
  },
  {
   "cell_type": "code",
   "execution_count": 46,
   "metadata": {},
   "outputs": [],
   "source": [
    "import nltk\n",
    "from nltk.corpus import stopwords\n",
    "from nltk.stem import PorterStemmer \n",
    "stop_words =stopwords.words('english')\n",
    "import re\n",
    "import string\n",
    "#ps = PorterStemmer()"
   ]
  },
  {
   "cell_type": "code",
   "execution_count": 47,
   "metadata": {},
   "outputs": [],
   "source": [
    "stop_words.extend(['br','ive','gari', 'peterson'])"
   ]
  },
  {
   "cell_type": "code",
   "execution_count": 48,
   "metadata": {},
   "outputs": [
    {
     "data": {
      "text/plain": [
       "['i', 'me', 'my', 'myself', 'we', 'our', 'ours', 'ourselves', 'you', \"you're\"]"
      ]
     },
     "execution_count": 48,
     "metadata": {},
     "output_type": "execute_result"
    }
   ],
   "source": [
    "stop_words[:10]"
   ]
  },
  {
   "cell_type": "code",
   "execution_count": 49,
   "metadata": {},
   "outputs": [],
   "source": [
    "def clean_text_round1(text):\n",
    "    '''Make text lowercase, remove text in square brackets, remove punctuation and remove words containing numbers.'''\n",
    "    new_text = ' '.join([word for word in text if word not in stop_words])\n",
    "    return new_text\n",
    "\n",
    "#round1 = lambda x: clean_text_round1(x)"
   ]
  },
  {
   "cell_type": "code",
   "execution_count": 50,
   "metadata": {},
   "outputs": [],
   "source": [
    "test_data = pd.read_pickle('/Users/ellykyles/capstone2/data/test.pkl')\n",
    "test_data['new_token_words'] = test_data['token_words'].apply(clean_text_round2)"
   ]
  },
  {
   "cell_type": "code",
   "execution_count": 51,
   "metadata": {},
   "outputs": [],
   "source": [
    "test_data.to_pickle('/Users/ellykyles/capstone2/data/test.pkl/test.pkl')"
   ]
  },
  {
   "cell_type": "code",
   "execution_count": 52,
   "metadata": {},
   "outputs": [],
   "source": [
    "train_data['new_token_words'] = train_data['token_words'].apply(clean_text_round2)"
   ]
  },
  {
   "cell_type": "code",
   "execution_count": 53,
   "metadata": {},
   "outputs": [],
   "source": [
    "train_data.to_pickle('/Users/ellykyles/capstone2/data/train.pkl')"
   ]
  },
  {
   "cell_type": "code",
   "execution_count": null,
   "metadata": {},
   "outputs": [],
   "source": []
  }
 ],
 "metadata": {
  "kernelspec": {
   "display_name": "Python 3",
   "language": "python",
   "name": "python3"
  },
  "language_info": {
   "codemirror_mode": {
    "name": "ipython",
    "version": 3
   },
   "file_extension": ".py",
   "mimetype": "text/x-python",
   "name": "python",
   "nbconvert_exporter": "python",
   "pygments_lexer": "ipython3",
   "version": "3.7.6"
  }
 },
 "nbformat": 4,
 "nbformat_minor": 2
}
