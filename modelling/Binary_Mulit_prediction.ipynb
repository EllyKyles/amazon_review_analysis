{
 "cells": [
  {
   "cell_type": "code",
   "execution_count": 2,
   "metadata": {},
   "outputs": [
    {
     "name": "stderr",
     "output_type": "stream",
     "text": [
      "/opt/anaconda3/lib/python3.7/site-packages/ipykernel_launcher.py:12: FutureWarning: Passing a negative integer is deprecated in version 1.0 and will not be supported in future version. Instead, use None to not limit the column width.\n",
      "  if sys.path[0] == '':\n"
     ]
    }
   ],
   "source": [
    "import pandas as pd\n",
    "import numpy as np\n",
    "import matplotlib.pyplot as plt\n",
    "from pandas.plotting import scatter_matrix\n",
    "from pprint import pprint\n",
    "%matplotlib inline\n",
    "\n",
    "from sklearn.feature_extraction.text import CountVectorizer\n",
    "from sklearn.feature_extraction.text import TfidfVectorizer\n",
    "from sklearn.model_selection import train_test_split\n",
    "pd.set_option('display.expand_frame_repr', False)\n",
    "pd.set_option('display.max_colwidth', -1)\n",
    "\n",
    "from sklearn.ensemble import GradientBoostingClassifier, RandomForestClassifier, RandomForestRegressor\n",
    "from sklearn.linear_model import LogisticRegression\n",
    "\n",
    "from sklearn.model_selection import StratifiedKFold\n",
    "from sklearn.metrics import confusion_matrix\n",
    "from sklearn.utils import resample\n",
    "from sklearn.model_selection import GridSearchCV\n",
    "import warnings\n",
    "warnings.filterwarnings(\"ignore\")\n",
    "\n",
    "from sklearn.metrics import roc_curve, auc, roc_auc_score"
   ]
  },
  {
   "cell_type": "code",
   "execution_count": 4,
   "metadata": {},
   "outputs": [],
   "source": [
    "df = pd.read_csv('../data/doc_train.csv')"
   ]
  },
  {
   "cell_type": "code",
   "execution_count": 16,
   "metadata": {},
   "outputs": [
    {
     "data": {
      "text/plain": [
       "Index(['Unnamed: 0', 'Id', 'ProductId', 'UserId', 'ProfileName',\n",
       "       'HelpfulnessNumerator', 'HelpfulnessDenominator', 'Score', 'Summary',\n",
       "       'Text', 'Date', 'year', 'words_count', 'unique_words',\n",
       "       'new_token_words', 'data_lemmatized', 'clean_text', 'polarity',\n",
       "       'subjectivity', 'doc2vec_vector_0', 'doc2vec_vector_1',\n",
       "       'doc2vec_vector_2', 'doc2vec_vector_3', 'doc2vec_vector_4'],\n",
       "      dtype='object')"
      ]
     },
     "execution_count": 16,
     "metadata": {},
     "output_type": "execute_result"
    }
   ],
   "source": [
    "df.columns"
   ]
  },
  {
   "cell_type": "code",
   "execution_count": 4,
   "metadata": {
    "scrolled": true
   },
   "outputs": [
    {
     "data": {
      "text/html": [
       "<div>\n",
       "<style scoped>\n",
       "    .dataframe tbody tr th:only-of-type {\n",
       "        vertical-align: middle;\n",
       "    }\n",
       "\n",
       "    .dataframe tbody tr th {\n",
       "        vertical-align: top;\n",
       "    }\n",
       "\n",
       "    .dataframe thead th {\n",
       "        text-align: right;\n",
       "    }\n",
       "</style>\n",
       "<table border=\"1\" class=\"dataframe\">\n",
       "  <thead>\n",
       "    <tr style=\"text-align: right;\">\n",
       "      <th></th>\n",
       "      <th>Summary</th>\n",
       "      <th>Text</th>\n",
       "      <th>clean_text</th>\n",
       "      <th>new_token_words</th>\n",
       "    </tr>\n",
       "  </thead>\n",
       "  <tbody>\n",
       "    <tr>\n",
       "      <td>100907</td>\n",
       "      <td>Poor Quality</td>\n",
       "      <td>[[ASIN:I purchase these probably 1 year ago.  I was very disappointed with the quality.  I was unable to eat these sardines.  They had scales and hard bones along with a tough texture.  Sorry product.  I'm giving them to the cats.&lt;br /&gt;&lt;br /&gt;B000EEWZF0 Crown Prince Natural Skinless &amp; Boneless Sardines in Pure Olive Oil, 3.75-Ounce Cans (Pack of 12)]]</td>\n",
       "      <td>NaN</td>\n",
       "      <td>NaN</td>\n",
       "    </tr>\n",
       "    <tr>\n",
       "      <td>110463</td>\n",
       "      <td>&amp;#1091;&amp;#1076;&amp;#1086;&amp;#1073;&amp;#1085;&amp;#1072;&amp;#1103; &amp;#1091;&amp;#1087;&amp;#1072;&amp;#1082;&amp;#1086;&amp;#1074;&amp;#1082;&amp;#1072;</td>\n",
       "      <td>&amp;#1056;&amp;#1077;&amp;#1096;&amp;#1080;&amp;#1083;&amp;#1072; &amp;#1079;&amp;#1072;&amp;#1082;&amp;#1072;&amp;#1079;&amp;#1072;&amp;#1090;&amp;#1100; &amp;#1101;&amp;#1090;&amp;#1080; &amp;#1078;&amp;#1077;&amp;#1083;&amp;#1072;&amp;#1090;&amp;#1080;&amp;#1085;&amp;#1082;&amp;#1080;, &amp;#1090;.&amp;#1082;. &amp;#1076;&amp;#1086;&amp;#1095;&amp;#1082;&amp;#1072; &amp;#1087;&amp;#1086;&amp;#1096;&amp;#1083;&amp;#1072; &amp;#1074; &amp;#1096;&amp;#1082;&amp;#1086;&amp;#1083;&amp;#1091; &amp;#1080; &amp;#1090;&amp;#1088;&amp;#1077;&amp;#1073;&amp;#1091;&amp;#1077;&amp;#1090; &amp;#1089;&amp;#1083;&amp;#1072;&amp;#1076;&amp;#1086;&amp;#1089;&amp;#1090;&amp;#1080;. &amp;#1054;&amp;#1095;&amp;#1077;&amp;#1085;&amp;#1100; &amp;#1091;&amp;#1076;&amp;#1086;&amp;#1073;&amp;#1085;&amp;#1072;&amp;#1103; &amp;#1091;&amp;#1087;&amp;#1072;&amp;#1082;&amp;#1086;&amp;#1074;&amp;#1082;&amp;#1072;. &amp;#1050;&amp;#1072;&amp;#1082; &amp;#1088;&amp;#1072;&amp;#1079; &amp;#1089;&amp;#1090;&amp;#1086;&amp;#1083;&amp;#1100;&amp;#1082;&amp;#1086; &amp;#1082;&amp;#1086;&amp;#1085;&amp;#1092;&amp;#1077;&amp;#1090;, &amp;#1082;&amp;#1072;&amp;#1082; &amp;#1080; &amp;#1090;&amp;#1088;&amp;#1077;&amp;#1073;&amp;#1091;&amp;#1077;&amp;#1090;&amp;#1089;&amp;#1103;, &amp;#1095;&amp;#1090;&amp;#1086;&amp;#1073;&amp;#1099; &amp;#1089;&amp;#1100;&amp;#1077;&amp;#1089;&amp;#1090;&amp;#1100; &amp;#1080;&amp;#1093; &amp;#1079;&amp;#1072; &amp;#1087;&amp;#1077;&amp;#1088;&amp;#1077;&amp;#1084;&amp;#1077;&amp;#1085;&amp;#1091;.</td>\n",
       "      <td></td>\n",
       "      <td>NaN</td>\n",
       "    </tr>\n",
       "  </tbody>\n",
       "</table>\n",
       "</div>"
      ],
      "text/plain": [
       "                                                                                                           Summary                                                                                                                                                                                                                                                                                                                                                                                                                                                                                                                                                                                                                                                                                                                                                                                                                                                                                                                                                                                                                 Text                  clean_text new_token_words\n",
       "100907  Poor Quality                                                                                                [[ASIN:I purchase these probably 1 year ago.  I was very disappointed with the quality.  I was unable to eat these sardines.  They had scales and hard bones along with a tough texture.  Sorry product.  I'm giving them to the cats.<br /><br />B000EEWZF0 Crown Prince Natural Skinless & Boneless Sardines in Pure Olive Oil, 3.75-Ounce Cans (Pack of 12)]]                                                                                                                                                                                                                                                                                                                                                                                                                                                                                                                                                                                                                                                     NaN                         NaN           \n",
       "110463  &#1091;&#1076;&#1086;&#1073;&#1085;&#1072;&#1103; &#1091;&#1087;&#1072;&#1082;&#1086;&#1074;&#1082;&#1072;  &#1056;&#1077;&#1096;&#1080;&#1083;&#1072; &#1079;&#1072;&#1082;&#1072;&#1079;&#1072;&#1090;&#1100; &#1101;&#1090;&#1080; &#1078;&#1077;&#1083;&#1072;&#1090;&#1080;&#1085;&#1082;&#1080;, &#1090;.&#1082;. &#1076;&#1086;&#1095;&#1082;&#1072; &#1087;&#1086;&#1096;&#1083;&#1072; &#1074; &#1096;&#1082;&#1086;&#1083;&#1091; &#1080; &#1090;&#1088;&#1077;&#1073;&#1091;&#1077;&#1090; &#1089;&#1083;&#1072;&#1076;&#1086;&#1089;&#1090;&#1080;. &#1054;&#1095;&#1077;&#1085;&#1100; &#1091;&#1076;&#1086;&#1073;&#1085;&#1072;&#1103; &#1091;&#1087;&#1072;&#1082;&#1086;&#1074;&#1082;&#1072;. &#1050;&#1072;&#1082; &#1088;&#1072;&#1079; &#1089;&#1090;&#1086;&#1083;&#1100;&#1082;&#1086; &#1082;&#1086;&#1085;&#1092;&#1077;&#1090;, &#1082;&#1072;&#1082; &#1080; &#1090;&#1088;&#1077;&#1073;&#1091;&#1077;&#1090;&#1089;&#1103;, &#1095;&#1090;&#1086;&#1073;&#1099; &#1089;&#1100;&#1077;&#1089;&#1090;&#1100; &#1080;&#1093; &#1079;&#1072; &#1087;&#1077;&#1088;&#1077;&#1084;&#1077;&#1085;&#1091;.                              NaN           "
      ]
     },
     "execution_count": 4,
     "metadata": {},
     "output_type": "execute_result"
    }
   ],
   "source": [
    "\n",
    "df[df['new_token_words'].isnull()][['Summary','Text','clean_text','new_token_words']]"
   ]
  },
  {
   "cell_type": "code",
   "execution_count": 32,
   "metadata": {},
   "outputs": [],
   "source": [
    "df[\"new_token_words\"].fillna(\"No data\", inplace = True) "
   ]
  },
  {
   "cell_type": "markdown",
   "metadata": {},
   "source": [
    "Create a subset of dataset that only contains 0 or 1 label - 0 indicates bad review, while 1 is good review. "
   ]
  },
  {
   "cell_type": "code",
   "execution_count": 33,
   "metadata": {},
   "outputs": [],
   "source": [
    "def class_scores(score):\n",
    "    if (score  == 1) | (score ==2):\n",
    "        return 0\n",
    "    else:\n",
    "        return 1\n",
    "\n",
    "def binary_data(df):\n",
    "    scores = [1,2,5]\n",
    "    mask = df['Score'].isin(scores)\n",
    "    new_df = df[mask]\n",
    "    new_df['Bi_Scores'] = new_df['Score'].apply(class_scores)\n",
    "    return new_df\n",
    "\n",
    "def make_string(text):\n",
    "    return ' '.join([word for word in text])\n",
    "    "
   ]
  },
  {
   "cell_type": "code",
   "execution_count": 5,
   "metadata": {},
   "outputs": [],
   "source": [
    "bi_df = binary_data(df)"
   ]
  },
  {
   "cell_type": "code",
   "execution_count": 6,
   "metadata": {},
   "outputs": [
    {
     "data": {
      "text/plain": [
       "(196969, 25)"
      ]
     },
     "execution_count": 6,
     "metadata": {},
     "output_type": "execute_result"
    }
   ],
   "source": [
    "bi_df.shape"
   ]
  },
  {
   "cell_type": "code",
   "execution_count": 7,
   "metadata": {},
   "outputs": [],
   "source": [
    "# max_df is 0.6 & min_df = 10\n",
    "count_vect_1 = CountVectorizer(max_features= 5000)\n",
    "doc_term_matrix_1 = count_vect_1.fit_transform(bi_df['new_token_words'].values)"
   ]
  },
  {
   "cell_type": "code",
   "execution_count": 8,
   "metadata": {},
   "outputs": [
    {
     "data": {
      "text/html": [
       "<div>\n",
       "<style scoped>\n",
       "    .dataframe tbody tr th:only-of-type {\n",
       "        vertical-align: middle;\n",
       "    }\n",
       "\n",
       "    .dataframe tbody tr th {\n",
       "        vertical-align: top;\n",
       "    }\n",
       "\n",
       "    .dataframe thead th {\n",
       "        text-align: right;\n",
       "    }\n",
       "</style>\n",
       "<table border=\"1\" class=\"dataframe\">\n",
       "  <thead>\n",
       "    <tr style=\"text-align: right;\">\n",
       "      <th></th>\n",
       "      <th>count</th>\n",
       "    </tr>\n",
       "  </thead>\n",
       "  <tbody>\n",
       "    <tr>\n",
       "      <th>like</th>\n",
       "      <td>91094</td>\n",
       "    </tr>\n",
       "    <tr>\n",
       "      <th>tast</th>\n",
       "      <td>84943</td>\n",
       "    </tr>\n",
       "    <tr>\n",
       "      <th>love</th>\n",
       "      <td>70413</td>\n",
       "    </tr>\n",
       "    <tr>\n",
       "      <th>flavor</th>\n",
       "      <td>66925</td>\n",
       "    </tr>\n",
       "    <tr>\n",
       "      <th>one</th>\n",
       "      <td>63787</td>\n",
       "    </tr>\n",
       "    <tr>\n",
       "      <th>good</th>\n",
       "      <td>62090</td>\n",
       "    </tr>\n",
       "    <tr>\n",
       "      <th>product</th>\n",
       "      <td>61240</td>\n",
       "    </tr>\n",
       "    <tr>\n",
       "      <th>use</th>\n",
       "      <td>60030</td>\n",
       "    </tr>\n",
       "    <tr>\n",
       "      <th>great</th>\n",
       "      <td>58754</td>\n",
       "    </tr>\n",
       "    <tr>\n",
       "      <th>tri</th>\n",
       "      <td>57843</td>\n",
       "    </tr>\n",
       "  </tbody>\n",
       "</table>\n",
       "</div>"
      ],
      "text/plain": [
       "         count\n",
       "like     91094\n",
       "tast     84943\n",
       "love     70413\n",
       "flavor   66925\n",
       "one      63787\n",
       "good     62090\n",
       "product  61240\n",
       "use      60030\n",
       "great    58754\n",
       "tri      57843"
      ]
     },
     "execution_count": 8,
     "metadata": {},
     "output_type": "execute_result"
    }
   ],
   "source": [
    "features =count_vect_1.get_feature_names()\n",
    "features_df = pd.DataFrame(doc_term_matrix_1.sum(axis =0).T,index = features, columns =['count'] )\n",
    "features_df.sort_values(by ='count', ascending = False).iloc[:10]"
   ]
  },
  {
   "cell_type": "markdown",
   "metadata": {},
   "source": [
    "# Binary Classifier"
   ]
  },
  {
   "cell_type": "markdown",
   "metadata": {},
   "source": [
    "# 1. Make balaced Dataset"
   ]
  },
  {
   "cell_type": "code",
   "execution_count": 9,
   "metadata": {},
   "outputs": [],
   "source": [
    "# Separate majority and minority classes\n",
    "df_majority = bi_df[bi_df['Bi_Scores']==1]\n",
    "df_minority = bi_df[bi_df['Bi_Scores']==0]"
   ]
  },
  {
   "cell_type": "code",
   "execution_count": 17,
   "metadata": {},
   "outputs": [
    {
     "data": {
      "text/plain": [
       "1    39616\n",
       "0    39616\n",
       "Name: Bi_Scores, dtype: int64"
      ]
     },
     "execution_count": 17,
     "metadata": {},
     "output_type": "execute_result"
    }
   ],
   "source": [
    " \n",
    "# Downsample majority class\n",
    "df_majority_downsampled = resample(df_majority, \n",
    "                                 replace=False,    # sample without replacement\n",
    "                                 n_samples=39616,     # to match minority class\n",
    "                                 random_state=123) # reproducible results\n",
    " \n",
    "# Combine minority class with downsampled majority class\n",
    "df_downsampled = pd.concat([df_majority_downsampled, df_minority])\n",
    " \n",
    "# Display new class counts\n",
    "df_downsampled['Bi_Scores'].value_counts()"
   ]
  },
  {
   "cell_type": "markdown",
   "metadata": {},
   "source": [
    "# 2. New Features From Engineering "
   ]
  },
  {
   "cell_type": "markdown",
   "metadata": {},
   "source": [
    "I wanted to see how the new engineering features impacted on prediction of two labels\n",
    "The features are:\n",
    "'words_count', 'unique_words','polarity','subjectivity', 'doc2vec_vector_0', 'doc2vec_vector_1','doc2vec_vector_2', 'doc2vec_vector_3', 'doc2vec_vector_4'"
   ]
  },
  {
   "cell_type": "code",
   "execution_count": 18,
   "metadata": {},
   "outputs": [],
   "source": [
    "def accuracy_score(matrix):\n",
    "    row = matrix.shape[0]\n",
    "    total = 0\n",
    "    for i in range(row):\n",
    "        total += matrix[i][i]\n",
    "    return total/matrix.sum()"
   ]
  },
  {
   "cell_type": "code",
   "execution_count": 83,
   "metadata": {},
   "outputs": [],
   "source": [
    "def near_score(matrix):\n",
    "    q=np.diag(matrix, k=1).sum()\n",
    "    w =np.diag(matrix, k=-1).sum()\n",
    "    total = 0\n",
    "    for i in range(matrix.shape[0]):\n",
    "        total += matrix[i][i]\n",
    "    return (total+q+w)/matrix.sum()\n"
   ]
  },
  {
   "cell_type": "markdown",
   "metadata": {},
   "source": [
    "LogisticRegression() - 76%"
   ]
  },
  {
   "cell_type": "code",
   "execution_count": 22,
   "metadata": {},
   "outputs": [
    {
     "data": {
      "text/plain": [
       "0.7612957509465713"
      ]
     },
     "execution_count": 22,
     "metadata": {},
     "output_type": "execute_result"
    }
   ],
   "source": [
    "interested_cols = [ 'words_count', 'unique_words','polarity',\n",
    "       'subjectivity', 'doc2vec_vector_0', 'doc2vec_vector_1',\n",
    "       'doc2vec_vector_2', 'doc2vec_vector_3', 'doc2vec_vector_4']\n",
    "\n",
    "\n",
    "X_train, X_test, y_train, y_test = train_test_split(df_downsampled[interested_cols], df_downsampled['Bi_Scores'], test_size = 0.30, random_state = 42)\n",
    "log = LogisticRegression()\n",
    "log.fit(X_train.values, y_train.values)\n",
    "y_log = log.predict(X_test.values)\n",
    "cm_log = confusion_matrix(y_test.values, y_log)\n",
    "accuracy_score(cm_log)"
   ]
  },
  {
   "cell_type": "markdown",
   "metadata": {},
   "source": [
    "RandomForestClassifier() - 78% - a little bit better than LogisticRegression"
   ]
  },
  {
   "cell_type": "code",
   "execution_count": 23,
   "metadata": {},
   "outputs": [
    {
     "data": {
      "text/plain": [
       "0.7776188472864956"
      ]
     },
     "execution_count": 23,
     "metadata": {},
     "output_type": "execute_result"
    }
   ],
   "source": [
    "interested_cols = [ 'words_count', 'unique_words','polarity',\n",
    "       'subjectivity', 'doc2vec_vector_0', 'doc2vec_vector_1',\n",
    "       'doc2vec_vector_2', 'doc2vec_vector_3', 'doc2vec_vector_4']\n",
    "\n",
    "\n",
    "X_train, X_test, y_train, y_test = train_test_split(df_downsampled[interested_cols], df_downsampled['Bi_Scores'], test_size = 0.30, random_state = 42)\n",
    "rf = RandomForestClassifier()\n",
    "rf.fit(X_train.values, y_train.values)\n",
    "y_rf = rf.predict(X_test.values)\n",
    "cm_rf = confusion_matrix(y_test.values, y_rf)\n",
    "accuracy_score(cm_rf)"
   ]
  },
  {
   "cell_type": "markdown",
   "metadata": {},
   "source": [
    "GradientBoostingClassifier() - 77% - a little bit better than LogisticRegression but worse than RandomForest"
   ]
  },
  {
   "cell_type": "code",
   "execution_count": 24,
   "metadata": {},
   "outputs": [
    {
     "data": {
      "text/plain": [
       "0.7683634833824148"
      ]
     },
     "execution_count": 24,
     "metadata": {},
     "output_type": "execute_result"
    }
   ],
   "source": [
    "interested_cols = [ 'words_count', 'unique_words','polarity',\n",
    "       'subjectivity', 'doc2vec_vector_0', 'doc2vec_vector_1',\n",
    "       'doc2vec_vector_2', 'doc2vec_vector_3', 'doc2vec_vector_4']\n",
    "\n",
    "\n",
    "X_train, X_test, y_train, y_test = train_test_split(df_downsampled[interested_cols], df_downsampled['Bi_Scores'], test_size = 0.30, random_state = 42)\n",
    "gb = GradientBoostingClassifier()\n",
    "gb.fit(X_train.values, y_train.values)\n",
    "y_gb = gb.predict(X_test.values)\n",
    "cm_gb = confusion_matrix(y_test.values, y_gb)\n",
    "accuracy_score(cm_gb)"
   ]
  },
  {
   "cell_type": "markdown",
   "metadata": {},
   "source": [
    "Select the RandomForest model and Include other features ('HelpfulnessNumerator', 'HelpfulnessDenominator')"
   ]
  },
  {
   "cell_type": "code",
   "execution_count": 26,
   "metadata": {},
   "outputs": [
    {
     "data": {
      "image/png": "[encoded data removed]",
      "text/plain": [
       "<Figure size 432x288 with 1 Axes>"
      ]
     },
     "metadata": {
      "needs_background": "light"
     },
     "output_type": "display_data"
    }
   ],
   "source": [
    "plt.scatter(df['Score'], df['HelpfulnessNumerator'])\n",
    "plt.title(\"Socre & HelpfulnessNumerator\");\n",
    "plt.savefig('socre_HelpfulnessNumerator')"
   ]
  },
  {
   "cell_type": "markdown",
   "metadata": {},
   "source": [
    "Including two features produces a better accuracy score with RandomForest 81%"
   ]
  },
  {
   "cell_type": "code",
   "execution_count": 27,
   "metadata": {},
   "outputs": [
    {
     "data": {
      "text/plain": [
       "0.8084981068573832"
      ]
     },
     "execution_count": 27,
     "metadata": {},
     "output_type": "execute_result"
    }
   ],
   "source": [
    "interested_cols = [ 'words_count', 'unique_words','polarity',\n",
    "       'subjectivity', 'doc2vec_vector_0', 'doc2vec_vector_1',\n",
    "       'doc2vec_vector_2', 'doc2vec_vector_3', 'doc2vec_vector_4','HelpfulnessNumerator', 'HelpfulnessDenominator']\n",
    "\n",
    "\n",
    "X_train, X_test, y_train, y_test = train_test_split(df_downsampled[interested_cols], df_downsampled['Bi_Scores'], test_size = 0.30, random_state = 42)\n",
    "rf = RandomForestClassifier()\n",
    "rf.fit(X_train.values, y_train.values)\n",
    "y_rf_1 = rf.predict(X_test.values)\n",
    "cm_rf_1 = confusion_matrix(y_test.values, y_rf_1)\n",
    "accuracy_score(cm_rf_1)"
   ]
  },
  {
   "cell_type": "markdown",
   "metadata": {},
   "source": [
    "# 3. Word-Matrix created by either CounterVectorizer or TFID"
   ]
  },
  {
   "cell_type": "markdown",
   "metadata": {},
   "source": [
    "CounterVectorizer & RandomForest 86%"
   ]
  },
  {
   "cell_type": "code",
   "execution_count": 49,
   "metadata": {},
   "outputs": [
    {
     "data": {
      "text/plain": [
       "0.8594867480016828"
      ]
     },
     "execution_count": 49,
     "metadata": {},
     "output_type": "execute_result"
    }
   ],
   "source": [
    "interested_cols = ['new_token_words']\n",
    "\n",
    "X = df_downsampled[interested_cols].values\n",
    "y = df_downsampled['Bi_Scores'].values\n",
    "\n",
    "X_train, X_test, y_train, y_test = train_test_split(X, y, test_size = 0.30, random_state = 42)\n",
    "\n",
    "#vectorize and transform x\n",
    "cv = CountVectorizer(max_features= 5000)\n",
    "x_train_matrix = cv.fit_transform(X_train.ravel()).toarray()\n",
    "x_test_matrix = cv.transform(X_test.ravel()).toarray()\n",
    "    \n",
    "rf = RandomForestClassifier() \n",
    "    \n",
    "rf.fit(x_train_matrix, y_train)\n",
    "y_hat = rf.predict(x_test_matrix)\n",
    "    \n",
    "rf_cm = confusion_matrix(y_test, y_hat)\n",
    "accuracy_score(rf_cm)"
   ]
  },
  {
   "cell_type": "markdown",
   "metadata": {},
   "source": [
    "TfidfVectorize & RandomForest 86.2%"
   ]
  },
  {
   "cell_type": "code",
   "execution_count": 50,
   "metadata": {},
   "outputs": [
    {
     "data": {
      "text/plain": [
       "0.8628102650399664"
      ]
     },
     "execution_count": 50,
     "metadata": {},
     "output_type": "execute_result"
    }
   ],
   "source": [
    "interested_cols = ['new_token_words']\n",
    "\n",
    "X = df_downsampled[interested_cols].values\n",
    "y = df_downsampled['Bi_Scores'].values\n",
    "\n",
    "X_train, X_test, y_train, y_test = train_test_split(X, y, test_size = 0.30, random_state = 42)\n",
    "\n",
    "#vectorize and transform x\n",
    "\n",
    "tf = TfidfVectorizer(max_features= 5000)\n",
    "x_train_matrix = tf.fit_transform(X_train.ravel()).toarray()\n",
    "x_test_matrix = tf.transform(X_test.ravel()).toarray()\n",
    "    \n",
    "rf = RandomForestClassifier() \n",
    "    \n",
    "rf.fit(x_train_matrix, y_train)\n",
    "y_hat = rf.predict(x_test_matrix)\n",
    "    \n",
    "rf_cm_tf = confusion_matrix(y_test, y_hat)\n",
    "accuracy_score(rf_cm_tf)"
   ]
  },
  {
   "cell_type": "markdown",
   "metadata": {},
   "source": [
    "TfidfVectorize (6000) & RandomForest -86.29% - not much improved"
   ]
  },
  {
   "cell_type": "code",
   "execution_count": 51,
   "metadata": {},
   "outputs": [
    {
     "data": {
      "text/plain": [
       "0.8629785443836769"
      ]
     },
     "execution_count": 51,
     "metadata": {},
     "output_type": "execute_result"
    }
   ],
   "source": [
    "interested_cols = ['new_token_words']\n",
    "\n",
    "X = df_downsampled[interested_cols].values\n",
    "y = df_downsampled['Bi_Scores'].values\n",
    "\n",
    "X_train, X_test, y_train, y_test = train_test_split(X, y, test_size = 0.30, random_state = 42)\n",
    "\n",
    "#vectorize and transform x\n",
    "\n",
    "tf = TfidfVectorizer(max_features= 6000)\n",
    "x_train_matrix = tf.fit_transform(X_train.ravel()).toarray()\n",
    "x_test_matrix = tf.transform(X_test.ravel()).toarray()\n",
    "    \n",
    "rf = RandomForestClassifier() \n",
    "    \n",
    "rf.fit(x_train_matrix, y_train)\n",
    "y_hat = rf.predict(x_test_matrix)\n",
    "    \n",
    "rf_cm_tf = confusion_matrix(y_test, y_hat)\n",
    "accuracy_score(rf_cm_tf)"
   ]
  },
  {
   "cell_type": "markdown",
   "metadata": {},
   "source": [
    "# Combine Feature 1 & Word-TFID Vectorizer "
   ]
  },
  {
   "cell_type": "code",
   "execution_count": 59,
   "metadata": {},
   "outputs": [
    {
     "data": {
      "text/html": [
       "<div>\n",
       "<style scoped>\n",
       "    .dataframe tbody tr th:only-of-type {\n",
       "        vertical-align: middle;\n",
       "    }\n",
       "\n",
       "    .dataframe tbody tr th {\n",
       "        vertical-align: top;\n",
       "    }\n",
       "\n",
       "    .dataframe thead th {\n",
       "        text-align: right;\n",
       "    }\n",
       "</style>\n",
       "<table border=\"1\" class=\"dataframe\">\n",
       "  <thead>\n",
       "    <tr style=\"text-align: right;\">\n",
       "      <th></th>\n",
       "      <th>HelpfulnessNumerator</th>\n",
       "      <th>HelpfulnessDenominator</th>\n",
       "      <th>words_count</th>\n",
       "      <th>unique_words</th>\n",
       "      <th>new_token_words</th>\n",
       "      <th>polarity</th>\n",
       "      <th>subjectivity</th>\n",
       "      <th>doc2vec_vector_0</th>\n",
       "      <th>doc2vec_vector_1</th>\n",
       "      <th>doc2vec_vector_2</th>\n",
       "      <th>doc2vec_vector_3</th>\n",
       "      <th>doc2vec_vector_4</th>\n",
       "      <th>Bi_Scores</th>\n",
       "    </tr>\n",
       "  </thead>\n",
       "  <tbody>\n",
       "    <tr>\n",
       "      <th>80196</th>\n",
       "      <td>0</td>\n",
       "      <td>0</td>\n",
       "      <td>58</td>\n",
       "      <td>25</td>\n",
       "      <td>bought pregnant want low sodium snack love lil crunchi veggi dip flavor best mild addict son month old readi tri ill buy enough us</td>\n",
       "      <td>0.218519</td>\n",
       "      <td>0.488889</td>\n",
       "      <td>-0.013772</td>\n",
       "      <td>-0.081063</td>\n",
       "      <td>0.023822</td>\n",
       "      <td>0.063172</td>\n",
       "      <td>0.010859</td>\n",
       "      <td>1</td>\n",
       "    </tr>\n",
       "  </tbody>\n",
       "</table>\n",
       "</div>"
      ],
      "text/plain": [
       "       HelpfulnessNumerator  HelpfulnessDenominator  words_count  unique_words                                                                                                                     new_token_words  polarity  subjectivity  doc2vec_vector_0  doc2vec_vector_1  doc2vec_vector_2  doc2vec_vector_3  doc2vec_vector_4  Bi_Scores\n",
       "80196  0                     0                       58           25            bought pregnant want low sodium snack love lil crunchi veggi dip flavor best mild addict son month old readi tri ill buy enough us  0.218519  0.488889     -0.013772         -0.081063          0.023822          0.063172          0.010859          1        "
      ]
     },
     "execution_count": 59,
     "metadata": {},
     "output_type": "execute_result"
    }
   ],
   "source": [
    "ignore_cols = ['Unnamed: 0', 'Id', 'ProductId', 'UserId', 'ProfileName',\n",
    "     'Summary','Text', 'Date', 'year', 'data_lemmatized', 'clean_text', 'Score']\n",
    "\n",
    "bi_df = df_downsampled.drop(columns = ignore_cols)\n",
    "bi_df.head(1)"
   ]
  },
  {
   "cell_type": "code",
   "execution_count": 61,
   "metadata": {},
   "outputs": [
    {
     "data": {
      "text/plain": [
       "0.9003596895311415"
      ]
     },
     "execution_count": 61,
     "metadata": {},
     "output_type": "execute_result"
    }
   ],
   "source": [
    "x= bi_df\n",
    "y= bi_df.Bi_Scores\n",
    "\n",
    "features_1 = ['words_count','unique_words','polarity','subjectivity','doc2vec_vector_0','doc2vec_vector_1','doc2vec_vector_2','doc2vec_vector_3','doc2vec_vector_4',\n",
    "             'HelpfulnessNumerator', 'HelpfulnessDenominator']\n",
    "\n",
    "x_train, x_test, y_train, y_test = train_test_split(x, y, test_size = 0.20, random_state = 42)\n",
    "\n",
    "tfidf_multi = TfidfVectorizer(max_features= 6000)\n",
    "\n",
    "#vectorize train words and then transform them & combine the matrix with the new features to create the train's final matrix\n",
    "x_words_train = tfidf_multi.fit_transform(x_train[\"new_token_words\"].values.ravel()).toarray()\n",
    "x_train_matrix = np.concatenate((x_words_train, x_train[features_1].values), axis =1)\n",
    "\n",
    "# transform test words from tfidf fitted by the train words & combine test matrix with test new features\n",
    "x_words_test = tfidf_multi.transform(x_test[\"new_token_words\"].values.ravel()).toarray()\n",
    "x_test_matrix = np.concatenate((x_words_test, x_test[features_1].values), axis =1) \n",
    "\n",
    "rf=RandomForestClassifier(n_estimators = 100, random_state = 42)\n",
    "\n",
    "rf.fit(x_train_matrix, y_train.values)\n",
    "y_hat = rf.predict(x_test_matrix)\n",
    "test=pd.concat([y_test, pd.Series(y_hat, index = y_test.index)], axis = 1)\n",
    "cm_comb= confusion_matrix(y_test, y_hat)\n",
    "accuracy_score(cm_comb)"
   ]
  },
  {
   "cell_type": "markdown",
   "metadata": {},
   "source": [
    "Tunning the model (n_estimator = 250, max_features = 'auto')"
   ]
  },
  {
   "cell_type": "code",
   "execution_count": 62,
   "metadata": {},
   "outputs": [
    {
     "data": {
      "text/plain": [
       "0.9023789991796555"
      ]
     },
     "execution_count": 62,
     "metadata": {},
     "output_type": "execute_result"
    }
   ],
   "source": [
    "x= bi_df\n",
    "y= bi_df.Bi_Scores\n",
    "\n",
    "features_1 = ['words_count','unique_words','polarity','subjectivity','doc2vec_vector_0','doc2vec_vector_1','doc2vec_vector_2','doc2vec_vector_3','doc2vec_vector_4',\n",
    "             'HelpfulnessNumerator', 'HelpfulnessDenominator']\n",
    "\n",
    "x_train, x_test, y_train, y_test = train_test_split(x, y, test_size = 0.20, random_state = 42)\n",
    "\n",
    "tfidf_multi = TfidfVectorizer(max_features= 6000)\n",
    "\n",
    "#vectorize train words and then transform them & combine the matrix with the new features to create the train's final matrix\n",
    "x_words_train = tfidf_multi.fit_transform(x_train[\"new_token_words\"].values.ravel()).toarray()\n",
    "x_train_matrix = np.concatenate((x_words_train, x_train[features_1].values), axis =1)\n",
    "\n",
    "# transform test words from tfidf fitted by the train words & combine test matrix with test new features\n",
    "x_words_test = tfidf_multi.transform(x_test[\"new_token_words\"].values.ravel()).toarray()\n",
    "x_test_matrix = np.concatenate((x_words_test, x_test[features_1].values), axis =1) \n",
    "\n",
    "rf=RandomForestClassifier(n_estimators = 250, random_state = 42, max_features='auto')\n",
    "\n",
    "rf.fit(x_train_matrix, y_train.values)\n",
    "y_hat = rf.predict(x_test_matrix)\n",
    "test=pd.concat([y_test, pd.Series(y_hat, index = y_test.index)], axis = 1)\n",
    "cm_comb= confusion_matrix(y_test, y_hat)\n",
    "accuracy_score(cm_comb)"
   ]
  },
  {
   "cell_type": "code",
   "execution_count": 66,
   "metadata": {},
   "outputs": [
    {
     "data": {
      "image/png": "[encoded data removed]",
      "text/plain": [
       "<Figure size 432x288 with 1 Axes>"
      ]
     },
     "metadata": {
      "needs_background": "light"
     },
     "output_type": "display_data"
    }
   ],
   "source": [
    "features_bi_df=pd.DataFrame(x_words_train.sum(axis = 0).T, index = tfidf_multi.get_feature_names(), columns =['count'])\n",
    "features_bi_df.sort_values(by='count', ascending = False)[:10][::-1].plot.barh()\n",
    "plt.title(\"Important Features\")\n",
    "plt.savefig('important_features_binary.png')"
   ]
  },
  {
   "cell_type": "code",
   "execution_count": 69,
   "metadata": {},
   "outputs": [
    {
     "data": {
      "image/png": "[encoded data removed]",
      "text/plain": [
       "<Figure size 360x360 with 1 Axes>"
      ]
     },
     "metadata": {
      "needs_background": "light"
     },
     "output_type": "display_data"
    }
   ],
   "source": [
    "y_pred = [x[1] for x in rf.predict_proba(x_test_matrix)]\n",
    "fpr, tpr, thresholds = roc_curve(y_test, y_pred, pos_label = 1)\n",
    "\n",
    "roc_auc = auc(fpr, tpr)\n",
    "\n",
    "plt.figure(1, figsize = (5, 5))\n",
    "lw = 2\n",
    "plt.plot(fpr, tpr, color='darkorange',\n",
    "         lw=lw, label='ROC curve (area = %0.2f)' % roc_auc)\n",
    "plt.plot([0, 1], [0, 1], lw=lw, linestyle='--')\n",
    "plt.xlim([0.0, 1.0])\n",
    "plt.ylim([0.0, 1.0])\n",
    "plt.xlabel('False Positive Rate')\n",
    "plt.ylabel('True Positive Rate')\n",
    "plt.title('Receiver operating characteristic example')\n",
    "plt.legend(loc=\"lower right\")\n",
    "plt.title(\"ROC curve\")\n",
    "plt.savefig(\"ROC_curve\")\n",
    "plt.show();"
   ]
  },
  {
   "cell_type": "code",
   "execution_count": 15,
   "metadata": {},
   "outputs": [],
   "source": [
    "ignore_cols = [\"new_token_words\",\"Bi_Scores\"]\n",
    "features = [c for c in mix_bi_df.columns if c not in ignore_cols]\n",
    "\n",
    "X_train, X_test, y_train, y_test = train_test_split(mix_bi_df[features], mix_bi_df['Bi_Scores'], test_size = 0.20, random_state = 42)\n",
    "rf = RandomForestClassifier(n_estimators = 100, random_state = 42)\n",
    "rf.fit(X_train.values, y_train.values)\n",
    "y_hat_mix = rf.predict(X_test.values)\n",
    "rf_cm_mix = confusion_matrix(y_test, y_hat_mix)"
   ]
  },
  {
   "cell_type": "code",
   "execution_count": 56,
   "metadata": {},
   "outputs": [
    {
     "data": {
      "text/plain": [
       "0.9303701071229121"
      ]
     },
     "execution_count": 56,
     "metadata": {},
     "output_type": "execute_result"
    }
   ],
   "source": [
    "tn, fp, fn, tp = rf_cm_mix.ravel()\n",
    "accuracy_tf_mix = (tn + tp) /(tn+fp+fn+tp)\n",
    "accuracy_tf_mix"
   ]
  },
  {
   "cell_type": "markdown",
   "metadata": {},
   "source": [
    "rf = RandomForestClassifier(random_state = 42)\n",
    "param_grid = {\n",
    "    'n_estimators': [50,150,200,250],\n",
    "    'max_features': ['auto', 'sqrt', 'log2'],\n",
    "    'min_samples_leaf': [2,3,5]\n",
    "}\n",
    "CV_rf = GridSearchCV(estimator=rf, param_grid=param_grid, cv= 5)\n",
    "CV_rf.fit(X_train.values, y_train.values)\n",
    "print (CV_rf.best_params_)"
   ]
  },
  {
   "cell_type": "markdown",
   "metadata": {},
   "source": [
    "# Multiple Classifier "
   ]
  },
  {
   "cell_type": "code",
   "execution_count": 76,
   "metadata": {},
   "outputs": [
    {
     "data": {
      "text/plain": [
       "5    157353\n",
       "4    36255 \n",
       "1    25399 \n",
       "3    20146 \n",
       "2    14217 \n",
       "Name: Score, dtype: int64"
      ]
     },
     "execution_count": 76,
     "metadata": {},
     "output_type": "execute_result"
    }
   ],
   "source": [
    "df['Score'].value_counts()"
   ]
  },
  {
   "cell_type": "code",
   "execution_count": 78,
   "metadata": {},
   "outputs": [
    {
     "data": {
      "text/plain": [
       "Index(['HelpfulnessNumerator', 'HelpfulnessDenominator', 'Score',\n",
       "       'words_count', 'unique_words', 'new_token_words', 'polarity',\n",
       "       'subjectivity', 'doc2vec_vector_0', 'doc2vec_vector_1',\n",
       "       'doc2vec_vector_2', 'doc2vec_vector_3', 'doc2vec_vector_4'],\n",
       "      dtype='object')"
      ]
     },
     "execution_count": 78,
     "metadata": {},
     "output_type": "execute_result"
    }
   ],
   "source": [
    "ignore_cols = ['Unnamed: 0', 'Id', 'ProductId', 'UserId', 'ProfileName',\n",
    "        'Summary','Text', 'Date', 'year', 'data_lemmatized', 'clean_text']\n",
    "df.drop(columns = ignore_cols, inplace = True)\n",
    "df.columns"
   ]
  },
  {
   "cell_type": "code",
   "execution_count": 79,
   "metadata": {},
   "outputs": [],
   "source": [
    "df_5 = df[df['Score'] == 5]\n",
    "df_4 = df[df['Score'] == 4]\n",
    "df_3 = df[df['Score'] == 3]\n",
    "df_2 = df[df['Score'] == 2]\n",
    "df_1 = df[df['Score'] == 1]"
   ]
  },
  {
   "cell_type": "code",
   "execution_count": 80,
   "metadata": {},
   "outputs": [],
   "source": [
    "df_5_downsampled = resample(df_5, replace=False,    # sample without replacement\n",
    "                            n_samples=14217,     # to match minority class\n",
    "                            random_state=123)\n",
    "df_4_downsampled = resample(df_4, replace=False,    # sample without replacement\n",
    "                            n_samples=14217,     # to match minority class\n",
    "                            random_state=123)\n",
    "df_3_downsampled = resample(df_3, replace=False,    # sample without replacement\n",
    "                            n_samples=14217,     # to match minority class\n",
    "                            random_state=123)\n",
    "df_1_downsampled = resample(df_1, replace=False,    # sample without replacement\n",
    "                            n_samples=14217,     # to match minority class\n",
    "                            random_state=123)"
   ]
  },
  {
   "cell_type": "code",
   "execution_count": 81,
   "metadata": {},
   "outputs": [
    {
     "data": {
      "text/plain": [
       "5    14217\n",
       "4    14217\n",
       "3    14217\n",
       "2    14217\n",
       "1    14217\n",
       "Name: Score, dtype: int64"
      ]
     },
     "execution_count": 81,
     "metadata": {},
     "output_type": "execute_result"
    }
   ],
   "source": [
    "# Combine minority class with downsampled majority class\n",
    "df_downsampled_mulit = pd.concat([df_5_downsampled, df_4_downsampled, df_3_downsampled,df_1_downsampled,df_2])\n",
    "# Display new class counts\n",
    "df_downsampled_mulit['Score'].value_counts()"
   ]
  },
  {
   "cell_type": "markdown",
   "metadata": {},
   "source": [
    "# New Features From Engineering - 50.1%"
   ]
  },
  {
   "cell_type": "code",
   "execution_count": 100,
   "metadata": {},
   "outputs": [
    {
     "name": "stdout",
     "output_type": "stream",
     "text": [
      "accuracy score: 0.5059435886614616, near prediction:0.7853977632411901\n"
     ]
    },
    {
     "data": {
      "text/plain": [
       "array([[1930,  354,  194,  128,  184],\n",
       "       [ 679, 1311,  332,  263,  251],\n",
       "       [ 419,  384, 1223,  398,  463],\n",
       "       [ 205,  259,  374, 1160,  865],\n",
       "       [ 198,  191,  296,  587, 1569]], dtype=int64)"
      ]
     },
     "execution_count": 100,
     "metadata": {},
     "output_type": "execute_result"
    }
   ],
   "source": [
    "features = ['HelpfulnessNumerator', 'HelpfulnessDenominator','words_count', 'unique_words', 'polarity',\n",
    "       'subjectivity', 'doc2vec_vector_0', 'doc2vec_vector_1',\n",
    "       'doc2vec_vector_2', 'doc2vec_vector_3', 'doc2vec_vector_4']\n",
    "\n",
    "X_train, X_test, y_train, y_test = train_test_split(df_downsampled_mulit[features], df_downsampled_mulit['Score'], test_size = 0.20, random_state = 42)\n",
    "rf_mix = RandomForestClassifier(n_estimators = 250, random_state = 42, max_features ='auto')\n",
    "rf_mix.fit(X_train.values, y_train.values)\n",
    "y_hat_mix = rf_mix.predict(X_test.values)\n",
    "test=pd.concat([y_test, pd.Series(y_hat_mix, index = y_test.index)], axis = 1)\n",
    "cm_multi = confusion_matrix(y_test, y_hat_mix)\n",
    "print(f'accuracy score: {accuracy_score(cm_multi)}, near prediction:{near_score(cm_multi)}')\n",
    "cm_multi"
   ]
  },
  {
   "cell_type": "code",
   "execution_count": 101,
   "metadata": {},
   "outputs": [
    {
     "data": {
      "image/png": "[encoded data removed]",
      "text/plain": [
       "<Figure size 432x288 with 1 Axes>"
      ]
     },
     "metadata": {
      "needs_background": "light"
     },
     "output_type": "display_data"
    }
   ],
   "source": [
    "plt.hist(test['Score'], label = 'Actual', alpha = 0.5)\n",
    "plt.hist(test[0], alpha = 0.5, label = 'Predict')\n",
    "plt.legend();\n",
    "plt.savefig('newe_features_Matrix.png')"
   ]
  },
  {
   "cell_type": "markdown",
   "metadata": {},
   "source": [
    "# Word-Matrix - 60%"
   ]
  },
  {
   "cell_type": "code",
   "execution_count": 85,
   "metadata": {},
   "outputs": [
    {
     "name": "stdout",
     "output_type": "stream",
     "text": [
      "accuracy score: 0.6024477737919393, near prediction:0.8473658296405712\n"
     ]
    },
    {
     "data": {
      "text/plain": [
       "array([[1930,  354,  194,  128,  184],\n",
       "       [ 679, 1311,  332,  263,  251],\n",
       "       [ 419,  384, 1223,  398,  463],\n",
       "       [ 205,  259,  374, 1160,  865],\n",
       "       [ 198,  191,  296,  587, 1569]], dtype=int64)"
      ]
     },
     "execution_count": 85,
     "metadata": {},
     "output_type": "execute_result"
    }
   ],
   "source": [
    "X_train, X_test, y_train, y_test = train_test_split(df_downsampled_mulit['new_token_words'],df_downsampled_mulit['Score'], test_size = 0.20, random_state = 42)\n",
    "\n",
    "tf = TfidfVectorizer(max_features= 6000)\n",
    "x_train_matrix = tf.fit_transform(X_train.values.ravel()).toarray()\n",
    "x_test_matrix = tf.transform(X_test.values.ravel()).toarray()\n",
    "rclf = RandomForestClassifier(n_estimators = 250, random_state = 42, max_features ='auto')\n",
    "rclf.fit(x_train_matrix, y_train)\n",
    "y_hat_words = rclf.predict(x_test_matrix)\n",
    "test=pd.concat([y_test, pd.Series(y_hat_words, index = y_test.index)], axis = 1)\n",
    "cm_word = confusion_matrix(y_test, y_hat_words)\n",
    "print(f'accuracy score: {accuracy_score(cm_word)}, near prediction:{near_score(cm_word)}')\n",
    "cm_multi"
   ]
  },
  {
   "cell_type": "code",
   "execution_count": 93,
   "metadata": {},
   "outputs": [
    {
     "data": {
      "image/png": "[encoded data removed]",
      "text/plain": [
       "<Figure size 432x288 with 1 Axes>"
      ]
     },
     "metadata": {
      "needs_background": "light"
     },
     "output_type": "display_data"
    }
   ],
   "source": [
    "plt.hist(test['Score'], label = 'Actual', alpha = 0.5)\n",
    "plt.hist(test[0], alpha = 0.5, label = 'Predict')\n",
    "plt.legend();\n",
    "plt.savefig('Word_Matrix.png')"
   ]
  },
  {
   "cell_type": "markdown",
   "metadata": {},
   "source": [
    "# New Features & Word-Matrix 60.5%"
   ]
  },
  {
   "cell_type": "code",
   "execution_count": 95,
   "metadata": {},
   "outputs": [
    {
     "name": "stdout",
     "output_type": "stream",
     "text": [
      "accuracy score: 0.6056833368502497, near prediction:0.8539776324119013\n"
     ]
    },
    {
     "data": {
      "text/plain": [
       "array([[2241,  200,  120,   71,  158],\n",
       "       [ 712, 1365,  354,  187,  218],\n",
       "       [ 370,  285, 1481,  445,  306],\n",
       "       [ 150,  118,  361, 1455,  779],\n",
       "       [ 184,   76,  118,  394, 2069]], dtype=int64)"
      ]
     },
     "execution_count": 95,
     "metadata": {},
     "output_type": "execute_result"
    }
   ],
   "source": [
    "features = ['HelpfulnessNumerator', 'HelpfulnessDenominator','words_count', 'unique_words', 'polarity',\n",
    "       'subjectivity', 'doc2vec_vector_0', 'doc2vec_vector_1',\n",
    "       'doc2vec_vector_2', 'doc2vec_vector_3', 'doc2vec_vector_4']\n",
    "\n",
    "\n",
    "x_train, x_test, y_train, y_test = train_test_split(df_downsampled_mulit, df_downsampled_mulit['Score'], test_size = 0.20, random_state = 42)\n",
    "\n",
    "tfidf_multi = TfidfVectorizer(max_features= 6000)\n",
    "\n",
    "#vectorize train words and then transform them & combine the matrix with the new features to create the train's final matrix\n",
    "x_words_train = tfidf_multi.fit_transform(x_train[\"new_token_words\"].values.ravel()).toarray()\n",
    "x_train_matrix = np.concatenate((x_words_train, x_train[features].values), axis =1)\n",
    "\n",
    "# transform test words from tfidf fitted by the train words & combine test matrix with test new features\n",
    "x_words_test = tfidf_multi.transform(x_test[\"new_token_words\"].values.ravel()).toarray()\n",
    "x_test_matrix = np.concatenate((x_words_test, x_test[features].values), axis =1)\n",
    "\n",
    "rf=RandomForestClassifier(n_estimators = 250, random_state = 42, max_features ='auto')\n",
    "\n",
    "rf.fit(x_train_matrix, y_train.values)\n",
    "y_hat = rf.predict(x_test_matrix)\n",
    "test=pd.concat([y_test, pd.Series(y_hat, index = y_test.index)], axis = 1)\n",
    "cm_mulit_com= confusion_matrix(y_test, y_hat)\n",
    "print(f'accuracy score: {accuracy_score(cm_mulit_com)}, near prediction:{near_score(cm_mulit_com)}')\n",
    "cm_mulit_com"
   ]
  },
  {
   "cell_type": "markdown",
   "metadata": {},
   "source": [
    "Exclude Subjectivity !"
   ]
  },
  {
   "cell_type": "code",
   "execution_count": 102,
   "metadata": {},
   "outputs": [
    {
     "name": "stdout",
     "output_type": "stream",
     "text": [
      "accuracy score: 0.6061053668143771, near prediction:0.855665752268411\n"
     ]
    },
    {
     "data": {
      "text/plain": [
       "array([[2240,  214,  118,   71,  147],\n",
       "       [ 725, 1353,  351,  195,  212],\n",
       "       [ 386,  264, 1488,  457,  292],\n",
       "       [ 163,  107,  349, 1450,  794],\n",
       "       [ 173,   75,  113,  394, 2086]], dtype=int64)"
      ]
     },
     "execution_count": 102,
     "metadata": {},
     "output_type": "execute_result"
    }
   ],
   "source": [
    "features = ['HelpfulnessNumerator', 'HelpfulnessDenominator','words_count', 'unique_words', 'polarity',\n",
    "       'subjectivity', 'doc2vec_vector_0', 'doc2vec_vector_1',\n",
    "       'doc2vec_vector_2', 'doc2vec_vector_3', 'doc2vec_vector_4']\n",
    "\n",
    "\n",
    "x_train, x_test, y_train, y_test = train_test_split(df_downsampled_mulit, df_downsampled_mulit['Score'], test_size = 0.20, random_state = 42)\n",
    "\n",
    "tfidf_multi = TfidfVectorizer(max_features= 8000)\n",
    "\n",
    "#vectorize train words and then transform them & combine the matrix with the new features to create the train's final matrix\n",
    "x_words_train = tfidf_multi.fit_transform(x_train[\"new_token_words\"].values.ravel()).toarray()\n",
    "x_train_matrix = np.concatenate((x_words_train, x_train[features].values), axis =1)\n",
    "\n",
    "# transform test words from tfidf fitted by the train words & combine test matrix with test new features\n",
    "x_words_test = tfidf_multi.transform(x_test[\"new_token_words\"].values.ravel()).toarray()\n",
    "x_test_matrix = np.concatenate((x_words_test, x_test[features].values), axis =1)\n",
    "\n",
    "rf=RandomForestClassifier(n_estimators = 250, random_state = 42, max_features ='auto')\n",
    "\n",
    "rf.fit(x_train_matrix, y_train.values)\n",
    "y_hat = rf.predict(x_test_matrix)\n",
    "test=pd.concat([y_test, pd.Series(y_hat, index = y_test.index)], axis = 1)\n",
    "cm_mulit_com= confusion_matrix(y_test, y_hat)\n",
    "print(f'accuracy score: {accuracy_score(cm_mulit_com)}, near prediction:{near_score(cm_mulit_com)}')\n",
    "cm_mulit_com"
   ]
  },
  {
   "cell_type": "code",
   "execution_count": 99,
   "metadata": {},
   "outputs": [
    {
     "data": {
      "image/png": "[encoded data removed]",
      "text/plain": [
       "<Figure size 432x288 with 1 Axes>"
      ]
     },
     "metadata": {
      "needs_background": "light"
     },
     "output_type": "display_data"
    }
   ],
   "source": [
    "plt.hist(test['Score'], label = 'Actual', alpha = 0.5)\n",
    "plt.hist(test[0], alpha = 0.5, label = 'Predict')\n",
    "plt.legend();\n",
    "plt.savefig('New_Features_Word_Matrix_8000.png')"
   ]
  },
  {
   "cell_type": "code",
   "execution_count": 104,
   "metadata": {},
   "outputs": [],
   "source": [
    "features_mulit=pd.DataFrame(x_words_test.sum(axis = 0).T, index = tfidf_multi.get_feature_names(), columns =['count'])"
   ]
  },
  {
   "cell_type": "code",
   "execution_count": 105,
   "metadata": {},
   "outputs": [
    {
     "data": {
      "image/png": "[encoded data removed]",
      "text/plain": [
       "<Figure size 432x288 with 1 Axes>"
      ]
     },
     "metadata": {
      "needs_background": "light"
     },
     "output_type": "display_data"
    }
   ],
   "source": [
    "features_mulit.sort_values(by='count', ascending = False)[:10][::-1].plot.barh()\n",
    "plt.title(\"Important Features for Mulit\")\n",
    "plt.savefig('important_features_2.png')"
   ]
  },
  {
   "cell_type": "code",
   "execution_count": null,
   "metadata": {},
   "outputs": [],
   "source": [
    "features = ['HelpfulnessNumerator', 'HelpfulnessDenominator','words_count', 'unique_words', 'polarity',\n",
    "       'subjectivity', 'doc2vec_vector_0', 'doc2vec_vector_1',\n",
    "       'doc2vec_vector_2', 'doc2vec_vector_3', 'doc2vec_vector_4']\n",
    "\n",
    "\n",
    "x_train, x_test, y_train, y_test = train_test_split(df_downsampled_mulit, df_downsampled_mulit['Score'], test_size = 0.20, random_state = 42)\n",
    "\n",
    "tfidf = TfidfVectorizer(max_features= 6000)\n",
    "tfidf_result = tfidf.fit_transform(x_train[\"new_token_words\"].values.ravel()).toarray()\n",
    "tfidf_df = pd.DataFrame(tfidf_result, columns = tfidf.get_feature_names())\n",
    "tfidf_df.columns = [\"word_\" + str(x) for x in tfidf_df.columns]\n",
    "tfidf_df.index = x_train.index\n",
    "mix_mulit_df = pd.concat([x_train, tfidf_df], axis=1)\n",
    "\n",
    "tfidf_1 = TfidfVectorizer(max_features= 6000)\n",
    "x_train_matrix = tfidf_1.fit(mix_mulit_df.values.ravel()).toarray()"
   ]
  },
  {
   "cell_type": "code",
   "execution_count": null,
   "metadata": {},
   "outputs": [],
   "source": [
    "x_words_test = tfidf.transform(x_test[\"new_token_words\"].values.ravel()).toarray()\n",
    "x_test_matrix = np.concatenate((x_words_test, x_test[features].values), axis =1)\n",
    "\n",
    "rf=RandomForestClassifier(n_estimators = 250, random_state = 42, max_features ='auto')\n",
    "\n",
    "rf.fit(mix_mulit_df, y_train.values)\n",
    "y_hat = rf.predict(x_test_matrix)\n",
    "test=pd.concat([y_test, pd.Series(y_hat, index = y_test.index)], axis = 1)\n",
    "cm_mulit_com= confusion_matrix(y_test, y_hat)\n",
    "print(f'accuracy score: {accuracy_score(cm_mulit_com)}, near prediction:{near_score(cm_mulit_com)}')\n",
    "cm_mulit_com"
   ]
  },
  {
   "cell_type": "markdown",
   "metadata": {},
   "source": [
    "# RandomForest Regressor"
   ]
  },
  {
   "cell_type": "code",
   "execution_count": 28,
   "metadata": {},
   "outputs": [],
   "source": [
    "re=RandomForestRegressor(n_estimators = 100, random_state = 42)\n",
    "\n",
    "re.fit(x_train_matrix, y_train.values)\n",
    "y_hat_re = re.predict(x_test_matrix)\n",
    "test_re=pd.concat([y_test, pd.Series(y_hat_re, index = y_test.index)], axis = 1)\n"
   ]
  },
  {
   "cell_type": "code",
   "execution_count": 35,
   "metadata": {},
   "outputs": [],
   "source": [
    "test_re.rename(columns = {0:'y_hat_cont'}, inplace = True) "
   ]
  },
  {
   "cell_type": "code",
   "execution_count": 37,
   "metadata": {},
   "outputs": [
    {
     "data": {
      "text/html": [
       "<div>\n",
       "<style scoped>\n",
       "    .dataframe tbody tr th:only-of-type {\n",
       "        vertical-align: middle;\n",
       "    }\n",
       "\n",
       "    .dataframe tbody tr th {\n",
       "        vertical-align: top;\n",
       "    }\n",
       "\n",
       "    .dataframe thead th {\n",
       "        text-align: right;\n",
       "    }\n",
       "</style>\n",
       "<table border=\"1\" class=\"dataframe\">\n",
       "  <thead>\n",
       "    <tr style=\"text-align: right;\">\n",
       "      <th></th>\n",
       "      <th>Score</th>\n",
       "      <th>y_hat_cont</th>\n",
       "    </tr>\n",
       "  </thead>\n",
       "  <tbody>\n",
       "    <tr>\n",
       "      <td>176243</td>\n",
       "      <td>3</td>\n",
       "      <td>2.60</td>\n",
       "    </tr>\n",
       "    <tr>\n",
       "      <td>210483</td>\n",
       "      <td>1</td>\n",
       "      <td>1.17</td>\n",
       "    </tr>\n",
       "    <tr>\n",
       "      <td>43123</td>\n",
       "      <td>5</td>\n",
       "      <td>4.65</td>\n",
       "    </tr>\n",
       "    <tr>\n",
       "      <td>223829</td>\n",
       "      <td>1</td>\n",
       "      <td>1.42</td>\n",
       "    </tr>\n",
       "    <tr>\n",
       "      <td>145606</td>\n",
       "      <td>2</td>\n",
       "      <td>2.13</td>\n",
       "    </tr>\n",
       "    <tr>\n",
       "      <td>...</td>\n",
       "      <td>...</td>\n",
       "      <td>...</td>\n",
       "    </tr>\n",
       "    <tr>\n",
       "      <td>110087</td>\n",
       "      <td>4</td>\n",
       "      <td>3.63</td>\n",
       "    </tr>\n",
       "    <tr>\n",
       "      <td>14646</td>\n",
       "      <td>5</td>\n",
       "      <td>3.48</td>\n",
       "    </tr>\n",
       "    <tr>\n",
       "      <td>225174</td>\n",
       "      <td>1</td>\n",
       "      <td>1.12</td>\n",
       "    </tr>\n",
       "    <tr>\n",
       "      <td>109519</td>\n",
       "      <td>3</td>\n",
       "      <td>2.85</td>\n",
       "    </tr>\n",
       "    <tr>\n",
       "      <td>142588</td>\n",
       "      <td>2</td>\n",
       "      <td>2.00</td>\n",
       "    </tr>\n",
       "  </tbody>\n",
       "</table>\n",
       "<p>14217 rows × 2 columns</p>\n",
       "</div>"
      ],
      "text/plain": [
       "        Score  y_hat_cont\n",
       "176243  3      2.60      \n",
       "210483  1      1.17      \n",
       "43123   5      4.65      \n",
       "223829  1      1.42      \n",
       "145606  2      2.13      \n",
       "...    ..       ...      \n",
       "110087  4      3.63      \n",
       "14646   5      3.48      \n",
       "225174  1      1.12      \n",
       "109519  3      2.85      \n",
       "142588  2      2.00      \n",
       "\n",
       "[14217 rows x 2 columns]"
      ]
     },
     "execution_count": 37,
     "metadata": {},
     "output_type": "execute_result"
    }
   ],
   "source": [
    "test_re"
   ]
  },
  {
   "cell_type": "code",
   "execution_count": 38,
   "metadata": {},
   "outputs": [
    {
     "data": {
      "text/plain": [
       "4.99"
      ]
     },
     "execution_count": 38,
     "metadata": {},
     "output_type": "execute_result"
    }
   ],
   "source": [
    "test_re['y_hat_cont'].max()"
   ]
  },
  {
   "cell_type": "code",
   "execution_count": 44,
   "metadata": {},
   "outputs": [
    {
     "data": {
      "image/png": "[encoded data removed]",
      "text/plain": [
       "<Figure size 432x288 with 1 Axes>"
      ]
     },
     "metadata": {
      "needs_background": "light"
     },
     "output_type": "display_data"
    }
   ],
   "source": [
    "test_re['Score'].hist()\n",
    "test_re['y_hat_cont'].hist(alpha = 0.5);"
   ]
  },
  {
   "cell_type": "code",
   "execution_count": 65,
   "metadata": {},
   "outputs": [],
   "source": [
    "def re_score(score):\n",
    "    if score < 2:\n",
    "        return 1\n",
    "    elif score <=2.5:\n",
    "        return 2\n",
    "    elif score <=3.5:\n",
    "        return 3\n",
    "    elif score <= 4:\n",
    "        return 4\n",
    "    else:\n",
    "        return 5"
   ]
  },
  {
   "cell_type": "code",
   "execution_count": 66,
   "metadata": {},
   "outputs": [],
   "source": [
    "test_re['y_round'] = test_re['y_hat_cont'].round(0).astype(int)"
   ]
  },
  {
   "cell_type": "code",
   "execution_count": 67,
   "metadata": {},
   "outputs": [],
   "source": [
    "test_re['y_1'] = test_re['y_hat_cont'].apply(re_score)"
   ]
  },
  {
   "cell_type": "code",
   "execution_count": 48,
   "metadata": {},
   "outputs": [
    {
     "data": {
      "text/html": [
       "<div>\n",
       "<style scoped>\n",
       "    .dataframe tbody tr th:only-of-type {\n",
       "        vertical-align: middle;\n",
       "    }\n",
       "\n",
       "    .dataframe tbody tr th {\n",
       "        vertical-align: top;\n",
       "    }\n",
       "\n",
       "    .dataframe thead th {\n",
       "        text-align: right;\n",
       "    }\n",
       "</style>\n",
       "<table border=\"1\" class=\"dataframe\">\n",
       "  <thead>\n",
       "    <tr style=\"text-align: right;\">\n",
       "      <th></th>\n",
       "      <th>Score</th>\n",
       "      <th>y_hat_cont</th>\n",
       "      <th>y_round_up</th>\n",
       "    </tr>\n",
       "  </thead>\n",
       "  <tbody>\n",
       "    <tr>\n",
       "      <td>176243</td>\n",
       "      <td>3</td>\n",
       "      <td>2.60</td>\n",
       "      <td>3</td>\n",
       "    </tr>\n",
       "    <tr>\n",
       "      <td>210483</td>\n",
       "      <td>1</td>\n",
       "      <td>1.17</td>\n",
       "      <td>1</td>\n",
       "    </tr>\n",
       "    <tr>\n",
       "      <td>43123</td>\n",
       "      <td>5</td>\n",
       "      <td>4.65</td>\n",
       "      <td>5</td>\n",
       "    </tr>\n",
       "    <tr>\n",
       "      <td>223829</td>\n",
       "      <td>1</td>\n",
       "      <td>1.42</td>\n",
       "      <td>1</td>\n",
       "    </tr>\n",
       "    <tr>\n",
       "      <td>145606</td>\n",
       "      <td>2</td>\n",
       "      <td>2.13</td>\n",
       "      <td>2</td>\n",
       "    </tr>\n",
       "    <tr>\n",
       "      <td>...</td>\n",
       "      <td>...</td>\n",
       "      <td>...</td>\n",
       "      <td>...</td>\n",
       "    </tr>\n",
       "    <tr>\n",
       "      <td>110087</td>\n",
       "      <td>4</td>\n",
       "      <td>3.63</td>\n",
       "      <td>4</td>\n",
       "    </tr>\n",
       "    <tr>\n",
       "      <td>14646</td>\n",
       "      <td>5</td>\n",
       "      <td>3.48</td>\n",
       "      <td>3</td>\n",
       "    </tr>\n",
       "    <tr>\n",
       "      <td>225174</td>\n",
       "      <td>1</td>\n",
       "      <td>1.12</td>\n",
       "      <td>1</td>\n",
       "    </tr>\n",
       "    <tr>\n",
       "      <td>109519</td>\n",
       "      <td>3</td>\n",
       "      <td>2.85</td>\n",
       "      <td>3</td>\n",
       "    </tr>\n",
       "    <tr>\n",
       "      <td>142588</td>\n",
       "      <td>2</td>\n",
       "      <td>2.00</td>\n",
       "      <td>2</td>\n",
       "    </tr>\n",
       "  </tbody>\n",
       "</table>\n",
       "<p>14217 rows × 3 columns</p>\n",
       "</div>"
      ],
      "text/plain": [
       "        Score  y_hat_cont  y_round_up\n",
       "176243  3      2.60        3         \n",
       "210483  1      1.17        1         \n",
       "43123   5      4.65        5         \n",
       "223829  1      1.42        1         \n",
       "145606  2      2.13        2         \n",
       "...    ..       ...       ..         \n",
       "110087  4      3.63        4         \n",
       "14646   5      3.48        3         \n",
       "225174  1      1.12        1         \n",
       "109519  3      2.85        3         \n",
       "142588  2      2.00        2         \n",
       "\n",
       "[14217 rows x 3 columns]"
      ]
     },
     "execution_count": 48,
     "metadata": {},
     "output_type": "execute_result"
    }
   ],
   "source": [
    "test_re"
   ]
  },
  {
   "cell_type": "code",
   "execution_count": 49,
   "metadata": {},
   "outputs": [],
   "source": [
    "cm_re= confusion_matrix(test_re['Score'].values, test_re['y_round_up'].values)"
   ]
  }
 ],
 "metadata": {
  "kernelspec": {
   "display_name": "Python 3",
   "language": "python",
   "name": "python3"
  },
  "language_info": {
   "codemirror_mode": {
    "name": "ipython",
    "version": 3
   },
   "file_extension": ".py",
   "mimetype": "text/x-python",
   "name": "python",
   "nbconvert_exporter": "python",
   "pygments_lexer": "ipython3",
   "version": "3.7.6"
  }
 },
 "nbformat": 4,
 "nbformat_minor": 2
}
